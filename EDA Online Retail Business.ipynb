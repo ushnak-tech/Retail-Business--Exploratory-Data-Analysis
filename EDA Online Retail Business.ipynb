{
  "nbformat": 4,
  "nbformat_minor": 0,
  "metadata": {
    "colab": {
      "name": "Internshala Assignment.ipynb",
      "provenance": []
    },
    "kernelspec": {
      "name": "python3",
      "display_name": "Python 3"
    },
    "language_info": {
      "name": "python"
    }
  },
  "cells": [
    {
      "cell_type": "markdown",
      "source": [
        "# Task: Use any unsupervised technique to extract patterns or segregate data into groups.\n",
        "User Story: User should be able to provide a data point (a row) and the program should be able to\n",
        "identify to which group a given data point belongs to and why?"
      ],
      "metadata": {
        "id": "SK1uHcobbhM2"
      }
    },
    {
      "cell_type": "markdown",
      "source": [
        "## Importing the required libraries"
      ],
      "metadata": {
        "id": "Lo8pvQ9eb61C"
      }
    },
    {
      "cell_type": "code",
      "execution_count": null,
      "metadata": {
        "id": "FapGl-lvbxRr"
      },
      "outputs": [],
      "source": [
        "import pandas as pd\n",
        "import numpy as np\n",
        "import seaborn as sns\n",
        "import plotly.express as px\n",
        "import matplotlib.pyplot as plt\n",
        "import plotly.graph_objects as go\n",
        "from sklearn.preprocessing import MinMaxScaler\n",
        "from sklearn.cluster import KMeans\n",
        "from sklearn.metrics import silhouette_score"
      ]
    },
    {
      "cell_type": "markdown",
      "source": [
        "## Importing the dataset"
      ],
      "metadata": {
        "id": "zxS_d3yTcDzP"
      }
    },
    {
      "cell_type": "code",
      "source": [
        "df=pd.read_csv(\"/content/Online_Retail.csv\")"
      ],
      "metadata": {
        "id": "Gh5E9esSb0bS"
      },
      "execution_count": null,
      "outputs": []
    },
    {
      "cell_type": "markdown",
      "source": [
        "## Data Cleaning +EDA"
      ],
      "metadata": {
        "id": "iRmRrUjgcgO3"
      }
    },
    {
      "cell_type": "code",
      "source": [
        "df.columns"
      ],
      "metadata": {
        "colab": {
          "base_uri": "https://localhost:8080/"
        },
        "id": "obSH-pLyb0g3",
        "outputId": "c9d916f6-1932-41ae-91f2-c348db774199"
      },
      "execution_count": null,
      "outputs": [
        {
          "output_type": "execute_result",
          "data": {
            "text/plain": [
              "Index(['InvoiceNo', 'StockCode', 'Description', 'Quantity', 'InvoiceDate',\n",
              "       'UnitPrice', 'CustomerID', 'Country'],\n",
              "      dtype='object')"
            ]
          },
          "metadata": {},
          "execution_count": 213
        }
      ]
    },
    {
      "cell_type": "code",
      "source": [
        "df.head()"
      ],
      "metadata": {
        "colab": {
          "base_uri": "https://localhost:8080/",
          "height": 206
        },
        "id": "oQRrz5UPb016",
        "outputId": "b4100d18-8006-4315-d624-01efa3da8b9a"
      },
      "execution_count": null,
      "outputs": [
        {
          "output_type": "execute_result",
          "data": {
            "text/plain": [
              "  InvoiceNo StockCode                          Description  Quantity  \\\n",
              "0    536365    85123A   WHITE HANGING HEART T-LIGHT HOLDER       6.0   \n",
              "1    536365     71053                  WHITE METAL LANTERN       6.0   \n",
              "2    536365    84406B       CREAM CUPID HEARTS COAT HANGER       8.0   \n",
              "3    536365    84029G  KNITTED UNION FLAG HOT WATER BOTTLE       6.0   \n",
              "4    536365    84029E       RED WOOLLY HOTTIE WHITE HEART.       6.0   \n",
              "\n",
              "    InvoiceDate  UnitPrice  CustomerID         Country  \n",
              "0  12/1/10 8:26       2.55     17850.0  United Kingdom  \n",
              "1  12/1/10 8:26       3.39     17850.0  United Kingdom  \n",
              "2  12/1/10 8:26       2.75     17850.0  United Kingdom  \n",
              "3  12/1/10 8:26       3.39     17850.0  United Kingdom  \n",
              "4  12/1/10 8:26       3.39     17850.0  United Kingdom  "
            ],
            "text/html": [
              "\n",
              "  <div id=\"df-d7fe4bae-4ac1-4b76-bbed-c0d8f0180ba6\">\n",
              "    <div class=\"colab-df-container\">\n",
              "      <div>\n",
              "<style scoped>\n",
              "    .dataframe tbody tr th:only-of-type {\n",
              "        vertical-align: middle;\n",
              "    }\n",
              "\n",
              "    .dataframe tbody tr th {\n",
              "        vertical-align: top;\n",
              "    }\n",
              "\n",
              "    .dataframe thead th {\n",
              "        text-align: right;\n",
              "    }\n",
              "</style>\n",
              "<table border=\"1\" class=\"dataframe\">\n",
              "  <thead>\n",
              "    <tr style=\"text-align: right;\">\n",
              "      <th></th>\n",
              "      <th>InvoiceNo</th>\n",
              "      <th>StockCode</th>\n",
              "      <th>Description</th>\n",
              "      <th>Quantity</th>\n",
              "      <th>InvoiceDate</th>\n",
              "      <th>UnitPrice</th>\n",
              "      <th>CustomerID</th>\n",
              "      <th>Country</th>\n",
              "    </tr>\n",
              "  </thead>\n",
              "  <tbody>\n",
              "    <tr>\n",
              "      <th>0</th>\n",
              "      <td>536365</td>\n",
              "      <td>85123A</td>\n",
              "      <td>WHITE HANGING HEART T-LIGHT HOLDER</td>\n",
              "      <td>6.0</td>\n",
              "      <td>12/1/10 8:26</td>\n",
              "      <td>2.55</td>\n",
              "      <td>17850.0</td>\n",
              "      <td>United Kingdom</td>\n",
              "    </tr>\n",
              "    <tr>\n",
              "      <th>1</th>\n",
              "      <td>536365</td>\n",
              "      <td>71053</td>\n",
              "      <td>WHITE METAL LANTERN</td>\n",
              "      <td>6.0</td>\n",
              "      <td>12/1/10 8:26</td>\n",
              "      <td>3.39</td>\n",
              "      <td>17850.0</td>\n",
              "      <td>United Kingdom</td>\n",
              "    </tr>\n",
              "    <tr>\n",
              "      <th>2</th>\n",
              "      <td>536365</td>\n",
              "      <td>84406B</td>\n",
              "      <td>CREAM CUPID HEARTS COAT HANGER</td>\n",
              "      <td>8.0</td>\n",
              "      <td>12/1/10 8:26</td>\n",
              "      <td>2.75</td>\n",
              "      <td>17850.0</td>\n",
              "      <td>United Kingdom</td>\n",
              "    </tr>\n",
              "    <tr>\n",
              "      <th>3</th>\n",
              "      <td>536365</td>\n",
              "      <td>84029G</td>\n",
              "      <td>KNITTED UNION FLAG HOT WATER BOTTLE</td>\n",
              "      <td>6.0</td>\n",
              "      <td>12/1/10 8:26</td>\n",
              "      <td>3.39</td>\n",
              "      <td>17850.0</td>\n",
              "      <td>United Kingdom</td>\n",
              "    </tr>\n",
              "    <tr>\n",
              "      <th>4</th>\n",
              "      <td>536365</td>\n",
              "      <td>84029E</td>\n",
              "      <td>RED WOOLLY HOTTIE WHITE HEART.</td>\n",
              "      <td>6.0</td>\n",
              "      <td>12/1/10 8:26</td>\n",
              "      <td>3.39</td>\n",
              "      <td>17850.0</td>\n",
              "      <td>United Kingdom</td>\n",
              "    </tr>\n",
              "  </tbody>\n",
              "</table>\n",
              "</div>\n",
              "      <button class=\"colab-df-convert\" onclick=\"convertToInteractive('df-d7fe4bae-4ac1-4b76-bbed-c0d8f0180ba6')\"\n",
              "              title=\"Convert this dataframe to an interactive table.\"\n",
              "              style=\"display:none;\">\n",
              "        \n",
              "  <svg xmlns=\"http://www.w3.org/2000/svg\" height=\"24px\"viewBox=\"0 0 24 24\"\n",
              "       width=\"24px\">\n",
              "    <path d=\"M0 0h24v24H0V0z\" fill=\"none\"/>\n",
              "    <path d=\"M18.56 5.44l.94 2.06.94-2.06 2.06-.94-2.06-.94-.94-2.06-.94 2.06-2.06.94zm-11 1L8.5 8.5l.94-2.06 2.06-.94-2.06-.94L8.5 2.5l-.94 2.06-2.06.94zm10 10l.94 2.06.94-2.06 2.06-.94-2.06-.94-.94-2.06-.94 2.06-2.06.94z\"/><path d=\"M17.41 7.96l-1.37-1.37c-.4-.4-.92-.59-1.43-.59-.52 0-1.04.2-1.43.59L10.3 9.45l-7.72 7.72c-.78.78-.78 2.05 0 2.83L4 21.41c.39.39.9.59 1.41.59.51 0 1.02-.2 1.41-.59l7.78-7.78 2.81-2.81c.8-.78.8-2.07 0-2.86zM5.41 20L4 18.59l7.72-7.72 1.47 1.35L5.41 20z\"/>\n",
              "  </svg>\n",
              "      </button>\n",
              "      \n",
              "  <style>\n",
              "    .colab-df-container {\n",
              "      display:flex;\n",
              "      flex-wrap:wrap;\n",
              "      gap: 12px;\n",
              "    }\n",
              "\n",
              "    .colab-df-convert {\n",
              "      background-color: #E8F0FE;\n",
              "      border: none;\n",
              "      border-radius: 50%;\n",
              "      cursor: pointer;\n",
              "      display: none;\n",
              "      fill: #1967D2;\n",
              "      height: 32px;\n",
              "      padding: 0 0 0 0;\n",
              "      width: 32px;\n",
              "    }\n",
              "\n",
              "    .colab-df-convert:hover {\n",
              "      background-color: #E2EBFA;\n",
              "      box-shadow: 0px 1px 2px rgba(60, 64, 67, 0.3), 0px 1px 3px 1px rgba(60, 64, 67, 0.15);\n",
              "      fill: #174EA6;\n",
              "    }\n",
              "\n",
              "    [theme=dark] .colab-df-convert {\n",
              "      background-color: #3B4455;\n",
              "      fill: #D2E3FC;\n",
              "    }\n",
              "\n",
              "    [theme=dark] .colab-df-convert:hover {\n",
              "      background-color: #434B5C;\n",
              "      box-shadow: 0px 1px 3px 1px rgba(0, 0, 0, 0.15);\n",
              "      filter: drop-shadow(0px 1px 2px rgba(0, 0, 0, 0.3));\n",
              "      fill: #FFFFFF;\n",
              "    }\n",
              "  </style>\n",
              "\n",
              "      <script>\n",
              "        const buttonEl =\n",
              "          document.querySelector('#df-d7fe4bae-4ac1-4b76-bbed-c0d8f0180ba6 button.colab-df-convert');\n",
              "        buttonEl.style.display =\n",
              "          google.colab.kernel.accessAllowed ? 'block' : 'none';\n",
              "\n",
              "        async function convertToInteractive(key) {\n",
              "          const element = document.querySelector('#df-d7fe4bae-4ac1-4b76-bbed-c0d8f0180ba6');\n",
              "          const dataTable =\n",
              "            await google.colab.kernel.invokeFunction('convertToInteractive',\n",
              "                                                     [key], {});\n",
              "          if (!dataTable) return;\n",
              "\n",
              "          const docLinkHtml = 'Like what you see? Visit the ' +\n",
              "            '<a target=\"_blank\" href=https://colab.research.google.com/notebooks/data_table.ipynb>data table notebook</a>'\n",
              "            + ' to learn more about interactive tables.';\n",
              "          element.innerHTML = '';\n",
              "          dataTable['output_type'] = 'display_data';\n",
              "          await google.colab.output.renderOutput(dataTable, element);\n",
              "          const docLink = document.createElement('div');\n",
              "          docLink.innerHTML = docLinkHtml;\n",
              "          element.appendChild(docLink);\n",
              "        }\n",
              "      </script>\n",
              "    </div>\n",
              "  </div>\n",
              "  "
            ]
          },
          "metadata": {},
          "execution_count": 5
        }
      ]
    },
    {
      "cell_type": "code",
      "source": [
        "df.shape"
      ],
      "metadata": {
        "colab": {
          "base_uri": "https://localhost:8080/"
        },
        "id": "dzeWK8iNb06B",
        "outputId": "09ed35d9-6773-4fad-e4e3-ed6adf66f413"
      },
      "execution_count": null,
      "outputs": [
        {
          "output_type": "execute_result",
          "data": {
            "text/plain": [
              "(102673, 8)"
            ]
          },
          "metadata": {},
          "execution_count": 197
        }
      ]
    },
    {
      "cell_type": "code",
      "source": [
        "df['Country'].unique()"
      ],
      "metadata": {
        "colab": {
          "base_uri": "https://localhost:8080/"
        },
        "id": "DhObDfPWjt8T",
        "outputId": "7d20aeb2-8ee8-493e-c442-7075625aac6c"
      },
      "execution_count": null,
      "outputs": [
        {
          "output_type": "execute_result",
          "data": {
            "text/plain": [
              "array(['United Kingdom', 'France', 'Australia', 'Netherlands', 'Germany',\n",
              "       'Norway', 'EIRE', 'Switzerland', 'Spain', 'Poland', 'Portugal',\n",
              "       'Italy', 'Belgium', 'Lithuania', 'Japan', 'Iceland',\n",
              "       'Channel Islands', 'Denmark', 'Cyprus', 'Sweden', 'Austria',\n",
              "       'Israel', 'Finland', 'Bahrain', 'Greece', 'Hong Kong', 'Singapore',\n",
              "       'Lebanon', 'United Arab Emirates', 'Saudi Arabia', nan],\n",
              "      dtype=object)"
            ]
          },
          "metadata": {},
          "execution_count": 7
        }
      ]
    },
    {
      "cell_type": "code",
      "source": [
        "df['Country'].nunique()"
      ],
      "metadata": {
        "colab": {
          "base_uri": "https://localhost:8080/"
        },
        "id": "X_O3s2C7ev2F",
        "outputId": "107d7872-7bad-4221-f756-2bb89ae94fe3"
      },
      "execution_count": null,
      "outputs": [
        {
          "output_type": "execute_result",
          "data": {
            "text/plain": [
              "30"
            ]
          },
          "metadata": {},
          "execution_count": 214
        }
      ]
    },
    {
      "cell_type": "code",
      "source": [
        "df['Country'].value_counts().sort_values(ascending=False)"
      ],
      "metadata": {
        "colab": {
          "base_uri": "https://localhost:8080/"
        },
        "id": "eIFi36mWlUhJ",
        "outputId": "f32105fa-a3ea-4ff1-d124-99e912a4f0ac"
      },
      "execution_count": null,
      "outputs": [
        {
          "output_type": "execute_result",
          "data": {
            "text/plain": [
              "United Kingdom          94864\n",
              "Germany                  1741\n",
              "France                   1477\n",
              "EIRE                     1026\n",
              "Spain                     560\n",
              "Netherlands               492\n",
              "Switzerland               289\n",
              "Portugal                  285\n",
              "Belgium                   275\n",
              "Cyprus                    256\n",
              "Australia                 243\n",
              "Norway                    179\n",
              "Italy                     169\n",
              "Japan                     154\n",
              "Sweden                     74\n",
              "Poland                     61\n",
              "Iceland                    60\n",
              "Channel Islands            59\n",
              "Hong Kong                  57\n",
              "Singapore                  56\n",
              "Lebanon                    45\n",
              "Denmark                    40\n",
              "Finland                    40\n",
              "Lithuania                  35\n",
              "Israel                     32\n",
              "Greece                     32\n",
              "Austria                    30\n",
              "United Arab Emirates       30\n",
              "Saudi Arabia                9\n",
              "Bahrain                     2\n",
              "Name: Country, dtype: int64"
            ]
          },
          "metadata": {},
          "execution_count": 198
        }
      ]
    },
    {
      "cell_type": "code",
      "source": [
        "df_country=df['Country'].value_counts().sort_values().tail(10).to_frame().reset_index()"
      ],
      "metadata": {
        "id": "keNZfIojxrAT"
      },
      "execution_count": null,
      "outputs": []
    },
    {
      "cell_type": "code",
      "source": [
        "px.bar(x=df_country['index'],y=df_country['Country'],log_y=True,title='Top 10 Countries')"
      ],
      "metadata": {
        "colab": {
          "base_uri": "https://localhost:8080/",
          "height": 542
        },
        "id": "Da7VgF-NxZ3q",
        "outputId": "45aa4777-021e-4675-93ce-c2d2d850f898"
      },
      "execution_count": null,
      "outputs": [
        {
          "output_type": "display_data",
          "data": {
            "text/html": [
              "<html>\n",
              "<head><meta charset=\"utf-8\" /></head>\n",
              "<body>\n",
              "    <div>            <script src=\"https://cdnjs.cloudflare.com/ajax/libs/mathjax/2.7.5/MathJax.js?config=TeX-AMS-MML_SVG\"></script><script type=\"text/javascript\">if (window.MathJax) {MathJax.Hub.Config({SVG: {font: \"STIX-Web\"}});}</script>                <script type=\"text/javascript\">window.PlotlyConfig = {MathJaxConfig: 'local'};</script>\n",
              "        <script src=\"https://cdn.plot.ly/plotly-2.8.3.min.js\"></script>                <div id=\"26a8a0b6-3ba6-4c4c-af40-52ebc48123a1\" class=\"plotly-graph-div\" style=\"height:525px; width:100%;\"></div>            <script type=\"text/javascript\">                                    window.PLOTLYENV=window.PLOTLYENV || {};                                    if (document.getElementById(\"26a8a0b6-3ba6-4c4c-af40-52ebc48123a1\")) {                    Plotly.newPlot(                        \"26a8a0b6-3ba6-4c4c-af40-52ebc48123a1\",                        [{\"alignmentgroup\":\"True\",\"hovertemplate\":\"x=%{x}<br>y=%{y}<extra></extra>\",\"legendgroup\":\"\",\"marker\":{\"color\":\"#636efa\",\"pattern\":{\"shape\":\"\"}},\"name\":\"\",\"offsetgroup\":\"\",\"orientation\":\"v\",\"showlegend\":false,\"textposition\":\"auto\",\"x\":[\"Cyprus\",\"Belgium\",\"Portugal\",\"Switzerland\",\"Netherlands\",\"Spain\",\"EIRE\",\"France\",\"Germany\",\"United Kingdom\"],\"xaxis\":\"x\",\"y\":[255,275,285,289,492,560,1024,1477,1739,93945],\"yaxis\":\"y\",\"type\":\"bar\"}],                        {\"template\":{\"data\":{\"bar\":[{\"error_x\":{\"color\":\"#2a3f5f\"},\"error_y\":{\"color\":\"#2a3f5f\"},\"marker\":{\"line\":{\"color\":\"#E5ECF6\",\"width\":0.5},\"pattern\":{\"fillmode\":\"overlay\",\"size\":10,\"solidity\":0.2}},\"type\":\"bar\"}],\"barpolar\":[{\"marker\":{\"line\":{\"color\":\"#E5ECF6\",\"width\":0.5},\"pattern\":{\"fillmode\":\"overlay\",\"size\":10,\"solidity\":0.2}},\"type\":\"barpolar\"}],\"carpet\":[{\"aaxis\":{\"endlinecolor\":\"#2a3f5f\",\"gridcolor\":\"white\",\"linecolor\":\"white\",\"minorgridcolor\":\"white\",\"startlinecolor\":\"#2a3f5f\"},\"baxis\":{\"endlinecolor\":\"#2a3f5f\",\"gridcolor\":\"white\",\"linecolor\":\"white\",\"minorgridcolor\":\"white\",\"startlinecolor\":\"#2a3f5f\"},\"type\":\"carpet\"}],\"choropleth\":[{\"colorbar\":{\"outlinewidth\":0,\"ticks\":\"\"},\"type\":\"choropleth\"}],\"contour\":[{\"colorbar\":{\"outlinewidth\":0,\"ticks\":\"\"},\"colorscale\":[[0.0,\"#0d0887\"],[0.1111111111111111,\"#46039f\"],[0.2222222222222222,\"#7201a8\"],[0.3333333333333333,\"#9c179e\"],[0.4444444444444444,\"#bd3786\"],[0.5555555555555556,\"#d8576b\"],[0.6666666666666666,\"#ed7953\"],[0.7777777777777778,\"#fb9f3a\"],[0.8888888888888888,\"#fdca26\"],[1.0,\"#f0f921\"]],\"type\":\"contour\"}],\"contourcarpet\":[{\"colorbar\":{\"outlinewidth\":0,\"ticks\":\"\"},\"type\":\"contourcarpet\"}],\"heatmap\":[{\"colorbar\":{\"outlinewidth\":0,\"ticks\":\"\"},\"colorscale\":[[0.0,\"#0d0887\"],[0.1111111111111111,\"#46039f\"],[0.2222222222222222,\"#7201a8\"],[0.3333333333333333,\"#9c179e\"],[0.4444444444444444,\"#bd3786\"],[0.5555555555555556,\"#d8576b\"],[0.6666666666666666,\"#ed7953\"],[0.7777777777777778,\"#fb9f3a\"],[0.8888888888888888,\"#fdca26\"],[1.0,\"#f0f921\"]],\"type\":\"heatmap\"}],\"heatmapgl\":[{\"colorbar\":{\"outlinewidth\":0,\"ticks\":\"\"},\"colorscale\":[[0.0,\"#0d0887\"],[0.1111111111111111,\"#46039f\"],[0.2222222222222222,\"#7201a8\"],[0.3333333333333333,\"#9c179e\"],[0.4444444444444444,\"#bd3786\"],[0.5555555555555556,\"#d8576b\"],[0.6666666666666666,\"#ed7953\"],[0.7777777777777778,\"#fb9f3a\"],[0.8888888888888888,\"#fdca26\"],[1.0,\"#f0f921\"]],\"type\":\"heatmapgl\"}],\"histogram\":[{\"marker\":{\"pattern\":{\"fillmode\":\"overlay\",\"size\":10,\"solidity\":0.2}},\"type\":\"histogram\"}],\"histogram2d\":[{\"colorbar\":{\"outlinewidth\":0,\"ticks\":\"\"},\"colorscale\":[[0.0,\"#0d0887\"],[0.1111111111111111,\"#46039f\"],[0.2222222222222222,\"#7201a8\"],[0.3333333333333333,\"#9c179e\"],[0.4444444444444444,\"#bd3786\"],[0.5555555555555556,\"#d8576b\"],[0.6666666666666666,\"#ed7953\"],[0.7777777777777778,\"#fb9f3a\"],[0.8888888888888888,\"#fdca26\"],[1.0,\"#f0f921\"]],\"type\":\"histogram2d\"}],\"histogram2dcontour\":[{\"colorbar\":{\"outlinewidth\":0,\"ticks\":\"\"},\"colorscale\":[[0.0,\"#0d0887\"],[0.1111111111111111,\"#46039f\"],[0.2222222222222222,\"#7201a8\"],[0.3333333333333333,\"#9c179e\"],[0.4444444444444444,\"#bd3786\"],[0.5555555555555556,\"#d8576b\"],[0.6666666666666666,\"#ed7953\"],[0.7777777777777778,\"#fb9f3a\"],[0.8888888888888888,\"#fdca26\"],[1.0,\"#f0f921\"]],\"type\":\"histogram2dcontour\"}],\"mesh3d\":[{\"colorbar\":{\"outlinewidth\":0,\"ticks\":\"\"},\"type\":\"mesh3d\"}],\"parcoords\":[{\"line\":{\"colorbar\":{\"outlinewidth\":0,\"ticks\":\"\"}},\"type\":\"parcoords\"}],\"pie\":[{\"automargin\":true,\"type\":\"pie\"}],\"scatter\":[{\"marker\":{\"colorbar\":{\"outlinewidth\":0,\"ticks\":\"\"}},\"type\":\"scatter\"}],\"scatter3d\":[{\"line\":{\"colorbar\":{\"outlinewidth\":0,\"ticks\":\"\"}},\"marker\":{\"colorbar\":{\"outlinewidth\":0,\"ticks\":\"\"}},\"type\":\"scatter3d\"}],\"scattercarpet\":[{\"marker\":{\"colorbar\":{\"outlinewidth\":0,\"ticks\":\"\"}},\"type\":\"scattercarpet\"}],\"scattergeo\":[{\"marker\":{\"colorbar\":{\"outlinewidth\":0,\"ticks\":\"\"}},\"type\":\"scattergeo\"}],\"scattergl\":[{\"marker\":{\"colorbar\":{\"outlinewidth\":0,\"ticks\":\"\"}},\"type\":\"scattergl\"}],\"scattermapbox\":[{\"marker\":{\"colorbar\":{\"outlinewidth\":0,\"ticks\":\"\"}},\"type\":\"scattermapbox\"}],\"scatterpolar\":[{\"marker\":{\"colorbar\":{\"outlinewidth\":0,\"ticks\":\"\"}},\"type\":\"scatterpolar\"}],\"scatterpolargl\":[{\"marker\":{\"colorbar\":{\"outlinewidth\":0,\"ticks\":\"\"}},\"type\":\"scatterpolargl\"}],\"scatterternary\":[{\"marker\":{\"colorbar\":{\"outlinewidth\":0,\"ticks\":\"\"}},\"type\":\"scatterternary\"}],\"surface\":[{\"colorbar\":{\"outlinewidth\":0,\"ticks\":\"\"},\"colorscale\":[[0.0,\"#0d0887\"],[0.1111111111111111,\"#46039f\"],[0.2222222222222222,\"#7201a8\"],[0.3333333333333333,\"#9c179e\"],[0.4444444444444444,\"#bd3786\"],[0.5555555555555556,\"#d8576b\"],[0.6666666666666666,\"#ed7953\"],[0.7777777777777778,\"#fb9f3a\"],[0.8888888888888888,\"#fdca26\"],[1.0,\"#f0f921\"]],\"type\":\"surface\"}],\"table\":[{\"cells\":{\"fill\":{\"color\":\"#EBF0F8\"},\"line\":{\"color\":\"white\"}},\"header\":{\"fill\":{\"color\":\"#C8D4E3\"},\"line\":{\"color\":\"white\"}},\"type\":\"table\"}]},\"layout\":{\"annotationdefaults\":{\"arrowcolor\":\"#2a3f5f\",\"arrowhead\":0,\"arrowwidth\":1},\"autotypenumbers\":\"strict\",\"coloraxis\":{\"colorbar\":{\"outlinewidth\":0,\"ticks\":\"\"}},\"colorscale\":{\"diverging\":[[0,\"#8e0152\"],[0.1,\"#c51b7d\"],[0.2,\"#de77ae\"],[0.3,\"#f1b6da\"],[0.4,\"#fde0ef\"],[0.5,\"#f7f7f7\"],[0.6,\"#e6f5d0\"],[0.7,\"#b8e186\"],[0.8,\"#7fbc41\"],[0.9,\"#4d9221\"],[1,\"#276419\"]],\"sequential\":[[0.0,\"#0d0887\"],[0.1111111111111111,\"#46039f\"],[0.2222222222222222,\"#7201a8\"],[0.3333333333333333,\"#9c179e\"],[0.4444444444444444,\"#bd3786\"],[0.5555555555555556,\"#d8576b\"],[0.6666666666666666,\"#ed7953\"],[0.7777777777777778,\"#fb9f3a\"],[0.8888888888888888,\"#fdca26\"],[1.0,\"#f0f921\"]],\"sequentialminus\":[[0.0,\"#0d0887\"],[0.1111111111111111,\"#46039f\"],[0.2222222222222222,\"#7201a8\"],[0.3333333333333333,\"#9c179e\"],[0.4444444444444444,\"#bd3786\"],[0.5555555555555556,\"#d8576b\"],[0.6666666666666666,\"#ed7953\"],[0.7777777777777778,\"#fb9f3a\"],[0.8888888888888888,\"#fdca26\"],[1.0,\"#f0f921\"]]},\"colorway\":[\"#636efa\",\"#EF553B\",\"#00cc96\",\"#ab63fa\",\"#FFA15A\",\"#19d3f3\",\"#FF6692\",\"#B6E880\",\"#FF97FF\",\"#FECB52\"],\"font\":{\"color\":\"#2a3f5f\"},\"geo\":{\"bgcolor\":\"white\",\"lakecolor\":\"white\",\"landcolor\":\"#E5ECF6\",\"showlakes\":true,\"showland\":true,\"subunitcolor\":\"white\"},\"hoverlabel\":{\"align\":\"left\"},\"hovermode\":\"closest\",\"mapbox\":{\"style\":\"light\"},\"paper_bgcolor\":\"white\",\"plot_bgcolor\":\"#E5ECF6\",\"polar\":{\"angularaxis\":{\"gridcolor\":\"white\",\"linecolor\":\"white\",\"ticks\":\"\"},\"bgcolor\":\"#E5ECF6\",\"radialaxis\":{\"gridcolor\":\"white\",\"linecolor\":\"white\",\"ticks\":\"\"}},\"scene\":{\"xaxis\":{\"backgroundcolor\":\"#E5ECF6\",\"gridcolor\":\"white\",\"gridwidth\":2,\"linecolor\":\"white\",\"showbackground\":true,\"ticks\":\"\",\"zerolinecolor\":\"white\"},\"yaxis\":{\"backgroundcolor\":\"#E5ECF6\",\"gridcolor\":\"white\",\"gridwidth\":2,\"linecolor\":\"white\",\"showbackground\":true,\"ticks\":\"\",\"zerolinecolor\":\"white\"},\"zaxis\":{\"backgroundcolor\":\"#E5ECF6\",\"gridcolor\":\"white\",\"gridwidth\":2,\"linecolor\":\"white\",\"showbackground\":true,\"ticks\":\"\",\"zerolinecolor\":\"white\"}},\"shapedefaults\":{\"line\":{\"color\":\"#2a3f5f\"}},\"ternary\":{\"aaxis\":{\"gridcolor\":\"white\",\"linecolor\":\"white\",\"ticks\":\"\"},\"baxis\":{\"gridcolor\":\"white\",\"linecolor\":\"white\",\"ticks\":\"\"},\"bgcolor\":\"#E5ECF6\",\"caxis\":{\"gridcolor\":\"white\",\"linecolor\":\"white\",\"ticks\":\"\"}},\"title\":{\"x\":0.05},\"xaxis\":{\"automargin\":true,\"gridcolor\":\"white\",\"linecolor\":\"white\",\"ticks\":\"\",\"title\":{\"standoff\":15},\"zerolinecolor\":\"white\",\"zerolinewidth\":2},\"yaxis\":{\"automargin\":true,\"gridcolor\":\"white\",\"linecolor\":\"white\",\"ticks\":\"\",\"title\":{\"standoff\":15},\"zerolinecolor\":\"white\",\"zerolinewidth\":2}}},\"xaxis\":{\"anchor\":\"y\",\"domain\":[0.0,1.0],\"title\":{\"text\":\"x\"}},\"yaxis\":{\"anchor\":\"x\",\"domain\":[0.0,1.0],\"title\":{\"text\":\"y\"},\"type\":\"log\"},\"legend\":{\"tracegroupgap\":0},\"title\":{\"text\":\"Top 10 Countries\"},\"barmode\":\"relative\"},                        {\"responsive\": true}                    ).then(function(){\n",
              "                            \n",
              "var gd = document.getElementById('26a8a0b6-3ba6-4c4c-af40-52ebc48123a1');\n",
              "var x = new MutationObserver(function (mutations, observer) {{\n",
              "        var display = window.getComputedStyle(gd).display;\n",
              "        if (!display || display === 'none') {{\n",
              "            console.log([gd, 'removed!']);\n",
              "            Plotly.purge(gd);\n",
              "            observer.disconnect();\n",
              "        }}\n",
              "}});\n",
              "\n",
              "// Listen for the removal of the full notebook cells\n",
              "var notebookContainer = gd.closest('#notebook-container');\n",
              "if (notebookContainer) {{\n",
              "    x.observe(notebookContainer, {childList: true});\n",
              "}}\n",
              "\n",
              "// Listen for the clearing of the current output cell\n",
              "var outputEl = gd.closest('.output');\n",
              "if (outputEl) {{\n",
              "    x.observe(outputEl, {childList: true});\n",
              "}}\n",
              "\n",
              "                        })                };                            </script>        </div>\n",
              "</body>\n",
              "</html>"
            ]
          },
          "metadata": {}
        }
      ]
    },
    {
      "cell_type": "code",
      "source": [
        "plt.rcParams['figure.figsize'] = [12, 12]"
      ],
      "metadata": {
        "id": "_WwIicl0lUvW"
      },
      "execution_count": null,
      "outputs": []
    },
    {
      "cell_type": "code",
      "source": [
        "for i in df.columns:\n",
        "  print(i,df[i].dtype,'\\n')"
      ],
      "metadata": {
        "id": "OU44VHsibopi",
        "colab": {
          "base_uri": "https://localhost:8080/"
        },
        "outputId": "585c6a4e-1b78-42a9-f334-1c78a4e6e1a6"
      },
      "execution_count": null,
      "outputs": [
        {
          "output_type": "stream",
          "name": "stdout",
          "text": [
            "InvoiceNo object \n",
            "\n",
            "StockCode object \n",
            "\n",
            "Description object \n",
            "\n",
            "Quantity int64 \n",
            "\n",
            "InvoiceDate object \n",
            "\n",
            "UnitPrice float64 \n",
            "\n",
            "CustomerID float64 \n",
            "\n",
            "Country object \n",
            "\n"
          ]
        }
      ]
    },
    {
      "cell_type": "code",
      "source": [
        "df_uk=df[df['Country']=='United Kingdom']\n",
        "print(df_uk.shape)\n",
        "print(df_uk.head())"
      ],
      "metadata": {
        "id": "lx2SGbKjAhEd",
        "colab": {
          "base_uri": "https://localhost:8080/"
        },
        "outputId": "40931a0c-775b-40ec-9ce4-2cbb7d03da1c"
      },
      "execution_count": null,
      "outputs": [
        {
          "output_type": "stream",
          "name": "stdout",
          "text": [
            "(94864, 8)\n",
            "  InvoiceNo StockCode                          Description  Quantity  \\\n",
            "0    536365    85123A   WHITE HANGING HEART T-LIGHT HOLDER       6.0   \n",
            "1    536365     71053                  WHITE METAL LANTERN       6.0   \n",
            "2    536365    84406B       CREAM CUPID HEARTS COAT HANGER       8.0   \n",
            "3    536365    84029G  KNITTED UNION FLAG HOT WATER BOTTLE       6.0   \n",
            "4    536365    84029E       RED WOOLLY HOTTIE WHITE HEART.       6.0   \n",
            "\n",
            "    InvoiceDate  UnitPrice  CustomerID         Country  \n",
            "0  12/1/10 8:26       2.55     17850.0  United Kingdom  \n",
            "1  12/1/10 8:26       3.39     17850.0  United Kingdom  \n",
            "2  12/1/10 8:26       2.75     17850.0  United Kingdom  \n",
            "3  12/1/10 8:26       3.39     17850.0  United Kingdom  \n",
            "4  12/1/10 8:26       3.39     17850.0  United Kingdom  \n"
          ]
        }
      ]
    },
    {
      "cell_type": "markdown",
      "source": [
        "chose UK because model might have undergone underfitting due to small number of data points available for other countries."
      ],
      "metadata": {
        "id": "rOLyt9YGmKRw"
      }
    },
    {
      "cell_type": "code",
      "source": [
        "df_uk['CustomerID'].nunique()"
      ],
      "metadata": {
        "id": "OHXPWQlQAhAF",
        "colab": {
          "base_uri": "https://localhost:8080/"
        },
        "outputId": "5ef1082b-335a-437e-98e9-e5a7ef947562"
      },
      "execution_count": null,
      "outputs": [
        {
          "output_type": "execute_result",
          "data": {
            "text/plain": [
              "1539"
            ]
          },
          "metadata": {},
          "execution_count": 14
        }
      ]
    },
    {
      "cell_type": "code",
      "source": [
        "df_uk.isna().sum()"
      ],
      "metadata": {
        "id": "YhpcD0-wAg7n",
        "colab": {
          "base_uri": "https://localhost:8080/"
        },
        "outputId": "365b9407-634d-4c42-fa42-ac7a7e45531f"
      },
      "execution_count": null,
      "outputs": [
        {
          "output_type": "execute_result",
          "data": {
            "text/plain": [
              "InvoiceNo          0\n",
              "StockCode          0\n",
              "Description      301\n",
              "Quantity           0\n",
              "InvoiceDate        0\n",
              "UnitPrice          0\n",
              "CustomerID     35245\n",
              "Country            0\n",
              "dtype: int64"
            ]
          },
          "metadata": {},
          "execution_count": 15
        }
      ]
    },
    {
      "cell_type": "code",
      "source": [
        "df_uk.duplicated().sum()"
      ],
      "metadata": {
        "id": "sO1MrMff6wHS",
        "colab": {
          "base_uri": "https://localhost:8080/"
        },
        "outputId": "7444c9cc-01fa-4588-b3ce-059b1892858f"
      },
      "execution_count": null,
      "outputs": [
        {
          "output_type": "execute_result",
          "data": {
            "text/plain": [
              "919"
            ]
          },
          "metadata": {},
          "execution_count": 17
        }
      ]
    },
    {
      "cell_type": "code",
      "source": [
        "df_uk.drop_duplicates(keep='first',inplace=True)"
      ],
      "metadata": {
        "id": "1KG0ZuLC6wDM"
      },
      "execution_count": null,
      "outputs": []
    },
    {
      "cell_type": "code",
      "source": [
        "df_uk.dropna(axis=0,inplace=True)"
      ],
      "metadata": {
        "id": "T_56Ng7JOlYn"
      },
      "execution_count": null,
      "outputs": []
    },
    {
      "cell_type": "code",
      "source": [
        "df_uk.isna().sum()"
      ],
      "metadata": {
        "colab": {
          "base_uri": "https://localhost:8080/"
        },
        "id": "oQWHwNcDOlVp",
        "outputId": "cf2cbaa3-784e-4fcc-8f02-a9bdd417bc19"
      },
      "execution_count": null,
      "outputs": [
        {
          "output_type": "execute_result",
          "data": {
            "text/plain": [
              "InvoiceNo      0\n",
              "StockCode      0\n",
              "Description    0\n",
              "Quantity       0\n",
              "InvoiceDate    0\n",
              "UnitPrice      0\n",
              "CustomerID     0\n",
              "Country        0\n",
              "dtype: int64"
            ]
          },
          "metadata": {},
          "execution_count": 23
        }
      ]
    },
    {
      "cell_type": "code",
      "source": [
        "df_uk.shape"
      ],
      "metadata": {
        "colab": {
          "base_uri": "https://localhost:8080/"
        },
        "id": "3ib9mHobOlSF",
        "outputId": "517aa59d-30ed-4821-ab0c-4653ebab72a7"
      },
      "execution_count": null,
      "outputs": [
        {
          "output_type": "execute_result",
          "data": {
            "text/plain": [
              "(58707, 8)"
            ]
          },
          "metadata": {},
          "execution_count": 24
        }
      ]
    },
    {
      "cell_type": "code",
      "source": [
        "df_uk['CustomerID'].nunique()"
      ],
      "metadata": {
        "colab": {
          "base_uri": "https://localhost:8080/"
        },
        "id": "wFbiZXVHOlN0",
        "outputId": "485edee2-c0e8-4dcd-ff20-0996491a0655"
      },
      "execution_count": null,
      "outputs": [
        {
          "output_type": "execute_result",
          "data": {
            "text/plain": [
              "1539"
            ]
          },
          "metadata": {},
          "execution_count": 25
        }
      ]
    },
    {
      "cell_type": "code",
      "source": [
        "df_uk.head()"
      ],
      "metadata": {
        "colab": {
          "base_uri": "https://localhost:8080/",
          "height": 206
        },
        "id": "HxWcDu1VOlEQ",
        "outputId": "b3706889-675c-4290-e131-c2b255137ddf"
      },
      "execution_count": null,
      "outputs": [
        {
          "output_type": "execute_result",
          "data": {
            "text/plain": [
              "  InvoiceNo StockCode                          Description  Quantity  \\\n",
              "0    536365    85123A   WHITE HANGING HEART T-LIGHT HOLDER       6.0   \n",
              "1    536365     71053                  WHITE METAL LANTERN       6.0   \n",
              "2    536365    84406B       CREAM CUPID HEARTS COAT HANGER       8.0   \n",
              "3    536365    84029G  KNITTED UNION FLAG HOT WATER BOTTLE       6.0   \n",
              "4    536365    84029E       RED WOOLLY HOTTIE WHITE HEART.       6.0   \n",
              "\n",
              "    InvoiceDate  UnitPrice  CustomerID         Country  \n",
              "0  12/1/10 8:26       2.55     17850.0  United Kingdom  \n",
              "1  12/1/10 8:26       3.39     17850.0  United Kingdom  \n",
              "2  12/1/10 8:26       2.75     17850.0  United Kingdom  \n",
              "3  12/1/10 8:26       3.39     17850.0  United Kingdom  \n",
              "4  12/1/10 8:26       3.39     17850.0  United Kingdom  "
            ],
            "text/html": [
              "\n",
              "  <div id=\"df-e683558d-01b5-4e0f-bd5a-38e313c8f80d\">\n",
              "    <div class=\"colab-df-container\">\n",
              "      <div>\n",
              "<style scoped>\n",
              "    .dataframe tbody tr th:only-of-type {\n",
              "        vertical-align: middle;\n",
              "    }\n",
              "\n",
              "    .dataframe tbody tr th {\n",
              "        vertical-align: top;\n",
              "    }\n",
              "\n",
              "    .dataframe thead th {\n",
              "        text-align: right;\n",
              "    }\n",
              "</style>\n",
              "<table border=\"1\" class=\"dataframe\">\n",
              "  <thead>\n",
              "    <tr style=\"text-align: right;\">\n",
              "      <th></th>\n",
              "      <th>InvoiceNo</th>\n",
              "      <th>StockCode</th>\n",
              "      <th>Description</th>\n",
              "      <th>Quantity</th>\n",
              "      <th>InvoiceDate</th>\n",
              "      <th>UnitPrice</th>\n",
              "      <th>CustomerID</th>\n",
              "      <th>Country</th>\n",
              "    </tr>\n",
              "  </thead>\n",
              "  <tbody>\n",
              "    <tr>\n",
              "      <th>0</th>\n",
              "      <td>536365</td>\n",
              "      <td>85123A</td>\n",
              "      <td>WHITE HANGING HEART T-LIGHT HOLDER</td>\n",
              "      <td>6.0</td>\n",
              "      <td>12/1/10 8:26</td>\n",
              "      <td>2.55</td>\n",
              "      <td>17850.0</td>\n",
              "      <td>United Kingdom</td>\n",
              "    </tr>\n",
              "    <tr>\n",
              "      <th>1</th>\n",
              "      <td>536365</td>\n",
              "      <td>71053</td>\n",
              "      <td>WHITE METAL LANTERN</td>\n",
              "      <td>6.0</td>\n",
              "      <td>12/1/10 8:26</td>\n",
              "      <td>3.39</td>\n",
              "      <td>17850.0</td>\n",
              "      <td>United Kingdom</td>\n",
              "    </tr>\n",
              "    <tr>\n",
              "      <th>2</th>\n",
              "      <td>536365</td>\n",
              "      <td>84406B</td>\n",
              "      <td>CREAM CUPID HEARTS COAT HANGER</td>\n",
              "      <td>8.0</td>\n",
              "      <td>12/1/10 8:26</td>\n",
              "      <td>2.75</td>\n",
              "      <td>17850.0</td>\n",
              "      <td>United Kingdom</td>\n",
              "    </tr>\n",
              "    <tr>\n",
              "      <th>3</th>\n",
              "      <td>536365</td>\n",
              "      <td>84029G</td>\n",
              "      <td>KNITTED UNION FLAG HOT WATER BOTTLE</td>\n",
              "      <td>6.0</td>\n",
              "      <td>12/1/10 8:26</td>\n",
              "      <td>3.39</td>\n",
              "      <td>17850.0</td>\n",
              "      <td>United Kingdom</td>\n",
              "    </tr>\n",
              "    <tr>\n",
              "      <th>4</th>\n",
              "      <td>536365</td>\n",
              "      <td>84029E</td>\n",
              "      <td>RED WOOLLY HOTTIE WHITE HEART.</td>\n",
              "      <td>6.0</td>\n",
              "      <td>12/1/10 8:26</td>\n",
              "      <td>3.39</td>\n",
              "      <td>17850.0</td>\n",
              "      <td>United Kingdom</td>\n",
              "    </tr>\n",
              "  </tbody>\n",
              "</table>\n",
              "</div>\n",
              "      <button class=\"colab-df-convert\" onclick=\"convertToInteractive('df-e683558d-01b5-4e0f-bd5a-38e313c8f80d')\"\n",
              "              title=\"Convert this dataframe to an interactive table.\"\n",
              "              style=\"display:none;\">\n",
              "        \n",
              "  <svg xmlns=\"http://www.w3.org/2000/svg\" height=\"24px\"viewBox=\"0 0 24 24\"\n",
              "       width=\"24px\">\n",
              "    <path d=\"M0 0h24v24H0V0z\" fill=\"none\"/>\n",
              "    <path d=\"M18.56 5.44l.94 2.06.94-2.06 2.06-.94-2.06-.94-.94-2.06-.94 2.06-2.06.94zm-11 1L8.5 8.5l.94-2.06 2.06-.94-2.06-.94L8.5 2.5l-.94 2.06-2.06.94zm10 10l.94 2.06.94-2.06 2.06-.94-2.06-.94-.94-2.06-.94 2.06-2.06.94z\"/><path d=\"M17.41 7.96l-1.37-1.37c-.4-.4-.92-.59-1.43-.59-.52 0-1.04.2-1.43.59L10.3 9.45l-7.72 7.72c-.78.78-.78 2.05 0 2.83L4 21.41c.39.39.9.59 1.41.59.51 0 1.02-.2 1.41-.59l7.78-7.78 2.81-2.81c.8-.78.8-2.07 0-2.86zM5.41 20L4 18.59l7.72-7.72 1.47 1.35L5.41 20z\"/>\n",
              "  </svg>\n",
              "      </button>\n",
              "      \n",
              "  <style>\n",
              "    .colab-df-container {\n",
              "      display:flex;\n",
              "      flex-wrap:wrap;\n",
              "      gap: 12px;\n",
              "    }\n",
              "\n",
              "    .colab-df-convert {\n",
              "      background-color: #E8F0FE;\n",
              "      border: none;\n",
              "      border-radius: 50%;\n",
              "      cursor: pointer;\n",
              "      display: none;\n",
              "      fill: #1967D2;\n",
              "      height: 32px;\n",
              "      padding: 0 0 0 0;\n",
              "      width: 32px;\n",
              "    }\n",
              "\n",
              "    .colab-df-convert:hover {\n",
              "      background-color: #E2EBFA;\n",
              "      box-shadow: 0px 1px 2px rgba(60, 64, 67, 0.3), 0px 1px 3px 1px rgba(60, 64, 67, 0.15);\n",
              "      fill: #174EA6;\n",
              "    }\n",
              "\n",
              "    [theme=dark] .colab-df-convert {\n",
              "      background-color: #3B4455;\n",
              "      fill: #D2E3FC;\n",
              "    }\n",
              "\n",
              "    [theme=dark] .colab-df-convert:hover {\n",
              "      background-color: #434B5C;\n",
              "      box-shadow: 0px 1px 3px 1px rgba(0, 0, 0, 0.15);\n",
              "      filter: drop-shadow(0px 1px 2px rgba(0, 0, 0, 0.3));\n",
              "      fill: #FFFFFF;\n",
              "    }\n",
              "  </style>\n",
              "\n",
              "      <script>\n",
              "        const buttonEl =\n",
              "          document.querySelector('#df-e683558d-01b5-4e0f-bd5a-38e313c8f80d button.colab-df-convert');\n",
              "        buttonEl.style.display =\n",
              "          google.colab.kernel.accessAllowed ? 'block' : 'none';\n",
              "\n",
              "        async function convertToInteractive(key) {\n",
              "          const element = document.querySelector('#df-e683558d-01b5-4e0f-bd5a-38e313c8f80d');\n",
              "          const dataTable =\n",
              "            await google.colab.kernel.invokeFunction('convertToInteractive',\n",
              "                                                     [key], {});\n",
              "          if (!dataTable) return;\n",
              "\n",
              "          const docLinkHtml = 'Like what you see? Visit the ' +\n",
              "            '<a target=\"_blank\" href=https://colab.research.google.com/notebooks/data_table.ipynb>data table notebook</a>'\n",
              "            + ' to learn more about interactive tables.';\n",
              "          element.innerHTML = '';\n",
              "          dataTable['output_type'] = 'display_data';\n",
              "          await google.colab.output.renderOutput(dataTable, element);\n",
              "          const docLink = document.createElement('div');\n",
              "          docLink.innerHTML = docLinkHtml;\n",
              "          element.appendChild(docLink);\n",
              "        }\n",
              "      </script>\n",
              "    </div>\n",
              "  </div>\n",
              "  "
            ]
          },
          "metadata": {},
          "execution_count": 27
        }
      ]
    },
    {
      "cell_type": "code",
      "source": [
        "df_uk['Price']=df_uk['Quantity']*df_uk['UnitPrice']"
      ],
      "metadata": {
        "id": "xk1-3xphOlAP"
      },
      "execution_count": null,
      "outputs": []
    },
    {
      "cell_type": "code",
      "source": [
        "df_uk.head()"
      ],
      "metadata": {
        "colab": {
          "base_uri": "https://localhost:8080/",
          "height": 206
        },
        "id": "Y-cUfCqwOk8D",
        "outputId": "5b8a9f0b-202c-4544-994a-49f80d4b44a9"
      },
      "execution_count": null,
      "outputs": [
        {
          "output_type": "execute_result",
          "data": {
            "text/plain": [
              "  InvoiceNo StockCode                          Description  Quantity  \\\n",
              "0    536365    85123A   WHITE HANGING HEART T-LIGHT HOLDER       6.0   \n",
              "1    536365     71053                  WHITE METAL LANTERN       6.0   \n",
              "2    536365    84406B       CREAM CUPID HEARTS COAT HANGER       8.0   \n",
              "3    536365    84029G  KNITTED UNION FLAG HOT WATER BOTTLE       6.0   \n",
              "4    536365    84029E       RED WOOLLY HOTTIE WHITE HEART.       6.0   \n",
              "\n",
              "    InvoiceDate  UnitPrice  CustomerID         Country  Price  \n",
              "0  12/1/10 8:26       2.55     17850.0  United Kingdom  15.30  \n",
              "1  12/1/10 8:26       3.39     17850.0  United Kingdom  20.34  \n",
              "2  12/1/10 8:26       2.75     17850.0  United Kingdom  22.00  \n",
              "3  12/1/10 8:26       3.39     17850.0  United Kingdom  20.34  \n",
              "4  12/1/10 8:26       3.39     17850.0  United Kingdom  20.34  "
            ],
            "text/html": [
              "\n",
              "  <div id=\"df-f10af779-dc11-4d18-985b-b285231068d4\">\n",
              "    <div class=\"colab-df-container\">\n",
              "      <div>\n",
              "<style scoped>\n",
              "    .dataframe tbody tr th:only-of-type {\n",
              "        vertical-align: middle;\n",
              "    }\n",
              "\n",
              "    .dataframe tbody tr th {\n",
              "        vertical-align: top;\n",
              "    }\n",
              "\n",
              "    .dataframe thead th {\n",
              "        text-align: right;\n",
              "    }\n",
              "</style>\n",
              "<table border=\"1\" class=\"dataframe\">\n",
              "  <thead>\n",
              "    <tr style=\"text-align: right;\">\n",
              "      <th></th>\n",
              "      <th>InvoiceNo</th>\n",
              "      <th>StockCode</th>\n",
              "      <th>Description</th>\n",
              "      <th>Quantity</th>\n",
              "      <th>InvoiceDate</th>\n",
              "      <th>UnitPrice</th>\n",
              "      <th>CustomerID</th>\n",
              "      <th>Country</th>\n",
              "      <th>Price</th>\n",
              "    </tr>\n",
              "  </thead>\n",
              "  <tbody>\n",
              "    <tr>\n",
              "      <th>0</th>\n",
              "      <td>536365</td>\n",
              "      <td>85123A</td>\n",
              "      <td>WHITE HANGING HEART T-LIGHT HOLDER</td>\n",
              "      <td>6.0</td>\n",
              "      <td>12/1/10 8:26</td>\n",
              "      <td>2.55</td>\n",
              "      <td>17850.0</td>\n",
              "      <td>United Kingdom</td>\n",
              "      <td>15.30</td>\n",
              "    </tr>\n",
              "    <tr>\n",
              "      <th>1</th>\n",
              "      <td>536365</td>\n",
              "      <td>71053</td>\n",
              "      <td>WHITE METAL LANTERN</td>\n",
              "      <td>6.0</td>\n",
              "      <td>12/1/10 8:26</td>\n",
              "      <td>3.39</td>\n",
              "      <td>17850.0</td>\n",
              "      <td>United Kingdom</td>\n",
              "      <td>20.34</td>\n",
              "    </tr>\n",
              "    <tr>\n",
              "      <th>2</th>\n",
              "      <td>536365</td>\n",
              "      <td>84406B</td>\n",
              "      <td>CREAM CUPID HEARTS COAT HANGER</td>\n",
              "      <td>8.0</td>\n",
              "      <td>12/1/10 8:26</td>\n",
              "      <td>2.75</td>\n",
              "      <td>17850.0</td>\n",
              "      <td>United Kingdom</td>\n",
              "      <td>22.00</td>\n",
              "    </tr>\n",
              "    <tr>\n",
              "      <th>3</th>\n",
              "      <td>536365</td>\n",
              "      <td>84029G</td>\n",
              "      <td>KNITTED UNION FLAG HOT WATER BOTTLE</td>\n",
              "      <td>6.0</td>\n",
              "      <td>12/1/10 8:26</td>\n",
              "      <td>3.39</td>\n",
              "      <td>17850.0</td>\n",
              "      <td>United Kingdom</td>\n",
              "      <td>20.34</td>\n",
              "    </tr>\n",
              "    <tr>\n",
              "      <th>4</th>\n",
              "      <td>536365</td>\n",
              "      <td>84029E</td>\n",
              "      <td>RED WOOLLY HOTTIE WHITE HEART.</td>\n",
              "      <td>6.0</td>\n",
              "      <td>12/1/10 8:26</td>\n",
              "      <td>3.39</td>\n",
              "      <td>17850.0</td>\n",
              "      <td>United Kingdom</td>\n",
              "      <td>20.34</td>\n",
              "    </tr>\n",
              "  </tbody>\n",
              "</table>\n",
              "</div>\n",
              "      <button class=\"colab-df-convert\" onclick=\"convertToInteractive('df-f10af779-dc11-4d18-985b-b285231068d4')\"\n",
              "              title=\"Convert this dataframe to an interactive table.\"\n",
              "              style=\"display:none;\">\n",
              "        \n",
              "  <svg xmlns=\"http://www.w3.org/2000/svg\" height=\"24px\"viewBox=\"0 0 24 24\"\n",
              "       width=\"24px\">\n",
              "    <path d=\"M0 0h24v24H0V0z\" fill=\"none\"/>\n",
              "    <path d=\"M18.56 5.44l.94 2.06.94-2.06 2.06-.94-2.06-.94-.94-2.06-.94 2.06-2.06.94zm-11 1L8.5 8.5l.94-2.06 2.06-.94-2.06-.94L8.5 2.5l-.94 2.06-2.06.94zm10 10l.94 2.06.94-2.06 2.06-.94-2.06-.94-.94-2.06-.94 2.06-2.06.94z\"/><path d=\"M17.41 7.96l-1.37-1.37c-.4-.4-.92-.59-1.43-.59-.52 0-1.04.2-1.43.59L10.3 9.45l-7.72 7.72c-.78.78-.78 2.05 0 2.83L4 21.41c.39.39.9.59 1.41.59.51 0 1.02-.2 1.41-.59l7.78-7.78 2.81-2.81c.8-.78.8-2.07 0-2.86zM5.41 20L4 18.59l7.72-7.72 1.47 1.35L5.41 20z\"/>\n",
              "  </svg>\n",
              "      </button>\n",
              "      \n",
              "  <style>\n",
              "    .colab-df-container {\n",
              "      display:flex;\n",
              "      flex-wrap:wrap;\n",
              "      gap: 12px;\n",
              "    }\n",
              "\n",
              "    .colab-df-convert {\n",
              "      background-color: #E8F0FE;\n",
              "      border: none;\n",
              "      border-radius: 50%;\n",
              "      cursor: pointer;\n",
              "      display: none;\n",
              "      fill: #1967D2;\n",
              "      height: 32px;\n",
              "      padding: 0 0 0 0;\n",
              "      width: 32px;\n",
              "    }\n",
              "\n",
              "    .colab-df-convert:hover {\n",
              "      background-color: #E2EBFA;\n",
              "      box-shadow: 0px 1px 2px rgba(60, 64, 67, 0.3), 0px 1px 3px 1px rgba(60, 64, 67, 0.15);\n",
              "      fill: #174EA6;\n",
              "    }\n",
              "\n",
              "    [theme=dark] .colab-df-convert {\n",
              "      background-color: #3B4455;\n",
              "      fill: #D2E3FC;\n",
              "    }\n",
              "\n",
              "    [theme=dark] .colab-df-convert:hover {\n",
              "      background-color: #434B5C;\n",
              "      box-shadow: 0px 1px 3px 1px rgba(0, 0, 0, 0.15);\n",
              "      filter: drop-shadow(0px 1px 2px rgba(0, 0, 0, 0.3));\n",
              "      fill: #FFFFFF;\n",
              "    }\n",
              "  </style>\n",
              "\n",
              "      <script>\n",
              "        const buttonEl =\n",
              "          document.querySelector('#df-f10af779-dc11-4d18-985b-b285231068d4 button.colab-df-convert');\n",
              "        buttonEl.style.display =\n",
              "          google.colab.kernel.accessAllowed ? 'block' : 'none';\n",
              "\n",
              "        async function convertToInteractive(key) {\n",
              "          const element = document.querySelector('#df-f10af779-dc11-4d18-985b-b285231068d4');\n",
              "          const dataTable =\n",
              "            await google.colab.kernel.invokeFunction('convertToInteractive',\n",
              "                                                     [key], {});\n",
              "          if (!dataTable) return;\n",
              "\n",
              "          const docLinkHtml = 'Like what you see? Visit the ' +\n",
              "            '<a target=\"_blank\" href=https://colab.research.google.com/notebooks/data_table.ipynb>data table notebook</a>'\n",
              "            + ' to learn more about interactive tables.';\n",
              "          element.innerHTML = '';\n",
              "          dataTable['output_type'] = 'display_data';\n",
              "          await google.colab.output.renderOutput(dataTable, element);\n",
              "          const docLink = document.createElement('div');\n",
              "          docLink.innerHTML = docLinkHtml;\n",
              "          element.appendChild(docLink);\n",
              "        }\n",
              "      </script>\n",
              "    </div>\n",
              "  </div>\n",
              "  "
            ]
          },
          "metadata": {},
          "execution_count": 29
        }
      ]
    },
    {
      "cell_type": "code",
      "source": [
        "df_uk.groupby('CustomerID')['Price'].sum()"
      ],
      "metadata": {
        "colab": {
          "base_uri": "https://localhost:8080/"
        },
        "id": "7t5pmELsOk4N",
        "outputId": "565ae2c5-1204-4e04-e75a-7303b3762dee"
      },
      "execution_count": null,
      "outputs": [
        {
          "output_type": "execute_result",
          "data": {
            "text/plain": [
              "CustomerID\n",
              "12346.0       0.00\n",
              "12747.0    1009.31\n",
              "12748.0    4653.01\n",
              "12820.0     170.46\n",
              "12823.0     535.50\n",
              "            ...   \n",
              "18259.0     376.30\n",
              "18260.0     769.52\n",
              "18269.0     138.90\n",
              "18277.0     -12.75\n",
              "18283.0     213.75\n",
              "Name: Price, Length: 1539, dtype: float64"
            ]
          },
          "metadata": {},
          "execution_count": 30
        }
      ]
    },
    {
      "cell_type": "code",
      "source": [
        "df_uk[df_uk['CustomerID']==18277.0]"
      ],
      "metadata": {
        "colab": {
          "base_uri": "https://localhost:8080/",
          "height": 81
        },
        "id": "03blawZvOk0V",
        "outputId": "d5e9dbba-9866-4a99-fc94-56f358ca29d9"
      },
      "execution_count": null,
      "outputs": [
        {
          "output_type": "execute_result",
          "data": {
            "text/plain": [
              "      InvoiceNo StockCode               Description  Quantity    InvoiceDate  \\\n",
              "70604   C542086     22423  REGENCY CAKESTAND 3 TIER      -1.0  1/25/11 12:34   \n",
              "\n",
              "       UnitPrice  CustomerID         Country  Price  \n",
              "70604      12.75     18277.0  United Kingdom -12.75  "
            ],
            "text/html": [
              "\n",
              "  <div id=\"df-8dabc298-b279-442e-a4f1-a25fd8c3e58e\">\n",
              "    <div class=\"colab-df-container\">\n",
              "      <div>\n",
              "<style scoped>\n",
              "    .dataframe tbody tr th:only-of-type {\n",
              "        vertical-align: middle;\n",
              "    }\n",
              "\n",
              "    .dataframe tbody tr th {\n",
              "        vertical-align: top;\n",
              "    }\n",
              "\n",
              "    .dataframe thead th {\n",
              "        text-align: right;\n",
              "    }\n",
              "</style>\n",
              "<table border=\"1\" class=\"dataframe\">\n",
              "  <thead>\n",
              "    <tr style=\"text-align: right;\">\n",
              "      <th></th>\n",
              "      <th>InvoiceNo</th>\n",
              "      <th>StockCode</th>\n",
              "      <th>Description</th>\n",
              "      <th>Quantity</th>\n",
              "      <th>InvoiceDate</th>\n",
              "      <th>UnitPrice</th>\n",
              "      <th>CustomerID</th>\n",
              "      <th>Country</th>\n",
              "      <th>Price</th>\n",
              "    </tr>\n",
              "  </thead>\n",
              "  <tbody>\n",
              "    <tr>\n",
              "      <th>70604</th>\n",
              "      <td>C542086</td>\n",
              "      <td>22423</td>\n",
              "      <td>REGENCY CAKESTAND 3 TIER</td>\n",
              "      <td>-1.0</td>\n",
              "      <td>1/25/11 12:34</td>\n",
              "      <td>12.75</td>\n",
              "      <td>18277.0</td>\n",
              "      <td>United Kingdom</td>\n",
              "      <td>-12.75</td>\n",
              "    </tr>\n",
              "  </tbody>\n",
              "</table>\n",
              "</div>\n",
              "      <button class=\"colab-df-convert\" onclick=\"convertToInteractive('df-8dabc298-b279-442e-a4f1-a25fd8c3e58e')\"\n",
              "              title=\"Convert this dataframe to an interactive table.\"\n",
              "              style=\"display:none;\">\n",
              "        \n",
              "  <svg xmlns=\"http://www.w3.org/2000/svg\" height=\"24px\"viewBox=\"0 0 24 24\"\n",
              "       width=\"24px\">\n",
              "    <path d=\"M0 0h24v24H0V0z\" fill=\"none\"/>\n",
              "    <path d=\"M18.56 5.44l.94 2.06.94-2.06 2.06-.94-2.06-.94-.94-2.06-.94 2.06-2.06.94zm-11 1L8.5 8.5l.94-2.06 2.06-.94-2.06-.94L8.5 2.5l-.94 2.06-2.06.94zm10 10l.94 2.06.94-2.06 2.06-.94-2.06-.94-.94-2.06-.94 2.06-2.06.94z\"/><path d=\"M17.41 7.96l-1.37-1.37c-.4-.4-.92-.59-1.43-.59-.52 0-1.04.2-1.43.59L10.3 9.45l-7.72 7.72c-.78.78-.78 2.05 0 2.83L4 21.41c.39.39.9.59 1.41.59.51 0 1.02-.2 1.41-.59l7.78-7.78 2.81-2.81c.8-.78.8-2.07 0-2.86zM5.41 20L4 18.59l7.72-7.72 1.47 1.35L5.41 20z\"/>\n",
              "  </svg>\n",
              "      </button>\n",
              "      \n",
              "  <style>\n",
              "    .colab-df-container {\n",
              "      display:flex;\n",
              "      flex-wrap:wrap;\n",
              "      gap: 12px;\n",
              "    }\n",
              "\n",
              "    .colab-df-convert {\n",
              "      background-color: #E8F0FE;\n",
              "      border: none;\n",
              "      border-radius: 50%;\n",
              "      cursor: pointer;\n",
              "      display: none;\n",
              "      fill: #1967D2;\n",
              "      height: 32px;\n",
              "      padding: 0 0 0 0;\n",
              "      width: 32px;\n",
              "    }\n",
              "\n",
              "    .colab-df-convert:hover {\n",
              "      background-color: #E2EBFA;\n",
              "      box-shadow: 0px 1px 2px rgba(60, 64, 67, 0.3), 0px 1px 3px 1px rgba(60, 64, 67, 0.15);\n",
              "      fill: #174EA6;\n",
              "    }\n",
              "\n",
              "    [theme=dark] .colab-df-convert {\n",
              "      background-color: #3B4455;\n",
              "      fill: #D2E3FC;\n",
              "    }\n",
              "\n",
              "    [theme=dark] .colab-df-convert:hover {\n",
              "      background-color: #434B5C;\n",
              "      box-shadow: 0px 1px 3px 1px rgba(0, 0, 0, 0.15);\n",
              "      filter: drop-shadow(0px 1px 2px rgba(0, 0, 0, 0.3));\n",
              "      fill: #FFFFFF;\n",
              "    }\n",
              "  </style>\n",
              "\n",
              "      <script>\n",
              "        const buttonEl =\n",
              "          document.querySelector('#df-8dabc298-b279-442e-a4f1-a25fd8c3e58e button.colab-df-convert');\n",
              "        buttonEl.style.display =\n",
              "          google.colab.kernel.accessAllowed ? 'block' : 'none';\n",
              "\n",
              "        async function convertToInteractive(key) {\n",
              "          const element = document.querySelector('#df-8dabc298-b279-442e-a4f1-a25fd8c3e58e');\n",
              "          const dataTable =\n",
              "            await google.colab.kernel.invokeFunction('convertToInteractive',\n",
              "                                                     [key], {});\n",
              "          if (!dataTable) return;\n",
              "\n",
              "          const docLinkHtml = 'Like what you see? Visit the ' +\n",
              "            '<a target=\"_blank\" href=https://colab.research.google.com/notebooks/data_table.ipynb>data table notebook</a>'\n",
              "            + ' to learn more about interactive tables.';\n",
              "          element.innerHTML = '';\n",
              "          dataTable['output_type'] = 'display_data';\n",
              "          await google.colab.output.renderOutput(dataTable, element);\n",
              "          const docLink = document.createElement('div');\n",
              "          docLink.innerHTML = docLinkHtml;\n",
              "          element.appendChild(docLink);\n",
              "        }\n",
              "      </script>\n",
              "    </div>\n",
              "  </div>\n",
              "  "
            ]
          },
          "metadata": {},
          "execution_count": 32
        }
      ]
    },
    {
      "cell_type": "markdown",
      "source": [
        "need to get rid of -sign from quantity"
      ],
      "metadata": {
        "id": "Fmu0d4gwRHUb"
      }
    },
    {
      "cell_type": "code",
      "source": [
        "df_uk['Quantity'] = df_uk['Quantity'].abs()"
      ],
      "metadata": {
        "id": "kpv4C_PBP-0S"
      },
      "execution_count": null,
      "outputs": []
    },
    {
      "cell_type": "code",
      "source": [
        "df_uk[df_uk['CustomerID']==18277.0]"
      ],
      "metadata": {
        "colab": {
          "base_uri": "https://localhost:8080/",
          "height": 81
        },
        "id": "FTXflxp4P-wU",
        "outputId": "d128d6ef-1cfd-457f-a123-75d2cb010cdd"
      },
      "execution_count": null,
      "outputs": [
        {
          "output_type": "execute_result",
          "data": {
            "text/plain": [
              "      InvoiceNo StockCode               Description  Quantity    InvoiceDate  \\\n",
              "70604   C542086     22423  REGENCY CAKESTAND 3 TIER       1.0  1/25/11 12:34   \n",
              "\n",
              "       UnitPrice  CustomerID         Country  Price  \n",
              "70604      12.75     18277.0  United Kingdom  12.75  "
            ],
            "text/html": [
              "\n",
              "  <div id=\"df-94137dd3-6524-46ef-8b2b-82aeb0cb31fb\">\n",
              "    <div class=\"colab-df-container\">\n",
              "      <div>\n",
              "<style scoped>\n",
              "    .dataframe tbody tr th:only-of-type {\n",
              "        vertical-align: middle;\n",
              "    }\n",
              "\n",
              "    .dataframe tbody tr th {\n",
              "        vertical-align: top;\n",
              "    }\n",
              "\n",
              "    .dataframe thead th {\n",
              "        text-align: right;\n",
              "    }\n",
              "</style>\n",
              "<table border=\"1\" class=\"dataframe\">\n",
              "  <thead>\n",
              "    <tr style=\"text-align: right;\">\n",
              "      <th></th>\n",
              "      <th>InvoiceNo</th>\n",
              "      <th>StockCode</th>\n",
              "      <th>Description</th>\n",
              "      <th>Quantity</th>\n",
              "      <th>InvoiceDate</th>\n",
              "      <th>UnitPrice</th>\n",
              "      <th>CustomerID</th>\n",
              "      <th>Country</th>\n",
              "      <th>Price</th>\n",
              "    </tr>\n",
              "  </thead>\n",
              "  <tbody>\n",
              "    <tr>\n",
              "      <th>70604</th>\n",
              "      <td>C542086</td>\n",
              "      <td>22423</td>\n",
              "      <td>REGENCY CAKESTAND 3 TIER</td>\n",
              "      <td>1.0</td>\n",
              "      <td>1/25/11 12:34</td>\n",
              "      <td>12.75</td>\n",
              "      <td>18277.0</td>\n",
              "      <td>United Kingdom</td>\n",
              "      <td>12.75</td>\n",
              "    </tr>\n",
              "  </tbody>\n",
              "</table>\n",
              "</div>\n",
              "      <button class=\"colab-df-convert\" onclick=\"convertToInteractive('df-94137dd3-6524-46ef-8b2b-82aeb0cb31fb')\"\n",
              "              title=\"Convert this dataframe to an interactive table.\"\n",
              "              style=\"display:none;\">\n",
              "        \n",
              "  <svg xmlns=\"http://www.w3.org/2000/svg\" height=\"24px\"viewBox=\"0 0 24 24\"\n",
              "       width=\"24px\">\n",
              "    <path d=\"M0 0h24v24H0V0z\" fill=\"none\"/>\n",
              "    <path d=\"M18.56 5.44l.94 2.06.94-2.06 2.06-.94-2.06-.94-.94-2.06-.94 2.06-2.06.94zm-11 1L8.5 8.5l.94-2.06 2.06-.94-2.06-.94L8.5 2.5l-.94 2.06-2.06.94zm10 10l.94 2.06.94-2.06 2.06-.94-2.06-.94-.94-2.06-.94 2.06-2.06.94z\"/><path d=\"M17.41 7.96l-1.37-1.37c-.4-.4-.92-.59-1.43-.59-.52 0-1.04.2-1.43.59L10.3 9.45l-7.72 7.72c-.78.78-.78 2.05 0 2.83L4 21.41c.39.39.9.59 1.41.59.51 0 1.02-.2 1.41-.59l7.78-7.78 2.81-2.81c.8-.78.8-2.07 0-2.86zM5.41 20L4 18.59l7.72-7.72 1.47 1.35L5.41 20z\"/>\n",
              "  </svg>\n",
              "      </button>\n",
              "      \n",
              "  <style>\n",
              "    .colab-df-container {\n",
              "      display:flex;\n",
              "      flex-wrap:wrap;\n",
              "      gap: 12px;\n",
              "    }\n",
              "\n",
              "    .colab-df-convert {\n",
              "      background-color: #E8F0FE;\n",
              "      border: none;\n",
              "      border-radius: 50%;\n",
              "      cursor: pointer;\n",
              "      display: none;\n",
              "      fill: #1967D2;\n",
              "      height: 32px;\n",
              "      padding: 0 0 0 0;\n",
              "      width: 32px;\n",
              "    }\n",
              "\n",
              "    .colab-df-convert:hover {\n",
              "      background-color: #E2EBFA;\n",
              "      box-shadow: 0px 1px 2px rgba(60, 64, 67, 0.3), 0px 1px 3px 1px rgba(60, 64, 67, 0.15);\n",
              "      fill: #174EA6;\n",
              "    }\n",
              "\n",
              "    [theme=dark] .colab-df-convert {\n",
              "      background-color: #3B4455;\n",
              "      fill: #D2E3FC;\n",
              "    }\n",
              "\n",
              "    [theme=dark] .colab-df-convert:hover {\n",
              "      background-color: #434B5C;\n",
              "      box-shadow: 0px 1px 3px 1px rgba(0, 0, 0, 0.15);\n",
              "      filter: drop-shadow(0px 1px 2px rgba(0, 0, 0, 0.3));\n",
              "      fill: #FFFFFF;\n",
              "    }\n",
              "  </style>\n",
              "\n",
              "      <script>\n",
              "        const buttonEl =\n",
              "          document.querySelector('#df-94137dd3-6524-46ef-8b2b-82aeb0cb31fb button.colab-df-convert');\n",
              "        buttonEl.style.display =\n",
              "          google.colab.kernel.accessAllowed ? 'block' : 'none';\n",
              "\n",
              "        async function convertToInteractive(key) {\n",
              "          const element = document.querySelector('#df-94137dd3-6524-46ef-8b2b-82aeb0cb31fb');\n",
              "          const dataTable =\n",
              "            await google.colab.kernel.invokeFunction('convertToInteractive',\n",
              "                                                     [key], {});\n",
              "          if (!dataTable) return;\n",
              "\n",
              "          const docLinkHtml = 'Like what you see? Visit the ' +\n",
              "            '<a target=\"_blank\" href=https://colab.research.google.com/notebooks/data_table.ipynb>data table notebook</a>'\n",
              "            + ' to learn more about interactive tables.';\n",
              "          element.innerHTML = '';\n",
              "          dataTable['output_type'] = 'display_data';\n",
              "          await google.colab.output.renderOutput(dataTable, element);\n",
              "          const docLink = document.createElement('div');\n",
              "          docLink.innerHTML = docLinkHtml;\n",
              "          element.appendChild(docLink);\n",
              "        }\n",
              "      </script>\n",
              "    </div>\n",
              "  </div>\n",
              "  "
            ]
          },
          "metadata": {},
          "execution_count": 42
        }
      ]
    },
    {
      "cell_type": "code",
      "source": [
        "df_uk['CustomerID']=df_uk['CustomerID'].astype(str)"
      ],
      "metadata": {
        "id": "8l_JFFIKTPKT"
      },
      "execution_count": null,
      "outputs": []
    },
    {
      "cell_type": "code",
      "source": [
        "df_uk.groupby('CustomerID')['Price'].sum()"
      ],
      "metadata": {
        "colab": {
          "base_uri": "https://localhost:8080/"
        },
        "id": "WxXnvNHpP-sm",
        "outputId": "2986b5a7-66db-4c16-9205-c42b03bf477e"
      },
      "execution_count": null,
      "outputs": [
        {
          "output_type": "execute_result",
          "data": {
            "text/plain": [
              "CustomerID\n",
              "12346.0    154367.20\n",
              "12747.0      1009.31\n",
              "12748.0      4753.91\n",
              "12820.0       170.46\n",
              "12823.0       535.50\n",
              "             ...    \n",
              "18259.0       376.30\n",
              "18260.0       806.02\n",
              "18269.0       198.30\n",
              "18277.0        12.75\n",
              "18283.0       213.75\n",
              "Name: Price, Length: 1539, dtype: float64"
            ]
          },
          "metadata": {},
          "execution_count": 48
        }
      ]
    },
    {
      "cell_type": "code",
      "source": [
        "df1=df_uk.groupby('CustomerID')['Price'].sum().to_frame().reset_index()"
      ],
      "metadata": {
        "id": "Qph-tXpYP-oK"
      },
      "execution_count": null,
      "outputs": []
    },
    {
      "cell_type": "code",
      "source": [
        "df1.head()"
      ],
      "metadata": {
        "colab": {
          "base_uri": "https://localhost:8080/",
          "height": 206
        },
        "id": "32kM-4YLP-lM",
        "outputId": "ec7ab49c-8d54-4bf3-c306-739b3fb3fb63"
      },
      "execution_count": null,
      "outputs": [
        {
          "output_type": "execute_result",
          "data": {
            "text/plain": [
              "  CustomerID      Price\n",
              "0    12346.0  154367.20\n",
              "1    12747.0    1009.31\n",
              "2    12748.0    4753.91\n",
              "3    12820.0     170.46\n",
              "4    12823.0     535.50"
            ],
            "text/html": [
              "\n",
              "  <div id=\"df-33d99a0c-24bb-4e06-85bb-da8f9de36451\">\n",
              "    <div class=\"colab-df-container\">\n",
              "      <div>\n",
              "<style scoped>\n",
              "    .dataframe tbody tr th:only-of-type {\n",
              "        vertical-align: middle;\n",
              "    }\n",
              "\n",
              "    .dataframe tbody tr th {\n",
              "        vertical-align: top;\n",
              "    }\n",
              "\n",
              "    .dataframe thead th {\n",
              "        text-align: right;\n",
              "    }\n",
              "</style>\n",
              "<table border=\"1\" class=\"dataframe\">\n",
              "  <thead>\n",
              "    <tr style=\"text-align: right;\">\n",
              "      <th></th>\n",
              "      <th>CustomerID</th>\n",
              "      <th>Price</th>\n",
              "    </tr>\n",
              "  </thead>\n",
              "  <tbody>\n",
              "    <tr>\n",
              "      <th>0</th>\n",
              "      <td>12346.0</td>\n",
              "      <td>154367.20</td>\n",
              "    </tr>\n",
              "    <tr>\n",
              "      <th>1</th>\n",
              "      <td>12747.0</td>\n",
              "      <td>1009.31</td>\n",
              "    </tr>\n",
              "    <tr>\n",
              "      <th>2</th>\n",
              "      <td>12748.0</td>\n",
              "      <td>4753.91</td>\n",
              "    </tr>\n",
              "    <tr>\n",
              "      <th>3</th>\n",
              "      <td>12820.0</td>\n",
              "      <td>170.46</td>\n",
              "    </tr>\n",
              "    <tr>\n",
              "      <th>4</th>\n",
              "      <td>12823.0</td>\n",
              "      <td>535.50</td>\n",
              "    </tr>\n",
              "  </tbody>\n",
              "</table>\n",
              "</div>\n",
              "      <button class=\"colab-df-convert\" onclick=\"convertToInteractive('df-33d99a0c-24bb-4e06-85bb-da8f9de36451')\"\n",
              "              title=\"Convert this dataframe to an interactive table.\"\n",
              "              style=\"display:none;\">\n",
              "        \n",
              "  <svg xmlns=\"http://www.w3.org/2000/svg\" height=\"24px\"viewBox=\"0 0 24 24\"\n",
              "       width=\"24px\">\n",
              "    <path d=\"M0 0h24v24H0V0z\" fill=\"none\"/>\n",
              "    <path d=\"M18.56 5.44l.94 2.06.94-2.06 2.06-.94-2.06-.94-.94-2.06-.94 2.06-2.06.94zm-11 1L8.5 8.5l.94-2.06 2.06-.94-2.06-.94L8.5 2.5l-.94 2.06-2.06.94zm10 10l.94 2.06.94-2.06 2.06-.94-2.06-.94-.94-2.06-.94 2.06-2.06.94z\"/><path d=\"M17.41 7.96l-1.37-1.37c-.4-.4-.92-.59-1.43-.59-.52 0-1.04.2-1.43.59L10.3 9.45l-7.72 7.72c-.78.78-.78 2.05 0 2.83L4 21.41c.39.39.9.59 1.41.59.51 0 1.02-.2 1.41-.59l7.78-7.78 2.81-2.81c.8-.78.8-2.07 0-2.86zM5.41 20L4 18.59l7.72-7.72 1.47 1.35L5.41 20z\"/>\n",
              "  </svg>\n",
              "      </button>\n",
              "      \n",
              "  <style>\n",
              "    .colab-df-container {\n",
              "      display:flex;\n",
              "      flex-wrap:wrap;\n",
              "      gap: 12px;\n",
              "    }\n",
              "\n",
              "    .colab-df-convert {\n",
              "      background-color: #E8F0FE;\n",
              "      border: none;\n",
              "      border-radius: 50%;\n",
              "      cursor: pointer;\n",
              "      display: none;\n",
              "      fill: #1967D2;\n",
              "      height: 32px;\n",
              "      padding: 0 0 0 0;\n",
              "      width: 32px;\n",
              "    }\n",
              "\n",
              "    .colab-df-convert:hover {\n",
              "      background-color: #E2EBFA;\n",
              "      box-shadow: 0px 1px 2px rgba(60, 64, 67, 0.3), 0px 1px 3px 1px rgba(60, 64, 67, 0.15);\n",
              "      fill: #174EA6;\n",
              "    }\n",
              "\n",
              "    [theme=dark] .colab-df-convert {\n",
              "      background-color: #3B4455;\n",
              "      fill: #D2E3FC;\n",
              "    }\n",
              "\n",
              "    [theme=dark] .colab-df-convert:hover {\n",
              "      background-color: #434B5C;\n",
              "      box-shadow: 0px 1px 3px 1px rgba(0, 0, 0, 0.15);\n",
              "      filter: drop-shadow(0px 1px 2px rgba(0, 0, 0, 0.3));\n",
              "      fill: #FFFFFF;\n",
              "    }\n",
              "  </style>\n",
              "\n",
              "      <script>\n",
              "        const buttonEl =\n",
              "          document.querySelector('#df-33d99a0c-24bb-4e06-85bb-da8f9de36451 button.colab-df-convert');\n",
              "        buttonEl.style.display =\n",
              "          google.colab.kernel.accessAllowed ? 'block' : 'none';\n",
              "\n",
              "        async function convertToInteractive(key) {\n",
              "          const element = document.querySelector('#df-33d99a0c-24bb-4e06-85bb-da8f9de36451');\n",
              "          const dataTable =\n",
              "            await google.colab.kernel.invokeFunction('convertToInteractive',\n",
              "                                                     [key], {});\n",
              "          if (!dataTable) return;\n",
              "\n",
              "          const docLinkHtml = 'Like what you see? Visit the ' +\n",
              "            '<a target=\"_blank\" href=https://colab.research.google.com/notebooks/data_table.ipynb>data table notebook</a>'\n",
              "            + ' to learn more about interactive tables.';\n",
              "          element.innerHTML = '';\n",
              "          dataTable['output_type'] = 'display_data';\n",
              "          await google.colab.output.renderOutput(dataTable, element);\n",
              "          const docLink = document.createElement('div');\n",
              "          docLink.innerHTML = docLinkHtml;\n",
              "          element.appendChild(docLink);\n",
              "        }\n",
              "      </script>\n",
              "    </div>\n",
              "  </div>\n",
              "  "
            ]
          },
          "metadata": {},
          "execution_count": 50
        }
      ]
    },
    {
      "cell_type": "code",
      "source": [
        "df_uk.groupby('CustomerID')['InvoiceNo'].count()"
      ],
      "metadata": {
        "colab": {
          "base_uri": "https://localhost:8080/"
        },
        "id": "qVSi0VVnRjG6",
        "outputId": "e70ed7b5-6447-407e-a94b-1af1e2a5a299"
      },
      "execution_count": null,
      "outputs": [
        {
          "output_type": "execute_result",
          "data": {
            "text/plain": [
              "CustomerID\n",
              "12346.0      2\n",
              "12747.0     20\n",
              "12748.0    708\n",
              "12820.0     11\n",
              "12823.0      2\n",
              "          ... \n",
              "18259.0      7\n",
              "18260.0     40\n",
              "18269.0      8\n",
              "18277.0      1\n",
              "18283.0    101\n",
              "Name: InvoiceNo, Length: 1539, dtype: int64"
            ]
          },
          "metadata": {},
          "execution_count": 53
        }
      ]
    },
    {
      "cell_type": "markdown",
      "source": [
        "how many times a customer has bought some item from the store"
      ],
      "metadata": {
        "id": "k4H9rV4nVEn1"
      }
    },
    {
      "cell_type": "code",
      "source": [
        "df2=df_uk.groupby('CustomerID')['InvoiceNo'].count().to_frame().reset_index().rename({'InvoiceNo':'Frequency'},axis=1)"
      ],
      "metadata": {
        "id": "3I0FURT_RjCN"
      },
      "execution_count": null,
      "outputs": []
    },
    {
      "cell_type": "code",
      "source": [
        "df_final=pd.merge(df1,df2,on='CustomerID',how='inner')"
      ],
      "metadata": {
        "id": "Gl0UYN8bRix-"
      },
      "execution_count": null,
      "outputs": []
    },
    {
      "cell_type": "code",
      "source": [
        "df_final.head()"
      ],
      "metadata": {
        "colab": {
          "base_uri": "https://localhost:8080/",
          "height": 206
        },
        "id": "X3kQ-39wRikw",
        "outputId": "a28cb4bc-c7e5-452a-bb79-7c23da182a9b"
      },
      "execution_count": null,
      "outputs": [
        {
          "output_type": "execute_result",
          "data": {
            "text/plain": [
              "  CustomerID      Price  Frequency\n",
              "0    12346.0  154367.20          2\n",
              "1    12747.0    1009.31         20\n",
              "2    12748.0    4753.91        708\n",
              "3    12820.0     170.46         11\n",
              "4    12823.0     535.50          2"
            ],
            "text/html": [
              "\n",
              "  <div id=\"df-3b2507f4-8cbc-47f8-957d-b77169f2f8ea\">\n",
              "    <div class=\"colab-df-container\">\n",
              "      <div>\n",
              "<style scoped>\n",
              "    .dataframe tbody tr th:only-of-type {\n",
              "        vertical-align: middle;\n",
              "    }\n",
              "\n",
              "    .dataframe tbody tr th {\n",
              "        vertical-align: top;\n",
              "    }\n",
              "\n",
              "    .dataframe thead th {\n",
              "        text-align: right;\n",
              "    }\n",
              "</style>\n",
              "<table border=\"1\" class=\"dataframe\">\n",
              "  <thead>\n",
              "    <tr style=\"text-align: right;\">\n",
              "      <th></th>\n",
              "      <th>CustomerID</th>\n",
              "      <th>Price</th>\n",
              "      <th>Frequency</th>\n",
              "    </tr>\n",
              "  </thead>\n",
              "  <tbody>\n",
              "    <tr>\n",
              "      <th>0</th>\n",
              "      <td>12346.0</td>\n",
              "      <td>154367.20</td>\n",
              "      <td>2</td>\n",
              "    </tr>\n",
              "    <tr>\n",
              "      <th>1</th>\n",
              "      <td>12747.0</td>\n",
              "      <td>1009.31</td>\n",
              "      <td>20</td>\n",
              "    </tr>\n",
              "    <tr>\n",
              "      <th>2</th>\n",
              "      <td>12748.0</td>\n",
              "      <td>4753.91</td>\n",
              "      <td>708</td>\n",
              "    </tr>\n",
              "    <tr>\n",
              "      <th>3</th>\n",
              "      <td>12820.0</td>\n",
              "      <td>170.46</td>\n",
              "      <td>11</td>\n",
              "    </tr>\n",
              "    <tr>\n",
              "      <th>4</th>\n",
              "      <td>12823.0</td>\n",
              "      <td>535.50</td>\n",
              "      <td>2</td>\n",
              "    </tr>\n",
              "  </tbody>\n",
              "</table>\n",
              "</div>\n",
              "      <button class=\"colab-df-convert\" onclick=\"convertToInteractive('df-3b2507f4-8cbc-47f8-957d-b77169f2f8ea')\"\n",
              "              title=\"Convert this dataframe to an interactive table.\"\n",
              "              style=\"display:none;\">\n",
              "        \n",
              "  <svg xmlns=\"http://www.w3.org/2000/svg\" height=\"24px\"viewBox=\"0 0 24 24\"\n",
              "       width=\"24px\">\n",
              "    <path d=\"M0 0h24v24H0V0z\" fill=\"none\"/>\n",
              "    <path d=\"M18.56 5.44l.94 2.06.94-2.06 2.06-.94-2.06-.94-.94-2.06-.94 2.06-2.06.94zm-11 1L8.5 8.5l.94-2.06 2.06-.94-2.06-.94L8.5 2.5l-.94 2.06-2.06.94zm10 10l.94 2.06.94-2.06 2.06-.94-2.06-.94-.94-2.06-.94 2.06-2.06.94z\"/><path d=\"M17.41 7.96l-1.37-1.37c-.4-.4-.92-.59-1.43-.59-.52 0-1.04.2-1.43.59L10.3 9.45l-7.72 7.72c-.78.78-.78 2.05 0 2.83L4 21.41c.39.39.9.59 1.41.59.51 0 1.02-.2 1.41-.59l7.78-7.78 2.81-2.81c.8-.78.8-2.07 0-2.86zM5.41 20L4 18.59l7.72-7.72 1.47 1.35L5.41 20z\"/>\n",
              "  </svg>\n",
              "      </button>\n",
              "      \n",
              "  <style>\n",
              "    .colab-df-container {\n",
              "      display:flex;\n",
              "      flex-wrap:wrap;\n",
              "      gap: 12px;\n",
              "    }\n",
              "\n",
              "    .colab-df-convert {\n",
              "      background-color: #E8F0FE;\n",
              "      border: none;\n",
              "      border-radius: 50%;\n",
              "      cursor: pointer;\n",
              "      display: none;\n",
              "      fill: #1967D2;\n",
              "      height: 32px;\n",
              "      padding: 0 0 0 0;\n",
              "      width: 32px;\n",
              "    }\n",
              "\n",
              "    .colab-df-convert:hover {\n",
              "      background-color: #E2EBFA;\n",
              "      box-shadow: 0px 1px 2px rgba(60, 64, 67, 0.3), 0px 1px 3px 1px rgba(60, 64, 67, 0.15);\n",
              "      fill: #174EA6;\n",
              "    }\n",
              "\n",
              "    [theme=dark] .colab-df-convert {\n",
              "      background-color: #3B4455;\n",
              "      fill: #D2E3FC;\n",
              "    }\n",
              "\n",
              "    [theme=dark] .colab-df-convert:hover {\n",
              "      background-color: #434B5C;\n",
              "      box-shadow: 0px 1px 3px 1px rgba(0, 0, 0, 0.15);\n",
              "      filter: drop-shadow(0px 1px 2px rgba(0, 0, 0, 0.3));\n",
              "      fill: #FFFFFF;\n",
              "    }\n",
              "  </style>\n",
              "\n",
              "      <script>\n",
              "        const buttonEl =\n",
              "          document.querySelector('#df-3b2507f4-8cbc-47f8-957d-b77169f2f8ea button.colab-df-convert');\n",
              "        buttonEl.style.display =\n",
              "          google.colab.kernel.accessAllowed ? 'block' : 'none';\n",
              "\n",
              "        async function convertToInteractive(key) {\n",
              "          const element = document.querySelector('#df-3b2507f4-8cbc-47f8-957d-b77169f2f8ea');\n",
              "          const dataTable =\n",
              "            await google.colab.kernel.invokeFunction('convertToInteractive',\n",
              "                                                     [key], {});\n",
              "          if (!dataTable) return;\n",
              "\n",
              "          const docLinkHtml = 'Like what you see? Visit the ' +\n",
              "            '<a target=\"_blank\" href=https://colab.research.google.com/notebooks/data_table.ipynb>data table notebook</a>'\n",
              "            + ' to learn more about interactive tables.';\n",
              "          element.innerHTML = '';\n",
              "          dataTable['output_type'] = 'display_data';\n",
              "          await google.colab.output.renderOutput(dataTable, element);\n",
              "          const docLink = document.createElement('div');\n",
              "          docLink.innerHTML = docLinkHtml;\n",
              "          element.appendChild(docLink);\n",
              "        }\n",
              "      </script>\n",
              "    </div>\n",
              "  </div>\n",
              "  "
            ]
          },
          "metadata": {},
          "execution_count": 68
        }
      ]
    },
    {
      "cell_type": "code",
      "source": [
        "fig=px.box(df_final,y='Frequency')"
      ],
      "metadata": {
        "id": "4hdPUc-NRihh"
      },
      "execution_count": null,
      "outputs": []
    },
    {
      "cell_type": "code",
      "source": [
        "fig.show()"
      ],
      "metadata": {
        "colab": {
          "base_uri": "https://localhost:8080/",
          "height": 542
        },
        "id": "tHG6tdP1WeEp",
        "outputId": "dbabf2bc-9277-47f4-ff41-68bff379f2cc"
      },
      "execution_count": null,
      "outputs": [
        {
          "output_type": "display_data",
          "data": {
            "text/html": [
              "<html>\n",
              "<head><meta charset=\"utf-8\" /></head>\n",
              "<body>\n",
              "    <div>            <script src=\"https://cdnjs.cloudflare.com/ajax/libs/mathjax/2.7.5/MathJax.js?config=TeX-AMS-MML_SVG\"></script><script type=\"text/javascript\">if (window.MathJax) {MathJax.Hub.Config({SVG: {font: \"STIX-Web\"}});}</script>                <script type=\"text/javascript\">window.PlotlyConfig = {MathJaxConfig: 'local'};</script>\n",
              "        <script src=\"https://cdn.plot.ly/plotly-2.8.3.min.js\"></script>                <div id=\"e381ecae-51e0-42fa-9cf8-609b1e20687b\" class=\"plotly-graph-div\" style=\"height:525px; width:100%;\"></div>            <script type=\"text/javascript\">                                    window.PLOTLYENV=window.PLOTLYENV || {};                                    if (document.getElementById(\"e381ecae-51e0-42fa-9cf8-609b1e20687b\")) {                    Plotly.newPlot(                        \"e381ecae-51e0-42fa-9cf8-609b1e20687b\",                        [{\"alignmentgroup\":\"True\",\"hovertemplate\":\"Frequency=%{y}<extra></extra>\",\"legendgroup\":\"\",\"marker\":{\"color\":\"#636efa\"},\"name\":\"\",\"notched\":false,\"offsetgroup\":\"\",\"orientation\":\"v\",\"showlegend\":false,\"x0\":\" \",\"xaxis\":\"x\",\"y\":[2,20,708,11,2,49,12,39,59,57,146,14,21,20,23,36,3,34,119,46,2,66,1,18,1,2,2,11,13,37,143,2,17,8,7,27,21,16,1,14,23,36,21,19,31,17,20,8,63,10,83,10,3,8,18,11,138,7,91,15,3,19,67,37,9,6,1,57,11,11,15,33,44,40,7,122,9,14,1,138,62,69,334,7,13,456,19,7,160,6,104,25,94,1,23,10,21,80,3,34,16,61,32,3,3,44,14,15,32,3,1,125,18,74,63,11,19,8,40,13,96,23,23,221,57,20,20,37,77,25,26,21,2,35,12,107,17,5,21,62,16,6,39,1,46,28,1,75,14,52,11,20,21,11,34,29,17,14,137,10,26,17,9,13,129,20,52,1,19,44,24,35,16,16,15,17,6,91,8,1,49,65,27,32,36,46,8,36,147,93,13,23,12,1,11,149,7,42,18,26,27,10,4,29,30,5,15,64,3,11,4,8,80,13,23,36,9,10,24,13,39,32,19,3,15,9,24,17,20,8,36,15,18,31,61,8,78,16,91,4,133,23,1,10,20,32,30,99,21,7,70,9,171,44,1,1,8,9,35,8,16,33,69,101,32,78,36,6,7,7,4,135,16,33,22,41,7,36,11,1,2,8,49,55,28,4,17,42,28,44,7,70,34,23,8,18,24,17,13,1,12,21,11,12,11,17,40,7,3,16,13,20,3,12,1,11,5,16,35,44,52,51,9,38,32,9,29,7,66,52,32,11,26,67,54,5,15,85,114,45,105,56,44,24,13,151,29,91,169,93,1,62,76,15,32,7,11,1,20,66,18,70,22,70,12,50,26,13,18,21,32,102,3,12,62,30,4,14,1,16,53,6,5,52,22,11,18,40,29,19,15,3,9,8,9,8,60,8,32,39,40,2,29,19,13,19,25,3,22,2,362,34,10,79,30,23,34,29,77,42,24,14,17,11,8,4,4,17,7,23,6,28,63,34,20,43,14,8,14,22,8,167,21,47,24,21,5,9,31,3,44,18,50,11,4,2,56,7,17,15,35,61,19,1,10,12,14,4,19,31,14,4,114,179,45,7,26,1,26,27,240,44,23,10,73,11,86,17,54,2,56,23,14,26,51,54,55,70,1,38,142,3,31,5,25,709,1,1,1,6,16,36,5,12,71,18,8,29,62,68,22,43,179,109,34,15,1,1,111,44,85,40,35,111,100,13,37,80,22,84,71,10,146,35,8,11,18,19,18,35,15,54,7,7,8,59,17,20,22,2,18,35,6,4,9,275,6,145,14,19,54,29,2,51,5,29,51,3,62,22,3,1,16,21,31,8,10,121,32,10,21,40,48,17,15,29,28,22,92,5,16,140,46,2,75,145,52,5,53,99,61,14,30,63,81,32,360,170,57,23,28,22,76,60,173,11,48,1,97,28,8,23,68,6,5,20,9,16,17,18,26,14,10,8,19,67,56,80,4,15,27,39,7,11,45,6,2,16,15,114,4,3,20,9,3,23,25,2,28,11,5,16,8,16,32,88,15,19,12,17,10,6,24,40,21,67,26,35,35,61,39,4,34,31,5,715,17,1,38,29,3,41,17,5,5,53,12,145,160,7,16,12,8,36,40,138,1,65,22,20,24,7,6,43,11,47,16,6,77,51,9,28,25,25,56,155,35,1,7,42,11,163,40,66,1,6,47,95,66,48,27,76,49,38,28,84,31,90,61,12,96,1,22,7,161,143,4,25,47,3,12,1,43,224,18,19,29,13,3,75,31,20,19,2,136,20,17,2,30,10,5,2,12,40,30,63,6,24,48,88,18,10,37,174,11,38,98,5,38,5,21,14,1,19,6,23,8,12,5,29,25,20,6,22,47,197,13,26,49,2,17,16,17,40,18,2,15,6,7,8,40,9,25,74,102,15,64,9,145,97,32,17,1,59,34,62,4,16,78,48,39,12,21,16,5,22,2,2,29,26,20,16,33,11,4,5,32,4,80,30,9,32,118,20,24,60,21,58,67,59,4,58,29,182,9,24,6,17,43,8,48,7,73,23,2,22,17,38,28,13,2,19,3,111,10,24,19,16,13,22,25,19,1,7,53,56,1,26,10,18,177,5,8,4,20,47,18,12,25,40,42,28,12,122,12,21,70,63,14,21,89,3,122,54,16,65,2,11,16,35,41,14,21,30,42,101,11,4,9,25,8,14,19,7,34,20,19,4,54,26,60,19,54,15,5,22,48,20,17,68,1,21,45,25,13,44,30,61,20,16,40,13,59,6,50,41,27,22,1,53,13,13,30,5,60,26,43,31,1,30,31,33,51,11,5,25,2,59,84,21,3,2,26,18,16,1,14,29,1,6,9,23,18,35,8,44,9,39,18,8,4,9,52,29,3,59,182,1,79,27,62,71,3,141,87,2,18,44,81,57,146,87,44,16,38,1,30,85,101,19,9,2,16,7,1,50,65,104,40,85,19,112,49,66,55,1,15,103,20,19,18,5,14,47,22,30,47,19,13,2,10,70,52,1,17,28,48,63,1,45,44,30,16,97,10,62,31,8,49,31,65,123,14,2,18,196,14,83,21,46,5,5,3,70,12,16,12,72,23,33,2,1,6,12,1,32,17,13,90,6,90,5,3,42,8,6,22,18,3,16,84,117,70,20,22,69,30,19,46,7,24,34,116,13,53,15,36,38,47,9,10,115,14,21,131,16,22,25,29,16,27,20,54,2,41,37,72,28,77,3,75,54,46,117,69,48,21,10,48,61,124,10,38,86,16,76,37,37,12,82,2,52,79,131,22,15,1,25,11,53,15,1,24,28,92,22,32,17,16,12,245,239,4,137,136,17,61,36,19,58,1,12,116,79,42,7,94,17,43,13,83,27,1,19,56,3,37,27,114,2,29,12,51,7,22,78,5,43,29,5,73,77,38,17,8,8,89,11,114,13,10,40,36,45,251,31,31,11,19,6,9,11,135,60,8,2,7,39,13,49,5,51,29,43,4,65,44,65,28,110,26,59,103,27,116,192,19,56,1,42,74,15,12,1,74,8,1,9,24,23,19,53,17,41,44,11,90,15,59,18,41,68,75,19,32,8,3,5,10,52,3,25,13,10,1,80,35,18,105,12,13,51,1,154,9,33,22,26,25,113,35,77,119,12,12,17,249,29,10,28,3,111,11,75,703,37,13,15,309,17,8,35,23,52,8,11,48,96,2,16,1,8,26,8,91,16,11,91,114,69,27,54,39,31,28,92,7,1,2,22,5,4,40,10,145,92,35,91,42,81,7,88,57,12,15,13,12,43,38,37,12,28,39,1,5,8,171,62,6,5,116,19,13,5,45,1,74,14,13,41,63,1,29,3,21,25,16,21,16,24,37,81,1,28,195,320,29,122,18,8,1,10,42,17,8,50,23,15,70,15,62,33,35,35,16,10,1,78,36,23,34,30,87,25,22,22,20,12,1,52,57,22,4,17,7,40,8,1,101],\"y0\":\" \",\"yaxis\":\"y\",\"type\":\"box\"}],                        {\"template\":{\"data\":{\"bar\":[{\"error_x\":{\"color\":\"#2a3f5f\"},\"error_y\":{\"color\":\"#2a3f5f\"},\"marker\":{\"line\":{\"color\":\"#E5ECF6\",\"width\":0.5},\"pattern\":{\"fillmode\":\"overlay\",\"size\":10,\"solidity\":0.2}},\"type\":\"bar\"}],\"barpolar\":[{\"marker\":{\"line\":{\"color\":\"#E5ECF6\",\"width\":0.5},\"pattern\":{\"fillmode\":\"overlay\",\"size\":10,\"solidity\":0.2}},\"type\":\"barpolar\"}],\"carpet\":[{\"aaxis\":{\"endlinecolor\":\"#2a3f5f\",\"gridcolor\":\"white\",\"linecolor\":\"white\",\"minorgridcolor\":\"white\",\"startlinecolor\":\"#2a3f5f\"},\"baxis\":{\"endlinecolor\":\"#2a3f5f\",\"gridcolor\":\"white\",\"linecolor\":\"white\",\"minorgridcolor\":\"white\",\"startlinecolor\":\"#2a3f5f\"},\"type\":\"carpet\"}],\"choropleth\":[{\"colorbar\":{\"outlinewidth\":0,\"ticks\":\"\"},\"type\":\"choropleth\"}],\"contour\":[{\"colorbar\":{\"outlinewidth\":0,\"ticks\":\"\"},\"colorscale\":[[0.0,\"#0d0887\"],[0.1111111111111111,\"#46039f\"],[0.2222222222222222,\"#7201a8\"],[0.3333333333333333,\"#9c179e\"],[0.4444444444444444,\"#bd3786\"],[0.5555555555555556,\"#d8576b\"],[0.6666666666666666,\"#ed7953\"],[0.7777777777777778,\"#fb9f3a\"],[0.8888888888888888,\"#fdca26\"],[1.0,\"#f0f921\"]],\"type\":\"contour\"}],\"contourcarpet\":[{\"colorbar\":{\"outlinewidth\":0,\"ticks\":\"\"},\"type\":\"contourcarpet\"}],\"heatmap\":[{\"colorbar\":{\"outlinewidth\":0,\"ticks\":\"\"},\"colorscale\":[[0.0,\"#0d0887\"],[0.1111111111111111,\"#46039f\"],[0.2222222222222222,\"#7201a8\"],[0.3333333333333333,\"#9c179e\"],[0.4444444444444444,\"#bd3786\"],[0.5555555555555556,\"#d8576b\"],[0.6666666666666666,\"#ed7953\"],[0.7777777777777778,\"#fb9f3a\"],[0.8888888888888888,\"#fdca26\"],[1.0,\"#f0f921\"]],\"type\":\"heatmap\"}],\"heatmapgl\":[{\"colorbar\":{\"outlinewidth\":0,\"ticks\":\"\"},\"colorscale\":[[0.0,\"#0d0887\"],[0.1111111111111111,\"#46039f\"],[0.2222222222222222,\"#7201a8\"],[0.3333333333333333,\"#9c179e\"],[0.4444444444444444,\"#bd3786\"],[0.5555555555555556,\"#d8576b\"],[0.6666666666666666,\"#ed7953\"],[0.7777777777777778,\"#fb9f3a\"],[0.8888888888888888,\"#fdca26\"],[1.0,\"#f0f921\"]],\"type\":\"heatmapgl\"}],\"histogram\":[{\"marker\":{\"pattern\":{\"fillmode\":\"overlay\",\"size\":10,\"solidity\":0.2}},\"type\":\"histogram\"}],\"histogram2d\":[{\"colorbar\":{\"outlinewidth\":0,\"ticks\":\"\"},\"colorscale\":[[0.0,\"#0d0887\"],[0.1111111111111111,\"#46039f\"],[0.2222222222222222,\"#7201a8\"],[0.3333333333333333,\"#9c179e\"],[0.4444444444444444,\"#bd3786\"],[0.5555555555555556,\"#d8576b\"],[0.6666666666666666,\"#ed7953\"],[0.7777777777777778,\"#fb9f3a\"],[0.8888888888888888,\"#fdca26\"],[1.0,\"#f0f921\"]],\"type\":\"histogram2d\"}],\"histogram2dcontour\":[{\"colorbar\":{\"outlinewidth\":0,\"ticks\":\"\"},\"colorscale\":[[0.0,\"#0d0887\"],[0.1111111111111111,\"#46039f\"],[0.2222222222222222,\"#7201a8\"],[0.3333333333333333,\"#9c179e\"],[0.4444444444444444,\"#bd3786\"],[0.5555555555555556,\"#d8576b\"],[0.6666666666666666,\"#ed7953\"],[0.7777777777777778,\"#fb9f3a\"],[0.8888888888888888,\"#fdca26\"],[1.0,\"#f0f921\"]],\"type\":\"histogram2dcontour\"}],\"mesh3d\":[{\"colorbar\":{\"outlinewidth\":0,\"ticks\":\"\"},\"type\":\"mesh3d\"}],\"parcoords\":[{\"line\":{\"colorbar\":{\"outlinewidth\":0,\"ticks\":\"\"}},\"type\":\"parcoords\"}],\"pie\":[{\"automargin\":true,\"type\":\"pie\"}],\"scatter\":[{\"marker\":{\"colorbar\":{\"outlinewidth\":0,\"ticks\":\"\"}},\"type\":\"scatter\"}],\"scatter3d\":[{\"line\":{\"colorbar\":{\"outlinewidth\":0,\"ticks\":\"\"}},\"marker\":{\"colorbar\":{\"outlinewidth\":0,\"ticks\":\"\"}},\"type\":\"scatter3d\"}],\"scattercarpet\":[{\"marker\":{\"colorbar\":{\"outlinewidth\":0,\"ticks\":\"\"}},\"type\":\"scattercarpet\"}],\"scattergeo\":[{\"marker\":{\"colorbar\":{\"outlinewidth\":0,\"ticks\":\"\"}},\"type\":\"scattergeo\"}],\"scattergl\":[{\"marker\":{\"colorbar\":{\"outlinewidth\":0,\"ticks\":\"\"}},\"type\":\"scattergl\"}],\"scattermapbox\":[{\"marker\":{\"colorbar\":{\"outlinewidth\":0,\"ticks\":\"\"}},\"type\":\"scattermapbox\"}],\"scatterpolar\":[{\"marker\":{\"colorbar\":{\"outlinewidth\":0,\"ticks\":\"\"}},\"type\":\"scatterpolar\"}],\"scatterpolargl\":[{\"marker\":{\"colorbar\":{\"outlinewidth\":0,\"ticks\":\"\"}},\"type\":\"scatterpolargl\"}],\"scatterternary\":[{\"marker\":{\"colorbar\":{\"outlinewidth\":0,\"ticks\":\"\"}},\"type\":\"scatterternary\"}],\"surface\":[{\"colorbar\":{\"outlinewidth\":0,\"ticks\":\"\"},\"colorscale\":[[0.0,\"#0d0887\"],[0.1111111111111111,\"#46039f\"],[0.2222222222222222,\"#7201a8\"],[0.3333333333333333,\"#9c179e\"],[0.4444444444444444,\"#bd3786\"],[0.5555555555555556,\"#d8576b\"],[0.6666666666666666,\"#ed7953\"],[0.7777777777777778,\"#fb9f3a\"],[0.8888888888888888,\"#fdca26\"],[1.0,\"#f0f921\"]],\"type\":\"surface\"}],\"table\":[{\"cells\":{\"fill\":{\"color\":\"#EBF0F8\"},\"line\":{\"color\":\"white\"}},\"header\":{\"fill\":{\"color\":\"#C8D4E3\"},\"line\":{\"color\":\"white\"}},\"type\":\"table\"}]},\"layout\":{\"annotationdefaults\":{\"arrowcolor\":\"#2a3f5f\",\"arrowhead\":0,\"arrowwidth\":1},\"autotypenumbers\":\"strict\",\"coloraxis\":{\"colorbar\":{\"outlinewidth\":0,\"ticks\":\"\"}},\"colorscale\":{\"diverging\":[[0,\"#8e0152\"],[0.1,\"#c51b7d\"],[0.2,\"#de77ae\"],[0.3,\"#f1b6da\"],[0.4,\"#fde0ef\"],[0.5,\"#f7f7f7\"],[0.6,\"#e6f5d0\"],[0.7,\"#b8e186\"],[0.8,\"#7fbc41\"],[0.9,\"#4d9221\"],[1,\"#276419\"]],\"sequential\":[[0.0,\"#0d0887\"],[0.1111111111111111,\"#46039f\"],[0.2222222222222222,\"#7201a8\"],[0.3333333333333333,\"#9c179e\"],[0.4444444444444444,\"#bd3786\"],[0.5555555555555556,\"#d8576b\"],[0.6666666666666666,\"#ed7953\"],[0.7777777777777778,\"#fb9f3a\"],[0.8888888888888888,\"#fdca26\"],[1.0,\"#f0f921\"]],\"sequentialminus\":[[0.0,\"#0d0887\"],[0.1111111111111111,\"#46039f\"],[0.2222222222222222,\"#7201a8\"],[0.3333333333333333,\"#9c179e\"],[0.4444444444444444,\"#bd3786\"],[0.5555555555555556,\"#d8576b\"],[0.6666666666666666,\"#ed7953\"],[0.7777777777777778,\"#fb9f3a\"],[0.8888888888888888,\"#fdca26\"],[1.0,\"#f0f921\"]]},\"colorway\":[\"#636efa\",\"#EF553B\",\"#00cc96\",\"#ab63fa\",\"#FFA15A\",\"#19d3f3\",\"#FF6692\",\"#B6E880\",\"#FF97FF\",\"#FECB52\"],\"font\":{\"color\":\"#2a3f5f\"},\"geo\":{\"bgcolor\":\"white\",\"lakecolor\":\"white\",\"landcolor\":\"#E5ECF6\",\"showlakes\":true,\"showland\":true,\"subunitcolor\":\"white\"},\"hoverlabel\":{\"align\":\"left\"},\"hovermode\":\"closest\",\"mapbox\":{\"style\":\"light\"},\"paper_bgcolor\":\"white\",\"plot_bgcolor\":\"#E5ECF6\",\"polar\":{\"angularaxis\":{\"gridcolor\":\"white\",\"linecolor\":\"white\",\"ticks\":\"\"},\"bgcolor\":\"#E5ECF6\",\"radialaxis\":{\"gridcolor\":\"white\",\"linecolor\":\"white\",\"ticks\":\"\"}},\"scene\":{\"xaxis\":{\"backgroundcolor\":\"#E5ECF6\",\"gridcolor\":\"white\",\"gridwidth\":2,\"linecolor\":\"white\",\"showbackground\":true,\"ticks\":\"\",\"zerolinecolor\":\"white\"},\"yaxis\":{\"backgroundcolor\":\"#E5ECF6\",\"gridcolor\":\"white\",\"gridwidth\":2,\"linecolor\":\"white\",\"showbackground\":true,\"ticks\":\"\",\"zerolinecolor\":\"white\"},\"zaxis\":{\"backgroundcolor\":\"#E5ECF6\",\"gridcolor\":\"white\",\"gridwidth\":2,\"linecolor\":\"white\",\"showbackground\":true,\"ticks\":\"\",\"zerolinecolor\":\"white\"}},\"shapedefaults\":{\"line\":{\"color\":\"#2a3f5f\"}},\"ternary\":{\"aaxis\":{\"gridcolor\":\"white\",\"linecolor\":\"white\",\"ticks\":\"\"},\"baxis\":{\"gridcolor\":\"white\",\"linecolor\":\"white\",\"ticks\":\"\"},\"bgcolor\":\"#E5ECF6\",\"caxis\":{\"gridcolor\":\"white\",\"linecolor\":\"white\",\"ticks\":\"\"}},\"title\":{\"x\":0.05},\"xaxis\":{\"automargin\":true,\"gridcolor\":\"white\",\"linecolor\":\"white\",\"ticks\":\"\",\"title\":{\"standoff\":15},\"zerolinecolor\":\"white\",\"zerolinewidth\":2},\"yaxis\":{\"automargin\":true,\"gridcolor\":\"white\",\"linecolor\":\"white\",\"ticks\":\"\",\"title\":{\"standoff\":15},\"zerolinecolor\":\"white\",\"zerolinewidth\":2}}},\"xaxis\":{\"anchor\":\"y\",\"domain\":[0.0,1.0]},\"yaxis\":{\"anchor\":\"x\",\"domain\":[0.0,1.0],\"title\":{\"text\":\"Frequency\"}},\"legend\":{\"tracegroupgap\":0},\"margin\":{\"t\":60},\"boxmode\":\"group\"},                        {\"responsive\": true}                    ).then(function(){\n",
              "                            \n",
              "var gd = document.getElementById('e381ecae-51e0-42fa-9cf8-609b1e20687b');\n",
              "var x = new MutationObserver(function (mutations, observer) {{\n",
              "        var display = window.getComputedStyle(gd).display;\n",
              "        if (!display || display === 'none') {{\n",
              "            console.log([gd, 'removed!']);\n",
              "            Plotly.purge(gd);\n",
              "            observer.disconnect();\n",
              "        }}\n",
              "}});\n",
              "\n",
              "// Listen for the removal of the full notebook cells\n",
              "var notebookContainer = gd.closest('#notebook-container');\n",
              "if (notebookContainer) {{\n",
              "    x.observe(notebookContainer, {childList: true});\n",
              "}}\n",
              "\n",
              "// Listen for the clearing of the current output cell\n",
              "var outputEl = gd.closest('.output');\n",
              "if (outputEl) {{\n",
              "    x.observe(outputEl, {childList: true});\n",
              "}}\n",
              "\n",
              "                        })                };                            </script>        </div>\n",
              "</body>\n",
              "</html>"
            ]
          },
          "metadata": {}
        }
      ]
    },
    {
      "cell_type": "code",
      "source": [
        "fig=px.box(df_final,y='Price')"
      ],
      "metadata": {
        "id": "ecSx_eO1WeAv"
      },
      "execution_count": null,
      "outputs": []
    },
    {
      "cell_type": "code",
      "source": [
        "fig.show()"
      ],
      "metadata": {
        "colab": {
          "base_uri": "https://localhost:8080/",
          "height": 542
        },
        "id": "bUEOxzrqWd8f",
        "outputId": "066b02a5-7f28-4fca-c1f4-c9a9a8713737"
      },
      "execution_count": null,
      "outputs": [
        {
          "output_type": "display_data",
          "data": {
            "text/html": [
              "<html>\n",
              "<head><meta charset=\"utf-8\" /></head>\n",
              "<body>\n",
              "    <div>            <script src=\"https://cdnjs.cloudflare.com/ajax/libs/mathjax/2.7.5/MathJax.js?config=TeX-AMS-MML_SVG\"></script><script type=\"text/javascript\">if (window.MathJax) {MathJax.Hub.Config({SVG: {font: \"STIX-Web\"}});}</script>                <script type=\"text/javascript\">window.PlotlyConfig = {MathJaxConfig: 'local'};</script>\n",
              "        <script src=\"https://cdn.plot.ly/plotly-2.8.3.min.js\"></script>                <div id=\"3d7fbfcb-413e-4a22-8ccb-e1602c68489b\" class=\"plotly-graph-div\" style=\"height:525px; width:100%;\"></div>            <script type=\"text/javascript\">                                    window.PLOTLYENV=window.PLOTLYENV || {};                                    if (document.getElementById(\"3d7fbfcb-413e-4a22-8ccb-e1602c68489b\")) {                    Plotly.newPlot(                        \"3d7fbfcb-413e-4a22-8ccb-e1602c68489b\",                        [{\"alignmentgroup\":\"True\",\"hovertemplate\":\"Price=%{y}<extra></extra>\",\"legendgroup\":\"\",\"marker\":{\"color\":\"#636efa\"},\"name\":\"\",\"notched\":false,\"offsetgroup\":\"\",\"orientation\":\"v\",\"showlegend\":false,\"x0\":\" \",\"xaxis\":\"x\",\"y\":[154367.2,1009.31,4753.91,170.46,535.5,697.1,332.95,846.69,390.79,1089.01,1393.07,310.73,65.09,323.35,443.85,406.6,38.1,801.6,795.2,673.21,14.899999999999999,599.97,293.76000000000005,329.46000000000004,42.0,128.8,708.0,731.4200000000001,199.65,807.05,2752.13,58.190000000000005,392.34000000000003,117.85,1955.4,431.63,5309.28,258.75,3.75,286.95,462.95,765.55,314.59000000000003,108.07,420.33,381.4,1690.85,23.8,1715.07,2904.69,505.82,1916.2,97.5,102.89999999999999,323.65,201.75,3489.69,120.94999999999999,1290.1299999999999,280.46999999999997,50.550000000000004,377.27000000000004,1528.34,642.45,184.38,1440.0,382.5,402.36,190.55,165.86,395.1,560.47,828.48,477.61,153.78,2188.43,203.3,205.86,165.0,1240.09,576.19,2033.96,7544.96,379.44,278.1,16182.22,1970.23,185.45,7577.0199999999995,452.64000000000004,1672.1000000000001,982.85,1938.1,101.76,574.39,350.06,307.35,2794.1,14.6,499.93,204.34,1256.32,570.71,52.35,20.1,206.63,193.23,158.26,527.52,110.95,295.0,1270.07,376.74,1257.8700000000001,569.2,197.82,256.40999999999997,112.75,796.56,354.64,821.63,140.35,165.94,2034.06,1124.0,625.04,212.52,236.02,1195.69,1875.04,168.45,444.2,110.7,498.16,2470.44,510.52,304.24,91.15,224.07,1063.16,476.48,225.7,141.66,45.0,1012.57,662.1700000000001,590.0,682.96,206.23,666.89,204.45000000000002,173.91,300.42,288.9,390.71,431.43,307.3,238.05,2823.39,1110.6,947.9000000000001,1308.48,352.79999999999995,335.82,1637.19,389.5,812.7,35.400000000000006,352.81,788.4200000000001,416.11,534.57,313.76,403.62,601.77,308.28000000000003,160.05,5742.57,250.23999999999998,390.0,1579.62,827.14,401.57,639.4300000000001,870.5400000000001,359.19,185.0,734.98,4207.67,1609.5,246.35999999999999,317.12,185.39999999999998,4.25,193.15,3400.71,235.68,641.83,316.26000000000005,920.1800000000001,536.41,180.5,114.6,464.21999999999997,566.95,110.45,305.45,1131.75,166.8,164.1,91.80000000000001,313.70000000000005,1174.03,110.17999999999999,109.82000000000001,1697.69,164.70000000000002,118.0,142.4,309.06,559.85,760.66,219.52,70.02,303.15000000000003,205.75,435.39,175.89999999999998,311.19,1425.0,334.2,197.8,308.8,162.70000000000002,1035.2,64.05,1763.0800000000002,444.24,3911.7,32.0,10782.16,139.52,99.5,318.14,330.79,583.41,454.3,965.3000000000001,298.05,114.05000000000001,1479.78,158.57999999999998,1175.08,817.3199999999999,79.6,204.0,688.8000000000001,296.25,741.26,156.0,1004.4000000000001,1141.25,499.89,3839.3,631.82,8230.35,191.94,329.64,230.39999999999998,106.4,74.60000000000001,10975.09,341.7,558.32,1087.19,723.63,112.6,1140.35,442.88,102.0,408.0,109.05,230.66,907.53,411.4,935.0,246.32,2332.9,201.16,688.45,123.30000000000001,886.01,544.03,456.05,129.35,540.45,340.65,308.0,1025.34,30.599999999999998,195.45,821.1,170.75,155.93,214.4,201.12,559.27,172.25,452.65,307.4,196.29999999999998,2194.56,102.0,212.56,500.0,205.1,102.45,214.74,664.54,662.83,903.8,949.94,284.75,822.85,609.7,301.24,900.02,304.44,983.73,4060.6800000000003,628.57,301.6,111.8,914.05,170.44,1251.75,314.82,409.93,1040.1,2649.56,1543.3999999999999,1931.46,3096.39,265.85,136.24,931.57,182.25,444.36,1973.41,7544.91,76.32000000000001,929.88,818.73,1844.03,635.84,892.25,195.13,19.9,314.63,480.91,333.3,1811.91,311.81,2482.86,306.18,189.92,283.15,177.68,148.35,382.18,579.8000000000001,1909.47,197.65,398.0,1169.24,516.95,67.24000000000001,238.2,19.9,347.95,977.3900000000001,147.8,1192.2,933.9100000000001,395.75,312.98,312.95,244.3,858.73,308.95,630.95,189.3,161.0,146.85,159.60000000000002,138.35,1139.8,302.58,523.86,620.14,4286.18,14.5,492.65000000000003,341.2,571.0,322.24,784.76,12.15,508.02000000000004,11.5,11823.9,2604.19,186.35000000000002,1270.56,621.24,436.37,487.19,326.82,1575.48,672.57,351.53000000000003,355.65000000000003,262.44,174.4,155.0,100.5,76.55,110.98,142.4,326.25,12.54,229.65,689.36,110.35000000000001,552.12,430.68,817.3000000000001,137.65,1063.0,121.05,217.2,1611.61,124.1,725.42,203.55,517.46,63.0,131.9,1185.71,96.1,627.72,102.35000000000001,210.24,161.03,113.64,81.0,466.59,597.3,703.25,131.7,297.64,546.27,328.1,165.0,174.4,302.86,137.85,127.2,538.8100000000001,493.27,166.22,66.93,454.1,1367.1000000000001,257.0,18.75,255.25,165.0,275.45,726.95,2200.72,662.86,405.40000000000003,433.5,774.48,195.9,763.35,946.25,1101.77,326.4,289.24,201.94,186.34,679.67,434.7,1167.41,345.98,402.0,35.400000000000006,346.90000000000003,511.12,39.75,255.0,163.8,393.33000000000004,3847.68,204.0,144.0,237.60000000000002,226.65,305.7,623.1800000000001,21.85,309.5,1246.08,383.14000000000004,187.50000000000003,344.81,416.08,828.47,96.95,749.46,2590.3,837.5,285.28000000000003,373.49,1.25,2.55,8419.1,168.36,1510.46,390.35,589.5,665.07,1024.2,448.76,731.95,648.09,247.45,455.65,313.49,203.1,7037.94,1056.75,434.0,204.77,943.44,495.3,936.53,574.38,228.26999999999998,994.48,124.60000000000001,97.5,230.7,881.14,278.6,406.56,558.36,14.5,334.05,348.15,200.10000000000002,114.68,179.1,2099.18,75.68,1753.6399999999999,542.15,109.25,461.09,152.88,48.800000000000004,631.87,582.0,438.23,991.95,605.0,1430.98,373.35,37.2,103.67999999999999,309.69,120.95,433.89000000000004,129.2,135.9,2391.9900000000002,257.22,175.5,499.25,503.35,961.94,300.87,295.05,793.89,1761.88,178.66,2119.68,337.5,155.95,1132.4,119.77,163.2,1147.5900000000001,855.69,188.56,111.25,214.09,984.35,680.59,185.97,2770.6,556.55,1403.85,118.88,5298.09,3196.1,1078.34,98.7,207.73000000000002,1131.0,470.57,376.86,22774.53,209.08,773.66,106.2,1854.18,511.19,111.15,381.32,2782.36,1116.8999999999999,109.78,391.34,169.65,288.5,259.05,295.15,408.94,355.40000000000003,333.2,122.10000000000001,378.32,847.72,1115.7,2698.12,158.16,168.44,487.75,158.8,1544.5,135.75,1302.12,87.5,9.2,1393.53,315.0,2268.91,975.9000000000001,353.09999999999997,211.94,316.58,65.4,383.07,331.65,29.849999999999998,581.66,692.4,585.0,333.68,154.41,318.23,904.85,1313.04,321.05,333.9,186.0,420.5,178.95000000000002,119.3,1054.9,364.84999999999997,303.61,1053.07,165.65,854.48,1414.43,1199.33,873.08,1900.92,673.37,574.02,123.15,13007.34,293.49,165.0,1159.47,311.71,17.7,257.9,252.42000000000002,201.60000000000002,115.65,288.06,311.65,590.21,2507.7,418.92,326.0,208.61,105.54,754.22,1102.8,2753.4900000000002,230.10000000000002,1019.42,310.22,358.78,587.66,107.45,94.0,252.29,165.0,559.61,295.06,97.7,387.52,437.71,155.17,494.64,179.1,231.22,214.26,1044.65,2609.2599999999998,1.25,548.44,1268.13,973.1,3785.64,1314.8,141.04,250.0,101.2,2566.9,2940.98,633.6,274.93,580.3,570.89,353.8,335.54,127.86,1199.1200000000001,135.32999999999998,1006.04,967.8000000000001,137.89999999999998,994.9200000000001,134.55,270.19,288.5,1708.04,563.54,29.65,195.35,323.86,344.88,184.95,30.19,780.42,3797.4,606.24,377.6,914.87,104.76,104.25,2435.1,424.49,281.88,319.18,94.0,4301.08,308.37,189.8,816.0,620.35,209.3,309.8,27.799999999999997,173.05,880.26,478.89,1042.5,103.5,1300.92,777.51,929.13,299.8,181.1,529.4,859.05,324.05,190.7,2071.7,138.1,967.37,22998.4,354.77,259.65000000000003,79.2,314.68,185.04,10189.08,778.65,177.15,83.35,928.58,351.3,346.87,1510.2,320.21999999999997,924.5600000000001,3661.4700000000003,198.8,377.32,897.33,244.8,206.98,440.2,870.76,614.84,363.94,23.849999999999998,301.11,1515.8,331.6,118.95000000000002,1232.58,180.68,747.3000000000001,4389.91,816.22,102.66,354.23,256.32,1068.8700000000001,359.03,564.54,392.32000000000005,15.0,272.07,151.44,516.64,56.25,161.28,310.9,593.36,214.07999999999998,375.40000000000003,127.08,317.73,74.9,1376.8500000000001,39.8,181.0,428.82000000000005,428.99,572.38,156.19,161.9,314.1,762.0,504.92,769.24,270.0,1138.37,335.54,113.48,263.25,863.39,1181.0,110.1,745.69,8862.2,253.63,371.52,1953.5,403.02,19542.27,331.24,1273.55,153.6,603.46,74.85,307.85,664.45,256.44,259.5,247.56,367.14,584.3199999999999,150.45,157.6,337.98,436.18,181.35,278.45,24.7,852.4,314.99999999999994,404.0,136.14,138.83,249.84,310.85,289.35,891.35,645.66,297.93,7.95,124.14,1217.95,992.22,76.32000000000001,453.46999999999997,215.01,303.84000000000003,1416.34,441.6,403.5,825.0,307.68,2082.23,365.27,174.45,161.3,497.59,8876.94,471.3,166.74,773.5500000000001,441.05,353.36,436.38,1056.63,226.14,295.09,893.21,31.65,2453.04,1141.24,133.22,351.75,12.9,168.3,378.75,827.1800000000001,624.47,226.37,338.82,570.76,425.18,1158.22,122.3,2508.48,53.5,392.7,153.9,1295.2,313.45,368.46,167.09,287.05,147.20000000000002,94.36,522.25,312.40999999999997,450.56,665.8,205.65,193.95,167.25,338.24,271.56,128.55,252.66,6347.92,51.0,302.7,334.6,393.5,211.0,147.06,531.98,1236.49,393.7,109.12,221.29,217.81,961.71,127.80000000000001,826.53,736.7,512.38,411.8,165.0,852.29,363.7,248.1,319.86,103.7,325.76,743.9,2734.79,484.83,1910.4,747.25,1670.23,119.49000000000001,563.71,311.07,95.29,1949.69,6.8,950.99,1477.06,332.18,173.7,94.89999999999999,557.5600000000001,495.21000000000004,292.63,30.599999999999998,233.45,455.28000000000003,69.6,120.65,125.86,1181.73,280.05,728.16,164.8,741.89,227.4,812.25,1441.47,123.24,282.59999999999997,135.39999999999998,784.41,464.82,129.75,9964.62,707.26,8.5,1278.3,1248.77,3631.0,519.9200000000001,598.8000000000001,1648.8700000000001,1364.06,1315.8000000000002,336.35,606.0500000000001,769.01,1115.33,764.22,585.76,256.32,227.34,607.21,3.75,430.28000000000003,739.27,1245.34,609.8,207.5,2002.4,316.06,106.83000000000001,34.0,1866.02,552.95,947.42,577.1,2085.8,327.85,927.29,246.98,414.88,214.77,33.9,479.35,2120.11,325.45,409.8,309.48,81.75,392.12,2930.13,317.38,520.5699999999999,1999.46,332.41,405.49,22.110000000000003,165.70000000000002,2187.39,846.9399999999999,9.9,128.03,177.95,523.05,217.26,15.95,145.93,366.53000000000003,176.43,170.55,632.4100000000001,254.39999999999998,409.75,737.84,113.44,196.43,275.78,540.01,1570.26,230.25,218.1,394.85,882.19,267.6,757.68,451.03,780.64,69.6,74.42,172.0,1053.79,346.79999999999995,379.98,357.09999999999997,681.86,358.75,1276.06,12.45,1.25,136.39000000000001,702.0,90.0,772.89,513.06,219.62,2908.7599999999998,405.0,629.91,160.97,33.15,187.6,307.8,141.79999999999998,304.71,320.3,35.1,265.91,660.94,722.36,537.23,319.37,143.95,855.15,596.7,317.35,562.6,151.5,636.94,996.02,981.75,462.0,913.1,333.8,762.0699999999999,319.4,268.54,116.19999999999999,157.02,511.62,157.09,500.55,2639.38,298.25,444.45,413.79,424.41,224.91,519.08,243.0,246.89,155.52,1623.09,226.57000000000002,510.11,252.62,521.66,67.7,779.71,970.8000000000001,453.1,770.63,637.5,416.89,393.49,142.25,479.38,3606.75,715.58,341.9,445.37,508.64,385.05,1522.55,269.83,108.26,127.89999999999999,367.95,268.86,717.02,723.9,716.11,222.7,290.52,550.8000000000001,469.35,182.85,250.04,1691.68,152.64000000000001,556.46,569.15,1133.34,450.92,141.69,702.23,243.36,307.44,1024.78,2638.6,60.0,4627.51,416.61,193.64,337.96,160.15,178.22,360.81,45.0,150.0,949.84,742.66,1257.1499999999999,92.14,528.9300000000001,145.25,286.37,105.85,1308.83,7179.46,381.6,1227.24,417.27,397.5,424.17,571.87,2456.12,30.0,589.12,167.39000000000001,1037.47,130.85,376.6,3144.02,112.6,403.3,457.83,68.10000000000001,684.26,21781.12,298.1,249.86,717.0600000000001,203.8,691.46,178.4,438.27,632.9200000000001,271.05,622.88,787.43,340.56,18544.83,656.1600000000001,231.48,153.94,340.25,145.0,422.70000000000005,887.8,645.33,620.75,268.8,11.8,141.48,290.34,298.52,195.45,162.1,942.8,344.14,282.7,70.80000000000001,609.77,168.02,1276.83,417.81,856.36,662.9,390.97,767.0500000000001,136.24,539.55,1053.17,311.41,897.51,326.4,278.98,214.37,901.78,268.65,67.5,785.65,101.55,9.95,251.0,1057.2,474.95,371.39,928.05,394.18,1177.8400000000001,402.41999999999996,300.66,3722.34,300.7,2728.5,391.5,1186.22,1592.61,1570.65,290.40000000000003,453.96,180.55,9.85,88.15,136.3,888.85,83.7,106.85,220.53000000000003,153.0,102.0,1786.98,693.29,303.97,1896.02,682.59,302.57,1039.72,80.64,1139.95,172.54,370.41,115.8,219.98999999999998,103.35,1668.52,516.35,614.1,1040.56,136.05,100.2,1861.7,2618.67,193.29999999999998,16.21,1879.9199999999998,16.95,1270.96,188.5,1655.0,5268.28,205.48,213.91,345.1,5478.9400000000005,208.97,2127.54,2093.0,141.92000000000002,226.45000000000002,241.85999999999999,330.9,890.6999999999999,2408.0,38.25,214.32,326.4,204.95,458.92,133.35000000000002,590.54,112.08,99.35,586.89,608.6,436.17,392.9,232.03,325.46,218.05,107.16,834.81,547.9000000000001,244.08,196.20000000000002,2693.88,1045.44,2178.0,273.25,427.20000000000005,743.56,610.43,261.76,740.1,112.27,265.1,125.2,1378.78,321.79,300.91999999999996,295.2,64.99000000000001,316.0,305.3,190.34,157.92,130.81,102.78999999999999,318.85,165.0,73.5,39.55,1530.43,287.91,74.25,74.4,2426.08,363.65,817.33,169.8,762.8000000000001,101.69999999999999,292.06,258.95,489.6,643.45,711.46,2.95,689.95,3243.72,3111.84,1140.6200000000001,504.72,580.0500000000001,657.1800000000001,38370.090000000004,421.9,1236.3700000000001,76.32000000000001,220.1,823.32,1300.05,180.7,722.62,288.99,152.65,35.400000000000006,660.05,609.01,312.55,113.93,186.88,530.15,301.53,659.29,240.45000000000002,1989.6299999999999,504.05,633.95,622.9,426.6,181.41,20.85,450.78,907.32,485.73,216.07,484.37,1714.23,500.62,421.55,1372.9,545.82,308.1,440.0,918.52,864.41,355.62,50.1,378.8,376.30000000000007,806.0200000000001,198.3,12.75,213.75],\"y0\":\" \",\"yaxis\":\"y\",\"type\":\"box\"}],                        {\"template\":{\"data\":{\"bar\":[{\"error_x\":{\"color\":\"#2a3f5f\"},\"error_y\":{\"color\":\"#2a3f5f\"},\"marker\":{\"line\":{\"color\":\"#E5ECF6\",\"width\":0.5},\"pattern\":{\"fillmode\":\"overlay\",\"size\":10,\"solidity\":0.2}},\"type\":\"bar\"}],\"barpolar\":[{\"marker\":{\"line\":{\"color\":\"#E5ECF6\",\"width\":0.5},\"pattern\":{\"fillmode\":\"overlay\",\"size\":10,\"solidity\":0.2}},\"type\":\"barpolar\"}],\"carpet\":[{\"aaxis\":{\"endlinecolor\":\"#2a3f5f\",\"gridcolor\":\"white\",\"linecolor\":\"white\",\"minorgridcolor\":\"white\",\"startlinecolor\":\"#2a3f5f\"},\"baxis\":{\"endlinecolor\":\"#2a3f5f\",\"gridcolor\":\"white\",\"linecolor\":\"white\",\"minorgridcolor\":\"white\",\"startlinecolor\":\"#2a3f5f\"},\"type\":\"carpet\"}],\"choropleth\":[{\"colorbar\":{\"outlinewidth\":0,\"ticks\":\"\"},\"type\":\"choropleth\"}],\"contour\":[{\"colorbar\":{\"outlinewidth\":0,\"ticks\":\"\"},\"colorscale\":[[0.0,\"#0d0887\"],[0.1111111111111111,\"#46039f\"],[0.2222222222222222,\"#7201a8\"],[0.3333333333333333,\"#9c179e\"],[0.4444444444444444,\"#bd3786\"],[0.5555555555555556,\"#d8576b\"],[0.6666666666666666,\"#ed7953\"],[0.7777777777777778,\"#fb9f3a\"],[0.8888888888888888,\"#fdca26\"],[1.0,\"#f0f921\"]],\"type\":\"contour\"}],\"contourcarpet\":[{\"colorbar\":{\"outlinewidth\":0,\"ticks\":\"\"},\"type\":\"contourcarpet\"}],\"heatmap\":[{\"colorbar\":{\"outlinewidth\":0,\"ticks\":\"\"},\"colorscale\":[[0.0,\"#0d0887\"],[0.1111111111111111,\"#46039f\"],[0.2222222222222222,\"#7201a8\"],[0.3333333333333333,\"#9c179e\"],[0.4444444444444444,\"#bd3786\"],[0.5555555555555556,\"#d8576b\"],[0.6666666666666666,\"#ed7953\"],[0.7777777777777778,\"#fb9f3a\"],[0.8888888888888888,\"#fdca26\"],[1.0,\"#f0f921\"]],\"type\":\"heatmap\"}],\"heatmapgl\":[{\"colorbar\":{\"outlinewidth\":0,\"ticks\":\"\"},\"colorscale\":[[0.0,\"#0d0887\"],[0.1111111111111111,\"#46039f\"],[0.2222222222222222,\"#7201a8\"],[0.3333333333333333,\"#9c179e\"],[0.4444444444444444,\"#bd3786\"],[0.5555555555555556,\"#d8576b\"],[0.6666666666666666,\"#ed7953\"],[0.7777777777777778,\"#fb9f3a\"],[0.8888888888888888,\"#fdca26\"],[1.0,\"#f0f921\"]],\"type\":\"heatmapgl\"}],\"histogram\":[{\"marker\":{\"pattern\":{\"fillmode\":\"overlay\",\"size\":10,\"solidity\":0.2}},\"type\":\"histogram\"}],\"histogram2d\":[{\"colorbar\":{\"outlinewidth\":0,\"ticks\":\"\"},\"colorscale\":[[0.0,\"#0d0887\"],[0.1111111111111111,\"#46039f\"],[0.2222222222222222,\"#7201a8\"],[0.3333333333333333,\"#9c179e\"],[0.4444444444444444,\"#bd3786\"],[0.5555555555555556,\"#d8576b\"],[0.6666666666666666,\"#ed7953\"],[0.7777777777777778,\"#fb9f3a\"],[0.8888888888888888,\"#fdca26\"],[1.0,\"#f0f921\"]],\"type\":\"histogram2d\"}],\"histogram2dcontour\":[{\"colorbar\":{\"outlinewidth\":0,\"ticks\":\"\"},\"colorscale\":[[0.0,\"#0d0887\"],[0.1111111111111111,\"#46039f\"],[0.2222222222222222,\"#7201a8\"],[0.3333333333333333,\"#9c179e\"],[0.4444444444444444,\"#bd3786\"],[0.5555555555555556,\"#d8576b\"],[0.6666666666666666,\"#ed7953\"],[0.7777777777777778,\"#fb9f3a\"],[0.8888888888888888,\"#fdca26\"],[1.0,\"#f0f921\"]],\"type\":\"histogram2dcontour\"}],\"mesh3d\":[{\"colorbar\":{\"outlinewidth\":0,\"ticks\":\"\"},\"type\":\"mesh3d\"}],\"parcoords\":[{\"line\":{\"colorbar\":{\"outlinewidth\":0,\"ticks\":\"\"}},\"type\":\"parcoords\"}],\"pie\":[{\"automargin\":true,\"type\":\"pie\"}],\"scatter\":[{\"marker\":{\"colorbar\":{\"outlinewidth\":0,\"ticks\":\"\"}},\"type\":\"scatter\"}],\"scatter3d\":[{\"line\":{\"colorbar\":{\"outlinewidth\":0,\"ticks\":\"\"}},\"marker\":{\"colorbar\":{\"outlinewidth\":0,\"ticks\":\"\"}},\"type\":\"scatter3d\"}],\"scattercarpet\":[{\"marker\":{\"colorbar\":{\"outlinewidth\":0,\"ticks\":\"\"}},\"type\":\"scattercarpet\"}],\"scattergeo\":[{\"marker\":{\"colorbar\":{\"outlinewidth\":0,\"ticks\":\"\"}},\"type\":\"scattergeo\"}],\"scattergl\":[{\"marker\":{\"colorbar\":{\"outlinewidth\":0,\"ticks\":\"\"}},\"type\":\"scattergl\"}],\"scattermapbox\":[{\"marker\":{\"colorbar\":{\"outlinewidth\":0,\"ticks\":\"\"}},\"type\":\"scattermapbox\"}],\"scatterpolar\":[{\"marker\":{\"colorbar\":{\"outlinewidth\":0,\"ticks\":\"\"}},\"type\":\"scatterpolar\"}],\"scatterpolargl\":[{\"marker\":{\"colorbar\":{\"outlinewidth\":0,\"ticks\":\"\"}},\"type\":\"scatterpolargl\"}],\"scatterternary\":[{\"marker\":{\"colorbar\":{\"outlinewidth\":0,\"ticks\":\"\"}},\"type\":\"scatterternary\"}],\"surface\":[{\"colorbar\":{\"outlinewidth\":0,\"ticks\":\"\"},\"colorscale\":[[0.0,\"#0d0887\"],[0.1111111111111111,\"#46039f\"],[0.2222222222222222,\"#7201a8\"],[0.3333333333333333,\"#9c179e\"],[0.4444444444444444,\"#bd3786\"],[0.5555555555555556,\"#d8576b\"],[0.6666666666666666,\"#ed7953\"],[0.7777777777777778,\"#fb9f3a\"],[0.8888888888888888,\"#fdca26\"],[1.0,\"#f0f921\"]],\"type\":\"surface\"}],\"table\":[{\"cells\":{\"fill\":{\"color\":\"#EBF0F8\"},\"line\":{\"color\":\"white\"}},\"header\":{\"fill\":{\"color\":\"#C8D4E3\"},\"line\":{\"color\":\"white\"}},\"type\":\"table\"}]},\"layout\":{\"annotationdefaults\":{\"arrowcolor\":\"#2a3f5f\",\"arrowhead\":0,\"arrowwidth\":1},\"autotypenumbers\":\"strict\",\"coloraxis\":{\"colorbar\":{\"outlinewidth\":0,\"ticks\":\"\"}},\"colorscale\":{\"diverging\":[[0,\"#8e0152\"],[0.1,\"#c51b7d\"],[0.2,\"#de77ae\"],[0.3,\"#f1b6da\"],[0.4,\"#fde0ef\"],[0.5,\"#f7f7f7\"],[0.6,\"#e6f5d0\"],[0.7,\"#b8e186\"],[0.8,\"#7fbc41\"],[0.9,\"#4d9221\"],[1,\"#276419\"]],\"sequential\":[[0.0,\"#0d0887\"],[0.1111111111111111,\"#46039f\"],[0.2222222222222222,\"#7201a8\"],[0.3333333333333333,\"#9c179e\"],[0.4444444444444444,\"#bd3786\"],[0.5555555555555556,\"#d8576b\"],[0.6666666666666666,\"#ed7953\"],[0.7777777777777778,\"#fb9f3a\"],[0.8888888888888888,\"#fdca26\"],[1.0,\"#f0f921\"]],\"sequentialminus\":[[0.0,\"#0d0887\"],[0.1111111111111111,\"#46039f\"],[0.2222222222222222,\"#7201a8\"],[0.3333333333333333,\"#9c179e\"],[0.4444444444444444,\"#bd3786\"],[0.5555555555555556,\"#d8576b\"],[0.6666666666666666,\"#ed7953\"],[0.7777777777777778,\"#fb9f3a\"],[0.8888888888888888,\"#fdca26\"],[1.0,\"#f0f921\"]]},\"colorway\":[\"#636efa\",\"#EF553B\",\"#00cc96\",\"#ab63fa\",\"#FFA15A\",\"#19d3f3\",\"#FF6692\",\"#B6E880\",\"#FF97FF\",\"#FECB52\"],\"font\":{\"color\":\"#2a3f5f\"},\"geo\":{\"bgcolor\":\"white\",\"lakecolor\":\"white\",\"landcolor\":\"#E5ECF6\",\"showlakes\":true,\"showland\":true,\"subunitcolor\":\"white\"},\"hoverlabel\":{\"align\":\"left\"},\"hovermode\":\"closest\",\"mapbox\":{\"style\":\"light\"},\"paper_bgcolor\":\"white\",\"plot_bgcolor\":\"#E5ECF6\",\"polar\":{\"angularaxis\":{\"gridcolor\":\"white\",\"linecolor\":\"white\",\"ticks\":\"\"},\"bgcolor\":\"#E5ECF6\",\"radialaxis\":{\"gridcolor\":\"white\",\"linecolor\":\"white\",\"ticks\":\"\"}},\"scene\":{\"xaxis\":{\"backgroundcolor\":\"#E5ECF6\",\"gridcolor\":\"white\",\"gridwidth\":2,\"linecolor\":\"white\",\"showbackground\":true,\"ticks\":\"\",\"zerolinecolor\":\"white\"},\"yaxis\":{\"backgroundcolor\":\"#E5ECF6\",\"gridcolor\":\"white\",\"gridwidth\":2,\"linecolor\":\"white\",\"showbackground\":true,\"ticks\":\"\",\"zerolinecolor\":\"white\"},\"zaxis\":{\"backgroundcolor\":\"#E5ECF6\",\"gridcolor\":\"white\",\"gridwidth\":2,\"linecolor\":\"white\",\"showbackground\":true,\"ticks\":\"\",\"zerolinecolor\":\"white\"}},\"shapedefaults\":{\"line\":{\"color\":\"#2a3f5f\"}},\"ternary\":{\"aaxis\":{\"gridcolor\":\"white\",\"linecolor\":\"white\",\"ticks\":\"\"},\"baxis\":{\"gridcolor\":\"white\",\"linecolor\":\"white\",\"ticks\":\"\"},\"bgcolor\":\"#E5ECF6\",\"caxis\":{\"gridcolor\":\"white\",\"linecolor\":\"white\",\"ticks\":\"\"}},\"title\":{\"x\":0.05},\"xaxis\":{\"automargin\":true,\"gridcolor\":\"white\",\"linecolor\":\"white\",\"ticks\":\"\",\"title\":{\"standoff\":15},\"zerolinecolor\":\"white\",\"zerolinewidth\":2},\"yaxis\":{\"automargin\":true,\"gridcolor\":\"white\",\"linecolor\":\"white\",\"ticks\":\"\",\"title\":{\"standoff\":15},\"zerolinecolor\":\"white\",\"zerolinewidth\":2}}},\"xaxis\":{\"anchor\":\"y\",\"domain\":[0.0,1.0]},\"yaxis\":{\"anchor\":\"x\",\"domain\":[0.0,1.0],\"title\":{\"text\":\"Price\"}},\"legend\":{\"tracegroupgap\":0},\"margin\":{\"t\":60},\"boxmode\":\"group\"},                        {\"responsive\": true}                    ).then(function(){\n",
              "                            \n",
              "var gd = document.getElementById('3d7fbfcb-413e-4a22-8ccb-e1602c68489b');\n",
              "var x = new MutationObserver(function (mutations, observer) {{\n",
              "        var display = window.getComputedStyle(gd).display;\n",
              "        if (!display || display === 'none') {{\n",
              "            console.log([gd, 'removed!']);\n",
              "            Plotly.purge(gd);\n",
              "            observer.disconnect();\n",
              "        }}\n",
              "}});\n",
              "\n",
              "// Listen for the removal of the full notebook cells\n",
              "var notebookContainer = gd.closest('#notebook-container');\n",
              "if (notebookContainer) {{\n",
              "    x.observe(notebookContainer, {childList: true});\n",
              "}}\n",
              "\n",
              "// Listen for the clearing of the current output cell\n",
              "var outputEl = gd.closest('.output');\n",
              "if (outputEl) {{\n",
              "    x.observe(outputEl, {childList: true});\n",
              "}}\n",
              "\n",
              "                        })                };                            </script>        </div>\n",
              "</body>\n",
              "</html>"
            ]
          },
          "metadata": {}
        }
      ]
    },
    {
      "cell_type": "markdown",
      "source": [
        "manually removing the data of thecustomer where the price is max"
      ],
      "metadata": {
        "id": "3M0_zA7fZpj4"
      }
    },
    {
      "cell_type": "code",
      "source": [
        "df_final['Price'].max()"
      ],
      "metadata": {
        "colab": {
          "base_uri": "https://localhost:8080/"
        },
        "id": "9BV6fGnKZul0",
        "outputId": "f83e26b0-d9e8-42cc-90c9-864d53047de0"
      },
      "execution_count": null,
      "outputs": [
        {
          "output_type": "execute_result",
          "data": {
            "text/plain": [
              "154367.2"
            ]
          },
          "metadata": {},
          "execution_count": 75
        }
      ]
    },
    {
      "cell_type": "code",
      "source": [
        "df_final=df_final[df_final['Price']<(df_final['Price'].max())]"
      ],
      "metadata": {
        "id": "ttPuP1t1aFP0"
      },
      "execution_count": null,
      "outputs": []
    },
    {
      "cell_type": "code",
      "source": [
        "fig=px.box(df_final,y='Price')\n",
        "fig.show()"
      ],
      "metadata": {
        "colab": {
          "base_uri": "https://localhost:8080/",
          "height": 542
        },
        "id": "z7nLYCBxaau6",
        "outputId": "3b973ec4-02d1-48c9-a101-e1c2ee708a03"
      },
      "execution_count": null,
      "outputs": [
        {
          "output_type": "display_data",
          "data": {
            "text/html": [
              "<html>\n",
              "<head><meta charset=\"utf-8\" /></head>\n",
              "<body>\n",
              "    <div>            <script src=\"https://cdnjs.cloudflare.com/ajax/libs/mathjax/2.7.5/MathJax.js?config=TeX-AMS-MML_SVG\"></script><script type=\"text/javascript\">if (window.MathJax) {MathJax.Hub.Config({SVG: {font: \"STIX-Web\"}});}</script>                <script type=\"text/javascript\">window.PlotlyConfig = {MathJaxConfig: 'local'};</script>\n",
              "        <script src=\"https://cdn.plot.ly/plotly-2.8.3.min.js\"></script>                <div id=\"ff24983f-8954-455e-a8be-5a9f264ea8c1\" class=\"plotly-graph-div\" style=\"height:525px; width:100%;\"></div>            <script type=\"text/javascript\">                                    window.PLOTLYENV=window.PLOTLYENV || {};                                    if (document.getElementById(\"ff24983f-8954-455e-a8be-5a9f264ea8c1\")) {                    Plotly.newPlot(                        \"ff24983f-8954-455e-a8be-5a9f264ea8c1\",                        [{\"alignmentgroup\":\"True\",\"hovertemplate\":\"Price=%{y}<extra></extra>\",\"legendgroup\":\"\",\"marker\":{\"color\":\"#636efa\"},\"name\":\"\",\"notched\":false,\"offsetgroup\":\"\",\"orientation\":\"v\",\"showlegend\":false,\"x0\":\" \",\"xaxis\":\"x\",\"y\":[1009.31,4753.91,170.46,535.5,697.1,332.95,846.69,390.79,1089.01,1393.07,310.73,65.09,323.35,443.85,406.6,38.1,801.6,795.2,673.21,14.899999999999999,599.97,293.76000000000005,329.46000000000004,42.0,128.8,708.0,731.4200000000001,199.65,807.05,2752.13,58.190000000000005,392.34000000000003,117.85,1955.4,431.63,5309.28,258.75,3.75,286.95,462.95,765.55,314.59000000000003,108.07,420.33,381.4,1690.85,23.8,1715.07,2904.69,505.82,1916.2,97.5,102.89999999999999,323.65,201.75,3489.69,120.94999999999999,1290.1299999999999,280.46999999999997,50.550000000000004,377.27000000000004,1528.34,642.45,184.38,1440.0,382.5,402.36,190.55,165.86,395.1,560.47,828.48,477.61,153.78,2188.43,203.3,205.86,165.0,1240.09,576.19,2033.96,7544.96,379.44,278.1,16182.22,1970.23,185.45,7577.0199999999995,452.64000000000004,1672.1000000000001,982.85,1938.1,101.76,574.39,350.06,307.35,2794.1,14.6,499.93,204.34,1256.32,570.71,52.35,20.1,206.63,193.23,158.26,527.52,110.95,295.0,1270.07,376.74,1257.8700000000001,569.2,197.82,256.40999999999997,112.75,796.56,354.64,821.63,140.35,165.94,2034.06,1124.0,625.04,212.52,236.02,1195.69,1875.04,168.45,444.2,110.7,498.16,2470.44,510.52,304.24,91.15,224.07,1063.16,476.48,225.7,141.66,45.0,1012.57,662.1700000000001,590.0,682.96,206.23,666.89,204.45000000000002,173.91,300.42,288.9,390.71,431.43,307.3,238.05,2823.39,1110.6,947.9000000000001,1308.48,352.79999999999995,335.82,1637.19,389.5,812.7,35.400000000000006,352.81,788.4200000000001,416.11,534.57,313.76,403.62,601.77,308.28000000000003,160.05,5742.57,250.23999999999998,390.0,1579.62,827.14,401.57,639.4300000000001,870.5400000000001,359.19,185.0,734.98,4207.67,1609.5,246.35999999999999,317.12,185.39999999999998,4.25,193.15,3400.71,235.68,641.83,316.26000000000005,920.1800000000001,536.41,180.5,114.6,464.21999999999997,566.95,110.45,305.45,1131.75,166.8,164.1,91.80000000000001,313.70000000000005,1174.03,110.17999999999999,109.82000000000001,1697.69,164.70000000000002,118.0,142.4,309.06,559.85,760.66,219.52,70.02,303.15000000000003,205.75,435.39,175.89999999999998,311.19,1425.0,334.2,197.8,308.8,162.70000000000002,1035.2,64.05,1763.0800000000002,444.24,3911.7,32.0,10782.16,139.52,99.5,318.14,330.79,583.41,454.3,965.3000000000001,298.05,114.05000000000001,1479.78,158.57999999999998,1175.08,817.3199999999999,79.6,204.0,688.8000000000001,296.25,741.26,156.0,1004.4000000000001,1141.25,499.89,3839.3,631.82,8230.35,191.94,329.64,230.39999999999998,106.4,74.60000000000001,10975.09,341.7,558.32,1087.19,723.63,112.6,1140.35,442.88,102.0,408.0,109.05,230.66,907.53,411.4,935.0,246.32,2332.9,201.16,688.45,123.30000000000001,886.01,544.03,456.05,129.35,540.45,340.65,308.0,1025.34,30.599999999999998,195.45,821.1,170.75,155.93,214.4,201.12,559.27,172.25,452.65,307.4,196.29999999999998,2194.56,102.0,212.56,500.0,205.1,102.45,214.74,664.54,662.83,903.8,949.94,284.75,822.85,609.7,301.24,900.02,304.44,983.73,4060.6800000000003,628.57,301.6,111.8,914.05,170.44,1251.75,314.82,409.93,1040.1,2649.56,1543.3999999999999,1931.46,3096.39,265.85,136.24,931.57,182.25,444.36,1973.41,7544.91,76.32000000000001,929.88,818.73,1844.03,635.84,892.25,195.13,19.9,314.63,480.91,333.3,1811.91,311.81,2482.86,306.18,189.92,283.15,177.68,148.35,382.18,579.8000000000001,1909.47,197.65,398.0,1169.24,516.95,67.24000000000001,238.2,19.9,347.95,977.3900000000001,147.8,1192.2,933.9100000000001,395.75,312.98,312.95,244.3,858.73,308.95,630.95,189.3,161.0,146.85,159.60000000000002,138.35,1139.8,302.58,523.86,620.14,4286.18,14.5,492.65000000000003,341.2,571.0,322.24,784.76,12.15,508.02000000000004,11.5,11823.9,2604.19,186.35000000000002,1270.56,621.24,436.37,487.19,326.82,1575.48,672.57,351.53000000000003,355.65000000000003,262.44,174.4,155.0,100.5,76.55,110.98,142.4,326.25,12.54,229.65,689.36,110.35000000000001,552.12,430.68,817.3000000000001,137.65,1063.0,121.05,217.2,1611.61,124.1,725.42,203.55,517.46,63.0,131.9,1185.71,96.1,627.72,102.35000000000001,210.24,161.03,113.64,81.0,466.59,597.3,703.25,131.7,297.64,546.27,328.1,165.0,174.4,302.86,137.85,127.2,538.8100000000001,493.27,166.22,66.93,454.1,1367.1000000000001,257.0,18.75,255.25,165.0,275.45,726.95,2200.72,662.86,405.40000000000003,433.5,774.48,195.9,763.35,946.25,1101.77,326.4,289.24,201.94,186.34,679.67,434.7,1167.41,345.98,402.0,35.400000000000006,346.90000000000003,511.12,39.75,255.0,163.8,393.33000000000004,3847.68,204.0,144.0,237.60000000000002,226.65,305.7,623.1800000000001,21.85,309.5,1246.08,383.14000000000004,187.50000000000003,344.81,416.08,828.47,96.95,749.46,2590.3,837.5,285.28000000000003,373.49,1.25,2.55,8419.1,168.36,1510.46,390.35,589.5,665.07,1024.2,448.76,731.95,648.09,247.45,455.65,313.49,203.1,7037.94,1056.75,434.0,204.77,943.44,495.3,936.53,574.38,228.26999999999998,994.48,124.60000000000001,97.5,230.7,881.14,278.6,406.56,558.36,14.5,334.05,348.15,200.10000000000002,114.68,179.1,2099.18,75.68,1753.6399999999999,542.15,109.25,461.09,152.88,48.800000000000004,631.87,582.0,438.23,991.95,605.0,1430.98,373.35,37.2,103.67999999999999,309.69,120.95,433.89000000000004,129.2,135.9,2391.9900000000002,257.22,175.5,499.25,503.35,961.94,300.87,295.05,793.89,1761.88,178.66,2119.68,337.5,155.95,1132.4,119.77,163.2,1147.5900000000001,855.69,188.56,111.25,214.09,984.35,680.59,185.97,2770.6,556.55,1403.85,118.88,5298.09,3196.1,1078.34,98.7,207.73000000000002,1131.0,470.57,376.86,22774.53,209.08,773.66,106.2,1854.18,511.19,111.15,381.32,2782.36,1116.8999999999999,109.78,391.34,169.65,288.5,259.05,295.15,408.94,355.40000000000003,333.2,122.10000000000001,378.32,847.72,1115.7,2698.12,158.16,168.44,487.75,158.8,1544.5,135.75,1302.12,87.5,9.2,1393.53,315.0,2268.91,975.9000000000001,353.09999999999997,211.94,316.58,65.4,383.07,331.65,29.849999999999998,581.66,692.4,585.0,333.68,154.41,318.23,904.85,1313.04,321.05,333.9,186.0,420.5,178.95000000000002,119.3,1054.9,364.84999999999997,303.61,1053.07,165.65,854.48,1414.43,1199.33,873.08,1900.92,673.37,574.02,123.15,13007.34,293.49,165.0,1159.47,311.71,17.7,257.9,252.42000000000002,201.60000000000002,115.65,288.06,311.65,590.21,2507.7,418.92,326.0,208.61,105.54,754.22,1102.8,2753.4900000000002,230.10000000000002,1019.42,310.22,358.78,587.66,107.45,94.0,252.29,165.0,559.61,295.06,97.7,387.52,437.71,155.17,494.64,179.1,231.22,214.26,1044.65,2609.2599999999998,1.25,548.44,1268.13,973.1,3785.64,1314.8,141.04,250.0,101.2,2566.9,2940.98,633.6,274.93,580.3,570.89,353.8,335.54,127.86,1199.1200000000001,135.32999999999998,1006.04,967.8000000000001,137.89999999999998,994.9200000000001,134.55,270.19,288.5,1708.04,563.54,29.65,195.35,323.86,344.88,184.95,30.19,780.42,3797.4,606.24,377.6,914.87,104.76,104.25,2435.1,424.49,281.88,319.18,94.0,4301.08,308.37,189.8,816.0,620.35,209.3,309.8,27.799999999999997,173.05,880.26,478.89,1042.5,103.5,1300.92,777.51,929.13,299.8,181.1,529.4,859.05,324.05,190.7,2071.7,138.1,967.37,22998.4,354.77,259.65000000000003,79.2,314.68,185.04,10189.08,778.65,177.15,83.35,928.58,351.3,346.87,1510.2,320.21999999999997,924.5600000000001,3661.4700000000003,198.8,377.32,897.33,244.8,206.98,440.2,870.76,614.84,363.94,23.849999999999998,301.11,1515.8,331.6,118.95000000000002,1232.58,180.68,747.3000000000001,4389.91,816.22,102.66,354.23,256.32,1068.8700000000001,359.03,564.54,392.32000000000005,15.0,272.07,151.44,516.64,56.25,161.28,310.9,593.36,214.07999999999998,375.40000000000003,127.08,317.73,74.9,1376.8500000000001,39.8,181.0,428.82000000000005,428.99,572.38,156.19,161.9,314.1,762.0,504.92,769.24,270.0,1138.37,335.54,113.48,263.25,863.39,1181.0,110.1,745.69,8862.2,253.63,371.52,1953.5,403.02,19542.27,331.24,1273.55,153.6,603.46,74.85,307.85,664.45,256.44,259.5,247.56,367.14,584.3199999999999,150.45,157.6,337.98,436.18,181.35,278.45,24.7,852.4,314.99999999999994,404.0,136.14,138.83,249.84,310.85,289.35,891.35,645.66,297.93,7.95,124.14,1217.95,992.22,76.32000000000001,453.46999999999997,215.01,303.84000000000003,1416.34,441.6,403.5,825.0,307.68,2082.23,365.27,174.45,161.3,497.59,8876.94,471.3,166.74,773.5500000000001,441.05,353.36,436.38,1056.63,226.14,295.09,893.21,31.65,2453.04,1141.24,133.22,351.75,12.9,168.3,378.75,827.1800000000001,624.47,226.37,338.82,570.76,425.18,1158.22,122.3,2508.48,53.5,392.7,153.9,1295.2,313.45,368.46,167.09,287.05,147.20000000000002,94.36,522.25,312.40999999999997,450.56,665.8,205.65,193.95,167.25,338.24,271.56,128.55,252.66,6347.92,51.0,302.7,334.6,393.5,211.0,147.06,531.98,1236.49,393.7,109.12,221.29,217.81,961.71,127.80000000000001,826.53,736.7,512.38,411.8,165.0,852.29,363.7,248.1,319.86,103.7,325.76,743.9,2734.79,484.83,1910.4,747.25,1670.23,119.49000000000001,563.71,311.07,95.29,1949.69,6.8,950.99,1477.06,332.18,173.7,94.89999999999999,557.5600000000001,495.21000000000004,292.63,30.599999999999998,233.45,455.28000000000003,69.6,120.65,125.86,1181.73,280.05,728.16,164.8,741.89,227.4,812.25,1441.47,123.24,282.59999999999997,135.39999999999998,784.41,464.82,129.75,9964.62,707.26,8.5,1278.3,1248.77,3631.0,519.9200000000001,598.8000000000001,1648.8700000000001,1364.06,1315.8000000000002,336.35,606.0500000000001,769.01,1115.33,764.22,585.76,256.32,227.34,607.21,3.75,430.28000000000003,739.27,1245.34,609.8,207.5,2002.4,316.06,106.83000000000001,34.0,1866.02,552.95,947.42,577.1,2085.8,327.85,927.29,246.98,414.88,214.77,33.9,479.35,2120.11,325.45,409.8,309.48,81.75,392.12,2930.13,317.38,520.5699999999999,1999.46,332.41,405.49,22.110000000000003,165.70000000000002,2187.39,846.9399999999999,9.9,128.03,177.95,523.05,217.26,15.95,145.93,366.53000000000003,176.43,170.55,632.4100000000001,254.39999999999998,409.75,737.84,113.44,196.43,275.78,540.01,1570.26,230.25,218.1,394.85,882.19,267.6,757.68,451.03,780.64,69.6,74.42,172.0,1053.79,346.79999999999995,379.98,357.09999999999997,681.86,358.75,1276.06,12.45,1.25,136.39000000000001,702.0,90.0,772.89,513.06,219.62,2908.7599999999998,405.0,629.91,160.97,33.15,187.6,307.8,141.79999999999998,304.71,320.3,35.1,265.91,660.94,722.36,537.23,319.37,143.95,855.15,596.7,317.35,562.6,151.5,636.94,996.02,981.75,462.0,913.1,333.8,762.0699999999999,319.4,268.54,116.19999999999999,157.02,511.62,157.09,500.55,2639.38,298.25,444.45,413.79,424.41,224.91,519.08,243.0,246.89,155.52,1623.09,226.57000000000002,510.11,252.62,521.66,67.7,779.71,970.8000000000001,453.1,770.63,637.5,416.89,393.49,142.25,479.38,3606.75,715.58,341.9,445.37,508.64,385.05,1522.55,269.83,108.26,127.89999999999999,367.95,268.86,717.02,723.9,716.11,222.7,290.52,550.8000000000001,469.35,182.85,250.04,1691.68,152.64000000000001,556.46,569.15,1133.34,450.92,141.69,702.23,243.36,307.44,1024.78,2638.6,60.0,4627.51,416.61,193.64,337.96,160.15,178.22,360.81,45.0,150.0,949.84,742.66,1257.1499999999999,92.14,528.9300000000001,145.25,286.37,105.85,1308.83,7179.46,381.6,1227.24,417.27,397.5,424.17,571.87,2456.12,30.0,589.12,167.39000000000001,1037.47,130.85,376.6,3144.02,112.6,403.3,457.83,68.10000000000001,684.26,21781.12,298.1,249.86,717.0600000000001,203.8,691.46,178.4,438.27,632.9200000000001,271.05,622.88,787.43,340.56,18544.83,656.1600000000001,231.48,153.94,340.25,145.0,422.70000000000005,887.8,645.33,620.75,268.8,11.8,141.48,290.34,298.52,195.45,162.1,942.8,344.14,282.7,70.80000000000001,609.77,168.02,1276.83,417.81,856.36,662.9,390.97,767.0500000000001,136.24,539.55,1053.17,311.41,897.51,326.4,278.98,214.37,901.78,268.65,67.5,785.65,101.55,9.95,251.0,1057.2,474.95,371.39,928.05,394.18,1177.8400000000001,402.41999999999996,300.66,3722.34,300.7,2728.5,391.5,1186.22,1592.61,1570.65,290.40000000000003,453.96,180.55,9.85,88.15,136.3,888.85,83.7,106.85,220.53000000000003,153.0,102.0,1786.98,693.29,303.97,1896.02,682.59,302.57,1039.72,80.64,1139.95,172.54,370.41,115.8,219.98999999999998,103.35,1668.52,516.35,614.1,1040.56,136.05,100.2,1861.7,2618.67,193.29999999999998,16.21,1879.9199999999998,16.95,1270.96,188.5,1655.0,5268.28,205.48,213.91,345.1,5478.9400000000005,208.97,2127.54,2093.0,141.92000000000002,226.45000000000002,241.85999999999999,330.9,890.6999999999999,2408.0,38.25,214.32,326.4,204.95,458.92,133.35000000000002,590.54,112.08,99.35,586.89,608.6,436.17,392.9,232.03,325.46,218.05,107.16,834.81,547.9000000000001,244.08,196.20000000000002,2693.88,1045.44,2178.0,273.25,427.20000000000005,743.56,610.43,261.76,740.1,112.27,265.1,125.2,1378.78,321.79,300.91999999999996,295.2,64.99000000000001,316.0,305.3,190.34,157.92,130.81,102.78999999999999,318.85,165.0,73.5,39.55,1530.43,287.91,74.25,74.4,2426.08,363.65,817.33,169.8,762.8000000000001,101.69999999999999,292.06,258.95,489.6,643.45,711.46,2.95,689.95,3243.72,3111.84,1140.6200000000001,504.72,580.0500000000001,657.1800000000001,38370.090000000004,421.9,1236.3700000000001,76.32000000000001,220.1,823.32,1300.05,180.7,722.62,288.99,152.65,35.400000000000006,660.05,609.01,312.55,113.93,186.88,530.15,301.53,659.29,240.45000000000002,1989.6299999999999,504.05,633.95,622.9,426.6,181.41,20.85,450.78,907.32,485.73,216.07,484.37,1714.23,500.62,421.55,1372.9,545.82,308.1,440.0,918.52,864.41,355.62,50.1,378.8,376.30000000000007,806.0200000000001,198.3,12.75,213.75],\"y0\":\" \",\"yaxis\":\"y\",\"type\":\"box\"}],                        {\"template\":{\"data\":{\"bar\":[{\"error_x\":{\"color\":\"#2a3f5f\"},\"error_y\":{\"color\":\"#2a3f5f\"},\"marker\":{\"line\":{\"color\":\"#E5ECF6\",\"width\":0.5},\"pattern\":{\"fillmode\":\"overlay\",\"size\":10,\"solidity\":0.2}},\"type\":\"bar\"}],\"barpolar\":[{\"marker\":{\"line\":{\"color\":\"#E5ECF6\",\"width\":0.5},\"pattern\":{\"fillmode\":\"overlay\",\"size\":10,\"solidity\":0.2}},\"type\":\"barpolar\"}],\"carpet\":[{\"aaxis\":{\"endlinecolor\":\"#2a3f5f\",\"gridcolor\":\"white\",\"linecolor\":\"white\",\"minorgridcolor\":\"white\",\"startlinecolor\":\"#2a3f5f\"},\"baxis\":{\"endlinecolor\":\"#2a3f5f\",\"gridcolor\":\"white\",\"linecolor\":\"white\",\"minorgridcolor\":\"white\",\"startlinecolor\":\"#2a3f5f\"},\"type\":\"carpet\"}],\"choropleth\":[{\"colorbar\":{\"outlinewidth\":0,\"ticks\":\"\"},\"type\":\"choropleth\"}],\"contour\":[{\"colorbar\":{\"outlinewidth\":0,\"ticks\":\"\"},\"colorscale\":[[0.0,\"#0d0887\"],[0.1111111111111111,\"#46039f\"],[0.2222222222222222,\"#7201a8\"],[0.3333333333333333,\"#9c179e\"],[0.4444444444444444,\"#bd3786\"],[0.5555555555555556,\"#d8576b\"],[0.6666666666666666,\"#ed7953\"],[0.7777777777777778,\"#fb9f3a\"],[0.8888888888888888,\"#fdca26\"],[1.0,\"#f0f921\"]],\"type\":\"contour\"}],\"contourcarpet\":[{\"colorbar\":{\"outlinewidth\":0,\"ticks\":\"\"},\"type\":\"contourcarpet\"}],\"heatmap\":[{\"colorbar\":{\"outlinewidth\":0,\"ticks\":\"\"},\"colorscale\":[[0.0,\"#0d0887\"],[0.1111111111111111,\"#46039f\"],[0.2222222222222222,\"#7201a8\"],[0.3333333333333333,\"#9c179e\"],[0.4444444444444444,\"#bd3786\"],[0.5555555555555556,\"#d8576b\"],[0.6666666666666666,\"#ed7953\"],[0.7777777777777778,\"#fb9f3a\"],[0.8888888888888888,\"#fdca26\"],[1.0,\"#f0f921\"]],\"type\":\"heatmap\"}],\"heatmapgl\":[{\"colorbar\":{\"outlinewidth\":0,\"ticks\":\"\"},\"colorscale\":[[0.0,\"#0d0887\"],[0.1111111111111111,\"#46039f\"],[0.2222222222222222,\"#7201a8\"],[0.3333333333333333,\"#9c179e\"],[0.4444444444444444,\"#bd3786\"],[0.5555555555555556,\"#d8576b\"],[0.6666666666666666,\"#ed7953\"],[0.7777777777777778,\"#fb9f3a\"],[0.8888888888888888,\"#fdca26\"],[1.0,\"#f0f921\"]],\"type\":\"heatmapgl\"}],\"histogram\":[{\"marker\":{\"pattern\":{\"fillmode\":\"overlay\",\"size\":10,\"solidity\":0.2}},\"type\":\"histogram\"}],\"histogram2d\":[{\"colorbar\":{\"outlinewidth\":0,\"ticks\":\"\"},\"colorscale\":[[0.0,\"#0d0887\"],[0.1111111111111111,\"#46039f\"],[0.2222222222222222,\"#7201a8\"],[0.3333333333333333,\"#9c179e\"],[0.4444444444444444,\"#bd3786\"],[0.5555555555555556,\"#d8576b\"],[0.6666666666666666,\"#ed7953\"],[0.7777777777777778,\"#fb9f3a\"],[0.8888888888888888,\"#fdca26\"],[1.0,\"#f0f921\"]],\"type\":\"histogram2d\"}],\"histogram2dcontour\":[{\"colorbar\":{\"outlinewidth\":0,\"ticks\":\"\"},\"colorscale\":[[0.0,\"#0d0887\"],[0.1111111111111111,\"#46039f\"],[0.2222222222222222,\"#7201a8\"],[0.3333333333333333,\"#9c179e\"],[0.4444444444444444,\"#bd3786\"],[0.5555555555555556,\"#d8576b\"],[0.6666666666666666,\"#ed7953\"],[0.7777777777777778,\"#fb9f3a\"],[0.8888888888888888,\"#fdca26\"],[1.0,\"#f0f921\"]],\"type\":\"histogram2dcontour\"}],\"mesh3d\":[{\"colorbar\":{\"outlinewidth\":0,\"ticks\":\"\"},\"type\":\"mesh3d\"}],\"parcoords\":[{\"line\":{\"colorbar\":{\"outlinewidth\":0,\"ticks\":\"\"}},\"type\":\"parcoords\"}],\"pie\":[{\"automargin\":true,\"type\":\"pie\"}],\"scatter\":[{\"marker\":{\"colorbar\":{\"outlinewidth\":0,\"ticks\":\"\"}},\"type\":\"scatter\"}],\"scatter3d\":[{\"line\":{\"colorbar\":{\"outlinewidth\":0,\"ticks\":\"\"}},\"marker\":{\"colorbar\":{\"outlinewidth\":0,\"ticks\":\"\"}},\"type\":\"scatter3d\"}],\"scattercarpet\":[{\"marker\":{\"colorbar\":{\"outlinewidth\":0,\"ticks\":\"\"}},\"type\":\"scattercarpet\"}],\"scattergeo\":[{\"marker\":{\"colorbar\":{\"outlinewidth\":0,\"ticks\":\"\"}},\"type\":\"scattergeo\"}],\"scattergl\":[{\"marker\":{\"colorbar\":{\"outlinewidth\":0,\"ticks\":\"\"}},\"type\":\"scattergl\"}],\"scattermapbox\":[{\"marker\":{\"colorbar\":{\"outlinewidth\":0,\"ticks\":\"\"}},\"type\":\"scattermapbox\"}],\"scatterpolar\":[{\"marker\":{\"colorbar\":{\"outlinewidth\":0,\"ticks\":\"\"}},\"type\":\"scatterpolar\"}],\"scatterpolargl\":[{\"marker\":{\"colorbar\":{\"outlinewidth\":0,\"ticks\":\"\"}},\"type\":\"scatterpolargl\"}],\"scatterternary\":[{\"marker\":{\"colorbar\":{\"outlinewidth\":0,\"ticks\":\"\"}},\"type\":\"scatterternary\"}],\"surface\":[{\"colorbar\":{\"outlinewidth\":0,\"ticks\":\"\"},\"colorscale\":[[0.0,\"#0d0887\"],[0.1111111111111111,\"#46039f\"],[0.2222222222222222,\"#7201a8\"],[0.3333333333333333,\"#9c179e\"],[0.4444444444444444,\"#bd3786\"],[0.5555555555555556,\"#d8576b\"],[0.6666666666666666,\"#ed7953\"],[0.7777777777777778,\"#fb9f3a\"],[0.8888888888888888,\"#fdca26\"],[1.0,\"#f0f921\"]],\"type\":\"surface\"}],\"table\":[{\"cells\":{\"fill\":{\"color\":\"#EBF0F8\"},\"line\":{\"color\":\"white\"}},\"header\":{\"fill\":{\"color\":\"#C8D4E3\"},\"line\":{\"color\":\"white\"}},\"type\":\"table\"}]},\"layout\":{\"annotationdefaults\":{\"arrowcolor\":\"#2a3f5f\",\"arrowhead\":0,\"arrowwidth\":1},\"autotypenumbers\":\"strict\",\"coloraxis\":{\"colorbar\":{\"outlinewidth\":0,\"ticks\":\"\"}},\"colorscale\":{\"diverging\":[[0,\"#8e0152\"],[0.1,\"#c51b7d\"],[0.2,\"#de77ae\"],[0.3,\"#f1b6da\"],[0.4,\"#fde0ef\"],[0.5,\"#f7f7f7\"],[0.6,\"#e6f5d0\"],[0.7,\"#b8e186\"],[0.8,\"#7fbc41\"],[0.9,\"#4d9221\"],[1,\"#276419\"]],\"sequential\":[[0.0,\"#0d0887\"],[0.1111111111111111,\"#46039f\"],[0.2222222222222222,\"#7201a8\"],[0.3333333333333333,\"#9c179e\"],[0.4444444444444444,\"#bd3786\"],[0.5555555555555556,\"#d8576b\"],[0.6666666666666666,\"#ed7953\"],[0.7777777777777778,\"#fb9f3a\"],[0.8888888888888888,\"#fdca26\"],[1.0,\"#f0f921\"]],\"sequentialminus\":[[0.0,\"#0d0887\"],[0.1111111111111111,\"#46039f\"],[0.2222222222222222,\"#7201a8\"],[0.3333333333333333,\"#9c179e\"],[0.4444444444444444,\"#bd3786\"],[0.5555555555555556,\"#d8576b\"],[0.6666666666666666,\"#ed7953\"],[0.7777777777777778,\"#fb9f3a\"],[0.8888888888888888,\"#fdca26\"],[1.0,\"#f0f921\"]]},\"colorway\":[\"#636efa\",\"#EF553B\",\"#00cc96\",\"#ab63fa\",\"#FFA15A\",\"#19d3f3\",\"#FF6692\",\"#B6E880\",\"#FF97FF\",\"#FECB52\"],\"font\":{\"color\":\"#2a3f5f\"},\"geo\":{\"bgcolor\":\"white\",\"lakecolor\":\"white\",\"landcolor\":\"#E5ECF6\",\"showlakes\":true,\"showland\":true,\"subunitcolor\":\"white\"},\"hoverlabel\":{\"align\":\"left\"},\"hovermode\":\"closest\",\"mapbox\":{\"style\":\"light\"},\"paper_bgcolor\":\"white\",\"plot_bgcolor\":\"#E5ECF6\",\"polar\":{\"angularaxis\":{\"gridcolor\":\"white\",\"linecolor\":\"white\",\"ticks\":\"\"},\"bgcolor\":\"#E5ECF6\",\"radialaxis\":{\"gridcolor\":\"white\",\"linecolor\":\"white\",\"ticks\":\"\"}},\"scene\":{\"xaxis\":{\"backgroundcolor\":\"#E5ECF6\",\"gridcolor\":\"white\",\"gridwidth\":2,\"linecolor\":\"white\",\"showbackground\":true,\"ticks\":\"\",\"zerolinecolor\":\"white\"},\"yaxis\":{\"backgroundcolor\":\"#E5ECF6\",\"gridcolor\":\"white\",\"gridwidth\":2,\"linecolor\":\"white\",\"showbackground\":true,\"ticks\":\"\",\"zerolinecolor\":\"white\"},\"zaxis\":{\"backgroundcolor\":\"#E5ECF6\",\"gridcolor\":\"white\",\"gridwidth\":2,\"linecolor\":\"white\",\"showbackground\":true,\"ticks\":\"\",\"zerolinecolor\":\"white\"}},\"shapedefaults\":{\"line\":{\"color\":\"#2a3f5f\"}},\"ternary\":{\"aaxis\":{\"gridcolor\":\"white\",\"linecolor\":\"white\",\"ticks\":\"\"},\"baxis\":{\"gridcolor\":\"white\",\"linecolor\":\"white\",\"ticks\":\"\"},\"bgcolor\":\"#E5ECF6\",\"caxis\":{\"gridcolor\":\"white\",\"linecolor\":\"white\",\"ticks\":\"\"}},\"title\":{\"x\":0.05},\"xaxis\":{\"automargin\":true,\"gridcolor\":\"white\",\"linecolor\":\"white\",\"ticks\":\"\",\"title\":{\"standoff\":15},\"zerolinecolor\":\"white\",\"zerolinewidth\":2},\"yaxis\":{\"automargin\":true,\"gridcolor\":\"white\",\"linecolor\":\"white\",\"ticks\":\"\",\"title\":{\"standoff\":15},\"zerolinecolor\":\"white\",\"zerolinewidth\":2}}},\"xaxis\":{\"anchor\":\"y\",\"domain\":[0.0,1.0]},\"yaxis\":{\"anchor\":\"x\",\"domain\":[0.0,1.0],\"title\":{\"text\":\"Price\"}},\"legend\":{\"tracegroupgap\":0},\"margin\":{\"t\":60},\"boxmode\":\"group\"},                        {\"responsive\": true}                    ).then(function(){\n",
              "                            \n",
              "var gd = document.getElementById('ff24983f-8954-455e-a8be-5a9f264ea8c1');\n",
              "var x = new MutationObserver(function (mutations, observer) {{\n",
              "        var display = window.getComputedStyle(gd).display;\n",
              "        if (!display || display === 'none') {{\n",
              "            console.log([gd, 'removed!']);\n",
              "            Plotly.purge(gd);\n",
              "            observer.disconnect();\n",
              "        }}\n",
              "}});\n",
              "\n",
              "// Listen for the removal of the full notebook cells\n",
              "var notebookContainer = gd.closest('#notebook-container');\n",
              "if (notebookContainer) {{\n",
              "    x.observe(notebookContainer, {childList: true});\n",
              "}}\n",
              "\n",
              "// Listen for the clearing of the current output cell\n",
              "var outputEl = gd.closest('.output');\n",
              "if (outputEl) {{\n",
              "    x.observe(outputEl, {childList: true});\n",
              "}}\n",
              "\n",
              "                        })                };                            </script>        </div>\n",
              "</body>\n",
              "</html>"
            ]
          },
          "metadata": {}
        }
      ]
    },
    {
      "cell_type": "markdown",
      "source": [
        "but there are more outliers we might need to remove values that might disturb our final results\n",
        "an outlier is basically any data point that is more than three standard deviations above the median"
      ],
      "metadata": {
        "id": "y7Ckmn8Kan_A"
      }
    },
    {
      "cell_type": "code",
      "source": [
        "df_final=df_final[df_final['Price'] < ((df_final['Price'].median())  + df_final['Price'].std()*3)]"
      ],
      "metadata": {
        "id": "yR_bn6kaaFLk"
      },
      "execution_count": null,
      "outputs": []
    },
    {
      "cell_type": "code",
      "source": [
        "df_final=df_final[df_final['Frequency'] < ((df_final['Frequency'].median())  + df_final['Frequency'].std()*3)]"
      ],
      "metadata": {
        "id": "OrXoeBy1fOcy"
      },
      "execution_count": null,
      "outputs": []
    },
    {
      "cell_type": "code",
      "source": [
        "df_final.shape"
      ],
      "metadata": {
        "colab": {
          "base_uri": "https://localhost:8080/"
        },
        "id": "2BuXD_fDfXYN",
        "outputId": "0253fd1c-2055-4f1f-db48-fb25cf1fd6b0"
      },
      "execution_count": null,
      "outputs": [
        {
          "output_type": "execute_result",
          "data": {
            "text/plain": [
              "(1490, 3)"
            ]
          },
          "metadata": {},
          "execution_count": 97
        }
      ]
    },
    {
      "cell_type": "code",
      "source": [
        "fig = px.scatter(x=df_final['Price'] , y=df_final['Frequency'],marginal_x=\"histogram\")"
      ],
      "metadata": {
        "id": "lKZ-A782cebB"
      },
      "execution_count": null,
      "outputs": []
    },
    {
      "cell_type": "code",
      "source": [
        "fig.show()"
      ],
      "metadata": {
        "colab": {
          "base_uri": "https://localhost:8080/",
          "height": 542
        },
        "id": "HBzY1WVkceXN",
        "outputId": "7df704aa-55d6-41d0-87f1-f026db9844b9"
      },
      "execution_count": null,
      "outputs": [
        {
          "output_type": "display_data",
          "data": {
            "text/html": [
              "<html>\n",
              "<head><meta charset=\"utf-8\" /></head>\n",
              "<body>\n",
              "    <div>            <script src=\"https://cdnjs.cloudflare.com/ajax/libs/mathjax/2.7.5/MathJax.js?config=TeX-AMS-MML_SVG\"></script><script type=\"text/javascript\">if (window.MathJax) {MathJax.Hub.Config({SVG: {font: \"STIX-Web\"}});}</script>                <script type=\"text/javascript\">window.PlotlyConfig = {MathJaxConfig: 'local'};</script>\n",
              "        <script src=\"https://cdn.plot.ly/plotly-2.8.3.min.js\"></script>                <div id=\"03b89bf5-e68c-4156-bfc5-10f1a8923e48\" class=\"plotly-graph-div\" style=\"height:525px; width:100%;\"></div>            <script type=\"text/javascript\">                                    window.PLOTLYENV=window.PLOTLYENV || {};                                    if (document.getElementById(\"03b89bf5-e68c-4156-bfc5-10f1a8923e48\")) {                    Plotly.newPlot(                        \"03b89bf5-e68c-4156-bfc5-10f1a8923e48\",                        [{\"hovertemplate\":\"x=%{x}<br>y=%{y}<extra></extra>\",\"legendgroup\":\"\",\"marker\":{\"color\":\"#636efa\",\"symbol\":\"circle\"},\"mode\":\"markers\",\"name\":\"\",\"showlegend\":false,\"x\":[1009.31,170.46,535.5,697.1,332.95,846.69,390.79,1089.01,1393.07,310.73,65.09,323.35,443.85,406.6,38.1,801.6,795.2,673.21,14.899999999999999,599.97,293.76000000000005,329.46000000000004,42.0,128.8,708.0,731.4200000000001,199.65,807.05,2752.13,58.190000000000005,392.34000000000003,117.85,1955.4,431.63,5309.28,258.75,3.75,286.95,462.95,765.55,314.59000000000003,108.07,420.33,381.4,1690.85,23.8,1715.07,2904.69,505.82,1916.2,97.5,102.89999999999999,323.65,201.75,3489.69,120.94999999999999,1290.1299999999999,280.46999999999997,50.550000000000004,377.27000000000004,1528.34,642.45,184.38,1440.0,382.5,402.36,190.55,165.86,395.1,560.47,828.48,477.61,153.78,2188.43,203.3,205.86,165.0,1240.09,576.19,2033.96,379.44,278.1,1970.23,185.45,452.64000000000004,1672.1000000000001,982.85,1938.1,101.76,574.39,350.06,307.35,2794.1,14.6,499.93,204.34,1256.32,570.71,52.35,20.1,206.63,193.23,158.26,527.52,110.95,295.0,1270.07,376.74,1257.8700000000001,569.2,197.82,256.40999999999997,112.75,796.56,354.64,821.63,140.35,165.94,1124.0,625.04,212.52,236.02,1195.69,1875.04,168.45,444.2,110.7,498.16,2470.44,510.52,304.24,91.15,224.07,1063.16,476.48,225.7,141.66,45.0,1012.57,662.1700000000001,590.0,682.96,206.23,666.89,204.45000000000002,173.91,300.42,288.9,390.71,431.43,307.3,238.05,2823.39,1110.6,947.9000000000001,1308.48,352.79999999999995,335.82,1637.19,389.5,812.7,35.400000000000006,352.81,788.4200000000001,416.11,534.57,313.76,403.62,601.77,308.28000000000003,160.05,5742.57,250.23999999999998,390.0,1579.62,827.14,401.57,639.4300000000001,870.5400000000001,359.19,185.0,734.98,4207.67,1609.5,246.35999999999999,317.12,185.39999999999998,4.25,193.15,3400.71,235.68,641.83,316.26000000000005,920.1800000000001,536.41,180.5,114.6,464.21999999999997,566.95,110.45,305.45,1131.75,166.8,164.1,91.80000000000001,313.70000000000005,1174.03,110.17999999999999,109.82000000000001,1697.69,164.70000000000002,118.0,142.4,309.06,559.85,760.66,219.52,70.02,303.15000000000003,205.75,435.39,175.89999999999998,311.19,1425.0,334.2,197.8,308.8,162.70000000000002,1035.2,64.05,1763.0800000000002,444.24,3911.7,32.0,139.52,99.5,318.14,330.79,583.41,454.3,965.3000000000001,298.05,114.05000000000001,1479.78,158.57999999999998,817.3199999999999,79.6,204.0,688.8000000000001,296.25,741.26,156.0,1004.4000000000001,1141.25,499.89,3839.3,631.82,191.94,329.64,230.39999999999998,106.4,74.60000000000001,341.7,558.32,1087.19,723.63,112.6,1140.35,442.88,102.0,408.0,109.05,230.66,907.53,411.4,935.0,246.32,2332.9,201.16,688.45,123.30000000000001,886.01,544.03,456.05,129.35,540.45,340.65,308.0,1025.34,30.599999999999998,195.45,821.1,170.75,155.93,214.4,201.12,559.27,172.25,452.65,307.4,196.29999999999998,2194.56,102.0,212.56,500.0,205.1,102.45,214.74,664.54,662.83,903.8,949.94,284.75,822.85,609.7,301.24,900.02,304.44,983.73,4060.6800000000003,628.57,301.6,111.8,914.05,170.44,1251.75,314.82,409.93,1040.1,2649.56,1543.3999999999999,1931.46,3096.39,265.85,136.24,931.57,182.25,444.36,1973.41,76.32000000000001,929.88,818.73,1844.03,635.84,892.25,195.13,19.9,314.63,480.91,333.3,1811.91,311.81,2482.86,306.18,189.92,283.15,177.68,148.35,382.18,579.8000000000001,1909.47,197.65,398.0,1169.24,516.95,67.24000000000001,238.2,19.9,347.95,977.3900000000001,147.8,1192.2,933.9100000000001,395.75,312.98,312.95,244.3,858.73,308.95,630.95,189.3,161.0,146.85,159.60000000000002,138.35,1139.8,302.58,523.86,620.14,4286.18,14.5,492.65000000000003,341.2,571.0,322.24,784.76,12.15,508.02000000000004,11.5,2604.19,186.35000000000002,1270.56,621.24,436.37,487.19,326.82,1575.48,672.57,351.53000000000003,355.65000000000003,262.44,174.4,155.0,100.5,76.55,110.98,142.4,326.25,12.54,229.65,689.36,110.35000000000001,552.12,430.68,817.3000000000001,137.65,1063.0,121.05,217.2,1611.61,124.1,725.42,203.55,517.46,63.0,131.9,1185.71,96.1,627.72,102.35000000000001,210.24,161.03,113.64,81.0,466.59,597.3,703.25,131.7,297.64,546.27,328.1,165.0,174.4,302.86,137.85,127.2,538.8100000000001,493.27,166.22,66.93,454.1,257.0,18.75,255.25,165.0,275.45,726.95,662.86,405.40000000000003,433.5,774.48,195.9,763.35,946.25,1101.77,326.4,289.24,201.94,186.34,679.67,434.7,1167.41,345.98,402.0,35.400000000000006,346.90000000000003,511.12,39.75,255.0,163.8,393.33000000000004,204.0,144.0,237.60000000000002,226.65,305.7,623.1800000000001,21.85,309.5,1246.08,383.14000000000004,187.50000000000003,344.81,416.08,828.47,96.95,749.46,837.5,285.28000000000003,373.49,1.25,2.55,168.36,1510.46,390.35,589.5,665.07,1024.2,448.76,731.95,648.09,247.45,455.65,313.49,203.1,1056.75,434.0,204.77,943.44,495.3,936.53,574.38,228.26999999999998,994.48,124.60000000000001,97.5,230.7,881.14,278.6,406.56,558.36,14.5,334.05,348.15,200.10000000000002,114.68,179.1,75.68,1753.6399999999999,542.15,109.25,461.09,152.88,48.800000000000004,631.87,582.0,438.23,991.95,605.0,1430.98,373.35,37.2,103.67999999999999,309.69,120.95,433.89000000000004,129.2,135.9,2391.9900000000002,257.22,175.5,499.25,503.35,961.94,300.87,295.05,793.89,1761.88,178.66,2119.68,337.5,155.95,1132.4,119.77,163.2,1147.5900000000001,855.69,188.56,111.25,214.09,984.35,680.59,185.97,2770.6,556.55,1403.85,118.88,3196.1,1078.34,98.7,207.73000000000002,1131.0,470.57,376.86,209.08,773.66,106.2,1854.18,511.19,111.15,381.32,2782.36,1116.8999999999999,109.78,391.34,169.65,288.5,259.05,295.15,408.94,355.40000000000003,333.2,122.10000000000001,378.32,847.72,1115.7,2698.12,158.16,168.44,487.75,158.8,1544.5,135.75,1302.12,87.5,9.2,1393.53,315.0,2268.91,975.9000000000001,353.09999999999997,211.94,316.58,65.4,383.07,331.65,29.849999999999998,581.66,692.4,585.0,333.68,154.41,318.23,904.85,1313.04,321.05,333.9,186.0,420.5,178.95000000000002,119.3,1054.9,364.84999999999997,303.61,1053.07,165.65,854.48,1414.43,1199.33,873.08,1900.92,673.37,574.02,123.15,293.49,165.0,1159.47,311.71,17.7,257.9,252.42000000000002,201.60000000000002,115.65,288.06,311.65,590.21,2507.7,418.92,326.0,208.61,105.54,754.22,1102.8,2753.4900000000002,230.10000000000002,1019.42,310.22,358.78,587.66,107.45,94.0,252.29,165.0,559.61,295.06,97.7,387.52,437.71,155.17,494.64,179.1,231.22,214.26,1044.65,2609.2599999999998,1.25,548.44,1268.13,973.1,3785.64,1314.8,141.04,250.0,101.2,2566.9,2940.98,633.6,274.93,580.3,570.89,353.8,335.54,127.86,1199.1200000000001,135.32999999999998,1006.04,967.8000000000001,137.89999999999998,994.9200000000001,134.55,270.19,288.5,1708.04,563.54,29.65,195.35,323.86,344.88,184.95,30.19,780.42,606.24,377.6,914.87,104.76,104.25,2435.1,424.49,281.88,319.18,94.0,4301.08,308.37,189.8,816.0,620.35,209.3,309.8,27.799999999999997,173.05,880.26,478.89,1042.5,103.5,1300.92,777.51,929.13,299.8,181.1,529.4,324.05,190.7,2071.7,138.1,967.37,354.77,259.65000000000003,79.2,314.68,185.04,778.65,177.15,83.35,928.58,351.3,346.87,1510.2,320.21999999999997,924.5600000000001,198.8,377.32,897.33,244.8,206.98,440.2,870.76,614.84,363.94,23.849999999999998,301.11,1515.8,331.6,118.95000000000002,1232.58,180.68,747.3000000000001,4389.91,816.22,102.66,354.23,256.32,1068.8700000000001,359.03,564.54,392.32000000000005,15.0,272.07,151.44,516.64,56.25,161.28,310.9,593.36,214.07999999999998,375.40000000000003,127.08,317.73,74.9,1376.8500000000001,39.8,181.0,428.82000000000005,428.99,572.38,156.19,161.9,314.1,762.0,504.92,769.24,270.0,1138.37,335.54,113.48,263.25,863.39,1181.0,110.1,745.69,253.63,371.52,1953.5,403.02,331.24,153.6,603.46,74.85,307.85,664.45,256.44,259.5,247.56,367.14,584.3199999999999,150.45,157.6,337.98,436.18,181.35,278.45,24.7,852.4,314.99999999999994,404.0,136.14,138.83,249.84,310.85,289.35,891.35,645.66,297.93,7.95,124.14,1217.95,992.22,76.32000000000001,453.46999999999997,215.01,303.84000000000003,441.6,403.5,825.0,307.68,2082.23,365.27,174.45,161.3,497.59,471.3,166.74,773.5500000000001,441.05,353.36,436.38,1056.63,226.14,295.09,893.21,31.65,2453.04,1141.24,133.22,351.75,12.9,168.3,378.75,827.1800000000001,624.47,226.37,338.82,570.76,425.18,1158.22,122.3,2508.48,53.5,392.7,153.9,1295.2,313.45,368.46,167.09,287.05,147.20000000000002,94.36,522.25,312.40999999999997,450.56,665.8,205.65,193.95,167.25,338.24,271.56,128.55,252.66,51.0,302.7,334.6,393.5,211.0,147.06,531.98,1236.49,393.7,109.12,221.29,217.81,961.71,127.80000000000001,826.53,736.7,512.38,411.8,165.0,852.29,363.7,248.1,319.86,103.7,325.76,743.9,2734.79,484.83,1910.4,747.25,1670.23,119.49000000000001,563.71,311.07,95.29,1949.69,6.8,950.99,1477.06,332.18,173.7,94.89999999999999,557.5600000000001,495.21000000000004,292.63,30.599999999999998,233.45,455.28000000000003,69.6,120.65,125.86,1181.73,280.05,728.16,164.8,741.89,227.4,812.25,1441.47,123.24,282.59999999999997,135.39999999999998,784.41,464.82,129.75,8.5,1278.3,1248.77,3631.0,519.9200000000001,598.8000000000001,1648.8700000000001,1364.06,1315.8000000000002,336.35,606.0500000000001,769.01,1115.33,764.22,585.76,256.32,227.34,607.21,3.75,430.28000000000003,739.27,1245.34,609.8,207.5,2002.4,316.06,106.83000000000001,34.0,1866.02,552.95,947.42,577.1,2085.8,327.85,927.29,246.98,414.88,214.77,33.9,479.35,2120.11,325.45,409.8,309.48,81.75,392.12,2930.13,317.38,520.5699999999999,1999.46,332.41,405.49,22.110000000000003,165.70000000000002,2187.39,846.9399999999999,9.9,128.03,177.95,523.05,217.26,15.95,145.93,366.53000000000003,176.43,170.55,632.4100000000001,254.39999999999998,409.75,737.84,113.44,196.43,275.78,540.01,1570.26,230.25,218.1,394.85,267.6,757.68,451.03,780.64,69.6,74.42,172.0,1053.79,346.79999999999995,379.98,357.09999999999997,681.86,358.75,1276.06,12.45,1.25,136.39000000000001,702.0,90.0,772.89,513.06,219.62,2908.7599999999998,405.0,629.91,160.97,33.15,187.6,307.8,141.79999999999998,304.71,320.3,35.1,265.91,660.94,722.36,537.23,319.37,143.95,855.15,596.7,317.35,562.6,151.5,636.94,996.02,981.75,462.0,913.1,333.8,762.0699999999999,319.4,268.54,116.19999999999999,157.02,511.62,157.09,500.55,2639.38,298.25,444.45,413.79,424.41,224.91,519.08,243.0,246.89,155.52,1623.09,226.57000000000002,510.11,252.62,521.66,67.7,779.71,970.8000000000001,453.1,770.63,637.5,416.89,393.49,142.25,479.38,3606.75,715.58,341.9,445.37,508.64,385.05,1522.55,269.83,108.26,127.89999999999999,367.95,268.86,717.02,723.9,716.11,222.7,290.52,550.8000000000001,469.35,182.85,250.04,1691.68,152.64000000000001,556.46,569.15,1133.34,450.92,141.69,702.23,243.36,307.44,60.0,4627.51,416.61,193.64,337.96,160.15,178.22,360.81,45.0,150.0,949.84,742.66,1257.1499999999999,92.14,528.9300000000001,145.25,286.37,105.85,1308.83,381.6,1227.24,417.27,397.5,424.17,571.87,2456.12,30.0,589.12,167.39000000000001,1037.47,130.85,376.6,3144.02,112.6,403.3,457.83,68.10000000000001,684.26,298.1,249.86,717.0600000000001,203.8,691.46,178.4,438.27,632.9200000000001,271.05,622.88,787.43,340.56,656.1600000000001,231.48,153.94,340.25,145.0,422.70000000000005,887.8,645.33,620.75,268.8,11.8,141.48,290.34,298.52,195.45,162.1,942.8,344.14,282.7,70.80000000000001,609.77,168.02,1276.83,417.81,856.36,662.9,390.97,767.0500000000001,136.24,539.55,311.41,897.51,326.4,278.98,214.37,901.78,268.65,67.5,785.65,101.55,9.95,251.0,1057.2,474.95,371.39,928.05,394.18,1177.8400000000001,402.41999999999996,300.66,3722.34,300.7,2728.5,391.5,1186.22,1592.61,1570.65,290.40000000000003,453.96,180.55,9.85,88.15,136.3,888.85,83.7,106.85,220.53000000000003,153.0,102.0,1786.98,693.29,303.97,1896.02,682.59,302.57,1039.72,80.64,1139.95,172.54,370.41,115.8,219.98999999999998,103.35,1668.52,516.35,614.1,1040.56,136.05,100.2,1861.7,193.29999999999998,16.21,1879.9199999999998,16.95,1270.96,188.5,1655.0,205.48,213.91,345.1,208.97,2127.54,2093.0,141.92000000000002,226.45000000000002,241.85999999999999,330.9,890.6999999999999,2408.0,38.25,214.32,326.4,204.95,458.92,133.35000000000002,590.54,112.08,99.35,586.89,608.6,436.17,392.9,232.03,325.46,218.05,107.16,834.81,547.9000000000001,244.08,196.20000000000002,2693.88,1045.44,2178.0,273.25,427.20000000000005,743.56,610.43,261.76,740.1,112.27,265.1,125.2,1378.78,321.79,300.91999999999996,295.2,64.99000000000001,316.0,305.3,190.34,157.92,130.81,102.78999999999999,318.85,165.0,73.5,39.55,287.91,74.25,74.4,2426.08,363.65,817.33,169.8,762.8000000000001,101.69999999999999,292.06,258.95,489.6,643.45,711.46,2.95,689.95,3243.72,3111.84,1140.6200000000001,504.72,580.0500000000001,657.1800000000001,421.9,1236.3700000000001,76.32000000000001,220.1,180.7,722.62,288.99,152.65,35.400000000000006,660.05,609.01,312.55,113.93,186.88,530.15,301.53,659.29,240.45000000000002,1989.6299999999999,504.05,633.95,622.9,426.6,181.41,20.85,450.78,907.32,485.73,216.07,484.37,1714.23,500.62,421.55,1372.9,545.82,308.1,440.0,918.52,864.41,355.62,50.1,378.8,376.30000000000007,806.0200000000001,198.3,12.75,213.75],\"xaxis\":\"x\",\"y\":[20,11,2,49,12,39,59,57,146,14,21,20,23,36,3,34,119,46,2,66,1,18,1,2,2,11,13,37,143,2,17,8,7,27,21,16,1,14,23,36,21,19,31,17,20,8,63,10,83,10,3,8,18,11,138,7,91,15,3,19,67,37,9,6,1,57,11,11,15,33,44,40,7,122,9,14,1,138,62,69,7,13,19,7,6,104,25,94,1,23,10,21,80,3,34,16,61,32,3,3,44,14,15,32,3,1,125,18,74,63,11,19,8,40,13,96,23,23,57,20,20,37,77,25,26,21,2,35,12,107,17,5,21,62,16,6,39,1,46,28,1,75,14,52,11,20,21,11,34,29,17,14,137,10,26,17,9,13,129,20,52,1,19,44,24,35,16,16,15,17,6,91,8,1,49,65,27,32,36,46,8,36,147,93,13,23,12,1,11,149,7,42,18,26,27,10,4,29,30,5,15,64,3,11,4,8,80,13,23,36,9,10,24,13,39,32,19,3,15,9,24,17,20,8,36,15,18,31,61,8,78,16,91,4,23,1,10,20,32,30,99,21,7,70,9,44,1,1,8,9,35,8,16,33,69,101,32,36,6,7,7,4,16,33,22,41,7,36,11,1,2,8,49,55,28,4,17,42,28,44,7,70,34,23,8,18,24,17,13,1,12,21,11,12,11,17,40,7,3,16,13,20,3,12,1,11,5,16,35,44,52,51,9,38,32,9,29,7,66,52,32,11,26,67,54,5,15,85,114,45,105,56,44,24,13,151,29,91,169,1,62,76,15,32,7,11,1,20,66,18,70,22,70,12,50,26,13,18,21,32,102,3,12,62,30,4,14,1,16,53,6,5,52,22,11,18,40,29,19,15,3,9,8,9,8,60,8,32,39,40,2,29,19,13,19,25,3,22,2,34,10,79,30,23,34,29,77,42,24,14,17,11,8,4,4,17,7,23,6,28,63,34,20,43,14,8,14,22,8,167,21,47,24,21,5,9,31,3,44,18,50,11,4,2,56,7,17,15,35,61,19,1,10,12,14,4,19,31,14,4,114,45,7,26,1,26,27,44,23,10,73,11,86,17,54,2,56,23,14,26,51,54,55,70,1,38,142,3,31,5,25,1,1,1,6,16,36,5,12,71,18,8,29,62,68,22,43,109,34,15,1,1,44,85,40,35,111,100,13,37,80,22,84,71,10,35,8,11,18,19,18,35,15,54,7,7,8,59,17,20,22,2,18,35,6,4,9,6,145,14,19,54,29,2,51,5,29,51,3,62,22,3,1,16,21,31,8,10,121,32,10,21,40,48,17,15,29,28,22,92,5,16,140,46,2,75,145,52,5,53,99,61,14,30,63,81,32,170,57,23,28,22,76,60,11,48,1,97,28,8,23,68,6,5,20,9,16,17,18,26,14,10,8,19,67,56,80,4,15,27,39,7,11,45,6,2,16,15,114,4,3,20,9,3,23,25,2,28,11,5,16,8,16,32,88,15,19,12,17,10,6,24,40,21,67,26,35,35,61,39,4,34,31,5,17,1,38,29,3,41,17,5,5,53,12,145,160,7,16,12,8,36,40,138,1,65,22,20,24,7,6,43,11,47,16,6,77,51,9,28,25,25,56,155,35,1,7,42,11,163,40,66,1,6,47,95,66,48,27,76,49,38,28,84,31,90,61,12,96,1,22,7,161,143,4,25,47,3,12,1,43,18,19,29,13,3,75,31,20,19,2,136,20,17,2,30,10,5,2,12,40,30,63,6,24,48,88,18,10,37,11,38,98,5,38,21,14,1,19,6,8,12,5,29,25,20,6,22,47,13,26,49,2,17,16,17,40,18,2,15,6,7,8,40,9,25,74,102,15,64,9,145,97,32,17,1,59,34,62,4,16,78,48,39,12,21,16,5,22,2,2,29,26,20,16,33,11,4,5,32,4,80,30,9,32,118,20,24,60,58,67,59,4,29,9,24,6,17,43,8,48,7,73,23,2,22,17,38,28,13,2,19,3,111,10,24,19,16,13,22,25,19,1,7,53,56,1,26,10,18,5,8,4,20,47,18,12,25,40,28,12,122,12,21,70,63,14,21,89,3,122,54,16,65,2,11,16,35,41,14,21,30,42,101,11,4,9,25,8,14,19,7,34,20,19,4,54,26,60,19,54,15,5,22,48,20,17,1,21,45,25,13,44,30,61,20,16,40,13,59,6,50,41,27,22,1,53,13,13,30,5,60,26,43,31,1,30,31,33,51,11,5,25,2,59,84,21,3,2,26,18,16,1,14,29,1,6,9,23,18,35,8,44,9,39,18,8,4,9,52,29,3,1,79,27,62,71,3,141,87,2,18,44,81,57,146,87,44,16,38,1,30,85,101,19,9,2,16,7,1,50,65,104,40,85,19,112,49,66,55,1,15,103,20,19,18,5,14,47,22,30,47,19,13,2,10,70,52,1,17,28,48,63,1,45,44,30,16,97,10,62,31,8,49,31,65,123,14,2,18,14,83,21,46,5,5,3,70,12,16,12,72,23,33,2,1,6,12,1,32,17,13,90,6,90,5,3,42,8,6,22,18,3,16,84,117,70,20,22,69,30,19,46,7,24,34,116,13,53,15,36,38,47,9,10,115,14,21,131,16,22,25,29,16,27,20,54,2,41,37,72,28,77,3,75,54,46,117,69,48,21,10,48,61,124,10,38,86,16,76,37,37,12,82,2,52,79,131,22,15,1,25,11,53,15,1,24,28,92,22,32,17,16,12,4,137,136,17,61,36,19,58,1,12,116,79,42,7,94,17,43,13,83,1,19,56,3,37,27,114,2,29,12,51,7,22,78,5,43,29,5,73,38,17,8,8,89,11,114,13,10,40,36,45,31,31,11,19,6,9,11,135,60,8,2,7,39,13,49,5,51,29,43,4,65,44,65,28,110,26,59,103,27,116,19,56,1,42,74,15,12,1,74,8,1,9,24,23,19,53,17,41,44,11,90,15,59,18,41,68,75,19,32,8,3,5,10,52,3,25,13,10,1,80,35,18,105,12,13,51,1,154,9,33,22,26,25,113,35,77,119,12,12,17,29,10,28,3,111,11,75,37,13,15,17,8,35,23,52,8,11,48,96,2,16,1,8,26,8,91,16,11,91,114,69,27,54,39,31,28,92,7,1,2,22,5,4,40,10,145,92,35,91,42,81,7,88,57,12,15,13,12,43,38,37,12,28,39,1,5,8,62,6,5,116,19,13,5,45,1,74,14,13,41,63,1,29,3,21,25,16,21,16,37,81,1,28,29,122,18,8,1,10,42,17,8,50,23,15,70,15,62,33,35,35,16,10,1,78,36,23,34,30,87,25,22,22,20,12,1,52,57,22,4,17,7,40,8,1,101],\"yaxis\":\"y\",\"type\":\"scattergl\"},{\"alignmentgroup\":\"True\",\"bingroup\":\"x\",\"hovertemplate\":\"x=%{x}<br>count=%{y}<extra></extra>\",\"legendgroup\":\"\",\"marker\":{\"color\":\"#636efa\"},\"name\":\"\",\"offsetgroup\":\"\",\"opacity\":0.5,\"showlegend\":false,\"x\":[1009.31,170.46,535.5,697.1,332.95,846.69,390.79,1089.01,1393.07,310.73,65.09,323.35,443.85,406.6,38.1,801.6,795.2,673.21,14.899999999999999,599.97,293.76000000000005,329.46000000000004,42.0,128.8,708.0,731.4200000000001,199.65,807.05,2752.13,58.190000000000005,392.34000000000003,117.85,1955.4,431.63,5309.28,258.75,3.75,286.95,462.95,765.55,314.59000000000003,108.07,420.33,381.4,1690.85,23.8,1715.07,2904.69,505.82,1916.2,97.5,102.89999999999999,323.65,201.75,3489.69,120.94999999999999,1290.1299999999999,280.46999999999997,50.550000000000004,377.27000000000004,1528.34,642.45,184.38,1440.0,382.5,402.36,190.55,165.86,395.1,560.47,828.48,477.61,153.78,2188.43,203.3,205.86,165.0,1240.09,576.19,2033.96,379.44,278.1,1970.23,185.45,452.64000000000004,1672.1000000000001,982.85,1938.1,101.76,574.39,350.06,307.35,2794.1,14.6,499.93,204.34,1256.32,570.71,52.35,20.1,206.63,193.23,158.26,527.52,110.95,295.0,1270.07,376.74,1257.8700000000001,569.2,197.82,256.40999999999997,112.75,796.56,354.64,821.63,140.35,165.94,1124.0,625.04,212.52,236.02,1195.69,1875.04,168.45,444.2,110.7,498.16,2470.44,510.52,304.24,91.15,224.07,1063.16,476.48,225.7,141.66,45.0,1012.57,662.1700000000001,590.0,682.96,206.23,666.89,204.45000000000002,173.91,300.42,288.9,390.71,431.43,307.3,238.05,2823.39,1110.6,947.9000000000001,1308.48,352.79999999999995,335.82,1637.19,389.5,812.7,35.400000000000006,352.81,788.4200000000001,416.11,534.57,313.76,403.62,601.77,308.28000000000003,160.05,5742.57,250.23999999999998,390.0,1579.62,827.14,401.57,639.4300000000001,870.5400000000001,359.19,185.0,734.98,4207.67,1609.5,246.35999999999999,317.12,185.39999999999998,4.25,193.15,3400.71,235.68,641.83,316.26000000000005,920.1800000000001,536.41,180.5,114.6,464.21999999999997,566.95,110.45,305.45,1131.75,166.8,164.1,91.80000000000001,313.70000000000005,1174.03,110.17999999999999,109.82000000000001,1697.69,164.70000000000002,118.0,142.4,309.06,559.85,760.66,219.52,70.02,303.15000000000003,205.75,435.39,175.89999999999998,311.19,1425.0,334.2,197.8,308.8,162.70000000000002,1035.2,64.05,1763.0800000000002,444.24,3911.7,32.0,139.52,99.5,318.14,330.79,583.41,454.3,965.3000000000001,298.05,114.05000000000001,1479.78,158.57999999999998,817.3199999999999,79.6,204.0,688.8000000000001,296.25,741.26,156.0,1004.4000000000001,1141.25,499.89,3839.3,631.82,191.94,329.64,230.39999999999998,106.4,74.60000000000001,341.7,558.32,1087.19,723.63,112.6,1140.35,442.88,102.0,408.0,109.05,230.66,907.53,411.4,935.0,246.32,2332.9,201.16,688.45,123.30000000000001,886.01,544.03,456.05,129.35,540.45,340.65,308.0,1025.34,30.599999999999998,195.45,821.1,170.75,155.93,214.4,201.12,559.27,172.25,452.65,307.4,196.29999999999998,2194.56,102.0,212.56,500.0,205.1,102.45,214.74,664.54,662.83,903.8,949.94,284.75,822.85,609.7,301.24,900.02,304.44,983.73,4060.6800000000003,628.57,301.6,111.8,914.05,170.44,1251.75,314.82,409.93,1040.1,2649.56,1543.3999999999999,1931.46,3096.39,265.85,136.24,931.57,182.25,444.36,1973.41,76.32000000000001,929.88,818.73,1844.03,635.84,892.25,195.13,19.9,314.63,480.91,333.3,1811.91,311.81,2482.86,306.18,189.92,283.15,177.68,148.35,382.18,579.8000000000001,1909.47,197.65,398.0,1169.24,516.95,67.24000000000001,238.2,19.9,347.95,977.3900000000001,147.8,1192.2,933.9100000000001,395.75,312.98,312.95,244.3,858.73,308.95,630.95,189.3,161.0,146.85,159.60000000000002,138.35,1139.8,302.58,523.86,620.14,4286.18,14.5,492.65000000000003,341.2,571.0,322.24,784.76,12.15,508.02000000000004,11.5,2604.19,186.35000000000002,1270.56,621.24,436.37,487.19,326.82,1575.48,672.57,351.53000000000003,355.65000000000003,262.44,174.4,155.0,100.5,76.55,110.98,142.4,326.25,12.54,229.65,689.36,110.35000000000001,552.12,430.68,817.3000000000001,137.65,1063.0,121.05,217.2,1611.61,124.1,725.42,203.55,517.46,63.0,131.9,1185.71,96.1,627.72,102.35000000000001,210.24,161.03,113.64,81.0,466.59,597.3,703.25,131.7,297.64,546.27,328.1,165.0,174.4,302.86,137.85,127.2,538.8100000000001,493.27,166.22,66.93,454.1,257.0,18.75,255.25,165.0,275.45,726.95,662.86,405.40000000000003,433.5,774.48,195.9,763.35,946.25,1101.77,326.4,289.24,201.94,186.34,679.67,434.7,1167.41,345.98,402.0,35.400000000000006,346.90000000000003,511.12,39.75,255.0,163.8,393.33000000000004,204.0,144.0,237.60000000000002,226.65,305.7,623.1800000000001,21.85,309.5,1246.08,383.14000000000004,187.50000000000003,344.81,416.08,828.47,96.95,749.46,837.5,285.28000000000003,373.49,1.25,2.55,168.36,1510.46,390.35,589.5,665.07,1024.2,448.76,731.95,648.09,247.45,455.65,313.49,203.1,1056.75,434.0,204.77,943.44,495.3,936.53,574.38,228.26999999999998,994.48,124.60000000000001,97.5,230.7,881.14,278.6,406.56,558.36,14.5,334.05,348.15,200.10000000000002,114.68,179.1,75.68,1753.6399999999999,542.15,109.25,461.09,152.88,48.800000000000004,631.87,582.0,438.23,991.95,605.0,1430.98,373.35,37.2,103.67999999999999,309.69,120.95,433.89000000000004,129.2,135.9,2391.9900000000002,257.22,175.5,499.25,503.35,961.94,300.87,295.05,793.89,1761.88,178.66,2119.68,337.5,155.95,1132.4,119.77,163.2,1147.5900000000001,855.69,188.56,111.25,214.09,984.35,680.59,185.97,2770.6,556.55,1403.85,118.88,3196.1,1078.34,98.7,207.73000000000002,1131.0,470.57,376.86,209.08,773.66,106.2,1854.18,511.19,111.15,381.32,2782.36,1116.8999999999999,109.78,391.34,169.65,288.5,259.05,295.15,408.94,355.40000000000003,333.2,122.10000000000001,378.32,847.72,1115.7,2698.12,158.16,168.44,487.75,158.8,1544.5,135.75,1302.12,87.5,9.2,1393.53,315.0,2268.91,975.9000000000001,353.09999999999997,211.94,316.58,65.4,383.07,331.65,29.849999999999998,581.66,692.4,585.0,333.68,154.41,318.23,904.85,1313.04,321.05,333.9,186.0,420.5,178.95000000000002,119.3,1054.9,364.84999999999997,303.61,1053.07,165.65,854.48,1414.43,1199.33,873.08,1900.92,673.37,574.02,123.15,293.49,165.0,1159.47,311.71,17.7,257.9,252.42000000000002,201.60000000000002,115.65,288.06,311.65,590.21,2507.7,418.92,326.0,208.61,105.54,754.22,1102.8,2753.4900000000002,230.10000000000002,1019.42,310.22,358.78,587.66,107.45,94.0,252.29,165.0,559.61,295.06,97.7,387.52,437.71,155.17,494.64,179.1,231.22,214.26,1044.65,2609.2599999999998,1.25,548.44,1268.13,973.1,3785.64,1314.8,141.04,250.0,101.2,2566.9,2940.98,633.6,274.93,580.3,570.89,353.8,335.54,127.86,1199.1200000000001,135.32999999999998,1006.04,967.8000000000001,137.89999999999998,994.9200000000001,134.55,270.19,288.5,1708.04,563.54,29.65,195.35,323.86,344.88,184.95,30.19,780.42,606.24,377.6,914.87,104.76,104.25,2435.1,424.49,281.88,319.18,94.0,4301.08,308.37,189.8,816.0,620.35,209.3,309.8,27.799999999999997,173.05,880.26,478.89,1042.5,103.5,1300.92,777.51,929.13,299.8,181.1,529.4,324.05,190.7,2071.7,138.1,967.37,354.77,259.65000000000003,79.2,314.68,185.04,778.65,177.15,83.35,928.58,351.3,346.87,1510.2,320.21999999999997,924.5600000000001,198.8,377.32,897.33,244.8,206.98,440.2,870.76,614.84,363.94,23.849999999999998,301.11,1515.8,331.6,118.95000000000002,1232.58,180.68,747.3000000000001,4389.91,816.22,102.66,354.23,256.32,1068.8700000000001,359.03,564.54,392.32000000000005,15.0,272.07,151.44,516.64,56.25,161.28,310.9,593.36,214.07999999999998,375.40000000000003,127.08,317.73,74.9,1376.8500000000001,39.8,181.0,428.82000000000005,428.99,572.38,156.19,161.9,314.1,762.0,504.92,769.24,270.0,1138.37,335.54,113.48,263.25,863.39,1181.0,110.1,745.69,253.63,371.52,1953.5,403.02,331.24,153.6,603.46,74.85,307.85,664.45,256.44,259.5,247.56,367.14,584.3199999999999,150.45,157.6,337.98,436.18,181.35,278.45,24.7,852.4,314.99999999999994,404.0,136.14,138.83,249.84,310.85,289.35,891.35,645.66,297.93,7.95,124.14,1217.95,992.22,76.32000000000001,453.46999999999997,215.01,303.84000000000003,441.6,403.5,825.0,307.68,2082.23,365.27,174.45,161.3,497.59,471.3,166.74,773.5500000000001,441.05,353.36,436.38,1056.63,226.14,295.09,893.21,31.65,2453.04,1141.24,133.22,351.75,12.9,168.3,378.75,827.1800000000001,624.47,226.37,338.82,570.76,425.18,1158.22,122.3,2508.48,53.5,392.7,153.9,1295.2,313.45,368.46,167.09,287.05,147.20000000000002,94.36,522.25,312.40999999999997,450.56,665.8,205.65,193.95,167.25,338.24,271.56,128.55,252.66,51.0,302.7,334.6,393.5,211.0,147.06,531.98,1236.49,393.7,109.12,221.29,217.81,961.71,127.80000000000001,826.53,736.7,512.38,411.8,165.0,852.29,363.7,248.1,319.86,103.7,325.76,743.9,2734.79,484.83,1910.4,747.25,1670.23,119.49000000000001,563.71,311.07,95.29,1949.69,6.8,950.99,1477.06,332.18,173.7,94.89999999999999,557.5600000000001,495.21000000000004,292.63,30.599999999999998,233.45,455.28000000000003,69.6,120.65,125.86,1181.73,280.05,728.16,164.8,741.89,227.4,812.25,1441.47,123.24,282.59999999999997,135.39999999999998,784.41,464.82,129.75,8.5,1278.3,1248.77,3631.0,519.9200000000001,598.8000000000001,1648.8700000000001,1364.06,1315.8000000000002,336.35,606.0500000000001,769.01,1115.33,764.22,585.76,256.32,227.34,607.21,3.75,430.28000000000003,739.27,1245.34,609.8,207.5,2002.4,316.06,106.83000000000001,34.0,1866.02,552.95,947.42,577.1,2085.8,327.85,927.29,246.98,414.88,214.77,33.9,479.35,2120.11,325.45,409.8,309.48,81.75,392.12,2930.13,317.38,520.5699999999999,1999.46,332.41,405.49,22.110000000000003,165.70000000000002,2187.39,846.9399999999999,9.9,128.03,177.95,523.05,217.26,15.95,145.93,366.53000000000003,176.43,170.55,632.4100000000001,254.39999999999998,409.75,737.84,113.44,196.43,275.78,540.01,1570.26,230.25,218.1,394.85,267.6,757.68,451.03,780.64,69.6,74.42,172.0,1053.79,346.79999999999995,379.98,357.09999999999997,681.86,358.75,1276.06,12.45,1.25,136.39000000000001,702.0,90.0,772.89,513.06,219.62,2908.7599999999998,405.0,629.91,160.97,33.15,187.6,307.8,141.79999999999998,304.71,320.3,35.1,265.91,660.94,722.36,537.23,319.37,143.95,855.15,596.7,317.35,562.6,151.5,636.94,996.02,981.75,462.0,913.1,333.8,762.0699999999999,319.4,268.54,116.19999999999999,157.02,511.62,157.09,500.55,2639.38,298.25,444.45,413.79,424.41,224.91,519.08,243.0,246.89,155.52,1623.09,226.57000000000002,510.11,252.62,521.66,67.7,779.71,970.8000000000001,453.1,770.63,637.5,416.89,393.49,142.25,479.38,3606.75,715.58,341.9,445.37,508.64,385.05,1522.55,269.83,108.26,127.89999999999999,367.95,268.86,717.02,723.9,716.11,222.7,290.52,550.8000000000001,469.35,182.85,250.04,1691.68,152.64000000000001,556.46,569.15,1133.34,450.92,141.69,702.23,243.36,307.44,60.0,4627.51,416.61,193.64,337.96,160.15,178.22,360.81,45.0,150.0,949.84,742.66,1257.1499999999999,92.14,528.9300000000001,145.25,286.37,105.85,1308.83,381.6,1227.24,417.27,397.5,424.17,571.87,2456.12,30.0,589.12,167.39000000000001,1037.47,130.85,376.6,3144.02,112.6,403.3,457.83,68.10000000000001,684.26,298.1,249.86,717.0600000000001,203.8,691.46,178.4,438.27,632.9200000000001,271.05,622.88,787.43,340.56,656.1600000000001,231.48,153.94,340.25,145.0,422.70000000000005,887.8,645.33,620.75,268.8,11.8,141.48,290.34,298.52,195.45,162.1,942.8,344.14,282.7,70.80000000000001,609.77,168.02,1276.83,417.81,856.36,662.9,390.97,767.0500000000001,136.24,539.55,311.41,897.51,326.4,278.98,214.37,901.78,268.65,67.5,785.65,101.55,9.95,251.0,1057.2,474.95,371.39,928.05,394.18,1177.8400000000001,402.41999999999996,300.66,3722.34,300.7,2728.5,391.5,1186.22,1592.61,1570.65,290.40000000000003,453.96,180.55,9.85,88.15,136.3,888.85,83.7,106.85,220.53000000000003,153.0,102.0,1786.98,693.29,303.97,1896.02,682.59,302.57,1039.72,80.64,1139.95,172.54,370.41,115.8,219.98999999999998,103.35,1668.52,516.35,614.1,1040.56,136.05,100.2,1861.7,193.29999999999998,16.21,1879.9199999999998,16.95,1270.96,188.5,1655.0,205.48,213.91,345.1,208.97,2127.54,2093.0,141.92000000000002,226.45000000000002,241.85999999999999,330.9,890.6999999999999,2408.0,38.25,214.32,326.4,204.95,458.92,133.35000000000002,590.54,112.08,99.35,586.89,608.6,436.17,392.9,232.03,325.46,218.05,107.16,834.81,547.9000000000001,244.08,196.20000000000002,2693.88,1045.44,2178.0,273.25,427.20000000000005,743.56,610.43,261.76,740.1,112.27,265.1,125.2,1378.78,321.79,300.91999999999996,295.2,64.99000000000001,316.0,305.3,190.34,157.92,130.81,102.78999999999999,318.85,165.0,73.5,39.55,287.91,74.25,74.4,2426.08,363.65,817.33,169.8,762.8000000000001,101.69999999999999,292.06,258.95,489.6,643.45,711.46,2.95,689.95,3243.72,3111.84,1140.6200000000001,504.72,580.0500000000001,657.1800000000001,421.9,1236.3700000000001,76.32000000000001,220.1,180.7,722.62,288.99,152.65,35.400000000000006,660.05,609.01,312.55,113.93,186.88,530.15,301.53,659.29,240.45000000000002,1989.6299999999999,504.05,633.95,622.9,426.6,181.41,20.85,450.78,907.32,485.73,216.07,484.37,1714.23,500.62,421.55,1372.9,545.82,308.1,440.0,918.52,864.41,355.62,50.1,378.8,376.30000000000007,806.0200000000001,198.3,12.75,213.75],\"xaxis\":\"x2\",\"yaxis\":\"y2\",\"type\":\"histogram\"}],                        {\"template\":{\"data\":{\"bar\":[{\"error_x\":{\"color\":\"#2a3f5f\"},\"error_y\":{\"color\":\"#2a3f5f\"},\"marker\":{\"line\":{\"color\":\"#E5ECF6\",\"width\":0.5},\"pattern\":{\"fillmode\":\"overlay\",\"size\":10,\"solidity\":0.2}},\"type\":\"bar\"}],\"barpolar\":[{\"marker\":{\"line\":{\"color\":\"#E5ECF6\",\"width\":0.5},\"pattern\":{\"fillmode\":\"overlay\",\"size\":10,\"solidity\":0.2}},\"type\":\"barpolar\"}],\"carpet\":[{\"aaxis\":{\"endlinecolor\":\"#2a3f5f\",\"gridcolor\":\"white\",\"linecolor\":\"white\",\"minorgridcolor\":\"white\",\"startlinecolor\":\"#2a3f5f\"},\"baxis\":{\"endlinecolor\":\"#2a3f5f\",\"gridcolor\":\"white\",\"linecolor\":\"white\",\"minorgridcolor\":\"white\",\"startlinecolor\":\"#2a3f5f\"},\"type\":\"carpet\"}],\"choropleth\":[{\"colorbar\":{\"outlinewidth\":0,\"ticks\":\"\"},\"type\":\"choropleth\"}],\"contour\":[{\"colorbar\":{\"outlinewidth\":0,\"ticks\":\"\"},\"colorscale\":[[0.0,\"#0d0887\"],[0.1111111111111111,\"#46039f\"],[0.2222222222222222,\"#7201a8\"],[0.3333333333333333,\"#9c179e\"],[0.4444444444444444,\"#bd3786\"],[0.5555555555555556,\"#d8576b\"],[0.6666666666666666,\"#ed7953\"],[0.7777777777777778,\"#fb9f3a\"],[0.8888888888888888,\"#fdca26\"],[1.0,\"#f0f921\"]],\"type\":\"contour\"}],\"contourcarpet\":[{\"colorbar\":{\"outlinewidth\":0,\"ticks\":\"\"},\"type\":\"contourcarpet\"}],\"heatmap\":[{\"colorbar\":{\"outlinewidth\":0,\"ticks\":\"\"},\"colorscale\":[[0.0,\"#0d0887\"],[0.1111111111111111,\"#46039f\"],[0.2222222222222222,\"#7201a8\"],[0.3333333333333333,\"#9c179e\"],[0.4444444444444444,\"#bd3786\"],[0.5555555555555556,\"#d8576b\"],[0.6666666666666666,\"#ed7953\"],[0.7777777777777778,\"#fb9f3a\"],[0.8888888888888888,\"#fdca26\"],[1.0,\"#f0f921\"]],\"type\":\"heatmap\"}],\"heatmapgl\":[{\"colorbar\":{\"outlinewidth\":0,\"ticks\":\"\"},\"colorscale\":[[0.0,\"#0d0887\"],[0.1111111111111111,\"#46039f\"],[0.2222222222222222,\"#7201a8\"],[0.3333333333333333,\"#9c179e\"],[0.4444444444444444,\"#bd3786\"],[0.5555555555555556,\"#d8576b\"],[0.6666666666666666,\"#ed7953\"],[0.7777777777777778,\"#fb9f3a\"],[0.8888888888888888,\"#fdca26\"],[1.0,\"#f0f921\"]],\"type\":\"heatmapgl\"}],\"histogram\":[{\"marker\":{\"pattern\":{\"fillmode\":\"overlay\",\"size\":10,\"solidity\":0.2}},\"type\":\"histogram\"}],\"histogram2d\":[{\"colorbar\":{\"outlinewidth\":0,\"ticks\":\"\"},\"colorscale\":[[0.0,\"#0d0887\"],[0.1111111111111111,\"#46039f\"],[0.2222222222222222,\"#7201a8\"],[0.3333333333333333,\"#9c179e\"],[0.4444444444444444,\"#bd3786\"],[0.5555555555555556,\"#d8576b\"],[0.6666666666666666,\"#ed7953\"],[0.7777777777777778,\"#fb9f3a\"],[0.8888888888888888,\"#fdca26\"],[1.0,\"#f0f921\"]],\"type\":\"histogram2d\"}],\"histogram2dcontour\":[{\"colorbar\":{\"outlinewidth\":0,\"ticks\":\"\"},\"colorscale\":[[0.0,\"#0d0887\"],[0.1111111111111111,\"#46039f\"],[0.2222222222222222,\"#7201a8\"],[0.3333333333333333,\"#9c179e\"],[0.4444444444444444,\"#bd3786\"],[0.5555555555555556,\"#d8576b\"],[0.6666666666666666,\"#ed7953\"],[0.7777777777777778,\"#fb9f3a\"],[0.8888888888888888,\"#fdca26\"],[1.0,\"#f0f921\"]],\"type\":\"histogram2dcontour\"}],\"mesh3d\":[{\"colorbar\":{\"outlinewidth\":0,\"ticks\":\"\"},\"type\":\"mesh3d\"}],\"parcoords\":[{\"line\":{\"colorbar\":{\"outlinewidth\":0,\"ticks\":\"\"}},\"type\":\"parcoords\"}],\"pie\":[{\"automargin\":true,\"type\":\"pie\"}],\"scatter\":[{\"marker\":{\"colorbar\":{\"outlinewidth\":0,\"ticks\":\"\"}},\"type\":\"scatter\"}],\"scatter3d\":[{\"line\":{\"colorbar\":{\"outlinewidth\":0,\"ticks\":\"\"}},\"marker\":{\"colorbar\":{\"outlinewidth\":0,\"ticks\":\"\"}},\"type\":\"scatter3d\"}],\"scattercarpet\":[{\"marker\":{\"colorbar\":{\"outlinewidth\":0,\"ticks\":\"\"}},\"type\":\"scattercarpet\"}],\"scattergeo\":[{\"marker\":{\"colorbar\":{\"outlinewidth\":0,\"ticks\":\"\"}},\"type\":\"scattergeo\"}],\"scattergl\":[{\"marker\":{\"colorbar\":{\"outlinewidth\":0,\"ticks\":\"\"}},\"type\":\"scattergl\"}],\"scattermapbox\":[{\"marker\":{\"colorbar\":{\"outlinewidth\":0,\"ticks\":\"\"}},\"type\":\"scattermapbox\"}],\"scatterpolar\":[{\"marker\":{\"colorbar\":{\"outlinewidth\":0,\"ticks\":\"\"}},\"type\":\"scatterpolar\"}],\"scatterpolargl\":[{\"marker\":{\"colorbar\":{\"outlinewidth\":0,\"ticks\":\"\"}},\"type\":\"scatterpolargl\"}],\"scatterternary\":[{\"marker\":{\"colorbar\":{\"outlinewidth\":0,\"ticks\":\"\"}},\"type\":\"scatterternary\"}],\"surface\":[{\"colorbar\":{\"outlinewidth\":0,\"ticks\":\"\"},\"colorscale\":[[0.0,\"#0d0887\"],[0.1111111111111111,\"#46039f\"],[0.2222222222222222,\"#7201a8\"],[0.3333333333333333,\"#9c179e\"],[0.4444444444444444,\"#bd3786\"],[0.5555555555555556,\"#d8576b\"],[0.6666666666666666,\"#ed7953\"],[0.7777777777777778,\"#fb9f3a\"],[0.8888888888888888,\"#fdca26\"],[1.0,\"#f0f921\"]],\"type\":\"surface\"}],\"table\":[{\"cells\":{\"fill\":{\"color\":\"#EBF0F8\"},\"line\":{\"color\":\"white\"}},\"header\":{\"fill\":{\"color\":\"#C8D4E3\"},\"line\":{\"color\":\"white\"}},\"type\":\"table\"}]},\"layout\":{\"annotationdefaults\":{\"arrowcolor\":\"#2a3f5f\",\"arrowhead\":0,\"arrowwidth\":1},\"autotypenumbers\":\"strict\",\"coloraxis\":{\"colorbar\":{\"outlinewidth\":0,\"ticks\":\"\"}},\"colorscale\":{\"diverging\":[[0,\"#8e0152\"],[0.1,\"#c51b7d\"],[0.2,\"#de77ae\"],[0.3,\"#f1b6da\"],[0.4,\"#fde0ef\"],[0.5,\"#f7f7f7\"],[0.6,\"#e6f5d0\"],[0.7,\"#b8e186\"],[0.8,\"#7fbc41\"],[0.9,\"#4d9221\"],[1,\"#276419\"]],\"sequential\":[[0.0,\"#0d0887\"],[0.1111111111111111,\"#46039f\"],[0.2222222222222222,\"#7201a8\"],[0.3333333333333333,\"#9c179e\"],[0.4444444444444444,\"#bd3786\"],[0.5555555555555556,\"#d8576b\"],[0.6666666666666666,\"#ed7953\"],[0.7777777777777778,\"#fb9f3a\"],[0.8888888888888888,\"#fdca26\"],[1.0,\"#f0f921\"]],\"sequentialminus\":[[0.0,\"#0d0887\"],[0.1111111111111111,\"#46039f\"],[0.2222222222222222,\"#7201a8\"],[0.3333333333333333,\"#9c179e\"],[0.4444444444444444,\"#bd3786\"],[0.5555555555555556,\"#d8576b\"],[0.6666666666666666,\"#ed7953\"],[0.7777777777777778,\"#fb9f3a\"],[0.8888888888888888,\"#fdca26\"],[1.0,\"#f0f921\"]]},\"colorway\":[\"#636efa\",\"#EF553B\",\"#00cc96\",\"#ab63fa\",\"#FFA15A\",\"#19d3f3\",\"#FF6692\",\"#B6E880\",\"#FF97FF\",\"#FECB52\"],\"font\":{\"color\":\"#2a3f5f\"},\"geo\":{\"bgcolor\":\"white\",\"lakecolor\":\"white\",\"landcolor\":\"#E5ECF6\",\"showlakes\":true,\"showland\":true,\"subunitcolor\":\"white\"},\"hoverlabel\":{\"align\":\"left\"},\"hovermode\":\"closest\",\"mapbox\":{\"style\":\"light\"},\"paper_bgcolor\":\"white\",\"plot_bgcolor\":\"#E5ECF6\",\"polar\":{\"angularaxis\":{\"gridcolor\":\"white\",\"linecolor\":\"white\",\"ticks\":\"\"},\"bgcolor\":\"#E5ECF6\",\"radialaxis\":{\"gridcolor\":\"white\",\"linecolor\":\"white\",\"ticks\":\"\"}},\"scene\":{\"xaxis\":{\"backgroundcolor\":\"#E5ECF6\",\"gridcolor\":\"white\",\"gridwidth\":2,\"linecolor\":\"white\",\"showbackground\":true,\"ticks\":\"\",\"zerolinecolor\":\"white\"},\"yaxis\":{\"backgroundcolor\":\"#E5ECF6\",\"gridcolor\":\"white\",\"gridwidth\":2,\"linecolor\":\"white\",\"showbackground\":true,\"ticks\":\"\",\"zerolinecolor\":\"white\"},\"zaxis\":{\"backgroundcolor\":\"#E5ECF6\",\"gridcolor\":\"white\",\"gridwidth\":2,\"linecolor\":\"white\",\"showbackground\":true,\"ticks\":\"\",\"zerolinecolor\":\"white\"}},\"shapedefaults\":{\"line\":{\"color\":\"#2a3f5f\"}},\"ternary\":{\"aaxis\":{\"gridcolor\":\"white\",\"linecolor\":\"white\",\"ticks\":\"\"},\"baxis\":{\"gridcolor\":\"white\",\"linecolor\":\"white\",\"ticks\":\"\"},\"bgcolor\":\"#E5ECF6\",\"caxis\":{\"gridcolor\":\"white\",\"linecolor\":\"white\",\"ticks\":\"\"}},\"title\":{\"x\":0.05},\"xaxis\":{\"automargin\":true,\"gridcolor\":\"white\",\"linecolor\":\"white\",\"ticks\":\"\",\"title\":{\"standoff\":15},\"zerolinecolor\":\"white\",\"zerolinewidth\":2},\"yaxis\":{\"automargin\":true,\"gridcolor\":\"white\",\"linecolor\":\"white\",\"ticks\":\"\",\"title\":{\"standoff\":15},\"zerolinecolor\":\"white\",\"zerolinewidth\":2}}},\"xaxis\":{\"anchor\":\"y\",\"domain\":[0.0,1.0],\"title\":{\"text\":\"x\"}},\"yaxis\":{\"anchor\":\"x\",\"domain\":[0.0,0.7326],\"title\":{\"text\":\"y\"}},\"xaxis2\":{\"anchor\":\"y2\",\"domain\":[0.0,1.0],\"matches\":\"x\",\"showticklabels\":false,\"showgrid\":true},\"yaxis2\":{\"anchor\":\"x2\",\"domain\":[0.7426,1.0],\"matches\":\"y2\",\"showticklabels\":false,\"showline\":false,\"ticks\":\"\",\"showgrid\":true},\"legend\":{\"tracegroupgap\":0},\"margin\":{\"t\":60},\"barmode\":\"overlay\"},                        {\"responsive\": true}                    ).then(function(){\n",
              "                            \n",
              "var gd = document.getElementById('03b89bf5-e68c-4156-bfc5-10f1a8923e48');\n",
              "var x = new MutationObserver(function (mutations, observer) {{\n",
              "        var display = window.getComputedStyle(gd).display;\n",
              "        if (!display || display === 'none') {{\n",
              "            console.log([gd, 'removed!']);\n",
              "            Plotly.purge(gd);\n",
              "            observer.disconnect();\n",
              "        }}\n",
              "}});\n",
              "\n",
              "// Listen for the removal of the full notebook cells\n",
              "var notebookContainer = gd.closest('#notebook-container');\n",
              "if (notebookContainer) {{\n",
              "    x.observe(notebookContainer, {childList: true});\n",
              "}}\n",
              "\n",
              "// Listen for the clearing of the current output cell\n",
              "var outputEl = gd.closest('.output');\n",
              "if (outputEl) {{\n",
              "    x.observe(outputEl, {childList: true});\n",
              "}}\n",
              "\n",
              "                        })                };                            </script>        </div>\n",
              "</body>\n",
              "</html>"
            ]
          },
          "metadata": {}
        }
      ]
    },
    {
      "cell_type": "markdown",
      "source": [
        "### Scaling the data"
      ],
      "metadata": {
        "id": "KGyOr6WrcsP4"
      }
    },
    {
      "cell_type": "code",
      "source": [
        "X=df_final[['Price','Frequency']]\n",
        "scaler=MinMaxScaler()\n",
        "scaled_X=scaler.fit_transform(X)"
      ],
      "metadata": {
        "id": "KFoDFVU0WdxJ"
      },
      "execution_count": null,
      "outputs": []
    },
    {
      "cell_type": "code",
      "source": [
        "scaled_X.shape"
      ],
      "metadata": {
        "colab": {
          "base_uri": "https://localhost:8080/"
        },
        "id": "cIThHLUeWdqt",
        "outputId": "22ce3fcc-b566-4f70-d763-796e49859bf5"
      },
      "execution_count": null,
      "outputs": [
        {
          "output_type": "execute_result",
          "data": {
            "text/plain": [
              "(1490, 2)"
            ]
          },
          "metadata": {},
          "execution_count": 113
        }
      ]
    },
    {
      "cell_type": "markdown",
      "source": [
        "### Fitting the model to our data"
      ],
      "metadata": {
        "id": "n7_aieKSczwl"
      }
    },
    {
      "cell_type": "code",
      "source": [
        "model=KMeans(n_clusters=3)\n",
        "model.fit(scaled_X)\n",
        "labels=model.labels_"
      ],
      "metadata": {
        "id": "SB0qlds3cerp"
      },
      "execution_count": null,
      "outputs": []
    },
    {
      "cell_type": "code",
      "source": [
        "labels.shape"
      ],
      "metadata": {
        "colab": {
          "base_uri": "https://localhost:8080/"
        },
        "id": "MiFDlaoDcenM",
        "outputId": "36e76c1c-1613-4426-b129-873f71f78ce5"
      },
      "execution_count": null,
      "outputs": [
        {
          "output_type": "execute_result",
          "data": {
            "text/plain": [
              "(1490,)"
            ]
          },
          "metadata": {},
          "execution_count": 116
        }
      ]
    },
    {
      "cell_type": "code",
      "source": [
        "centroids=model.cluster_centers_"
      ],
      "metadata": {
        "id": "Ftoe6DdafzsQ"
      },
      "execution_count": null,
      "outputs": []
    },
    {
      "cell_type": "code",
      "source": [
        "centroids"
      ],
      "metadata": {
        "colab": {
          "base_uri": "https://localhost:8080/"
        },
        "id": "gVC9lDtXg03v",
        "outputId": "0d639324-f8e8-4712-b291-90028231dc3d"
      },
      "execution_count": null,
      "outputs": [
        {
          "output_type": "execute_result",
          "data": {
            "text/plain": [
              "array([[0.13721577, 0.28089707],\n",
              "       [0.05514617, 0.07410358],\n",
              "       [0.28571368, 0.6242405 ]])"
            ]
          },
          "metadata": {},
          "execution_count": 161
        }
      ]
    },
    {
      "cell_type": "code",
      "source": [
        "df_fin=df_final.copy()\n",
        "df_fin['Labels']=labels\n",
        "df_fin.head()"
      ],
      "metadata": {
        "colab": {
          "base_uri": "https://localhost:8080/",
          "height": 206
        },
        "id": "vRpcVQi1i5DX",
        "outputId": "6b76c084-b3f3-4b8b-9130-4414a3348864"
      },
      "execution_count": null,
      "outputs": [
        {
          "output_type": "execute_result",
          "data": {
            "text/plain": [
              "  CustomerID    Price  Frequency  Labels\n",
              "1    12747.0  1009.31         20       1\n",
              "3    12820.0   170.46         11       1\n",
              "4    12823.0   535.50          2       1\n",
              "5    12826.0   697.10         49       0\n",
              "6    12829.0   332.95         12       1"
            ],
            "text/html": [
              "\n",
              "  <div id=\"df-9121087a-62db-451c-907c-90d2799423f7\">\n",
              "    <div class=\"colab-df-container\">\n",
              "      <div>\n",
              "<style scoped>\n",
              "    .dataframe tbody tr th:only-of-type {\n",
              "        vertical-align: middle;\n",
              "    }\n",
              "\n",
              "    .dataframe tbody tr th {\n",
              "        vertical-align: top;\n",
              "    }\n",
              "\n",
              "    .dataframe thead th {\n",
              "        text-align: right;\n",
              "    }\n",
              "</style>\n",
              "<table border=\"1\" class=\"dataframe\">\n",
              "  <thead>\n",
              "    <tr style=\"text-align: right;\">\n",
              "      <th></th>\n",
              "      <th>CustomerID</th>\n",
              "      <th>Price</th>\n",
              "      <th>Frequency</th>\n",
              "      <th>Labels</th>\n",
              "    </tr>\n",
              "  </thead>\n",
              "  <tbody>\n",
              "    <tr>\n",
              "      <th>1</th>\n",
              "      <td>12747.0</td>\n",
              "      <td>1009.31</td>\n",
              "      <td>20</td>\n",
              "      <td>1</td>\n",
              "    </tr>\n",
              "    <tr>\n",
              "      <th>3</th>\n",
              "      <td>12820.0</td>\n",
              "      <td>170.46</td>\n",
              "      <td>11</td>\n",
              "      <td>1</td>\n",
              "    </tr>\n",
              "    <tr>\n",
              "      <th>4</th>\n",
              "      <td>12823.0</td>\n",
              "      <td>535.50</td>\n",
              "      <td>2</td>\n",
              "      <td>1</td>\n",
              "    </tr>\n",
              "    <tr>\n",
              "      <th>5</th>\n",
              "      <td>12826.0</td>\n",
              "      <td>697.10</td>\n",
              "      <td>49</td>\n",
              "      <td>0</td>\n",
              "    </tr>\n",
              "    <tr>\n",
              "      <th>6</th>\n",
              "      <td>12829.0</td>\n",
              "      <td>332.95</td>\n",
              "      <td>12</td>\n",
              "      <td>1</td>\n",
              "    </tr>\n",
              "  </tbody>\n",
              "</table>\n",
              "</div>\n",
              "      <button class=\"colab-df-convert\" onclick=\"convertToInteractive('df-9121087a-62db-451c-907c-90d2799423f7')\"\n",
              "              title=\"Convert this dataframe to an interactive table.\"\n",
              "              style=\"display:none;\">\n",
              "        \n",
              "  <svg xmlns=\"http://www.w3.org/2000/svg\" height=\"24px\"viewBox=\"0 0 24 24\"\n",
              "       width=\"24px\">\n",
              "    <path d=\"M0 0h24v24H0V0z\" fill=\"none\"/>\n",
              "    <path d=\"M18.56 5.44l.94 2.06.94-2.06 2.06-.94-2.06-.94-.94-2.06-.94 2.06-2.06.94zm-11 1L8.5 8.5l.94-2.06 2.06-.94-2.06-.94L8.5 2.5l-.94 2.06-2.06.94zm10 10l.94 2.06.94-2.06 2.06-.94-2.06-.94-.94-2.06-.94 2.06-2.06.94z\"/><path d=\"M17.41 7.96l-1.37-1.37c-.4-.4-.92-.59-1.43-.59-.52 0-1.04.2-1.43.59L10.3 9.45l-7.72 7.72c-.78.78-.78 2.05 0 2.83L4 21.41c.39.39.9.59 1.41.59.51 0 1.02-.2 1.41-.59l7.78-7.78 2.81-2.81c.8-.78.8-2.07 0-2.86zM5.41 20L4 18.59l7.72-7.72 1.47 1.35L5.41 20z\"/>\n",
              "  </svg>\n",
              "      </button>\n",
              "      \n",
              "  <style>\n",
              "    .colab-df-container {\n",
              "      display:flex;\n",
              "      flex-wrap:wrap;\n",
              "      gap: 12px;\n",
              "    }\n",
              "\n",
              "    .colab-df-convert {\n",
              "      background-color: #E8F0FE;\n",
              "      border: none;\n",
              "      border-radius: 50%;\n",
              "      cursor: pointer;\n",
              "      display: none;\n",
              "      fill: #1967D2;\n",
              "      height: 32px;\n",
              "      padding: 0 0 0 0;\n",
              "      width: 32px;\n",
              "    }\n",
              "\n",
              "    .colab-df-convert:hover {\n",
              "      background-color: #E2EBFA;\n",
              "      box-shadow: 0px 1px 2px rgba(60, 64, 67, 0.3), 0px 1px 3px 1px rgba(60, 64, 67, 0.15);\n",
              "      fill: #174EA6;\n",
              "    }\n",
              "\n",
              "    [theme=dark] .colab-df-convert {\n",
              "      background-color: #3B4455;\n",
              "      fill: #D2E3FC;\n",
              "    }\n",
              "\n",
              "    [theme=dark] .colab-df-convert:hover {\n",
              "      background-color: #434B5C;\n",
              "      box-shadow: 0px 1px 3px 1px rgba(0, 0, 0, 0.15);\n",
              "      filter: drop-shadow(0px 1px 2px rgba(0, 0, 0, 0.3));\n",
              "      fill: #FFFFFF;\n",
              "    }\n",
              "  </style>\n",
              "\n",
              "      <script>\n",
              "        const buttonEl =\n",
              "          document.querySelector('#df-9121087a-62db-451c-907c-90d2799423f7 button.colab-df-convert');\n",
              "        buttonEl.style.display =\n",
              "          google.colab.kernel.accessAllowed ? 'block' : 'none';\n",
              "\n",
              "        async function convertToInteractive(key) {\n",
              "          const element = document.querySelector('#df-9121087a-62db-451c-907c-90d2799423f7');\n",
              "          const dataTable =\n",
              "            await google.colab.kernel.invokeFunction('convertToInteractive',\n",
              "                                                     [key], {});\n",
              "          if (!dataTable) return;\n",
              "\n",
              "          const docLinkHtml = 'Like what you see? Visit the ' +\n",
              "            '<a target=\"_blank\" href=https://colab.research.google.com/notebooks/data_table.ipynb>data table notebook</a>'\n",
              "            + ' to learn more about interactive tables.';\n",
              "          element.innerHTML = '';\n",
              "          dataTable['output_type'] = 'display_data';\n",
              "          await google.colab.output.renderOutput(dataTable, element);\n",
              "          const docLink = document.createElement('div');\n",
              "          docLink.innerHTML = docLinkHtml;\n",
              "          element.appendChild(docLink);\n",
              "        }\n",
              "      </script>\n",
              "    </div>\n",
              "  </div>\n",
              "  "
            ]
          },
          "metadata": {},
          "execution_count": 117
        }
      ]
    },
    {
      "cell_type": "code",
      "source": [
        "data_s=pd.DataFrame(scaled_X).rename({0:'Price',1:'Frequency'},axis=1)"
      ],
      "metadata": {
        "id": "_jq6DGy9mYxM"
      },
      "execution_count": null,
      "outputs": []
    },
    {
      "cell_type": "code",
      "source": [
        "data_s.head()"
      ],
      "metadata": {
        "colab": {
          "base_uri": "https://localhost:8080/",
          "height": 206
        },
        "id": "ARBVMi5Wmnox",
        "outputId": "94072fe1-45a8-4ed4-f416-20aca4482ace"
      },
      "execution_count": null,
      "outputs": [
        {
          "output_type": "execute_result",
          "data": {
            "text/plain": [
              "     Amount  Frequency\n",
              "0  0.175580   0.112426\n",
              "1  0.029472   0.059172\n",
              "2  0.093054   0.005917\n",
              "3  0.121200   0.284024\n",
              "4  0.057774   0.065089"
            ],
            "text/html": [
              "\n",
              "  <div id=\"df-f71c8b4d-c544-41ae-956d-46c1ae58da1b\">\n",
              "    <div class=\"colab-df-container\">\n",
              "      <div>\n",
              "<style scoped>\n",
              "    .dataframe tbody tr th:only-of-type {\n",
              "        vertical-align: middle;\n",
              "    }\n",
              "\n",
              "    .dataframe tbody tr th {\n",
              "        vertical-align: top;\n",
              "    }\n",
              "\n",
              "    .dataframe thead th {\n",
              "        text-align: right;\n",
              "    }\n",
              "</style>\n",
              "<table border=\"1\" class=\"dataframe\">\n",
              "  <thead>\n",
              "    <tr style=\"text-align: right;\">\n",
              "      <th></th>\n",
              "      <th>Amount</th>\n",
              "      <th>Frequency</th>\n",
              "    </tr>\n",
              "  </thead>\n",
              "  <tbody>\n",
              "    <tr>\n",
              "      <th>0</th>\n",
              "      <td>0.175580</td>\n",
              "      <td>0.112426</td>\n",
              "    </tr>\n",
              "    <tr>\n",
              "      <th>1</th>\n",
              "      <td>0.029472</td>\n",
              "      <td>0.059172</td>\n",
              "    </tr>\n",
              "    <tr>\n",
              "      <th>2</th>\n",
              "      <td>0.093054</td>\n",
              "      <td>0.005917</td>\n",
              "    </tr>\n",
              "    <tr>\n",
              "      <th>3</th>\n",
              "      <td>0.121200</td>\n",
              "      <td>0.284024</td>\n",
              "    </tr>\n",
              "    <tr>\n",
              "      <th>4</th>\n",
              "      <td>0.057774</td>\n",
              "      <td>0.065089</td>\n",
              "    </tr>\n",
              "  </tbody>\n",
              "</table>\n",
              "</div>\n",
              "      <button class=\"colab-df-convert\" onclick=\"convertToInteractive('df-f71c8b4d-c544-41ae-956d-46c1ae58da1b')\"\n",
              "              title=\"Convert this dataframe to an interactive table.\"\n",
              "              style=\"display:none;\">\n",
              "        \n",
              "  <svg xmlns=\"http://www.w3.org/2000/svg\" height=\"24px\"viewBox=\"0 0 24 24\"\n",
              "       width=\"24px\">\n",
              "    <path d=\"M0 0h24v24H0V0z\" fill=\"none\"/>\n",
              "    <path d=\"M18.56 5.44l.94 2.06.94-2.06 2.06-.94-2.06-.94-.94-2.06-.94 2.06-2.06.94zm-11 1L8.5 8.5l.94-2.06 2.06-.94-2.06-.94L8.5 2.5l-.94 2.06-2.06.94zm10 10l.94 2.06.94-2.06 2.06-.94-2.06-.94-.94-2.06-.94 2.06-2.06.94z\"/><path d=\"M17.41 7.96l-1.37-1.37c-.4-.4-.92-.59-1.43-.59-.52 0-1.04.2-1.43.59L10.3 9.45l-7.72 7.72c-.78.78-.78 2.05 0 2.83L4 21.41c.39.39.9.59 1.41.59.51 0 1.02-.2 1.41-.59l7.78-7.78 2.81-2.81c.8-.78.8-2.07 0-2.86zM5.41 20L4 18.59l7.72-7.72 1.47 1.35L5.41 20z\"/>\n",
              "  </svg>\n",
              "      </button>\n",
              "      \n",
              "  <style>\n",
              "    .colab-df-container {\n",
              "      display:flex;\n",
              "      flex-wrap:wrap;\n",
              "      gap: 12px;\n",
              "    }\n",
              "\n",
              "    .colab-df-convert {\n",
              "      background-color: #E8F0FE;\n",
              "      border: none;\n",
              "      border-radius: 50%;\n",
              "      cursor: pointer;\n",
              "      display: none;\n",
              "      fill: #1967D2;\n",
              "      height: 32px;\n",
              "      padding: 0 0 0 0;\n",
              "      width: 32px;\n",
              "    }\n",
              "\n",
              "    .colab-df-convert:hover {\n",
              "      background-color: #E2EBFA;\n",
              "      box-shadow: 0px 1px 2px rgba(60, 64, 67, 0.3), 0px 1px 3px 1px rgba(60, 64, 67, 0.15);\n",
              "      fill: #174EA6;\n",
              "    }\n",
              "\n",
              "    [theme=dark] .colab-df-convert {\n",
              "      background-color: #3B4455;\n",
              "      fill: #D2E3FC;\n",
              "    }\n",
              "\n",
              "    [theme=dark] .colab-df-convert:hover {\n",
              "      background-color: #434B5C;\n",
              "      box-shadow: 0px 1px 3px 1px rgba(0, 0, 0, 0.15);\n",
              "      filter: drop-shadow(0px 1px 2px rgba(0, 0, 0, 0.3));\n",
              "      fill: #FFFFFF;\n",
              "    }\n",
              "  </style>\n",
              "\n",
              "      <script>\n",
              "        const buttonEl =\n",
              "          document.querySelector('#df-f71c8b4d-c544-41ae-956d-46c1ae58da1b button.colab-df-convert');\n",
              "        buttonEl.style.display =\n",
              "          google.colab.kernel.accessAllowed ? 'block' : 'none';\n",
              "\n",
              "        async function convertToInteractive(key) {\n",
              "          const element = document.querySelector('#df-f71c8b4d-c544-41ae-956d-46c1ae58da1b');\n",
              "          const dataTable =\n",
              "            await google.colab.kernel.invokeFunction('convertToInteractive',\n",
              "                                                     [key], {});\n",
              "          if (!dataTable) return;\n",
              "\n",
              "          const docLinkHtml = 'Like what you see? Visit the ' +\n",
              "            '<a target=\"_blank\" href=https://colab.research.google.com/notebooks/data_table.ipynb>data table notebook</a>'\n",
              "            + ' to learn more about interactive tables.';\n",
              "          element.innerHTML = '';\n",
              "          dataTable['output_type'] = 'display_data';\n",
              "          await google.colab.output.renderOutput(dataTable, element);\n",
              "          const docLink = document.createElement('div');\n",
              "          docLink.innerHTML = docLinkHtml;\n",
              "          element.appendChild(docLink);\n",
              "        }\n",
              "      </script>\n",
              "    </div>\n",
              "  </div>\n",
              "  "
            ]
          },
          "metadata": {},
          "execution_count": 146
        }
      ]
    },
    {
      "cell_type": "code",
      "source": [
        "data_s['Labels']=labels"
      ],
      "metadata": {
        "id": "52JWv-kMmvn8"
      },
      "execution_count": null,
      "outputs": []
    },
    {
      "cell_type": "markdown",
      "source": [
        "### Visualizing the clusters"
      ],
      "metadata": {
        "id": "_nsEznhUdK-W"
      }
    },
    {
      "cell_type": "code",
      "source": [
        "df_red=data_s[data_s['Labels']==1]"
      ],
      "metadata": {
        "id": "EViBD5rkjgID"
      },
      "execution_count": null,
      "outputs": []
    },
    {
      "cell_type": "code",
      "source": [
        "df_green=data_s[data_s['Labels']==0]\n",
        "df_blue=data_s[data_s['Labels']==2]"
      ],
      "metadata": {
        "id": "IxyPn2CBjmi1"
      },
      "execution_count": null,
      "outputs": []
    },
    {
      "cell_type": "code",
      "source": [
        "fig, ax = plt.subplots(figsize=(10, 6))\n",
        "plt.scatter(x=df_red['Price'],y=df_red['Frequency'],color='red')\n",
        "plt.scatter(x=df_blue['Price'],y=df_blue['Frequency'],color='blue')\n",
        "plt.scatter(x=df_green['Price'],y=df_green['Frequency'],color='green')\n",
        "plt.scatter(centroids[0,0], centroids[0,1], marker='*', s=100,\n",
        "            c='black', label='centroid')\n",
        "plt.scatter(centroids[1,0], centroids[1,1], marker='*', s=100,\n",
        "            c='black', label='centroid')\n",
        "plt.scatter(centroids[2,0], centroids[2,1], marker='*', s=100,\n",
        "            c='black', label='centroid')\n",
        "plt.xlabel(\"Price\")\n",
        "plt.ylabel(\"Frequency\")\n",
        "plt.show()"
      ],
      "metadata": {
        "colab": {
          "base_uri": "https://localhost:8080/",
          "height": 388
        },
        "id": "X77nfT89ceOW",
        "outputId": "8b9af5d4-ab22-412b-dc53-63637c1831f5"
      },
      "execution_count": null,
      "outputs": [
        {
          "output_type": "display_data",
          "data": {
            "text/plain": [
              "<Figure size 720x432 with 1 Axes>"
            ],
            "image/png": "[encoded data removed]"
          },
          "metadata": {
            "needs_background": "light"
          }
        }
      ]
    },
    {
      "cell_type": "markdown",
      "source": [
        "#### Choosing the right K(number of clusters)"
      ],
      "metadata": {
        "id": "r8j8UtrYdUfX"
      }
    },
    {
      "cell_type": "code",
      "source": [
        "plt.rcParams['figure.figsize'] = [12, 8]\n",
        "sse = []\n",
        "list_k = list(range(1, 11,2))\n",
        "\n",
        "for k in list_k:\n",
        "    km = KMeans(n_clusters=k)\n",
        "    km.fit(scaled_X)\n",
        "    sse.append(km.inertia_)\n",
        "\n",
        "# Plot sse against k\n",
        "plt.plot(list_k, sse, '-o')\n",
        "plt.xlabel(r'Number of clusters *k*')\n",
        "plt.ylabel('Sum of squared distance');"
      ],
      "metadata": {
        "colab": {
          "base_uri": "https://localhost:8080/",
          "height": 497
        },
        "id": "NKg2eVUTcdQx",
        "outputId": "7268acb5-e7a7-47ba-d9a1-cd22cf6f0ed3"
      },
      "execution_count": null,
      "outputs": [
        {
          "output_type": "display_data",
          "data": {
            "text/plain": [
              "<Figure size 864x576 with 1 Axes>"
            ],
            "image/png": "[encoded data removed]"
          },
          "metadata": {
            "needs_background": "light"
          }
        }
      ]
    },
    {
      "cell_type": "code",
      "source": [
        "fig = go.Figure()\n",
        "dfs = {\"Cluster 2\" : df_red, \"Cluster 1\": df_green, \"Cluster 3\" : df_blue}\n",
        "for i in dfs:\n",
        "    fig = fig.add_trace(go.Scatter(x = dfs[i][\"Price\"],\n",
        "                                   y = dfs[i][\"Frequency\"], \n",
        "                                   name = i))\n",
        "fig.show()"
      ],
      "metadata": {
        "colab": {
          "base_uri": "https://localhost:8080/",
          "height": 542
        },
        "id": "jjGu8614sVGE",
        "outputId": "cc03f546-4353-4126-89b3-c34a4140c6c4"
      },
      "execution_count": null,
      "outputs": [
        {
          "output_type": "display_data",
          "data": {
            "text/html": [
              "<html>\n",
              "<head><meta charset=\"utf-8\" /></head>\n",
              "<body>\n",
              "    <div>            <script src=\"https://cdnjs.cloudflare.com/ajax/libs/mathjax/2.7.5/MathJax.js?config=TeX-AMS-MML_SVG\"></script><script type=\"text/javascript\">if (window.MathJax) {MathJax.Hub.Config({SVG: {font: \"STIX-Web\"}});}</script>                <script type=\"text/javascript\">window.PlotlyConfig = {MathJaxConfig: 'local'};</script>\n",
              "        <script src=\"https://cdn.plot.ly/plotly-2.8.3.min.js\"></script>                <div id=\"9ced8fe7-460a-44cf-b45f-36824fc31cc4\" class=\"plotly-graph-div\" style=\"height:525px; width:100%;\"></div>            <script type=\"text/javascript\">                                    window.PLOTLYENV=window.PLOTLYENV || {};                                    if (document.getElementById(\"9ced8fe7-460a-44cf-b45f-36824fc31cc4\")) {                    Plotly.newPlot(                        \"9ced8fe7-460a-44cf-b45f-36824fc31cc4\",                        [{\"name\":\"Cluster 2\",\"x\":[0.17557983181568002,0.02947231647077676,0.09305351382608879,0.05777417039983837,0.05390398026934574,0.011119394146293884,0.056102081054531024,0.07709028585760767,0.0064183846223516555,0.0023775020378588893,0.05094821399956806,0.05716629625242977,0.007097670918882766,0.022216145416036736,0.12309886924958025,0.12717807054823632,0.03455651313635193,0.009917579929354227,0.06811848146419291,0.020308918506545533,0.3403659785554542,0.07496185546181018,0.0448503131684003,0.0004354399336737893,0.049762075620240646,0.08041704695087541,0.054576299526938064,0.018605477486013672,0.07299366696160466,0.0662129963144364,0.00392766820173758,0.3335382803954492,0.01676443744644089,0.017704987703176276,0.05615433384657187,0.034922282680637906,0.02084886402430103,0.04863341531215818,0.008586875492047126,0.06549364954400731,0.03189684602147242,0.2505956818292658,0.06640458988525287,0.03297151177777933,0.02867110699281699,0.06859920715096877,0.026567061233305236,0.03519225543951566,0.03563814593159762,0.028521315655633202,0.06587161140643616,0.04822061825503544,0.0320832143130848,0.07862129266440472,0.17097113555767665,0.01750642709342103,0.09982721743431824,0.06075432130590178,0.05331526547901877,0.002325249245818035,0.03537339845192395,0.008900392244292253,0.003283217099900372,0.03343830338667763,0.027347369594448664,0.019107104289605877,0.05116419220667025,0.06540133627806846,0.03423777110490271,0.044442741390481634,0.019420621041851004,0.061552047264392167,0.02422787790960964,0.02868504107069455,0.10864923049054921,0.036798157914904595,0.02912222276410303,0.077151247448322,0.0190635602962385,0.05277357820152857,0.015658420014909465,0.038809890408477495,0.08277364787191797,0.039093797245232806,0.007620198839291314,0.11511638438547235,0.10254610438017739,0.035702591041781334,0.035392557809005604,0.030073223579246588,0.052108225982875025,0.0501017187685062,0.07492702026711628,0.05330655668034529,0.04124487051758133,0.19322211616840726,0.1648836852849171,0.22768805779855505,0.06123156347320825,0.05827405544369588,0.06762382169953948,0.005948109493983964,0.06123330523294295,0.0722586443535633,0.05443173346895836,0.07008318644492904,0.10459615558791359,0.05347724913434542,0.027659144586959103,0.04336807563417472,0.06771090968627425,0.06972612569931654,0.032004835125023515,0.042692272857113,0.05501696473981594,0.03207450551441132,0.0005225279204085472,0.03342436930880007,0.04083207346045858,0.05486717340263216,0.16005552730034212,0.09321201396194603,0.031221043244410697,0.01974284659276961,0.0806382504371817,0.09853134819170506,0.01902001630287112,0.05298433112942669,0.028834832407878333,0.02836455727951064,0.015771634397664654,0.0544212829105502,0.01897298879003435,0.018910285439585325,0.02846906286359235,0.020335044902565963,0.024584938655222148,0.05361310639365164,0.038017389729191206,0.011978081695498596,0.05258372639044681,0.03561898657451597,0.07561675712205557,0.03041983376645092,0.05398410121714171,0.24798304222722303,0.03423428758543332,0.05356782064054957,0.02812071091665332,0.010938251133885588,0.07715821448726078,0.005355911184187609,0.024083311851629943,0.017112789393379922,0.05519462423275484,0.05739795029714422,0.07891042478036411,0.051695428925752275,0.01964704980736138,0.02740310590595891,0.013646687521336557,0.03531417862094432,0.11975469055896555,0.05138191217350714,0.02695373189440756,0.17472462778594472,0.05719764792765427,0.03991242432053953,0.018314603610319582,0.01277580765398898,0.05929821016769663,0.18914465662948593,0.019394494645830578,0.07692133516334224,0.017548229327053712,0.07084607720872553,0.018776169940013798,0.07143827551852187,0.1626368152271603,0.04268530581817422,0.03481951885629089,0.0212581775619544,0.07921523273393576,0.022311942201444966,0.09391568489476289,0.059115325395553635,0.05342847986177395,0.17837187267039636,0.005112064821330287,0.033824974047779954,0.14279817184898247,0.029522827503082917,0.026941539576264696,0.03712560874502728,0.034812551817352114,0.029784091463287192,0.0786230344241394,0.05332397427769224,0.03397302362522904,0.017548229327053712,0.036805124953843374,0.08687026676792098,0.035505772191760786,0.017626608515114994,0.03718482857600692,0.04937888847860771,0.05225105028112003,0.05280841339622248,0.05231375363156906,0.019255153867054967,0.21780705482362944,0.05461636000083605,0.04608696258003387,0.02351201465864993,0.031525851197982346,0.013075390328356548,0.3209680003901542,0.1551907923613385,0.03376923773626971,0.003248381905206468,0.054583266565876844,0.0578351319905527,0.05409209032069281,0.053111479590059435,0.04910020692105648,0.030729866999226665,0.025621285697365766,0.06634885357374264,0.034208161189412896,0.06910431747403037,0.08982254951822928,0.011493872489253345,0.041270996913601754,0.003248381905206468,0.060386810001881105,0.025525488911957533,0.20743487560351978,0.06871242153372396,0.05429587620965214,0.054290650930448055,0.05359394703656999,0.10967861049375408,0.032753791810942436,0.02782461176175514,0.02536002173716149,0.02758076539889782,0.02387952596267061,0.052484446085569174,0.0023078316484710835,0.08559007336292004,0.059211122180961875,0.09923676088425659,0.05590874572397986,0.13646861697310028,0.0018985181108177214,0.0882671580751465,0.0017853037280625363,0.03223997268920737,0.10798736179136506,0.0757874495760557,0.05670647168247024,0.06101035998690198,0.061727964997596384,0.045493022510502815,0.030158569806246652,0.026779555920938045,0.017286965366849438,0.013115450802254534,0.019112329568809965,0.024584938655222148,0.05660719137759262,0.0019664467404708324,0.0397817923404374,0.01900259870552417,0.09594831850515213,0.14213630314979833,0.02375760278124195,0.18493133983125834,0.020866281621647987,0.03761330147074192,0.021397518340730007,0.03523579943288304,0.08991137926469872,0.010755366361742597,0.022756090933792234,0.01652059108358357,0.017609190917768042,0.027829837040959225,0.019575637658238876,0.01389053388419388,0.10381758898650485,0.12227153337560005,0.022721255739098327,0.05692941692851122,0.028521315655633202,0.030158569806246652,0.05253321535814064,0.02379243797593585,0.02193746385848551,0.09363003629827289,0.08569806246647113,0.02873381034326601,0.011439877937477794,0.0030480795357165254,0.044240697261257,0.028521315655633202,0.04775905192534122,0.12639950394682758,0.07039321967770479,0.07528756453219818,0.03390335323584124,0.16459629492869238,0.05663331777361304,0.03495537611559711,0.03223823092947267,0.11816446392118886,0.005948109493983964,0.0067057749785763565,0.044197153267889616,0.028312304487469787,0.06829091567792774,0.03531417862094432,0.02486362021277337,0.04116649132952005,0.03925926442002885,0.05302787512279407,0.0035880250534720244,0.05368974382197823,0.06651606250827337,0.032440275058697315,0.05983989744518683,0.016668640661032658,0.04947120174454656,0.06483526436429254,0.0,0.0002264287655103704,0.07794548988734298,0.04288212466819477,0.035157420244821755,0.07537465251893294,0.035448294120515846,0.16410686044324305,0.08605163969261426,0.16290330446656867,0.03954142949704946,0.02148460632746477,0.01676443744644089,0.039964677112580387,0.04830770624177019,0.07059526380692943,0.09703517657960191,0.0023078316484710835,0.05796576397065484,0.03463489232441321,0.01975678067064717,0.030977196881553374,0.012963917705336057,0.09421178404966106,0.018811005134707702,0.026410302857182672,0.008282067538475473,0.10115269659242127,0.07611141688670899,0.10515874398222012,0.06481087972800681,0.006261626246229092,0.017840844962482498,0.05372283725693743,0.020848864024301035,0.07535549316185129,0.022285815805424537,0.023452794827670296,0.04458382392899195,0.03035016337706312,0.08673963478781883,0.052186605170936304,0.051172901005343725,0.030900559453226787,0.058566671079124666,0.026945023095734082,0.028207798903388072,0.019159357081646733,0.032173785819288946,0.020488319759219137,0.01697344861460431,0.035963855001985616,0.1967753060271854,0.03619899256616946,0.018279768415625678,0.08881929591104486,0.01914193948429978,0.06619906223655884,0.1943194248012652,0.018903318400646546,0.06794430549072339,0.029331233932266453,0.0500320483791184,0.04490256596044116,0.051190318602690674,0.07100980262378687,0.061684421004229,0.057817714393205745,0.02104916639379098,0.0656765343161503,0.027329951997101715,0.029120481004368336,0.08473661109291941,0.26879707105683015,0.023426668431649866,0.015022677711745732,0.00138469898908265,0.24250172434213738,0.05464771167606056,0.16976061254206354,0.061283816265249105,0.03669713585029227,0.0549229097141424,0.011173388698069435,0.0665038701901305,0.057547741634328,0.00498143284122815,0.10109347676144162,0.12038172406345579,0.10167522451282981,0.05790131886047112,0.02667679209659103,0.055210300070367105,0.055701476315551134,0.057939637574634405,0.032179011098493034,0.07302327687709448,0.03095107048553295,0.020561473668076334,0.18352051444615528,0.05266384733824278,0.028634530038388388,0.33087687152083495,0.02123205116593397,0.05090118648673128,0.028521315655633202,0.05407467272334585,0.0028651947635735336,0.04374777925633827,0.03489615628461748,0.019925731364912602,0.054064222164937684,0.07274807883901264,0.05656364738422524,0.03611712985863879,0.018164812273135798,0.03986017152849868,0.05381515052287628,0.062273135794555956,0.10213853260225872,0.01849748838246257,0.016154821539297586,0.028521315655633202,0.051174642765078424,0.016799272641134795,0.02680916583642786,0.08593668355012436,0.030977196881553374,0.04005524861878453,0.0,0.09530735092278432,0.16927291981634887,0.04332627340054204,0.0174088885482781,0.10085659743752308,0.02205242000097539,0.02335351452279267,0.023801146774609323,0.02321765726348645,0.046842886304891564,0.0500320483791184,0.004946597646534247,0.033807556450433006,0.059852089763329695,0.03199612632635004,0.005040652672207786,0.10537472218932233,0.06555112761525225,0.018028955013829576,0.01794012526736012,0.07371823901123785,0.0488790034347502,0.05537576724516314,0.016154821539297586,0.05349292497195768,0.0328408797976772,0.14190987438428795,0.1078323451749772,0.03623731128033275,0.053741996614019086,0.004624372095615643,0.029923432242062807,0.0831934119679795,0.017809493287257984,0.052000236879323924,0.03132554882849241,0.05622400423595968,0.023835981969303227,0.0615746901409432,0.045007071544522874,0.01357701713194875,0.05459197536455032,0.032011802163962294,0.13540440177520152,0.03063755373328782,0.01429984742184724,0.060970299513003985,0.06019869995053403,0.26282283516682575,0.05555691025757143,0.034408463558902834,0.06550235834268078,0.04242055833850056,0.03583322302188347,0.07645454355444394,0.15144775069147862,0.06317188381765866,0.003936377000411055,0.052228407404568994,0.26379822061825503,0.05753903283565453,0.020500512077362008,0.03125239491963521,0.12994398500693222,0.017663185469543593,0.04442706555286938,0.06811499794472353,0.002394919635205841,0.02615948945538657,0.009579678540823365,0.027873381034326603,0.06516794047361932,0.021916562741669168,0.05512321208363234,0.012828060446029835,0.006714483777249832,0.03130813123114545,0.07447242097636085,0.07450203089185066,0.09947712372764453,0.02698682532936677,0.027981370137877704,0.05449095329993801,0.13250437181693409,0.087727212557391,0.04680979286993236,0.05822528617112442,0.019547769502483752,0.04563410504901312,0.2054841047006612,0.018959054712156788,0.06997868086084734,0.0574763294852055,0.02653570955808072,0.10489051298307708,0.012819351647356357,0.05340235346575353,0.04444796666968572,0.042901284025276425,0.10155678485087052,0.025987055241651746,0.027232413451958787,0.05865027554639004,0.03136909282185978,0.04828157984574976,0.004084426577860145,0.14824987981857832,0.054647711676060556,0.023494597061302976,0.02396313042993598,0.04329840524478692,0.053924881386162075,0.05018009795656749,0.15503403398521595,0.11224073906349064,0.05167452780893593,0.0011669790222457554,0.02140448537966879,0.013075390328356548,0.0787658587223844,0.03723185608884368,0.05270390781214077,0.07669838991730125,0.0700622853281127,0.14347745814551358,0.05337274355026371,0.06340353786237311,0.030167278604920123,0.027876864553795996,0.08187141632934587,0.02882438184947016,0.07660259313189302,0.06132910201835119,0.03917043467355939,0.0511798680442825,0.0052949495934732785,0.02298600321877199,0.0020291500909198584,0.029096096368082608,0.06575142998474219,0.039210495147457385,0.05879658336410443,0.0991949586506239,0.02108400158848488,0.43669922596197397,0.009100694613782196,0.06818118481464193,0.02658796235012158,0.2253750008708799,0.05437773891718281,0.06395915921774087,0.02888534344018449,0.0497794932175876,0.025420983327875825,0.01621752488974661,0.05419659590477451,0.11574864316916668,0.03356371008757568,0.028913211595939615,0.05869556129949211,0.022172601422669358,0.043789581489970954,0.008665254680108408,0.05250534720238552,0.06832052559341754,0.03653341043523093,0.09244041439947609,0.06835536078811145,0.018788362258156666,0.03771954881455833,0.02204196944256722,0.08902656531947357,0.0715079459079097,0.028521315655633202,0.06313008158402597,0.04299533905094996,0.05549420690712241,0.017844328481951888,0.12935178669713585,0.08422801725038842,0.332528059749326,0.020594567103035543,0.05396320010032537,0.016379508545073262,0.0009666766527558122,0.05764005490026684,0.03003664662481799,0.01631157991542015,0.09689583580082631,0.086035963855002,0.0507513951495475,0.005112064821330287,0.040443661039621555,0.07908111723436424,0.011904927786641399,0.020796611232260183,0.02170406805403636,0.20561125316129394,0.04856026140330099,0.028486480460939302,0.039389896400130985,0.25085172051026594,0.021247727003546223,0.04900441013564825,0.023365706840935533,0.0807427560212634,0.022381612590832774,0.001262775807653989,0.10407885294670914,0.22896302592435194,0.05836636870963473,0.039379445841722815,0.0004354399336737893,0.07472671789762635,0.1059947886548738,0.035923794528087624,0.3485522493085214,0.05483233820793825,0.018389499278911474,0.005704263131126641,0.05688587293514384,0.005686845533779689,0.08327353291577548,0.056467850598817,0.07115959396097066,0.05368626030250884,0.014021165864296017,0.06808016275002962,0.05506225049291801,0.0904530665421889,0.057680115374164835,0.07040889551531704,0.0036333108065740986,0.028643238837061866,0.001506622170511311,0.022082029916465205,0.03077689451206343,0.002560386810001881,0.030512147032389768,0.029487992308389017,0.044092647683807905,0.019540802463544973,0.04781652999658615,0.03988629792451911,0.03777005984686449,0.0685556631576014,0.04639177053360552,0.07834086934711879,0.011904927786641399,0.012744455978764467,0.029740547469919814,0.060186507632391154,0.0659656664321097,0.06198052015912717,0.062267910515351875,0.0019507709028585762,0.0,0.02353814105467036,0.12205381340876316,0.015458117645419522,0.08914500498143284,0.038034807326538154,0.07032354928831698,0.027819386482551056,0.0055562135536775525,0.053393644667080055,0.024480433071140437,0.05285544090905924,0.055570844335448996,0.005895856701943108,0.04609741313844204,0.05540886068012235,0.024854911414099894,0.10371308340242315,0.05505702521371393,0.026169940013794742,0.11072192457483647,0.08025157977607937,0.05792221997728746,0.020021528150320832,0.02713139138734647,0.027143583705489333,0.08696606355332921,0.05173026412044617,0.07719479144168938,0.07185455609511403,0.07370430493336029,0.03895619822619189,0.09019354434171935,0.04210704158625543,0.026870127427142197,0.043782614451032174,0.011573993437049322,0.06831878383368285,0.02455881225920172,0.059333045362390535,0.06684873861760014,0.02205938703991417,0.04661123226017711,0.038571269324824256,0.05038388384552681,0.09571840622017239,0.08153177318108032,0.03163035678206406,0.2944322908320735,0.026368500623549992,0.09670424223000984,0.09891453533333798,0.07832170999003714,0.02446127371405879,0.12209387388266114,0.04216974493670446,0.05333094131663103,0.010232838441334048,0.03350971553580013,0.0308239220249002,0.007620198839291314,0.025908676053590467,0.015830854228644286,0.025081340179610268,0.018218806824911345,0.06624783150913031,0.2135380017138916,0.0690172294872956,0.09938829398117507,0.0050075592372485775,0.10239282952352421,0.02893759623222535,0.02257320616164924,0.06537695164178274,0.019394494645830578,0.0795252659667115,0.011643663826437127,0.04330188876425631,0.12467690356921407,0.035279343426250415,0.030855273700124714,0.11002173716148902,0.04699267764207535,0.040100534371886605,0.02659492938906036,0.059045655006165834,0.025037796186242887,0.07340646401872741,0.15441570927939918,0.046600781701768935,0.001837556520103391,0.02442469675963019,0.05177729163328294,0.028016205332571608,0.05972319954296225,0.012113938954804821,0.07255474350846147,0.11524353284610508,0.02351201465864993,0.05402241993130501,0.05663331777361304,0.156850689388503,0.0465746553057485,0.011539158242355418,0.01746985013899243,0.0015153309691847867,0.043500449374011554,0.18392111918513515,0.0825071586325096,0.06446949482000655,0.06843896525537682,0.052150028216507716,0.05215699525544649,0.06797217364647852,0.05036298272871048,0.07885120494938447,0.031229752043084175,0.0014979133718378353,0.015135892094500917,0.023522465217058103,0.014360809012561572,0.018392982798380864,0.038193307462395416,0.026431203973999014,0.017548229327053712,0.05272655068869181,0.11867305776371986,0.05248270432583448,0.013827830533744853,0.02983460249559335,0.06429880236600644,0.01995185776093303,0.03809925243672187,0.017783366891237558,0.023478921223690725,0.017234712574808585,0.0334504957048205,0.0026056725631039557,0.002734562783471397,0.03261445103216682,0.037040262518027216,0.05989040847749299,0.03617983320908781,0.3703486306284966,0.02450133418795678,0.04190848097650018,0.05741710965422586,0.0064445110183720825,0.037111674667149715,0.05663331777361304,0.03547964579574035,0.07971511777779328,0.023008646095323035,0.01930392313962643,0.017086662997359493,0.06821602000933584,0.03776135104819101,0.01844697735015641,0.09521329589711079,0.04229515163760251,0.0339556060278821,0.18187280973713366,0.37913755024976836,0.07419025589934024,0.02158911191154648,0.052195313969609775,0.05119902740136415,0.011101976548946934,0.05482188764953008,0.02256623912271046,0.01768582834609463,0.028521315655633202,0.012584214083172512,0.006670939783882453,0.012714846063274648,0.012740972459295077,0.0631213727853525,0.1421415284290024,0.02935736032828688,0.017495976535012853,0.04488514836309421,0.08505883664383801,0.0002960991548981768,0.1199549929284555,0.0876923773626971,0.10081305344415573,0.11424724627785947,0.013075390328356548,0.03811841179380352,0.0312558784391046,0.050117394606118464,0.026370242383284684,0.005948109493983964,0.11474713132171696,0.054220980541060254,0.019626148690545037,0.09212167236802687,0.052301561313426184,0.041662892853908166,0.07408575031525852,0.03137954338026796,0.0034138490800025086,0.08438477562651099,0.03741648262072137,0.08414789630259245,0.08697825587147208,0.07320616164923746,0.0948510098722942,0.05344589745912091,0.07641970835975002,0.061722739718392296,0.008508496303985844,0.06576013878341568,0.06532469884974189,0.03432137557216808,0.002003023694899431],\"y\":[0.11242603550295857,0.05917159763313609,0.005917159763313609,0.0650887573964497,0.07692307692307691,0.11834319526627218,0.11242603550295857,0.1301775147928994,0.01183431952662722,0.005917159763313609,0.0,0.10059171597633136,0.0,0.005917159763313609,0.005917159763313609,0.05917159763313609,0.07100591715976332,0.005917159763313609,0.09467455621301775,0.04142011834319526,0.03550295857988165,0.15384615384615383,0.08875739644970414,0.0,0.07692307692307691,0.1301775147928994,0.11834319526627218,0.10650887573964496,0.17751479289940827,0.09467455621301775,0.04142011834319526,0.05325443786982248,0.01183431952662722,0.04142011834319526,0.10059171597633136,0.05917159763313609,0.03550295857988165,0.08284023668639053,0.01183431952662722,0.10650887573964496,0.047337278106508875,0.02958579881656805,0.0,0.05917159763313609,0.05917159763313609,0.08284023668639053,0.03550295857988165,0.047337278106508875,0.07692307692307691,0.0,0.03550295857988165,0.07100591715976332,0.03550295857988165,0.02958579881656805,0.14201183431952663,0.0,0.1301775147928994,0.05325443786982248,0.11834319526627218,0.01183431952662722,0.08875739644970414,0.01183431952662722,0.01183431952662722,0.07692307692307691,0.08284023668639053,0.01183431952662722,0.0,0.10059171597633136,0.05917159763313609,0.10650887573964496,0.04142011834319526,0.07100591715976332,0.1301775147928994,0.1301775147928994,0.11242603550295857,0.11242603550295857,0.14792899408284024,0.11834319526627218,0.005917159763313609,0.09467455621301775,0.023668639053254437,0.11834319526627218,0.08875739644970414,0.02958579881656805,0.0,0.15976331360946744,0.0,0.07692307692307691,0.05917159763313609,0.11242603550295857,0.11834319526627218,0.05917159763313609,0.16568047337278105,0.09467455621301775,0.07692307692307691,0.05325443786982248,0.14792899408284024,0.09467455621301775,0.047337278106508875,0.07100591715976332,0.11242603550295857,0.0,0.10650887573964496,0.13609467455621302,0.08875739644970414,0.08875739644970414,0.08284023668639053,0.09467455621301775,0.02958579881656805,0.04142011834319526,0.0,0.15384615384615383,0.04142011834319526,0.07100591715976332,0.1301775147928994,0.0650887573964497,0.0,0.05917159763313609,0.03550295857988165,0.10059171597633136,0.14792899408284024,0.15384615384615383,0.05325443786982248,0.01775147928994083,0.16568047337278105,0.17159763313609466,0.023668639053254437,0.08284023668639053,0.01183431952662722,0.05917159763313609,0.01775147928994083,0.04142011834319526,0.07100591715976332,0.1301775147928994,0.047337278106508875,0.05325443786982248,0.13609467455621302,0.07100591715976332,0.10650887573964496,0.01183431952662722,0.08284023668639053,0.047337278106508875,0.13609467455621302,0.09467455621301775,0.11242603550295857,0.04142011834319526,0.08284023668639053,0.10059171597633136,0.17751479289940827,0.04142011834319526,0.08875739644970414,0.01775147928994083,0.1301775147928994,0.0,0.05325443786982248,0.11242603550295857,0.17159763313609466,0.11834319526627218,0.03550295857988165,0.047337278106508875,0.0,0.0,0.04142011834319526,0.047337278106508875,0.04142011834319526,0.08875739644970414,0.02958579881656805,0.03550295857988165,0.03550295857988165,0.01775147928994083,0.08875739644970414,0.1242603550295858,0.03550295857988165,0.05917159763313609,0.0,0.005917159763313609,0.04142011834319526,0.15976331360946744,0.01775147928994083,0.09467455621301775,0.15976331360946744,0.03550295857988165,0.1301775147928994,0.04142011834319526,0.10059171597633136,0.13609467455621302,0.09467455621301775,0.07100591715976332,0.0,0.0650887573964497,0.11834319526627218,0.05917159763313609,0.0650887573964497,0.05917159763313609,0.09467455621301775,0.03550295857988165,0.01183431952662722,0.08875739644970414,0.07100591715976332,0.01183431952662722,0.0650887573964497,0.0,0.05917159763313609,0.023668639053254437,0.08875739644970414,0.047337278106508875,0.047337278106508875,0.03550295857988165,0.05917159763313609,0.14792899408284024,0.023668639053254437,0.08284023668639053,0.13609467455621302,0.07100591715976332,0.16568047337278105,0.0,0.08284023668639053,0.03550295857988165,0.05917159763313609,0.0,0.11242603550295857,0.10059171597633136,0.1242603550295858,0.0650887573964497,0.14792899408284024,0.07100591715976332,0.10059171597633136,0.11834319526627218,0.01183431952662722,0.0650887573964497,0.17159763313609466,0.01775147928994083,0.07692307692307691,0.0,0.08875739644970414,0.02958579881656805,0.023668639053254437,0.1242603550295858,0.05917159763313609,0.10059171597633136,0.10650887573964496,0.08284023668639053,0.01183431952662722,0.047337278106508875,0.04142011834319526,0.047337278106508875,0.04142011834319526,0.04142011834319526,0.005917159763313609,0.16568047337278105,0.10650887573964496,0.07100591715976332,0.10650887573964496,0.14201183431952663,0.01183431952662722,0.1242603550295858,0.005917159763313609,0.05325443786982248,0.17159763313609466,0.1301775147928994,0.16568047337278105,0.13609467455621302,0.07692307692307691,0.09467455621301775,0.05917159763313609,0.04142011834319526,0.01775147928994083,0.01775147928994083,0.09467455621301775,0.03550295857988165,0.1301775147928994,0.02958579881656805,0.15976331360946744,0.1952662721893491,0.11242603550295857,0.07692307692307691,0.04142011834319526,0.07692307692307691,0.1242603550295858,0.04142011834319526,0.11834319526627218,0.13609467455621302,0.11834319526627218,0.023668639053254437,0.047337278106508875,0.01183431952662722,0.10059171597633136,0.05917159763313609,0.01775147928994083,0.005917159763313609,0.03550295857988165,0.09467455621301775,0.08284023668639053,0.10650887573964496,0.0,0.05325443786982248,0.0650887573964497,0.07692307692307691,0.01775147928994083,0.10650887573964496,0.17751479289940827,0.07692307692307691,0.01775147928994083,0.03550295857988165,0.14792899408284024,0.0,0.14792899408284024,0.15384615384615383,0.1301775147928994,0.05325443786982248,0.05917159763313609,0.09467455621301775,0.005917159763313609,0.1301775147928994,0.07692307692307691,0.14792899408284024,0.0,0.01183431952662722,0.17751479289940827,0.023668639053254437,0.14201183431952663,0.0,0.0,0.0,0.02958579881656805,0.08875739644970414,0.023668639053254437,0.0650887573964497,0.10059171597633136,0.04142011834319526,0.16568047337278105,0.1242603550295858,0.1952662721893491,0.08284023668639053,0.0,0.0,0.07100591715976332,0.1242603550295858,0.05325443786982248,0.04142011834319526,0.05917159763313609,0.10059171597633136,0.10650887573964496,0.10059171597633136,0.08284023668639053,0.03550295857988165,0.03550295857988165,0.04142011834319526,0.09467455621301775,0.11242603550295857,0.1242603550295858,0.005917159763313609,0.10059171597633136,0.02958579881656805,0.01775147928994083,0.047337278106508875,0.02958579881656805,0.07692307692307691,0.10650887573964496,0.16568047337278105,0.005917159763313609,0.023668639053254437,0.16568047337278105,0.01183431952662722,0.1242603550295858,0.01183431952662722,0.0,0.08875739644970414,0.11834319526627218,0.17751479289940827,0.04142011834319526,0.05325443786982248,0.1834319526627219,0.05325443786982248,0.11834319526627218,0.09467455621301775,0.08284023668639053,0.1242603550295858,0.023668639053254437,0.08875739644970414,0.005917159763313609,0.023668639053254437,0.07692307692307691,0.1834319526627219,0.1301775147928994,0.15976331360946744,0.1242603550295858,0.05917159763313609,0.0,0.15976331360946744,0.04142011834319526,0.1301775147928994,0.02958579881656805,0.023668639053254437,0.11242603550295857,0.047337278106508875,0.08875739644970414,0.09467455621301775,0.10059171597633136,0.14792899408284024,0.07692307692307691,0.05325443786982248,0.04142011834319526,0.10650887573964496,0.01775147928994083,0.08284023668639053,0.15384615384615383,0.03550295857988165,0.05917159763313609,0.02958579881656805,0.005917159763313609,0.08875739644970414,0.08284023668639053,0.01775147928994083,0.01183431952662722,0.11242603550295857,0.047337278106508875,0.01183431952662722,0.1301775147928994,0.14201183431952663,0.005917159763313609,0.15976331360946744,0.05917159763313609,0.023668639053254437,0.08875739644970414,0.04142011834319526,0.08875739644970414,0.08284023668639053,0.10650887573964496,0.0650887573964497,0.09467455621301775,0.05325443786982248,0.02958579881656805,0.13609467455621302,0.11834319526627218,0.14792899408284024,0.01775147928994083,0.023668639053254437,0.09467455621301775,0.0,0.16568047337278105,0.01183431952662722,0.09467455621301775,0.023668639053254437,0.023668639053254437,0.0650887573964497,0.03550295857988165,0.08875739644970414,0.0650887573964497,0.04142011834319526,0.0,0.1242603550295858,0.11242603550295857,0.13609467455621302,0.03550295857988165,0.02958579881656805,0.05917159763313609,0.08875739644970414,0.02958579881656805,0.047337278106508875,0.15976331360946744,0.14201183431952663,0.14201183431952663,0.0,0.03550295857988165,0.05917159763313609,0.0,0.02958579881656805,0.15384615384615383,0.15976331360946744,0.17751479289940827,0.0650887573964497,0.0,0.1242603550295858,0.03550295857988165,0.01775147928994083,0.14201183431952663,0.01183431952662722,0.0650887573964497,0.0,0.10059171597633136,0.10650887573964496,0.07100591715976332,0.01183431952662722,0.17751479289940827,0.11242603550295857,0.10650887573964496,0.005917159763313609,0.11242603550295857,0.09467455621301775,0.005917159763313609,0.17159763313609466,0.05325443786982248,0.023668639053254437,0.005917159763313609,0.0650887573964497,0.17159763313609466,0.02958579881656805,0.10059171597633136,0.05325443786982248,0.05917159763313609,0.023668639053254437,0.11834319526627218,0.07692307692307691,0.0,0.10650887573964496,0.02958579881656805,0.04142011834319526,0.0650887573964497,0.023668639053254437,0.14201183431952663,0.11242603550295857,0.02958579881656805,0.1242603550295858,0.07100591715976332,0.14792899408284024,0.005917159763313609,0.09467455621301775,0.08875739644970414,0.09467455621301775,0.10059171597633136,0.005917159763313609,0.08284023668639053,0.02958579881656805,0.03550295857988165,0.04142011834319526,0.047337278106508875,0.14201183431952663,0.08284023668639053,0.047337278106508875,0.09467455621301775,0.0,0.1952662721893491,0.01775147928994083,0.08875739644970414,0.0650887573964497,0.11834319526627218,0.08875739644970414,0.023668639053254437,0.005917159763313609,0.005917159763313609,0.16568047337278105,0.14792899408284024,0.11242603550295857,0.08875739644970414,0.1893491124260355,0.05917159763313609,0.01775147928994083,0.023668639053254437,0.01775147928994083,0.17159763313609466,0.047337278106508875,0.1834319526627219,0.11242603550295857,0.13609467455621302,0.01775147928994083,0.16568047337278105,0.047337278106508875,0.13609467455621302,0.02958579881656805,0.09467455621301775,0.04142011834319526,0.03550295857988165,0.1301775147928994,0.005917159763313609,0.1242603550295858,0.09467455621301775,0.15976331360946744,0.07100591715976332,0.005917159763313609,0.10650887573964496,0.01183431952662722,0.05325443786982248,0.13609467455621302,0.10650887573964496,0.08875739644970414,0.07100591715976332,0.1242603550295858,0.14201183431952663,0.10650887573964496,0.0,0.03550295857988165,0.0,0.14792899408284024,0.05325443786982248,0.10059171597633136,0.023668639053254437,0.04142011834319526,0.01775147928994083,0.11242603550295857,0.10059171597633136,0.0650887573964497,0.14201183431952663,0.15976331360946744,0.0650887573964497,0.0650887573964497,0.11834319526627218,0.07692307692307691,0.11834319526627218,0.01183431952662722,0.08875739644970414,0.005917159763313609,0.05917159763313609,0.08875739644970414,0.07692307692307691,0.11834319526627218,0.17159763313609466,0.05917159763313609,0.01775147928994083,0.047337278106508875,0.14201183431952663,0.04142011834319526,0.07692307692307691,0.10650887573964496,0.03550295857988165,0.1952662721893491,0.11242603550295857,0.10650887573964496,0.01775147928994083,0.14792899408284024,0.10650887573964496,0.08284023668639053,0.023668639053254437,0.1242603550295858,0.11242603550295857,0.09467455621301775,0.0,0.11834319526627218,0.14201183431952663,0.07100591715976332,0.17159763313609466,0.11242603550295857,0.08875739644970414,0.07100591715976332,0.02958579881656805,0.15384615384615383,0.1242603550295858,0.0,0.07100591715976332,0.07100591715976332,0.17159763313609466,0.023668639053254437,0.14792899408284024,0.17751479289940827,0.0,0.1893491124260355,0.05917159763313609,0.023668639053254437,0.005917159763313609,0.11834319526627218,0.01183431952662722,0.005917159763313609,0.14792899408284024,0.10059171597633136,0.08875739644970414,0.0,0.07692307692307691,0.16568047337278105,0.0,0.02958579881656805,0.047337278106508875,0.1301775147928994,0.10059171597633136,0.04142011834319526,0.047337278106508875,0.10059171597633136,0.04142011834319526,0.01775147928994083,0.047337278106508875,0.16568047337278105,0.01183431952662722,0.0,0.01183431952662722,0.005917159763313609,0.10059171597633136,0.08875739644970414,0.0,0.17159763313609466,0.10650887573964496,0.047337278106508875,0.005917159763313609,0.08875739644970414,0.03550295857988165,0.0,0.10650887573964496,0.0,0.08284023668639053,0.11242603550295857,0.10650887573964496,0.10059171597633136,0.023668639053254437,0.07692307692307691,0.1242603550295858,0.17159763313609466,0.10650887573964496,0.07100591715976332,0.005917159763313609,0.05325443786982248,0.0,0.09467455621301775,0.15976331360946744,0.0,0.17159763313609466,0.08875739644970414,0.05325443786982248,0.04142011834319526,0.17751479289940827,0.07692307692307691,0.005917159763313609,0.10059171597633136,0.07692307692307691,0.11834319526627218,0.023668639053254437,0.023668639053254437,0.01183431952662722,0.0650887573964497,0.08875739644970414,0.0650887573964497,0.1301775147928994,0.005917159763313609,0.0,0.02958579881656805,0.0650887573964497,0.0,0.09467455621301775,0.07100591715976332,0.02958579881656805,0.023668639053254437,0.01183431952662722,0.04142011834319526,0.02958579881656805,0.1242603550295858,0.10059171597633136,0.01183431952662722,0.08875739644970414,0.11242603550295857,0.1242603550295858,0.17159763313609466,0.10650887573964496,0.03550295857988165,0.13609467455621302,0.07100591715976332,0.08284023668639053,0.047337278106508875,0.05325443786982248,0.07692307692307691,0.11834319526627218,0.08875739644970414,0.1242603550295858,0.14201183431952663,0.16568047337278105,0.08875739644970414,0.15384615384615383,0.11242603550295857,0.005917159763313609,0.15976331360946744,0.01183431952662722,0.11834319526627218,0.05325443786982248,0.05325443786982248,0.08875739644970414,0.0650887573964497,0.005917159763313609,0.1242603550295858,0.08284023668639053,0.0,0.14201183431952663,0.05917159763313609,0.08284023668639053,0.0,0.13609467455621302,0.15976331360946744,0.1242603550295858,0.1834319526627219,0.09467455621301775,0.08875739644970414,0.0650887573964497,0.01775147928994083,0.09467455621301775,0.10650887573964496,0.0,0.0650887573964497,0.03550295857988165,0.09467455621301775,0.07100591715976332,0.0,0.10650887573964496,0.01183431952662722,0.15384615384615383,0.005917159763313609,0.16568047337278105,0.0650887573964497,0.03550295857988165,0.1242603550295858,0.023668639053254437,0.16568047337278105,0.023668639053254437,0.09467455621301775,0.04142011834319526,0.04142011834319526,0.05917159763313609,0.07100591715976332,0.05325443786982248,0.17751479289940827,0.05917159763313609,0.10650887573964496,0.02958579881656805,0.047337278106508875,0.05917159763313609,0.04142011834319526,0.005917159763313609,0.03550295857988165,0.07100591715976332,0.023668639053254437,0.16568047337278105,0.01775147928994083,0.15976331360946744,0.14792899408284024,0.15384615384615383,0.10650887573964496,0.0,0.08284023668639053,0.0650887573964497,0.0,0.04142011834319526,0.0,0.047337278106508875,0.13609467455621302,0.1301775147928994,0.10650887573964496,0.09467455621301775,0.05917159763313609,0.08284023668639053,0.10059171597633136,0.10650887573964496,0.1834319526627219,0.04142011834319526,0.01183431952662722,0.023668639053254437,0.05325443786982248,0.01183431952662722,0.14201183431952663,0.07100591715976332,0.05325443786982248,0.0,0.10059171597633136,0.0650887573964497,0.07100591715976332,0.0,0.047337278106508875,0.1893491124260355,0.1242603550295858,0.14792899408284024,0.14201183431952663,0.0650887573964497,0.0650887573964497,0.16568047337278105,0.05325443786982248,0.01183431952662722,0.05917159763313609,0.07100591715976332,0.08284023668639053,0.09467455621301775,0.04142011834319526,0.1301775147928994,0.04142011834319526,0.05917159763313609,0.005917159763313609,0.08875739644970414,0.0,0.04142011834319526,0.14792899408284024,0.04142011834319526,0.08875739644970414,0.05917159763313609,0.15384615384615383,0.17751479289940827,0.15976331360946744,0.03550295857988165,0.0,0.005917159763313609,0.023668639053254437,0.01775147928994083,0.05325443786982248,0.03550295857988165,0.0650887573964497,0.08284023668639053,0.07100591715976332,0.0650887573964497,0.0650887573964497,0.15976331360946744,0.0,0.023668639053254437,0.04142011834319526,0.02958579881656805,0.023668639053254437,0.10650887573964496,0.07100591715976332,0.023668639053254437,0.0,0.07692307692307691,0.07100591715976332,0.0,0.16568047337278105,0.08875739644970414,0.11834319526627218,0.08875739644970414,0.0,0.15976331360946744,0.16568047337278105,0.10059171597633136,0.04142011834319526,0.0,0.05325443786982248,0.09467455621301775,0.04142011834319526,0.1301775147928994,0.08284023668639053,0.08284023668639053,0.08875739644970414,0.05325443786982248,0.0,0.1301775147928994,0.1952662721893491,0.17159763313609466,0.14201183431952663,0.1242603550295858,0.11242603550295857,0.0650887573964497,0.0,0.1242603550295858,0.01775147928994083,0.09467455621301775,0.03550295857988165,0.04142011834319526,0.0],\"type\":\"scatter\"},{\"name\":\"Cluster 1\",\"x\":[0.12120035113876253,0.1472553350100674,0.06784850870531517,0.18946165690120043,0.07060223084586821,0.13940174036632694,0.1170392871325758,0.10428263883566846,0.14035099942173576,0.9245312924553936,0.13312269652275088,0.29428772477409376,0.2985062668515254,0.5057094884103307,0.08788397093351355,0.2659823873255628,0.1116816341886535,0.06986372471835746,0.0974026878836226,0.1440835905331875,0.08297046672193852,0.10014073418656338,0.3429490082420071,0.08685807444977811,0.2186030390223851,0.09918624985195044,0.03577226143116914,0.09166358955780204,0.2188730117812629,0.09892324413201146,0.13852389346004054,0.1955560742128988,0.04089129329143821,0.20804274975092837,0.3263691973274439,0.08654978297673707,0.43007357193119355,0.18495920798701346,0.024456048434854705,0.17614764548919065,0.11873750287390358,0.11593849498024845,0.0678345746274376,0.14133509367183855,0.1371061010359987,0.09289153017076214,0.2749141312450795,0.14385019472873836,0.11115562274877556,0.15140943197731535,0.06234454794367847,0.12779813701378778,0.1115736450851024,0.19690593800728753,0.29547908843262527,0.09729469878007149,0.13227097601248494,0.057991890366675264,0.1800892477688058,0.10139828471501328,0.2575244020538831,0.1421397866692677,0.12889196212717635,0.19856060975524795,0.08685110741083933,0.10983014359067254,0.03321361638090196,0.09702820954066314,0.12582123971490877,0.19840385137912536,0.03995771007364161,0.15785220123595273,0.4061174085401964,0.11969372896825123,0.15410393428688873,0.09453923487978375,0.09719367671545917,0.38202190437042355,0.1155291814425951,0.11523134052796223,0.15720252485491143,0.16523900427079488,0.14310297980255413,0.10597737105752686,0.15654413967519665,0.17112441041432983,0.10926407167689663,0.15898782858297394,0.029468832951307367,0.07118223683752169,0.4612719722990532,0.336196205750594,0.5390990225244369,0.1617450342429964,0.14238537479185973,0.11053033100402,0.08354524743438792,0.03286178091449353,0.10076950945078834,0.2034357952526597,0.1700201347425331,0.16244696341607856,0.0423334703517658,0.14935241373064037,0.19830805459371714,0.09102610549490363,0.1077957682205486,0.4533696083827413,0.08463907254777647,0.11692781450955532,0.11985222910410848,0.07479638828701414,0.1261330147074192,0.2063044735357026,0.10911602209944753,0.036401036695394094,0.08105104749430445,0.05162401677662977,0.09492938906035546,0.044545505214828654,0.1152365658071663,0.13467808796583366,0.19168414232267145,0.05016093859948584,0.0754965757003616,0.2031170532212105,0.06004368333414616,0.06980102136790843,0.06020392522973812,0.10832526317989594,0.21681947705405727,0.07225341907435921,0.14408184877345281,0.13032020510962639,0.029106546926490777,0.06777187127698858,0.10245901639344264,0.12727038381417516,0.11266398667902157,0.07914556234454795,0.0543847059561216,0.18384273999707387,0.09982547567458355,0.17299680212912713,0.1532556972960922,0.06042164519657501,0.08009307964022211,0.10983885238934601,0.17255613691624924,0.24902461454857075,0.08745375627904385,0.16732911595242908,0.13805884361087695,0.30665944416963353,0.020643336375607006,0.1996648854270447,0.032624901590574996,0.03707161419325173,0.11832470581678083,0.4823542321278034,0.09671991806762208,0.18760319926428068,0.08174426786871312,0.06542223739488481,0.13453526366758864,0.14743473626274098,0.19411041363310183,0.027441424620122206,0.22658029860728893,0.1573854096270544,0.06333038395351592,0.18320177241470603,0.14861216584339493,0.24614200218765026,0.2086767502943574,0.1518518389499279,0.11706715528833092,0.09976277232413452,0.2017340959918625,0.04470226359095121,0.04995541095079181,0.13114928274334128,0.19186354357534505,0.17734075090745682,0.04372513637978723,0.09725289654643882,0.06727895327206984,0.07602084538050484,0.037101224108741546,0.4542526805682317,0.22066005726906013,0.2287888499508824,0.024348059331303604,0.44687458633206306,0.11014017682344827,0.04766848041913707,0.09921760152717495,0.06140573944667778,0.05822528617112442,0.16834978715696045,0.05619091080100048,0.13571269324824256,0.15913065288121897,0.15310242243943903,0.18136073237513325,0.22637128743912552,0.1352058411654463,0.09199104038792473,0.032997638173799755,0.16827489148836855,0.16151860547748603,0.16081841806413857,0.15607560630656367,0.10687263556116017,0.2144681014122188,0.06148063511526967,0.09811158409564351,0.04717033713501425,0.08976855496645371,0.053933590184835546,0.10313133565103497,0.03706987243351703,0.23959646910466587,0.1337654058648534,0.1296635616896463,0.043958532184236385,0.0644921376965576,0.3400350442058621,0.11551350560498284,0.04498094514850244,0.06372924693276111,0.07575435614109648,0.2119199069203598,0.17260316442908602,0.36245671727059287,0.08645050267185944,0.07578919133579039,0.18382183888025755,0.19855886799551326,0.06104867870106526,0.14385716176767716,0.10854995018567161,0.0738384204329318,0.0907456821776177,0.07825900663958811,0.03560156897716902,0.0470815073885448,0.05806156075606308,0.02539659869159009,0.21514912946848463,0.038325681202232245,0.1672890554785311,0.14374394738492194,0.12809771968815536,0.14823072046149666,0.05652184515059255,0.47611699051786005,0.12993527620825873,0.2906962162011524,0.09796701803766383,0.33937143374694323,0.1654218890429379,0.12661025687472569,0.12900169299046213,0.14125671448377727,0.13640765538238595,0.21728801042269028,0.09033985215943374,0.10534162875436313,0.1337253453909554,0.19404596852291808,0.04442706555286938,0.10554367288358776,0.32479813004674885,0.09609288456313184,0.10029923432242065,0.0428002619606641,0.07204440790619579,0.037190053855211,0.5101405251753952,0.34804017194652104,0.14729887900343475,0.09088502295639331,0.037623752029150095,0.02519977984156954,0.06362299958894471,0.07115088516229717,0.1282962802979106,0.033995666501780084,0.0938390474664363,0.13175193161154578,0.13575101196240588,0.1833271791156041,0.11854590930308712,0.22204127273867336,0.13440114816801713,0.03245769265604426,0.11490214793810484,0.09335483826019104,0.14872886374561947,0.09777368270711266,0.17326503312827016,0.15882236140817793,0.13251656413507695,0.055414085959326426,0.04655549594866686,0.042784586123051846,0.2824855608117994,0.03924533034215129,0.08863118585969779,0.09064291835327068,0.13558902830707922,0.168872315077369,0.07870141361220069,0.1108194631199794,0.07239450161286952,0.08327875819497955,0.07735503333728133,0.08837514717869759,0.046780182954442535,0.01863857092097288,0.06387032947127141,0.12466993653027528,0.12586826722774555,0.04333324043948082,0.05864679202692064,0.02767656218430605,0.06262671302069908,0.12913580849003367,0.21874760508036478,0.04966105355562833,0.07246068848278793,0.0736625026997276,0.1804846272285816,0.07002745013341881,0.11896393163941395,0.05170413772442575,0.10827301038785507,0.13693366682226388,0.059099649557941385,0.11406958678492056,0.107902015564365,0.0503525321703023,0.033824974047779954,0.16399538782022252,0.0490218277329952,0.10598956337566971,0.029047327095511142,0.22217538823824487,0.06787986038053968,0.15610695798178817,0.04837389311168861,0.03712038346582319,0.13662363358948815,0.16142629221154717,0.20493370862449756,0.06987417527676562,0.20639330328217206,0.2771766771404485,0.15459859405154217,0.12053674067984367,0.18087652316888803,0.08971804393414756,0.10674374534079273,0.32404568984136056,0.3272191760779751,0.0355719590616792,0.36433259250485955,0.03922442922533495,0.15492081960246076,0.07575261438136179,0.040196331157294846,0.056469592358551694,0.4689914514432222,0.04737586478370828,0.045374582848543545,0.019337016574585638,0.04595633059993173,0.05583036653591858,0.05295820473340626,0.032934934823350734,0.02728814976346903,0.055318289173918206,0.049929284554771386,0.13264371259570973,0.050652114844669874,0.11185581016212301,0.12370151811778478,0.5647603686957006,0.5417900413145409,0.19845087889196217,0.0732671232399518,0.10585718963583288,0.03233228595514621,0.11461475758188013,0.34632802212731567,0.08757567946047251,0.11020113841416261,0.10827649390732445,0.0782973253537514,0.15781562428152413,0.23890847400946127,0.1597663951843827,0.1503417332599472,0.1401715981690622],\"y\":[0.28402366863905326,0.22485207100591714,0.3431952662721894,0.33136094674556216,0.20710059171597633,0.1952662721893491,0.26627218934911245,0.38461538461538464,0.21301775147928995,0.11834319526627218,0.20710059171597633,0.11242603550295857,0.36686390532544383,0.05325443786982248,0.485207100591716,0.3905325443786982,0.21301775147928995,0.33136094674556216,0.1893491124260355,0.25443786982248523,0.23076923076923075,0.3609467455621302,0.10650887573964496,0.1952662721893491,0.3550295857988166,0.1834319526627219,0.25443786982248523,0.1834319526627219,0.43195266272189353,0.36686390532544383,0.23076923076923075,0.33136094674556216,0.21301775147928995,0.44970414201183434,0.14201183431952663,0.20118343195266272,0.0650887573964497,0.3609467455621302,0.22485207100591714,0.26627218934911245,0.4378698224852071,0.3017751479289941,0.1952662721893491,0.3017751479289941,0.25443786982248523,0.20118343195266272,0.28402366863905326,0.378698224852071,0.1834319526627219,0.20710059171597633,0.26627218934911245,0.20710059171597633,0.24260355029585798,0.3727810650887574,0.20710059171597633,0.22485207100591714,0.1834319526627219,0.20710059171597633,0.3550295857988166,0.1834319526627219,0.4082840236686391,0.25443786982248523,0.20118343195266272,0.1893491124260355,0.40236686390532544,0.1834319526627219,0.20710059171597633,0.1893491124260355,0.23668639053254437,0.20710059171597633,0.28402366863905326,0.31952662721893493,0.24260355029585798,0.25443786982248523,0.4082840236686391,0.1952662721893491,0.23076923076923075,0.11242603550295857,0.20118343195266272,0.25443786982248523,0.3017751479289941,0.2958579881656805,0.21893491124260353,0.1834319526627219,0.16568047337278105,0.38461538461538464,0.1834319526627219,0.3905325443786982,0.3136094674556213,0.49704142011834324,0.2603550295857988,0.3254437869822485,0.25443786982248523,0.3609467455621302,0.4437869822485207,0.1834319526627219,0.38461538461538464,0.2899408284023669,0.1834319526627219,0.3609467455621302,0.3076923076923077,0.3017751479289941,0.23076923076923075,0.16568047337278105,0.34911242603550297,0.1834319526627219,0.22485207100591714,0.1952662721893491,0.1952662721893491,0.24260355029585798,0.36686390532544383,0.24852071005917156,0.27218934911242604,0.17751479289940827,0.25443786982248523,0.2899408284023669,0.3254437869822485,0.20118343195266272,0.3550295857988166,0.2603550295857988,0.25443786982248523,0.4260355029585799,0.3136094674556213,0.3254437869822485,0.2958579881656805,0.3136094674556213,0.31952662721893493,0.4082840236686391,0.21893491124260353,0.20710059171597633,0.41420118343195267,0.3609467455621302,0.39644970414201186,0.24852071005917156,0.25443786982248523,0.23076923076923075,0.20118343195266272,0.21301775147928995,0.46745562130177515,0.4911242603550296,0.41420118343195267,0.20118343195266272,0.20118343195266272,0.3136094674556213,0.3431952662721894,0.20118343195266272,0.3136094674556213,0.2958579881656805,0.2958579881656805,0.3609467455621302,0.23076923076923075,0.2781065088757397,0.16568047337278105,0.15976331360946744,0.26627218934911245,0.4378698224852071,0.3017751479289941,0.3076923076923077,0.3550295857988166,0.17159763313609466,0.36686390532544383,0.33136094674556216,0.4437869822485207,0.34911242603550297,0.2781065088757397,0.3905325443786982,0.3254437869822485,0.22485207100591714,0.2603550295857988,0.1834319526627219,0.23076923076923075,0.3905325443786982,0.20118343195266272,0.20118343195266272,0.3550295857988166,0.22485207100591714,0.1952662721893491,0.17751479289940827,0.21893491124260353,0.23668639053254437,0.3076923076923077,0.20710059171597633,0.23076923076923075,0.378698224852071,0.24852071005917156,0.27218934911242604,0.44970414201183434,0.2958579881656805,0.3254437869822485,0.20118343195266272,0.24260355029585798,0.23076923076923075,0.38461538461538464,0.27218934911242604,0.38461538461538464,0.2781065088757397,0.4437869822485207,0.28402366863905326,0.21893491124260353,0.3550295857988166,0.27218934911242604,0.24852071005917156,0.16568047337278105,0.23076923076923075,0.36686390532544383,0.13609467455621302,0.2781065088757397,0.21301775147928995,0.21893491124260353,0.21893491124260353,0.16568047337278105,0.27218934911242604,0.28402366863905326,0.23076923076923075,0.23076923076923075,0.3727810650887574,0.1834319526627219,0.3431952662721894,0.3609467455621302,0.4556213017751479,0.2781065088757397,0.22485207100591714,0.1242603550295858,0.1834319526627219,0.34911242603550297,0.33727810650887574,0.3905325443786982,0.3431952662721894,0.24852071005917156,0.2781065088757397,0.4260355029585799,0.21893491124260353,0.3076923076923077,0.3254437869822485,0.27218934911242604,0.23076923076923075,0.4082840236686391,0.36686390532544383,0.3136094674556213,0.378698224852071,0.20118343195266272,0.23668639053254437,0.24260355029585798,0.3136094674556213,0.34911242603550297,0.3136094674556213,0.2781065088757397,0.2603550295857988,0.25443786982248523,0.3550295857988166,0.23076923076923075,0.3431952662721894,0.2899408284023669,0.23668639053254437,0.3076923076923077,0.34911242603550297,0.24852071005917156,0.17159763313609466,0.17751479289940827,0.2958579881656805,0.14201183431952663,0.3431952662721894,0.20118343195266272,0.25443786982248523,0.22485207100591714,0.3017751479289941,0.15384615384615383,0.41420118343195267,0.25443786982248523,0.4733727810650888,0.33136094674556216,0.25443786982248523,0.21893491124260353,0.2899408284023669,0.378698224852071,0.23076923076923075,0.28402366863905326,0.38461538461538464,0.31952662721893493,0.27218934911242604,0.27218934911242604,0.3017751479289941,0.2781065088757397,0.36686390532544383,0.2603550295857988,0.25443786982248523,0.3609467455621302,0.17751479289940827,0.28402366863905326,0.378698224852071,0.485207100591716,0.26627218934911245,0.4082840236686391,0.4201183431952663,0.1893491124260355,0.1834319526627219,0.24260355029585798,0.4911242603550296,0.4082840236686391,0.40236686390532544,0.26627218934911245,0.1952662721893491,0.3076923076923077,0.20710059171597633,0.21893491124260353,0.27218934911242604,0.3136094674556213,0.23668639053254437,0.21301775147928995,0.4201183431952663,0.44970414201183434,0.4378698224852071,0.3136094674556213,0.26627218934911245,0.40236686390532544,0.2781065088757397,0.2781065088757397,0.21893491124260353,0.5029585798816567,0.21301775147928995,0.21301775147928995,0.47928994082840237,0.3017751479289941,0.46153846153846156,0.3076923076923077,0.3550295857988166,0.20710059171597633,0.33727810650887574,0.46153846153846156,0.24260355029585798,0.24852071005917156,0.3254437869822485,0.21301775147928995,0.2958579881656805,0.24852071005917156,0.4260355029585799,0.21893491124260353,0.23076923076923075,0.20710059171597633,0.2603550295857988,0.17751479289940827,0.34911242603550297,0.22485207100591714,0.28402366863905326,0.2958579881656805,0.24852071005917156,0.378698224852071,0.25443786982248523,0.378698224852071,0.3431952662721894,0.3254437869822485,0.24260355029585798,0.43195266272189353,0.43195266272189353,0.3076923076923077,0.23668639053254437,0.25443786982248523,0.23668639053254437,0.39644970414201186,0.3017751479289941,0.20118343195266272,0.2958579881656805,0.20118343195266272,0.44970414201183434,0.09467455621301775,0.15976331360946744,0.21301775147928995,0.20118343195266272,0.3017751479289941,0.2781065088757397,0.40236686390532544,0.3136094674556213,0.22485207100591714,0.1242603550295858,0.23076923076923075,0.20118343195266272,0.24260355029585798,0.4733727810650888,0.33136094674556216,0.24852071005917156,0.21893491124260353,0.21301775147928995,0.22485207100591714,0.3609467455621302,0.2603550295857988,0.43195266272189353,0.23668639053254437,0.36686390532544383,0.01183431952662722,0.11834319526627218,0.14201183431952663,0.21301775147928995,0.24260355029585798,0.2899408284023669,0.4082840236686391,0.3609467455621302,0.1893491124260355,0.20118343195266272,0.20118343195266272,0.4556213017751479,0.20710059171597633,0.1242603550295858,0.3017751479289941,0.33136094674556216,0.23076923076923075],\"type\":\"scatter\"},{\"name\":\"Cluster 3\",\"x\":[0.24242160339434138,0.13828701413612202,0.4791372018978215,0.6076024328899974,0.22449192868538942,0.3809542056530554,0.21577616297297486,0.3540492430312193,0.2910219252715404,0.3373527342144315,0.48644736750433704,0.22099795865759095,0.14289048511492133,0.08870259800882027,0.49154898176725914,0.2849414420377196,1.0,0.7326572983216404,0.28011850933234866,0.59210425477068,0.20427009816557867,0.30686845533779694,0.6811064354538677,0.16791434722328666,0.6684960949746749,0.7070551719813563,0.1809427100388064,0.26860547748601366,0.1620393916381599,0.07717911560407713,0.34350288783764016,0.31537346812231337,0.43223683752168496,0.3323660760939993,0.746331853998732,0.22108330488459102,0.27419304271491574,0.28048602063636935,0.0788755895856702,0.13273950938111795,0.08880710359290199,0.14565465781388254,0.26286812091992784,0.11562149470853395,0.17817331206064113,0.3052242341482447,0.4164094668125101,0.3689796074770262,0.19701915239004275,0.14882291877129303,0.1712323995178809,0.24429922038834276,0.5564661088390823,0.3227358865208698,0.4844025415758049,0.4697299575707329,0.394971887997882,0.22848230023757604,0.10258268133460599,0.4365633687026677,0.47937408122174,0.18173521071809273,0.6591498122383006,0.5120303344875394,0.20864017333992885,0.17501027638243472,0.17307343955745372,0.29728180975803475,0.097937408122174,0.42391819302878087,0.7489270760034278,0.16161440226289425,0.3606226442699588,0.7643991277267248,0.14194819309845125,0.18595375279552442,0.06231667978792334,0.19805898295165572,0.1501640737670083,0.07014937331484747,0.134516104310507,0.15535800129586927,0.42704290999282396,0.20151637602502562,0.257050643406046,0.22243142691924506,0.6322152397009747,0.28697581740784356,0.23736875840399074,0.13289104247803643,0.10180759825266664,0.128545351939972,0.21669058683368983,0.1648000808176517,0.36307852549587905,0.16129391847171035,0.36905450314561816,0.3807730626406471,0.10993290741501957,0.2732838441334049,0.5064183846223516,0.10949746748134576,0.1256000362286025,0.17077954198686018,0.08889419157963675,0.45949886088913355,0.13400751046797602,0.6279914723443389,0.12441912312847918,0.2649739084391743,0.12451143639441803,0.19718287780510405,0.8057833390230819,0.07234573234029806,0.16522158667344794,0.09190917768039408,0.22774901938926936,0.42757937199111007,0.5473950241407899,0.12021799864839447,0.07611838392564776,0.11218326099224571,0.1489396166735176,0.13338396048295517,0.09375892651864032,0.6481244731176803,0.4750214236447368,0.273351772763058,0.3110312611037183,0.33002340925083434,0.19833418098973757,0.2903983752865195,0.18102283098660238,0.22115297527397884,0.2880435161252117,0.419198024147757,0.10264015940585092,0.10200441710268719,0.10578577748671039,0.14518612444524953,0.12929256686615623,0.10610451951815959,0.1286899179979517,0.23993262873346202,0.4223471257480858,0.2151282283516683,0.12564532198170456,0.2983599590338111,0.0370123943622721],\"y\":[0.8579881656804733,0.6982248520710058,0.8402366863905325,0.8106508875739644,0.5325443786982248,0.7159763313609467,0.8106508875739644,0.40236686390532544,0.6094674556213018,0.5502958579881656,0.46745562130177515,0.7337278106508875,0.5621301775147929,0.6272189349112426,0.8047337278106509,0.757396449704142,0.5325443786982248,0.863905325443787,0.5443786982248521,0.8757396449704141,0.46745562130177515,0.4556213017751479,0.5325443786982248,0.5798816568047337,0.5917159763313609,0.3017751479289941,0.6686390532544378,0.6153846153846153,0.8875739644970414,0.5325443786982248,0.9940828402366864,0.4082840236686391,0.4082840236686391,0.5976331360946745,0.23076923076923075,0.46153846153846156,0.44970414201183434,0.9822485207100591,0.6686390532544378,0.5029585798816567,0.8343195266272189,0.6390532544378698,0.49704142011834324,0.650887573964497,0.5857988165680473,0.8520710059171597,0.7100591715976331,0.5384615384615384,0.8224852071005917,0.8520710059171597,0.5798816568047337,0.4733727810650888,1.0,0.5680473372781064,0.39644970414201186,0.46745562130177515,0.6686390532544378,0.514792899408284,0.8520710059171597,0.9408284023668638,0.8106508875739644,0.9112426035502958,0.9585798816568046,0.5562130177514792,0.4911242603550296,0.5266272189349112,0.5621301775147929,0.9467455621301775,0.8402366863905325,0.4378698224852071,0.7988165680473372,0.514792899408284,0.57396449704142,0.43195266272189353,0.5976331360946745,0.8520710059171597,0.5680473372781064,0.46745562130177515,0.6923076923076923,0.650887573964497,0.7159763313609467,0.5207100591715976,0.7159763313609467,0.5917159763313609,0.4911242603550296,0.46153846153846156,0.3609467455621302,0.8284023668639052,0.5088757396449703,0.8579881656804733,0.5088757396449703,0.49704142011834324,0.5917159763313609,0.6094674556213018,0.49704142011834324,0.6568047337278106,0.6035502958579881,0.4082840236686391,0.5680473372781064,0.7218934911242603,0.5266272189349112,0.5266272189349112,0.6863905325443787,0.680473372781065,0.6745562130177515,0.7692307692307692,0.6863905325443787,0.3550295857988166,0.7278106508875739,0.4437869822485207,0.7692307692307692,0.5384615384615384,0.8047337278106509,0.7988165680473372,0.680473372781065,0.5502958579881656,0.485207100591716,0.6686390532544378,0.4556213017751479,0.5207100591715976,0.6686390532544378,0.7928994082840236,0.6449704142011834,0.6035502958579881,0.680473372781065,0.5266272189349112,0.3431952662721894,0.4378698224852071,0.46745562130177515,0.6153846153846153,0.9053254437869822,0.6627218934911242,0.6982248520710058,0.650887573964497,0.4378698224852071,0.5621301775147929,0.5325443786982248,0.5325443786982248,0.6686390532544378,0.5384615384615384,0.8520710059171597,0.5384615384615384,0.5325443786982248,0.514792899408284,0.680473372781065,0.4733727810650888,0.7159763313609467,0.5088757396449703,0.5917159763313609],\"type\":\"scatter\"}],                        {\"template\":{\"data\":{\"bar\":[{\"error_x\":{\"color\":\"#2a3f5f\"},\"error_y\":{\"color\":\"#2a3f5f\"},\"marker\":{\"line\":{\"color\":\"#E5ECF6\",\"width\":0.5},\"pattern\":{\"fillmode\":\"overlay\",\"size\":10,\"solidity\":0.2}},\"type\":\"bar\"}],\"barpolar\":[{\"marker\":{\"line\":{\"color\":\"#E5ECF6\",\"width\":0.5},\"pattern\":{\"fillmode\":\"overlay\",\"size\":10,\"solidity\":0.2}},\"type\":\"barpolar\"}],\"carpet\":[{\"aaxis\":{\"endlinecolor\":\"#2a3f5f\",\"gridcolor\":\"white\",\"linecolor\":\"white\",\"minorgridcolor\":\"white\",\"startlinecolor\":\"#2a3f5f\"},\"baxis\":{\"endlinecolor\":\"#2a3f5f\",\"gridcolor\":\"white\",\"linecolor\":\"white\",\"minorgridcolor\":\"white\",\"startlinecolor\":\"#2a3f5f\"},\"type\":\"carpet\"}],\"choropleth\":[{\"colorbar\":{\"outlinewidth\":0,\"ticks\":\"\"},\"type\":\"choropleth\"}],\"contour\":[{\"colorbar\":{\"outlinewidth\":0,\"ticks\":\"\"},\"colorscale\":[[0.0,\"#0d0887\"],[0.1111111111111111,\"#46039f\"],[0.2222222222222222,\"#7201a8\"],[0.3333333333333333,\"#9c179e\"],[0.4444444444444444,\"#bd3786\"],[0.5555555555555556,\"#d8576b\"],[0.6666666666666666,\"#ed7953\"],[0.7777777777777778,\"#fb9f3a\"],[0.8888888888888888,\"#fdca26\"],[1.0,\"#f0f921\"]],\"type\":\"contour\"}],\"contourcarpet\":[{\"colorbar\":{\"outlinewidth\":0,\"ticks\":\"\"},\"type\":\"contourcarpet\"}],\"heatmap\":[{\"colorbar\":{\"outlinewidth\":0,\"ticks\":\"\"},\"colorscale\":[[0.0,\"#0d0887\"],[0.1111111111111111,\"#46039f\"],[0.2222222222222222,\"#7201a8\"],[0.3333333333333333,\"#9c179e\"],[0.4444444444444444,\"#bd3786\"],[0.5555555555555556,\"#d8576b\"],[0.6666666666666666,\"#ed7953\"],[0.7777777777777778,\"#fb9f3a\"],[0.8888888888888888,\"#fdca26\"],[1.0,\"#f0f921\"]],\"type\":\"heatmap\"}],\"heatmapgl\":[{\"colorbar\":{\"outlinewidth\":0,\"ticks\":\"\"},\"colorscale\":[[0.0,\"#0d0887\"],[0.1111111111111111,\"#46039f\"],[0.2222222222222222,\"#7201a8\"],[0.3333333333333333,\"#9c179e\"],[0.4444444444444444,\"#bd3786\"],[0.5555555555555556,\"#d8576b\"],[0.6666666666666666,\"#ed7953\"],[0.7777777777777778,\"#fb9f3a\"],[0.8888888888888888,\"#fdca26\"],[1.0,\"#f0f921\"]],\"type\":\"heatmapgl\"}],\"histogram\":[{\"marker\":{\"pattern\":{\"fillmode\":\"overlay\",\"size\":10,\"solidity\":0.2}},\"type\":\"histogram\"}],\"histogram2d\":[{\"colorbar\":{\"outlinewidth\":0,\"ticks\":\"\"},\"colorscale\":[[0.0,\"#0d0887\"],[0.1111111111111111,\"#46039f\"],[0.2222222222222222,\"#7201a8\"],[0.3333333333333333,\"#9c179e\"],[0.4444444444444444,\"#bd3786\"],[0.5555555555555556,\"#d8576b\"],[0.6666666666666666,\"#ed7953\"],[0.7777777777777778,\"#fb9f3a\"],[0.8888888888888888,\"#fdca26\"],[1.0,\"#f0f921\"]],\"type\":\"histogram2d\"}],\"histogram2dcontour\":[{\"colorbar\":{\"outlinewidth\":0,\"ticks\":\"\"},\"colorscale\":[[0.0,\"#0d0887\"],[0.1111111111111111,\"#46039f\"],[0.2222222222222222,\"#7201a8\"],[0.3333333333333333,\"#9c179e\"],[0.4444444444444444,\"#bd3786\"],[0.5555555555555556,\"#d8576b\"],[0.6666666666666666,\"#ed7953\"],[0.7777777777777778,\"#fb9f3a\"],[0.8888888888888888,\"#fdca26\"],[1.0,\"#f0f921\"]],\"type\":\"histogram2dcontour\"}],\"mesh3d\":[{\"colorbar\":{\"outlinewidth\":0,\"ticks\":\"\"},\"type\":\"mesh3d\"}],\"parcoords\":[{\"line\":{\"colorbar\":{\"outlinewidth\":0,\"ticks\":\"\"}},\"type\":\"parcoords\"}],\"pie\":[{\"automargin\":true,\"type\":\"pie\"}],\"scatter\":[{\"marker\":{\"colorbar\":{\"outlinewidth\":0,\"ticks\":\"\"}},\"type\":\"scatter\"}],\"scatter3d\":[{\"line\":{\"colorbar\":{\"outlinewidth\":0,\"ticks\":\"\"}},\"marker\":{\"colorbar\":{\"outlinewidth\":0,\"ticks\":\"\"}},\"type\":\"scatter3d\"}],\"scattercarpet\":[{\"marker\":{\"colorbar\":{\"outlinewidth\":0,\"ticks\":\"\"}},\"type\":\"scattercarpet\"}],\"scattergeo\":[{\"marker\":{\"colorbar\":{\"outlinewidth\":0,\"ticks\":\"\"}},\"type\":\"scattergeo\"}],\"scattergl\":[{\"marker\":{\"colorbar\":{\"outlinewidth\":0,\"ticks\":\"\"}},\"type\":\"scattergl\"}],\"scattermapbox\":[{\"marker\":{\"colorbar\":{\"outlinewidth\":0,\"ticks\":\"\"}},\"type\":\"scattermapbox\"}],\"scatterpolar\":[{\"marker\":{\"colorbar\":{\"outlinewidth\":0,\"ticks\":\"\"}},\"type\":\"scatterpolar\"}],\"scatterpolargl\":[{\"marker\":{\"colorbar\":{\"outlinewidth\":0,\"ticks\":\"\"}},\"type\":\"scatterpolargl\"}],\"scatterternary\":[{\"marker\":{\"colorbar\":{\"outlinewidth\":0,\"ticks\":\"\"}},\"type\":\"scatterternary\"}],\"surface\":[{\"colorbar\":{\"outlinewidth\":0,\"ticks\":\"\"},\"colorscale\":[[0.0,\"#0d0887\"],[0.1111111111111111,\"#46039f\"],[0.2222222222222222,\"#7201a8\"],[0.3333333333333333,\"#9c179e\"],[0.4444444444444444,\"#bd3786\"],[0.5555555555555556,\"#d8576b\"],[0.6666666666666666,\"#ed7953\"],[0.7777777777777778,\"#fb9f3a\"],[0.8888888888888888,\"#fdca26\"],[1.0,\"#f0f921\"]],\"type\":\"surface\"}],\"table\":[{\"cells\":{\"fill\":{\"color\":\"#EBF0F8\"},\"line\":{\"color\":\"white\"}},\"header\":{\"fill\":{\"color\":\"#C8D4E3\"},\"line\":{\"color\":\"white\"}},\"type\":\"table\"}]},\"layout\":{\"annotationdefaults\":{\"arrowcolor\":\"#2a3f5f\",\"arrowhead\":0,\"arrowwidth\":1},\"autotypenumbers\":\"strict\",\"coloraxis\":{\"colorbar\":{\"outlinewidth\":0,\"ticks\":\"\"}},\"colorscale\":{\"diverging\":[[0,\"#8e0152\"],[0.1,\"#c51b7d\"],[0.2,\"#de77ae\"],[0.3,\"#f1b6da\"],[0.4,\"#fde0ef\"],[0.5,\"#f7f7f7\"],[0.6,\"#e6f5d0\"],[0.7,\"#b8e186\"],[0.8,\"#7fbc41\"],[0.9,\"#4d9221\"],[1,\"#276419\"]],\"sequential\":[[0.0,\"#0d0887\"],[0.1111111111111111,\"#46039f\"],[0.2222222222222222,\"#7201a8\"],[0.3333333333333333,\"#9c179e\"],[0.4444444444444444,\"#bd3786\"],[0.5555555555555556,\"#d8576b\"],[0.6666666666666666,\"#ed7953\"],[0.7777777777777778,\"#fb9f3a\"],[0.8888888888888888,\"#fdca26\"],[1.0,\"#f0f921\"]],\"sequentialminus\":[[0.0,\"#0d0887\"],[0.1111111111111111,\"#46039f\"],[0.2222222222222222,\"#7201a8\"],[0.3333333333333333,\"#9c179e\"],[0.4444444444444444,\"#bd3786\"],[0.5555555555555556,\"#d8576b\"],[0.6666666666666666,\"#ed7953\"],[0.7777777777777778,\"#fb9f3a\"],[0.8888888888888888,\"#fdca26\"],[1.0,\"#f0f921\"]]},\"colorway\":[\"#636efa\",\"#EF553B\",\"#00cc96\",\"#ab63fa\",\"#FFA15A\",\"#19d3f3\",\"#FF6692\",\"#B6E880\",\"#FF97FF\",\"#FECB52\"],\"font\":{\"color\":\"#2a3f5f\"},\"geo\":{\"bgcolor\":\"white\",\"lakecolor\":\"white\",\"landcolor\":\"#E5ECF6\",\"showlakes\":true,\"showland\":true,\"subunitcolor\":\"white\"},\"hoverlabel\":{\"align\":\"left\"},\"hovermode\":\"closest\",\"mapbox\":{\"style\":\"light\"},\"paper_bgcolor\":\"white\",\"plot_bgcolor\":\"#E5ECF6\",\"polar\":{\"angularaxis\":{\"gridcolor\":\"white\",\"linecolor\":\"white\",\"ticks\":\"\"},\"bgcolor\":\"#E5ECF6\",\"radialaxis\":{\"gridcolor\":\"white\",\"linecolor\":\"white\",\"ticks\":\"\"}},\"scene\":{\"xaxis\":{\"backgroundcolor\":\"#E5ECF6\",\"gridcolor\":\"white\",\"gridwidth\":2,\"linecolor\":\"white\",\"showbackground\":true,\"ticks\":\"\",\"zerolinecolor\":\"white\"},\"yaxis\":{\"backgroundcolor\":\"#E5ECF6\",\"gridcolor\":\"white\",\"gridwidth\":2,\"linecolor\":\"white\",\"showbackground\":true,\"ticks\":\"\",\"zerolinecolor\":\"white\"},\"zaxis\":{\"backgroundcolor\":\"#E5ECF6\",\"gridcolor\":\"white\",\"gridwidth\":2,\"linecolor\":\"white\",\"showbackground\":true,\"ticks\":\"\",\"zerolinecolor\":\"white\"}},\"shapedefaults\":{\"line\":{\"color\":\"#2a3f5f\"}},\"ternary\":{\"aaxis\":{\"gridcolor\":\"white\",\"linecolor\":\"white\",\"ticks\":\"\"},\"baxis\":{\"gridcolor\":\"white\",\"linecolor\":\"white\",\"ticks\":\"\"},\"bgcolor\":\"#E5ECF6\",\"caxis\":{\"gridcolor\":\"white\",\"linecolor\":\"white\",\"ticks\":\"\"}},\"title\":{\"x\":0.05},\"xaxis\":{\"automargin\":true,\"gridcolor\":\"white\",\"linecolor\":\"white\",\"ticks\":\"\",\"title\":{\"standoff\":15},\"zerolinecolor\":\"white\",\"zerolinewidth\":2},\"yaxis\":{\"automargin\":true,\"gridcolor\":\"white\",\"linecolor\":\"white\",\"ticks\":\"\",\"title\":{\"standoff\":15},\"zerolinecolor\":\"white\",\"zerolinewidth\":2}}}},                        {\"responsive\": true}                    ).then(function(){\n",
              "                            \n",
              "var gd = document.getElementById('9ced8fe7-460a-44cf-b45f-36824fc31cc4');\n",
              "var x = new MutationObserver(function (mutations, observer) {{\n",
              "        var display = window.getComputedStyle(gd).display;\n",
              "        if (!display || display === 'none') {{\n",
              "            console.log([gd, 'removed!']);\n",
              "            Plotly.purge(gd);\n",
              "            observer.disconnect();\n",
              "        }}\n",
              "}});\n",
              "\n",
              "// Listen for the removal of the full notebook cells\n",
              "var notebookContainer = gd.closest('#notebook-container');\n",
              "if (notebookContainer) {{\n",
              "    x.observe(notebookContainer, {childList: true});\n",
              "}}\n",
              "\n",
              "// Listen for the clearing of the current output cell\n",
              "var outputEl = gd.closest('.output');\n",
              "if (outputEl) {{\n",
              "    x.observe(outputEl, {childList: true});\n",
              "}}\n",
              "\n",
              "                        })                };                            </script>        </div>\n",
              "</body>\n",
              "</html>"
            ]
          },
          "metadata": {}
        }
      ]
    },
    {
      "cell_type": "code",
      "source": [
        "\n",
        "list_k = list(range(1, 11,2))\n",
        "\n",
        "for i in list_k:\n",
        "    km = KMeans(n_clusters=k)\n",
        "    km.fit(scaled_X)\n",
        "    labels=km.labels_\n",
        "    print(\"for \",i,\"cluster silhouette score is\",silhouette_score(scaled_X,labels))"
      ],
      "metadata": {
        "colab": {
          "base_uri": "https://localhost:8080/"
        },
        "id": "xOszcjCIcdEv",
        "outputId": "a6b6241c-72e8-4a09-cb37-7cb2a885aadb"
      },
      "execution_count": null,
      "outputs": [
        {
          "output_type": "stream",
          "name": "stdout",
          "text": [
            "for  1 cluster silhouette score is 0.4000545305785132\n",
            "for  3 cluster silhouette score is 0.4080302163490613\n",
            "for  5 cluster silhouette score is 0.40014499607577253\n",
            "for  7 cluster silhouette score is 0.3999008406046787\n",
            "for  9 cluster silhouette score is 0.3988872381865129\n"
          ]
        }
      ]
    },
    {
      "cell_type": "code",
      "source": [
        "model=KMeans(n_clusters=3)\n",
        "model.fit(scaled_X)\n",
        "labels=model.labels_"
      ],
      "metadata": {
        "id": "6IsgYU4rcc8n"
      },
      "execution_count": null,
      "outputs": []
    },
    {
      "cell_type": "markdown",
      "source": [
        "### Predicting the label for a new dataset"
      ],
      "metadata": {
        "id": "wEjNUNJzdg7s"
      }
    },
    {
      "cell_type": "code",
      "source": [
        "x=np.array([0.175580,0.112426])"
      ],
      "metadata": {
        "id": "RdySWeUdZmR6"
      },
      "execution_count": null,
      "outputs": []
    },
    {
      "cell_type": "code",
      "source": [
        "x=np.reshape(x,(-1,2))"
      ],
      "metadata": {
        "id": "D5qvw9RDaSnb"
      },
      "execution_count": null,
      "outputs": []
    },
    {
      "cell_type": "code",
      "source": [
        "model.predict(x)"
      ],
      "metadata": {
        "colab": {
          "base_uri": "https://localhost:8080/"
        },
        "id": "eZG5YzRdQVsu",
        "outputId": "7b901efa-5371-4284-e18c-559850e7d462"
      },
      "execution_count": null,
      "outputs": [
        {
          "output_type": "execute_result",
          "data": {
            "text/plain": [
              "array([2], dtype=int32)"
            ]
          },
          "metadata": {},
          "execution_count": 250
        }
      ]
    },
    {
      "cell_type": "code",
      "source": [
        "df_final['Cluster_Labels']=labels"
      ],
      "metadata": {
        "id": "BW8lcs-Xcc3F"
      },
      "execution_count": null,
      "outputs": []
    },
    {
      "cell_type": "code",
      "source": [
        "px.box(x=df_final['Cluster_Labels'],y=df_final['Price'],color=df_final['Cluster_Labels'])"
      ],
      "metadata": {
        "colab": {
          "base_uri": "https://localhost:8080/",
          "height": 542
        },
        "id": "Ltc-rxwGccy6",
        "outputId": "55a4cea2-abb8-42cc-f4c0-343988d7e55e"
      },
      "execution_count": null,
      "outputs": [
        {
          "output_type": "display_data",
          "data": {
            "text/html": [
              "<html>\n",
              "<head><meta charset=\"utf-8\" /></head>\n",
              "<body>\n",
              "    <div>            <script src=\"https://cdnjs.cloudflare.com/ajax/libs/mathjax/2.7.5/MathJax.js?config=TeX-AMS-MML_SVG\"></script><script type=\"text/javascript\">if (window.MathJax) {MathJax.Hub.Config({SVG: {font: \"STIX-Web\"}});}</script>                <script type=\"text/javascript\">window.PlotlyConfig = {MathJaxConfig: 'local'};</script>\n",
              "        <script src=\"https://cdn.plot.ly/plotly-2.8.3.min.js\"></script>                <div id=\"b06c4478-dbdb-42f5-9787-7fb83e181593\" class=\"plotly-graph-div\" style=\"height:525px; width:100%;\"></div>            <script type=\"text/javascript\">                                    window.PLOTLYENV=window.PLOTLYENV || {};                                    if (document.getElementById(\"b06c4478-dbdb-42f5-9787-7fb83e181593\")) {                    Plotly.newPlot(                        \"b06c4478-dbdb-42f5-9787-7fb83e181593\",                        [{\"alignmentgroup\":\"True\",\"hovertemplate\":\"color=2<br>x=%{x}<br>y=%{y}<extra></extra>\",\"legendgroup\":\"2\",\"marker\":{\"color\":\"#636efa\"},\"name\":\"2\",\"notched\":false,\"offsetgroup\":\"2\",\"orientation\":\"v\",\"showlegend\":true,\"x\":[2,2,2,2,2,2,2,2,2,2,2,2,2,2,2,2,2,2,2,2,2,2,2,2,2,2,2,2,2,2,2,2,2,2,2,2,2,2,2,2,2,2,2,2,2,2,2,2,2,2,2,2,2,2,2,2,2,2,2,2,2,2,2,2,2,2,2,2,2,2,2,2,2,2,2,2,2,2,2,2,2,2,2,2,2,2,2,2,2,2,2,2,2,2,2,2,2,2,2,2,2,2,2,2,2,2,2,2,2,2,2,2,2,2,2,2,2,2,2,2,2,2,2,2,2,2,2,2,2,2,2,2,2,2,2,2,2,2,2,2,2,2,2,2,2,2,2,2,2,2,2,2,2,2,2,2,2,2,2,2,2,2,2,2,2,2,2,2,2,2,2,2,2,2,2,2,2,2,2,2,2,2,2,2,2,2,2,2,2,2,2,2,2,2,2,2,2,2,2,2,2,2,2,2,2,2,2,2,2,2,2,2,2,2,2,2,2,2,2,2,2,2,2,2,2,2,2,2,2,2,2,2,2,2,2,2,2,2,2,2,2,2,2,2,2,2,2,2,2,2,2,2,2,2,2,2,2,2,2,2,2,2,2,2,2,2,2,2,2,2,2,2,2,2,2,2,2,2,2,2,2,2,2,2,2,2,2,2,2,2,2,2,2,2,2,2,2,2,2,2,2,2,2,2,2,2,2,2,2,2,2,2,2,2,2,2,2,2,2,2,2,2,2,2,2,2,2,2,2,2,2,2,2,2,2,2,2,2,2,2,2,2,2,2,2,2,2,2,2,2,2,2,2,2,2,2,2,2,2,2,2,2,2,2,2,2,2,2,2,2,2,2,2,2,2,2,2,2,2,2,2,2,2,2,2,2,2,2,2,2,2,2,2,2,2,2,2,2,2,2,2,2,2,2,2,2,2,2,2,2,2,2,2,2,2,2,2,2,2,2,2,2,2,2,2,2,2,2,2,2,2,2,2,2,2,2,2,2,2,2,2,2,2,2,2,2,2,2,2,2,2,2,2,2,2,2,2,2,2,2,2,2,2,2,2,2,2,2,2,2,2,2,2,2,2,2,2,2,2,2,2,2,2,2,2,2,2,2,2,2,2,2,2,2,2,2,2,2,2,2,2,2,2,2,2,2,2,2,2,2,2,2,2,2,2,2,2,2,2,2,2,2,2,2,2,2,2,2,2,2,2,2,2,2,2,2,2,2,2,2,2,2,2,2,2,2,2,2,2,2,2,2,2,2,2,2,2,2,2,2,2,2,2,2,2,2,2,2,2,2,2,2,2,2,2,2,2,2,2,2,2,2,2,2,2,2,2,2,2,2,2,2,2,2,2,2,2,2,2,2,2,2,2,2,2,2,2,2,2,2,2,2,2,2,2,2,2,2,2,2,2,2,2,2,2,2,2,2,2,2,2,2,2,2,2,2,2,2,2,2,2,2,2,2,2,2,2,2,2,2,2,2,2,2,2,2,2,2,2,2,2,2,2,2,2,2,2,2,2,2,2,2,2,2,2,2,2,2,2,2,2,2,2,2,2,2,2,2,2,2,2,2,2,2,2,2,2,2,2,2,2,2,2,2,2,2,2,2,2,2,2,2,2,2,2,2,2,2,2,2,2,2,2,2,2,2,2,2,2,2,2,2,2,2,2,2,2,2,2,2,2,2,2,2,2,2,2,2,2,2,2,2,2,2,2,2,2,2,2,2,2,2,2,2,2,2,2,2,2,2,2,2,2,2,2,2,2,2,2,2,2,2,2,2,2,2,2,2,2,2,2,2,2,2,2,2,2,2,2,2,2,2,2,2,2,2,2,2,2,2,2,2,2,2,2,2,2,2,2,2,2,2,2,2,2,2,2,2,2,2,2,2,2,2,2,2,2,2,2,2,2,2,2,2,2,2,2,2,2,2,2,2,2,2,2,2,2,2,2,2,2,2,2,2,2,2,2,2,2,2,2,2,2,2,2,2,2,2,2,2,2,2,2,2,2,2,2,2,2,2,2,2,2,2,2,2,2,2,2,2,2,2,2,2,2,2,2,2,2,2,2,2,2,2,2,2,2,2,2,2,2,2,2,2,2],\"x0\":\" \",\"xaxis\":\"x\",\"y\":[1009.31,170.46,535.5,332.95,310.73,65.09,323.35,443.85,38.1,14.899999999999999,293.76000000000005,329.46000000000004,42.0,128.8,708.0,731.4200000000001,199.65,58.190000000000005,392.34000000000003,117.85,1955.4,431.63,258.75,3.75,286.95,462.95,314.59000000000003,108.07,420.33,381.4,23.8,1916.2,97.5,102.89999999999999,323.65,201.75,120.94999999999999,280.46999999999997,50.550000000000004,377.27000000000004,184.38,1440.0,382.5,190.55,165.86,395.1,153.78,203.3,205.86,165.0,379.44,278.1,185.45,452.64000000000004,982.85,101.76,574.39,350.06,307.35,14.6,204.34,52.35,20.1,193.23,158.26,110.95,295.0,376.74,197.82,256.40999999999997,112.75,354.64,140.35,165.94,625.04,212.52,168.45,444.2,110.7,304.24,91.15,224.07,476.48,225.7,45.0,662.1700000000001,590.0,206.23,204.45000000000002,173.91,300.42,288.9,431.43,307.3,238.05,1110.6,1308.48,352.79999999999995,335.82,389.5,35.400000000000006,352.81,416.11,313.76,403.62,601.77,308.28000000000003,160.05,250.23999999999998,390.0,401.57,185.0,246.35999999999999,317.12,185.39999999999998,4.25,193.15,235.68,316.26000000000005,536.41,180.5,114.6,464.21999999999997,566.95,110.45,305.45,166.8,164.1,91.80000000000001,313.70000000000005,110.17999999999999,109.82000000000001,164.70000000000002,118.0,142.4,309.06,219.52,70.02,303.15000000000003,205.75,435.39,175.89999999999998,311.19,1425.0,197.8,308.8,162.70000000000002,64.05,444.24,32.0,139.52,99.5,318.14,330.79,454.3,298.05,114.05000000000001,158.57999999999998,79.6,204.0,688.8000000000001,296.25,156.0,1004.4000000000001,329.64,230.39999999999998,106.4,74.60000000000001,341.7,1087.19,112.6,442.88,102.0,408.0,109.05,411.4,935.0,246.32,201.16,123.30000000000001,456.05,129.35,540.45,340.65,308.0,1025.34,30.599999999999998,195.45,821.1,170.75,155.93,214.4,201.12,172.25,452.65,307.4,196.29999999999998,102.0,212.56,500.0,205.1,102.45,214.74,284.75,301.24,304.44,301.6,111.8,1251.75,314.82,265.85,136.24,182.25,76.32000000000001,892.25,195.13,19.9,314.63,333.3,311.81,306.18,283.15,177.68,148.35,382.18,197.65,398.0,516.95,67.24000000000001,238.2,19.9,347.95,147.8,1192.2,395.75,312.98,312.95,308.95,630.95,189.3,161.0,146.85,159.60000000000002,138.35,302.58,14.5,492.65000000000003,341.2,571.0,322.24,784.76,12.15,508.02000000000004,11.5,186.35000000000002,436.37,326.82,351.53000000000003,355.65000000000003,262.44,174.4,155.0,100.5,76.55,110.98,142.4,326.25,12.54,229.65,110.35000000000001,552.12,817.3000000000001,137.65,1063.0,121.05,217.2,124.1,203.55,517.46,63.0,131.9,96.1,102.35000000000001,161.03,113.64,81.0,597.3,703.25,131.7,328.1,165.0,174.4,302.86,137.85,127.2,538.8100000000001,493.27,166.22,66.93,18.75,255.25,165.0,275.45,726.95,405.40000000000003,433.5,195.9,946.25,326.4,201.94,186.34,679.67,35.400000000000006,39.75,255.0,163.8,393.33000000000004,204.0,144.0,237.60000000000002,226.65,305.7,21.85,309.5,383.14000000000004,187.50000000000003,344.81,96.95,373.49,1.25,2.55,448.76,247.45,203.1,434.0,204.77,943.44,495.3,936.53,228.26999999999998,124.60000000000001,97.5,230.7,278.6,406.56,558.36,14.5,334.05,200.10000000000002,114.68,179.1,75.68,542.15,109.25,152.88,48.800000000000004,582.0,438.23,605.0,373.35,37.2,103.67999999999999,309.69,120.95,433.89000000000004,129.2,135.9,257.22,175.5,499.25,300.87,295.05,178.66,337.5,155.95,163.2,111.25,185.97,118.88,98.7,207.73000000000002,1131.0,209.08,106.2,511.19,111.15,381.32,1116.8999999999999,109.78,391.34,169.65,288.5,259.05,295.15,408.94,355.40000000000003,333.2,122.10000000000001,378.32,158.16,168.44,487.75,1544.5,135.75,87.5,9.2,1393.53,315.0,975.9000000000001,353.09999999999997,211.94,316.58,65.4,383.07,331.65,29.849999999999998,581.66,692.4,585.0,333.68,154.41,318.23,321.05,333.9,186.0,420.5,178.95000000000002,119.3,1054.9,303.61,165.65,1900.92,123.15,293.49,165.0,311.71,17.7,252.42000000000002,201.60000000000002,115.65,311.65,418.92,326.0,208.61,105.54,230.10000000000002,310.22,358.78,587.66,107.45,94.0,165.0,295.06,97.7,155.17,494.64,179.1,231.22,1.25,548.44,973.1,250.0,101.2,580.3,127.86,135.32999999999998,137.89999999999998,134.55,270.19,288.5,29.65,195.35,344.88,184.95,30.19,606.24,377.6,104.76,104.25,424.49,281.88,319.18,94.0,308.37,189.8,816.0,209.3,309.8,27.799999999999997,173.05,478.89,103.5,299.8,181.1,324.05,138.1,354.77,259.65000000000003,79.2,314.68,185.04,778.65,177.15,83.35,351.3,346.87,1510.2,320.21999999999997,198.8,377.32,244.8,206.98,440.2,870.76,363.94,23.849999999999998,301.11,1515.8,331.6,118.95000000000002,180.68,747.3000000000001,102.66,256.32,392.32000000000005,15.0,151.44,56.25,161.28,375.40000000000003,127.08,317.73,74.9,39.8,181.0,428.82000000000005,428.99,572.38,156.19,161.9,314.1,762.0,504.92,270.0,335.54,113.48,263.25,1181.0,110.1,403.02,331.24,153.6,603.46,74.85,307.85,256.44,247.56,584.3199999999999,150.45,157.6,337.98,181.35,278.45,24.7,852.4,314.99999999999994,136.14,138.83,249.84,310.85,289.35,891.35,645.66,297.93,7.95,124.14,76.32000000000001,453.46999999999997,215.01,303.84000000000003,441.6,403.5,825.0,307.68,365.27,174.45,161.3,471.3,166.74,441.05,353.36,226.14,295.09,31.65,133.22,12.9,168.3,378.75,226.37,338.82,570.76,122.3,2508.48,53.5,392.7,153.9,1295.2,313.45,368.46,167.09,287.05,147.20000000000002,94.36,312.40999999999997,665.8,193.95,167.25,338.24,128.55,252.66,51.0,302.7,393.5,211.0,531.98,393.7,109.12,217.81,127.80000000000001,512.38,411.8,165.0,363.7,248.1,319.86,103.7,743.9,484.83,1910.4,119.49000000000001,311.07,95.29,6.8,332.18,173.7,94.89999999999999,557.5600000000001,495.21000000000004,292.63,30.599999999999998,233.45,455.28000000000003,69.6,120.65,125.86,280.05,164.8,227.4,1441.47,123.24,282.59999999999997,135.39999999999998,464.82,129.75,8.5,598.8000000000001,1315.8000000000002,336.35,227.34,3.75,430.28000000000003,609.8,207.5,2002.4,316.06,106.83000000000001,34.0,327.85,33.9,479.35,325.45,409.8,309.48,81.75,392.12,317.38,520.5699999999999,332.41,405.49,22.110000000000003,165.70000000000002,9.9,128.03,177.95,15.95,176.43,170.55,254.39999999999998,113.44,275.78,230.25,218.1,394.85,267.6,451.03,69.6,74.42,172.0,346.79999999999995,379.98,357.09999999999997,358.75,12.45,1.25,136.39000000000001,702.0,90.0,513.06,219.62,405.0,160.97,33.15,307.8,141.79999999999998,304.71,320.3,35.1,265.91,319.37,143.95,317.35,151.5,636.94,462.0,333.8,116.19999999999999,157.02,157.09,500.55,298.25,444.45,413.79,424.41,224.91,519.08,243.0,155.52,252.62,67.7,393.49,142.25,341.9,385.05,127.89999999999999,268.86,222.7,290.52,550.8000000000001,469.35,182.85,1691.68,152.64000000000001,556.46,569.15,450.92,141.69,702.23,243.36,307.44,60.0,193.64,178.22,45.0,150.0,92.14,145.25,105.85,381.6,1227.24,397.5,571.87,30.0,589.12,167.39000000000001,130.85,376.6,112.6,457.83,68.10000000000001,249.86,717.0600000000001,203.8,178.4,632.9200000000001,271.05,231.48,153.94,340.25,145.0,422.70000000000005,887.8,268.8,11.8,141.48,298.52,162.1,344.14,70.80000000000001,417.81,662.9,136.24,311.41,326.4,901.78,268.65,67.5,101.55,9.95,251.0,1057.2,474.95,371.39,394.18,300.66,300.7,391.5,290.40000000000003,180.55,9.85,88.15,136.3,83.7,106.85,220.53000000000003,153.0,102.0,303.97,682.59,302.57,80.64,172.54,115.8,219.98999999999998,103.35,136.05,100.2,193.29999999999998,16.21,16.95,188.5,213.91,345.1,208.97,2127.54,141.92000000000002,241.85999999999999,330.9,38.25,214.32,326.4,204.95,458.92,133.35000000000002,112.08,99.35,392.9,218.05,107.16,547.9000000000001,244.08,196.20000000000002,1045.44,2178.0,427.20000000000005,125.2,300.91999999999996,295.2,64.99000000000001,316.0,130.81,102.78999999999999,165.0,73.5,39.55,74.25,74.4,363.65,817.33,169.8,101.69999999999999,258.95,489.6,2.95,504.72,580.0500000000001,657.1800000000001,76.32000000000001,220.1,180.7,288.99,152.65,35.400000000000006,660.05,312.55,113.93,530.15,301.53,240.45000000000002,426.6,181.41,20.85,485.73,216.07,484.37,500.62,421.55,545.82,308.1,440.0,355.62,50.1,378.8,376.30000000000007,198.3,12.75],\"y0\":\" \",\"yaxis\":\"y\",\"type\":\"box\"},{\"alignmentgroup\":\"True\",\"hovertemplate\":\"color=0<br>x=%{x}<br>y=%{y}<extra></extra>\",\"legendgroup\":\"0\",\"marker\":{\"color\":\"#EF553B\"},\"name\":\"0\",\"notched\":false,\"offsetgroup\":\"0\",\"orientation\":\"v\",\"showlegend\":true,\"x\":[0,0,0,0,0,0,0,0,0,0,0,0,0,0,0,0,0,0,0,0,0,0,0,0,0,0,0,0,0,0,0,0,0,0,0,0,0,0,0,0,0,0,0,0,0,0,0,0,0,0,0,0,0,0,0,0,0,0,0,0,0,0,0,0,0,0,0,0,0,0,0,0,0,0,0,0,0,0,0,0,0,0,0,0,0,0,0,0,0,0,0,0,0,0,0,0,0,0,0,0,0,0,0,0,0,0,0,0,0,0,0,0,0,0,0,0,0,0,0,0,0,0,0,0,0,0,0,0,0,0,0,0,0,0,0,0,0,0,0,0,0,0,0,0,0,0,0,0,0,0,0,0,0,0,0,0,0,0,0,0,0,0,0,0,0,0,0,0,0,0,0,0,0,0,0,0,0,0,0,0,0,0,0,0,0,0,0,0,0,0,0,0,0,0,0,0,0,0,0,0,0,0,0,0,0,0,0,0,0,0,0,0,0,0,0,0,0,0,0,0,0,0,0,0,0,0,0,0,0,0,0,0,0,0,0,0,0,0,0,0,0,0,0,0,0,0,0,0,0,0,0,0,0,0,0,0,0,0,0,0,0,0,0,0,0,0,0,0,0,0,0,0,0,0,0,0,0,0,0,0,0,0,0,0,0,0,0,0,0,0,0,0,0,0,0,0,0,0,0,0,0,0,0,0,0,0,0,0,0,0,0,0,0,0,0,0,0,0,0,0,0,0,0,0,0,0,0,0,0,0,0,0,0,0,0,0,0,0,0,0,0,0,0,0,0,0,0,0,0,0,0,0,0,0,0,0,0,0,0,0,0,0,0,0,0,0,0,0,0,0,0,0,0,0,0,0,0,0,0,0,0,0,0,0,0,0,0,0,0,0,0,0,0,0,0,0,0,0,0,0,0,0,0,0,0,0,0,0,0,0,0,0],\"x0\":\" \",\"xaxis\":\"x\",\"y\":[697.1,846.69,390.79,1089.01,406.6,801.6,673.21,599.97,807.05,5309.28,765.55,1690.85,1715.07,2904.69,505.82,1528.34,642.45,402.36,560.47,828.48,477.61,576.19,1970.23,499.93,1256.32,570.71,206.63,527.52,1257.8700000000001,569.2,796.56,1124.0,236.02,1875.04,498.16,2470.44,1063.16,141.66,1012.57,682.96,666.89,390.71,947.9000000000001,812.7,788.4200000000001,534.57,1579.62,827.14,639.4300000000001,870.5400000000001,359.19,734.98,641.83,920.1800000000001,1131.75,1697.69,559.85,760.66,334.2,1035.2,583.41,1479.78,817.3199999999999,741.26,1141.25,499.89,631.82,191.94,558.32,723.63,1140.35,230.66,907.53,2332.9,688.45,886.01,544.03,559.27,2194.56,664.54,662.83,903.8,949.94,822.85,609.7,900.02,983.73,628.57,914.05,170.44,409.93,2649.56,1931.46,3096.39,929.88,818.73,1844.03,635.84,480.91,189.92,579.8000000000001,1169.24,977.3900000000001,933.9100000000001,244.3,858.73,1139.8,523.86,620.14,2604.19,621.24,487.19,672.57,689.36,430.68,725.42,1185.71,627.72,210.24,466.59,297.64,546.27,257.0,662.86,774.48,1101.77,289.24,434.7,1167.41,345.98,402.0,346.90000000000003,623.1800000000001,1246.08,416.08,828.47,749.46,285.28000000000003,168.36,390.35,589.5,731.95,648.09,455.65,313.49,1056.75,574.38,994.48,881.14,348.15,461.09,631.87,991.95,1430.98,503.35,961.94,793.89,1761.88,119.77,1147.5900000000001,188.56,214.09,680.59,2770.6,556.55,1078.34,470.57,376.86,773.66,847.72,1115.7,158.8,1302.12,904.85,364.84999999999997,1053.07,854.48,1414.43,1199.33,873.08,673.37,574.02,1159.47,257.9,288.06,754.22,1102.8,1019.42,252.29,559.61,387.52,437.71,214.26,2609.2599999999998,1268.13,1314.8,141.04,2566.9,633.6,274.93,570.89,353.8,335.54,967.8000000000001,323.86,780.42,914.87,620.35,880.26,1042.5,1300.92,777.51,529.4,190.7,967.37,928.58,924.5600000000001,897.33,614.84,1232.58,354.23,564.54,272.07,516.64,310.9,593.36,214.07999999999998,1376.8500000000001,769.24,745.69,253.63,371.52,1953.5,664.45,259.5,367.14,436.18,1217.95,992.22,2082.23,497.59,436.38,1056.63,1141.24,351.75,827.1800000000001,624.47,425.18,522.25,450.56,205.65,271.56,334.6,147.06,1236.49,221.29,961.71,826.53,736.7,852.29,325.76,2734.79,747.25,1670.23,563.71,1949.69,950.99,1181.73,728.16,741.89,812.25,784.41,1248.77,519.9200000000001,606.0500000000001,769.01,1115.33,256.32,607.21,1866.02,552.95,577.1,246.98,414.88,214.77,2930.13,1999.46,846.9399999999999,523.05,217.26,145.93,366.53000000000003,409.75,737.84,196.43,540.01,780.64,1053.79,681.86,1276.06,772.89,187.6,537.23,855.15,596.7,562.6,996.02,913.1,762.0699999999999,319.4,268.54,246.89,1623.09,226.57000000000002,510.11,521.66,779.71,970.8000000000001,453.1,637.5,416.89,479.38,445.37,269.83,108.26,367.95,717.02,723.9,250.04,337.96,160.15,360.81,742.66,1257.1499999999999,286.37,417.27,424.17,1037.47,403.3,684.26,298.1,622.88,787.43,340.56,656.1600000000001,620.75,290.34,195.45,942.8,282.7,609.77,168.02,1276.83,390.97,897.51,278.98,214.37,785.65,928.05,1177.8400000000001,402.41999999999996,1186.22,1592.61,453.96,888.85,693.29,1039.72,370.41,516.35,614.1,1861.7,1879.9199999999998,205.48,2093.0,226.45000000000002,890.6999999999999,436.17,232.03,325.46,2693.88,273.25,261.76,112.27,265.1,321.79,305.3,190.34,157.92,318.85,287.91,762.8000000000001,292.06,643.45,711.46,689.95,3243.72,3111.84,1140.6200000000001,421.9,609.01,186.88,659.29,1989.6299999999999,504.05,633.95,622.9,450.78,907.32,1372.9,918.52,864.41,806.0200000000001],\"y0\":\" \",\"yaxis\":\"y\",\"type\":\"box\"},{\"alignmentgroup\":\"True\",\"hovertemplate\":\"color=1<br>x=%{x}<br>y=%{y}<extra></extra>\",\"legendgroup\":\"1\",\"marker\":{\"color\":\"#00cc96\"},\"name\":\"1\",\"notched\":false,\"offsetgroup\":\"1\",\"orientation\":\"v\",\"showlegend\":true,\"x\":[1,1,1,1,1,1,1,1,1,1,1,1,1,1,1,1,1,1,1,1,1,1,1,1,1,1,1,1,1,1,1,1,1,1,1,1,1,1,1,1,1,1,1,1,1,1,1,1,1,1,1,1,1,1,1,1,1,1,1,1,1,1,1,1,1,1,1,1,1,1,1,1,1,1,1,1,1,1,1,1,1,1,1,1,1,1,1,1,1,1,1,1,1,1,1,1,1,1,1,1,1,1,1,1,1,1,1,1,1,1,1,1,1,1,1,1,1,1,1,1,1,1,1,1,1,1,1,1,1,1,1,1,1,1,1,1,1,1,1,1,1,1,1,1,1,1,1,1,1,1,1,1,1],\"x0\":\" \",\"xaxis\":\"x\",\"y\":[1393.07,795.2,2752.13,3489.69,1290.1299999999999,2188.43,1240.09,2033.96,1672.1000000000001,1938.1,2794.1,1270.07,821.63,1195.69,510.52,2823.39,1637.19,5742.57,4207.67,1609.5,3400.71,1174.03,1763.0800000000002,3911.7,965.3000000000001,3839.3,4060.6800000000003,1040.1,1543.3999999999999,931.57,444.36,1973.41,1811.91,2482.86,1909.47,4286.18,1270.56,1575.48,1611.61,454.1,763.35,511.12,837.5,1510.46,665.07,1024.2,1753.6399999999999,2391.9900000000002,2119.68,1132.4,855.69,984.35,1403.85,3196.1,1854.18,2782.36,2698.12,2268.91,1313.04,590.21,2507.7,2753.4900000000002,1044.65,3785.64,2940.98,1199.1200000000001,1006.04,994.9200000000001,1708.04,563.54,2435.1,4301.08,929.13,2071.7,4389.91,816.22,1068.8700000000001,359.03,1138.37,863.39,404.0,773.5500000000001,893.21,2453.04,1158.22,1477.06,1278.3,3631.0,1648.8700000000001,1364.06,764.22,585.76,739.27,1245.34,947.42,2085.8,927.29,2120.11,2187.39,632.4100000000001,1570.26,757.68,2908.7599999999998,629.91,660.94,722.36,981.75,511.62,2639.38,770.63,3606.75,715.58,508.64,1522.55,716.11,1133.34,4627.51,416.61,949.84,528.9300000000001,1308.83,2456.12,3144.02,691.46,438.27,645.33,856.36,767.0500000000001,539.55,3722.34,2728.5,1570.65,1786.98,1896.02,1139.95,1668.52,1040.56,1270.96,1655.0,2408.0,590.54,586.89,608.6,834.81,743.56,610.43,740.1,1378.78,2426.08,1236.3700000000001,722.62,1714.23,213.75],\"y0\":\" \",\"yaxis\":\"y\",\"type\":\"box\"}],                        {\"template\":{\"data\":{\"bar\":[{\"error_x\":{\"color\":\"#2a3f5f\"},\"error_y\":{\"color\":\"#2a3f5f\"},\"marker\":{\"line\":{\"color\":\"#E5ECF6\",\"width\":0.5},\"pattern\":{\"fillmode\":\"overlay\",\"size\":10,\"solidity\":0.2}},\"type\":\"bar\"}],\"barpolar\":[{\"marker\":{\"line\":{\"color\":\"#E5ECF6\",\"width\":0.5},\"pattern\":{\"fillmode\":\"overlay\",\"size\":10,\"solidity\":0.2}},\"type\":\"barpolar\"}],\"carpet\":[{\"aaxis\":{\"endlinecolor\":\"#2a3f5f\",\"gridcolor\":\"white\",\"linecolor\":\"white\",\"minorgridcolor\":\"white\",\"startlinecolor\":\"#2a3f5f\"},\"baxis\":{\"endlinecolor\":\"#2a3f5f\",\"gridcolor\":\"white\",\"linecolor\":\"white\",\"minorgridcolor\":\"white\",\"startlinecolor\":\"#2a3f5f\"},\"type\":\"carpet\"}],\"choropleth\":[{\"colorbar\":{\"outlinewidth\":0,\"ticks\":\"\"},\"type\":\"choropleth\"}],\"contour\":[{\"colorbar\":{\"outlinewidth\":0,\"ticks\":\"\"},\"colorscale\":[[0.0,\"#0d0887\"],[0.1111111111111111,\"#46039f\"],[0.2222222222222222,\"#7201a8\"],[0.3333333333333333,\"#9c179e\"],[0.4444444444444444,\"#bd3786\"],[0.5555555555555556,\"#d8576b\"],[0.6666666666666666,\"#ed7953\"],[0.7777777777777778,\"#fb9f3a\"],[0.8888888888888888,\"#fdca26\"],[1.0,\"#f0f921\"]],\"type\":\"contour\"}],\"contourcarpet\":[{\"colorbar\":{\"outlinewidth\":0,\"ticks\":\"\"},\"type\":\"contourcarpet\"}],\"heatmap\":[{\"colorbar\":{\"outlinewidth\":0,\"ticks\":\"\"},\"colorscale\":[[0.0,\"#0d0887\"],[0.1111111111111111,\"#46039f\"],[0.2222222222222222,\"#7201a8\"],[0.3333333333333333,\"#9c179e\"],[0.4444444444444444,\"#bd3786\"],[0.5555555555555556,\"#d8576b\"],[0.6666666666666666,\"#ed7953\"],[0.7777777777777778,\"#fb9f3a\"],[0.8888888888888888,\"#fdca26\"],[1.0,\"#f0f921\"]],\"type\":\"heatmap\"}],\"heatmapgl\":[{\"colorbar\":{\"outlinewidth\":0,\"ticks\":\"\"},\"colorscale\":[[0.0,\"#0d0887\"],[0.1111111111111111,\"#46039f\"],[0.2222222222222222,\"#7201a8\"],[0.3333333333333333,\"#9c179e\"],[0.4444444444444444,\"#bd3786\"],[0.5555555555555556,\"#d8576b\"],[0.6666666666666666,\"#ed7953\"],[0.7777777777777778,\"#fb9f3a\"],[0.8888888888888888,\"#fdca26\"],[1.0,\"#f0f921\"]],\"type\":\"heatmapgl\"}],\"histogram\":[{\"marker\":{\"pattern\":{\"fillmode\":\"overlay\",\"size\":10,\"solidity\":0.2}},\"type\":\"histogram\"}],\"histogram2d\":[{\"colorbar\":{\"outlinewidth\":0,\"ticks\":\"\"},\"colorscale\":[[0.0,\"#0d0887\"],[0.1111111111111111,\"#46039f\"],[0.2222222222222222,\"#7201a8\"],[0.3333333333333333,\"#9c179e\"],[0.4444444444444444,\"#bd3786\"],[0.5555555555555556,\"#d8576b\"],[0.6666666666666666,\"#ed7953\"],[0.7777777777777778,\"#fb9f3a\"],[0.8888888888888888,\"#fdca26\"],[1.0,\"#f0f921\"]],\"type\":\"histogram2d\"}],\"histogram2dcontour\":[{\"colorbar\":{\"outlinewidth\":0,\"ticks\":\"\"},\"colorscale\":[[0.0,\"#0d0887\"],[0.1111111111111111,\"#46039f\"],[0.2222222222222222,\"#7201a8\"],[0.3333333333333333,\"#9c179e\"],[0.4444444444444444,\"#bd3786\"],[0.5555555555555556,\"#d8576b\"],[0.6666666666666666,\"#ed7953\"],[0.7777777777777778,\"#fb9f3a\"],[0.8888888888888888,\"#fdca26\"],[1.0,\"#f0f921\"]],\"type\":\"histogram2dcontour\"}],\"mesh3d\":[{\"colorbar\":{\"outlinewidth\":0,\"ticks\":\"\"},\"type\":\"mesh3d\"}],\"parcoords\":[{\"line\":{\"colorbar\":{\"outlinewidth\":0,\"ticks\":\"\"}},\"type\":\"parcoords\"}],\"pie\":[{\"automargin\":true,\"type\":\"pie\"}],\"scatter\":[{\"marker\":{\"colorbar\":{\"outlinewidth\":0,\"ticks\":\"\"}},\"type\":\"scatter\"}],\"scatter3d\":[{\"line\":{\"colorbar\":{\"outlinewidth\":0,\"ticks\":\"\"}},\"marker\":{\"colorbar\":{\"outlinewidth\":0,\"ticks\":\"\"}},\"type\":\"scatter3d\"}],\"scattercarpet\":[{\"marker\":{\"colorbar\":{\"outlinewidth\":0,\"ticks\":\"\"}},\"type\":\"scattercarpet\"}],\"scattergeo\":[{\"marker\":{\"colorbar\":{\"outlinewidth\":0,\"ticks\":\"\"}},\"type\":\"scattergeo\"}],\"scattergl\":[{\"marker\":{\"colorbar\":{\"outlinewidth\":0,\"ticks\":\"\"}},\"type\":\"scattergl\"}],\"scattermapbox\":[{\"marker\":{\"colorbar\":{\"outlinewidth\":0,\"ticks\":\"\"}},\"type\":\"scattermapbox\"}],\"scatterpolar\":[{\"marker\":{\"colorbar\":{\"outlinewidth\":0,\"ticks\":\"\"}},\"type\":\"scatterpolar\"}],\"scatterpolargl\":[{\"marker\":{\"colorbar\":{\"outlinewidth\":0,\"ticks\":\"\"}},\"type\":\"scatterpolargl\"}],\"scatterternary\":[{\"marker\":{\"colorbar\":{\"outlinewidth\":0,\"ticks\":\"\"}},\"type\":\"scatterternary\"}],\"surface\":[{\"colorbar\":{\"outlinewidth\":0,\"ticks\":\"\"},\"colorscale\":[[0.0,\"#0d0887\"],[0.1111111111111111,\"#46039f\"],[0.2222222222222222,\"#7201a8\"],[0.3333333333333333,\"#9c179e\"],[0.4444444444444444,\"#bd3786\"],[0.5555555555555556,\"#d8576b\"],[0.6666666666666666,\"#ed7953\"],[0.7777777777777778,\"#fb9f3a\"],[0.8888888888888888,\"#fdca26\"],[1.0,\"#f0f921\"]],\"type\":\"surface\"}],\"table\":[{\"cells\":{\"fill\":{\"color\":\"#EBF0F8\"},\"line\":{\"color\":\"white\"}},\"header\":{\"fill\":{\"color\":\"#C8D4E3\"},\"line\":{\"color\":\"white\"}},\"type\":\"table\"}]},\"layout\":{\"annotationdefaults\":{\"arrowcolor\":\"#2a3f5f\",\"arrowhead\":0,\"arrowwidth\":1},\"autotypenumbers\":\"strict\",\"coloraxis\":{\"colorbar\":{\"outlinewidth\":0,\"ticks\":\"\"}},\"colorscale\":{\"diverging\":[[0,\"#8e0152\"],[0.1,\"#c51b7d\"],[0.2,\"#de77ae\"],[0.3,\"#f1b6da\"],[0.4,\"#fde0ef\"],[0.5,\"#f7f7f7\"],[0.6,\"#e6f5d0\"],[0.7,\"#b8e186\"],[0.8,\"#7fbc41\"],[0.9,\"#4d9221\"],[1,\"#276419\"]],\"sequential\":[[0.0,\"#0d0887\"],[0.1111111111111111,\"#46039f\"],[0.2222222222222222,\"#7201a8\"],[0.3333333333333333,\"#9c179e\"],[0.4444444444444444,\"#bd3786\"],[0.5555555555555556,\"#d8576b\"],[0.6666666666666666,\"#ed7953\"],[0.7777777777777778,\"#fb9f3a\"],[0.8888888888888888,\"#fdca26\"],[1.0,\"#f0f921\"]],\"sequentialminus\":[[0.0,\"#0d0887\"],[0.1111111111111111,\"#46039f\"],[0.2222222222222222,\"#7201a8\"],[0.3333333333333333,\"#9c179e\"],[0.4444444444444444,\"#bd3786\"],[0.5555555555555556,\"#d8576b\"],[0.6666666666666666,\"#ed7953\"],[0.7777777777777778,\"#fb9f3a\"],[0.8888888888888888,\"#fdca26\"],[1.0,\"#f0f921\"]]},\"colorway\":[\"#636efa\",\"#EF553B\",\"#00cc96\",\"#ab63fa\",\"#FFA15A\",\"#19d3f3\",\"#FF6692\",\"#B6E880\",\"#FF97FF\",\"#FECB52\"],\"font\":{\"color\":\"#2a3f5f\"},\"geo\":{\"bgcolor\":\"white\",\"lakecolor\":\"white\",\"landcolor\":\"#E5ECF6\",\"showlakes\":true,\"showland\":true,\"subunitcolor\":\"white\"},\"hoverlabel\":{\"align\":\"left\"},\"hovermode\":\"closest\",\"mapbox\":{\"style\":\"light\"},\"paper_bgcolor\":\"white\",\"plot_bgcolor\":\"#E5ECF6\",\"polar\":{\"angularaxis\":{\"gridcolor\":\"white\",\"linecolor\":\"white\",\"ticks\":\"\"},\"bgcolor\":\"#E5ECF6\",\"radialaxis\":{\"gridcolor\":\"white\",\"linecolor\":\"white\",\"ticks\":\"\"}},\"scene\":{\"xaxis\":{\"backgroundcolor\":\"#E5ECF6\",\"gridcolor\":\"white\",\"gridwidth\":2,\"linecolor\":\"white\",\"showbackground\":true,\"ticks\":\"\",\"zerolinecolor\":\"white\"},\"yaxis\":{\"backgroundcolor\":\"#E5ECF6\",\"gridcolor\":\"white\",\"gridwidth\":2,\"linecolor\":\"white\",\"showbackground\":true,\"ticks\":\"\",\"zerolinecolor\":\"white\"},\"zaxis\":{\"backgroundcolor\":\"#E5ECF6\",\"gridcolor\":\"white\",\"gridwidth\":2,\"linecolor\":\"white\",\"showbackground\":true,\"ticks\":\"\",\"zerolinecolor\":\"white\"}},\"shapedefaults\":{\"line\":{\"color\":\"#2a3f5f\"}},\"ternary\":{\"aaxis\":{\"gridcolor\":\"white\",\"linecolor\":\"white\",\"ticks\":\"\"},\"baxis\":{\"gridcolor\":\"white\",\"linecolor\":\"white\",\"ticks\":\"\"},\"bgcolor\":\"#E5ECF6\",\"caxis\":{\"gridcolor\":\"white\",\"linecolor\":\"white\",\"ticks\":\"\"}},\"title\":{\"x\":0.05},\"xaxis\":{\"automargin\":true,\"gridcolor\":\"white\",\"linecolor\":\"white\",\"ticks\":\"\",\"title\":{\"standoff\":15},\"zerolinecolor\":\"white\",\"zerolinewidth\":2},\"yaxis\":{\"automargin\":true,\"gridcolor\":\"white\",\"linecolor\":\"white\",\"ticks\":\"\",\"title\":{\"standoff\":15},\"zerolinecolor\":\"white\",\"zerolinewidth\":2}}},\"xaxis\":{\"anchor\":\"y\",\"domain\":[0.0,1.0],\"title\":{\"text\":\"x\"}},\"yaxis\":{\"anchor\":\"x\",\"domain\":[0.0,1.0],\"title\":{\"text\":\"y\"}},\"legend\":{\"title\":{\"text\":\"color\"},\"tracegroupgap\":0},\"margin\":{\"t\":60},\"boxmode\":\"group\"},                        {\"responsive\": true}                    ).then(function(){\n",
              "                            \n",
              "var gd = document.getElementById('b06c4478-dbdb-42f5-9787-7fb83e181593');\n",
              "var x = new MutationObserver(function (mutations, observer) {{\n",
              "        var display = window.getComputedStyle(gd).display;\n",
              "        if (!display || display === 'none') {{\n",
              "            console.log([gd, 'removed!']);\n",
              "            Plotly.purge(gd);\n",
              "            observer.disconnect();\n",
              "        }}\n",
              "}});\n",
              "\n",
              "// Listen for the removal of the full notebook cells\n",
              "var notebookContainer = gd.closest('#notebook-container');\n",
              "if (notebookContainer) {{\n",
              "    x.observe(notebookContainer, {childList: true});\n",
              "}}\n",
              "\n",
              "// Listen for the clearing of the current output cell\n",
              "var outputEl = gd.closest('.output');\n",
              "if (outputEl) {{\n",
              "    x.observe(outputEl, {childList: true});\n",
              "}}\n",
              "\n",
              "                        })                };                            </script>        </div>\n",
              "</body>\n",
              "</html>"
            ]
          },
          "metadata": {}
        }
      ]
    },
    {
      "cell_type": "code",
      "source": [
        "px.box(x=df_final['Cluster_Labels'],y=df_final['Frequency'],color=df_final['Cluster_Labels'])"
      ],
      "metadata": {
        "colab": {
          "base_uri": "https://localhost:8080/",
          "height": 542
        },
        "id": "JflxiMSSccuj",
        "outputId": "cf1ff806-2bfc-4bd7-d917-1f4f5fe55f30"
      },
      "execution_count": null,
      "outputs": [
        {
          "output_type": "display_data",
          "data": {
            "text/html": [
              "<html>\n",
              "<head><meta charset=\"utf-8\" /></head>\n",
              "<body>\n",
              "    <div>            <script src=\"https://cdnjs.cloudflare.com/ajax/libs/mathjax/2.7.5/MathJax.js?config=TeX-AMS-MML_SVG\"></script><script type=\"text/javascript\">if (window.MathJax) {MathJax.Hub.Config({SVG: {font: \"STIX-Web\"}});}</script>                <script type=\"text/javascript\">window.PlotlyConfig = {MathJaxConfig: 'local'};</script>\n",
              "        <script src=\"https://cdn.plot.ly/plotly-2.8.3.min.js\"></script>                <div id=\"1c16b1c0-c779-445a-8955-c9d64e55691f\" class=\"plotly-graph-div\" style=\"height:525px; width:100%;\"></div>            <script type=\"text/javascript\">                                    window.PLOTLYENV=window.PLOTLYENV || {};                                    if (document.getElementById(\"1c16b1c0-c779-445a-8955-c9d64e55691f\")) {                    Plotly.newPlot(                        \"1c16b1c0-c779-445a-8955-c9d64e55691f\",                        [{\"alignmentgroup\":\"True\",\"hovertemplate\":\"color=2<br>x=%{x}<br>y=%{y}<extra></extra>\",\"legendgroup\":\"2\",\"marker\":{\"color\":\"#636efa\"},\"name\":\"2\",\"notched\":false,\"offsetgroup\":\"2\",\"orientation\":\"v\",\"showlegend\":true,\"x\":[2,2,2,2,2,2,2,2,2,2,2,2,2,2,2,2,2,2,2,2,2,2,2,2,2,2,2,2,2,2,2,2,2,2,2,2,2,2,2,2,2,2,2,2,2,2,2,2,2,2,2,2,2,2,2,2,2,2,2,2,2,2,2,2,2,2,2,2,2,2,2,2,2,2,2,2,2,2,2,2,2,2,2,2,2,2,2,2,2,2,2,2,2,2,2,2,2,2,2,2,2,2,2,2,2,2,2,2,2,2,2,2,2,2,2,2,2,2,2,2,2,2,2,2,2,2,2,2,2,2,2,2,2,2,2,2,2,2,2,2,2,2,2,2,2,2,2,2,2,2,2,2,2,2,2,2,2,2,2,2,2,2,2,2,2,2,2,2,2,2,2,2,2,2,2,2,2,2,2,2,2,2,2,2,2,2,2,2,2,2,2,2,2,2,2,2,2,2,2,2,2,2,2,2,2,2,2,2,2,2,2,2,2,2,2,2,2,2,2,2,2,2,2,2,2,2,2,2,2,2,2,2,2,2,2,2,2,2,2,2,2,2,2,2,2,2,2,2,2,2,2,2,2,2,2,2,2,2,2,2,2,2,2,2,2,2,2,2,2,2,2,2,2,2,2,2,2,2,2,2,2,2,2,2,2,2,2,2,2,2,2,2,2,2,2,2,2,2,2,2,2,2,2,2,2,2,2,2,2,2,2,2,2,2,2,2,2,2,2,2,2,2,2,2,2,2,2,2,2,2,2,2,2,2,2,2,2,2,2,2,2,2,2,2,2,2,2,2,2,2,2,2,2,2,2,2,2,2,2,2,2,2,2,2,2,2,2,2,2,2,2,2,2,2,2,2,2,2,2,2,2,2,2,2,2,2,2,2,2,2,2,2,2,2,2,2,2,2,2,2,2,2,2,2,2,2,2,2,2,2,2,2,2,2,2,2,2,2,2,2,2,2,2,2,2,2,2,2,2,2,2,2,2,2,2,2,2,2,2,2,2,2,2,2,2,2,2,2,2,2,2,2,2,2,2,2,2,2,2,2,2,2,2,2,2,2,2,2,2,2,2,2,2,2,2,2,2,2,2,2,2,2,2,2,2,2,2,2,2,2,2,2,2,2,2,2,2,2,2,2,2,2,2,2,2,2,2,2,2,2,2,2,2,2,2,2,2,2,2,2,2,2,2,2,2,2,2,2,2,2,2,2,2,2,2,2,2,2,2,2,2,2,2,2,2,2,2,2,2,2,2,2,2,2,2,2,2,2,2,2,2,2,2,2,2,2,2,2,2,2,2,2,2,2,2,2,2,2,2,2,2,2,2,2,2,2,2,2,2,2,2,2,2,2,2,2,2,2,2,2,2,2,2,2,2,2,2,2,2,2,2,2,2,2,2,2,2,2,2,2,2,2,2,2,2,2,2,2,2,2,2,2,2,2,2,2,2,2,2,2,2,2,2,2,2,2,2,2,2,2,2,2,2,2,2,2,2,2,2,2,2,2,2,2,2,2,2,2,2,2,2,2,2,2,2,2,2,2,2,2,2,2,2,2,2,2,2,2,2,2,2,2,2,2,2,2,2,2,2,2,2,2,2,2,2,2,2,2,2,2,2,2,2,2,2,2,2,2,2,2,2,2,2,2,2,2,2,2,2,2,2,2,2,2,2,2,2,2,2,2,2,2,2,2,2,2,2,2,2,2,2,2,2,2,2,2,2,2,2,2,2,2,2,2,2,2,2,2,2,2,2,2,2,2,2,2,2,2,2,2,2,2,2,2,2,2,2,2,2,2,2,2,2,2,2,2,2,2,2,2,2,2,2,2,2,2,2,2,2,2,2,2,2,2,2,2,2,2,2,2,2,2,2,2,2,2,2,2,2,2,2,2,2,2,2,2,2,2,2,2,2,2,2,2,2,2,2,2,2,2,2,2,2,2,2,2,2,2,2,2,2,2,2,2,2,2,2,2,2,2,2,2,2,2,2,2,2,2,2,2,2,2,2,2,2,2,2,2,2,2,2,2,2,2,2,2,2,2,2,2,2,2,2,2,2,2,2,2,2,2,2,2,2,2,2,2,2,2,2,2,2,2,2,2,2],\"x0\":\" \",\"xaxis\":\"x\",\"y\":[20,11,2,12,14,21,20,23,3,2,1,18,1,2,2,11,13,2,17,8,7,27,16,1,14,23,21,19,31,17,8,10,3,8,18,11,7,15,3,19,9,6,1,11,11,15,7,9,14,1,7,13,7,6,25,1,23,10,21,3,16,3,3,14,15,3,1,18,11,19,8,13,23,23,20,20,26,21,2,17,5,21,16,6,1,28,1,14,11,20,21,11,29,17,14,10,17,9,13,20,1,19,24,16,16,15,17,6,8,1,27,8,13,23,12,1,11,7,18,27,10,4,29,30,5,15,3,11,4,8,13,23,9,10,24,13,19,3,15,9,24,17,20,8,15,18,31,8,16,4,23,1,10,20,30,21,7,9,1,1,8,9,8,16,6,7,7,4,16,22,7,11,1,2,8,28,4,17,28,7,23,8,18,24,17,13,1,12,21,11,12,11,17,7,3,16,13,3,12,1,11,5,16,9,9,7,11,26,5,15,24,13,29,1,7,11,1,20,18,22,12,26,13,18,21,3,12,30,4,14,1,16,6,5,22,11,18,19,15,3,9,8,9,8,8,2,29,19,13,19,25,3,22,2,10,23,29,24,14,17,11,8,4,4,17,7,23,6,28,34,20,14,8,14,22,8,21,24,21,5,9,3,18,11,4,2,7,17,15,19,1,10,12,14,4,19,31,14,4,7,26,1,26,27,23,10,11,17,2,23,14,26,1,3,31,5,25,1,1,1,6,16,5,12,18,8,29,22,15,1,1,13,22,10,8,11,18,19,18,15,7,7,8,17,20,22,2,18,6,4,9,6,14,19,29,2,5,29,3,22,3,1,16,21,31,8,10,32,10,21,17,15,22,5,16,2,5,14,32,23,28,22,11,1,28,8,23,6,5,20,9,16,17,18,26,14,10,8,19,4,15,27,7,11,6,2,16,15,4,3,20,9,3,23,25,2,28,11,5,16,8,16,15,19,12,17,10,6,24,21,26,4,5,17,1,29,3,17,5,5,12,7,16,12,8,1,22,20,24,7,6,11,16,6,9,28,25,25,1,7,11,1,6,27,28,31,12,1,22,7,4,25,3,12,1,18,19,13,3,31,20,19,2,20,17,2,10,5,2,12,30,6,18,10,11,5,21,14,1,19,6,8,12,5,25,20,6,22,13,26,2,17,16,17,18,2,15,6,7,8,9,25,15,9,17,1,34,4,16,12,21,16,5,2,2,29,26,20,16,33,11,4,5,4,30,9,32,20,24,4,29,9,24,6,17,8,7,23,2,22,17,28,13,2,19,3,10,24,19,16,13,22,25,19,1,7,1,26,10,18,5,8,4,20,18,12,25,28,12,12,21,14,21,3,16,2,11,16,14,21,30,11,4,9,25,8,14,19,7,34,20,19,4,26,19,15,5,22,20,17,1,21,25,13,30,20,16,13,6,27,22,1,13,13,30,5,26,31,1,33,11,5,2,21,3,2,26,18,16,1,14,29,1,6,9,18,8,9,18,8,4,9,29,3,1,3,2,18,16,1,30,19,9,2,16,7,1,19,1,15,20,19,18,5,14,22,30,19,13,2,10,1,17,28,1,30,16,10,8,31,14,2,18,14,21,5,5,3,12,16,12,23,2,1,6,12,1,17,13,6,5,3,8,6,22,18,3,16,20,22,19,7,24,13,15,9,10,14,21,16,22,25,29,16,27,20,2,28,3,21,10,10,16,12,2,22,15,1,25,11,15,1,24,28,22,32,17,16,12,4,17,19,1,12,7,17,13,1,19,3,27,2,29,12,7,22,5,29,5,17,8,8,11,13,10,31,11,19,6,9,11,8,2,7,13,5,29,4,28,26,27,19,1,15,12,1,8,1,9,24,23,19,17,11,15,18,19,8,3,5,10,3,25,13,10,1,18,12,13,1,9,22,26,25,12,12,29,10,3,11,13,15,17,8,23,8,11,2,16,1,8,26,8,16,11,27,31,28,7,1,2,5,4,10,7,12,15,13,12,12,28,1,5,8,6,5,19,13,5,1,14,13,1,16,21,16,1,28,29,18,8,1,10,17,8,23,15,15,16,10,1,23,34,30,25,22,20,12,1,22,4,17,7,8,1],\"y0\":\" \",\"yaxis\":\"y\",\"type\":\"box\"},{\"alignmentgroup\":\"True\",\"hovertemplate\":\"color=0<br>x=%{x}<br>y=%{y}<extra></extra>\",\"legendgroup\":\"0\",\"marker\":{\"color\":\"#EF553B\"},\"name\":\"0\",\"notched\":false,\"offsetgroup\":\"0\",\"orientation\":\"v\",\"showlegend\":true,\"x\":[0,0,0,0,0,0,0,0,0,0,0,0,0,0,0,0,0,0,0,0,0,0,0,0,0,0,0,0,0,0,0,0,0,0,0,0,0,0,0,0,0,0,0,0,0,0,0,0,0,0,0,0,0,0,0,0,0,0,0,0,0,0,0,0,0,0,0,0,0,0,0,0,0,0,0,0,0,0,0,0,0,0,0,0,0,0,0,0,0,0,0,0,0,0,0,0,0,0,0,0,0,0,0,0,0,0,0,0,0,0,0,0,0,0,0,0,0,0,0,0,0,0,0,0,0,0,0,0,0,0,0,0,0,0,0,0,0,0,0,0,0,0,0,0,0,0,0,0,0,0,0,0,0,0,0,0,0,0,0,0,0,0,0,0,0,0,0,0,0,0,0,0,0,0,0,0,0,0,0,0,0,0,0,0,0,0,0,0,0,0,0,0,0,0,0,0,0,0,0,0,0,0,0,0,0,0,0,0,0,0,0,0,0,0,0,0,0,0,0,0,0,0,0,0,0,0,0,0,0,0,0,0,0,0,0,0,0,0,0,0,0,0,0,0,0,0,0,0,0,0,0,0,0,0,0,0,0,0,0,0,0,0,0,0,0,0,0,0,0,0,0,0,0,0,0,0,0,0,0,0,0,0,0,0,0,0,0,0,0,0,0,0,0,0,0,0,0,0,0,0,0,0,0,0,0,0,0,0,0,0,0,0,0,0,0,0,0,0,0,0,0,0,0,0,0,0,0,0,0,0,0,0,0,0,0,0,0,0,0,0,0,0,0,0,0,0,0,0,0,0,0,0,0,0,0,0,0,0,0,0,0,0,0,0,0,0,0,0,0,0,0,0,0,0,0,0,0,0,0,0,0,0,0,0,0,0,0,0,0,0,0,0,0,0,0,0,0,0,0,0,0,0,0,0,0,0,0,0,0,0,0,0],\"x0\":\" \",\"xaxis\":\"x\",\"y\":[49,39,59,57,36,34,46,66,37,21,36,20,63,10,83,67,37,57,33,44,40,62,19,34,61,32,44,32,74,63,40,57,37,25,35,12,62,39,46,75,52,34,26,52,44,35,49,65,32,36,46,36,42,26,64,36,39,32,36,61,32,70,44,35,33,69,32,36,33,41,36,49,55,42,44,70,34,40,20,35,44,52,51,38,32,29,66,32,67,54,85,45,56,44,62,76,15,32,66,50,32,62,53,52,40,29,60,32,39,34,30,34,42,63,43,47,31,44,50,56,35,61,45,44,73,54,56,51,54,55,70,38,36,71,62,68,43,34,44,40,35,37,80,84,71,35,35,54,59,35,54,51,51,62,40,48,29,28,46,75,52,53,61,30,63,57,76,60,48,67,56,39,45,32,40,67,35,35,61,39,34,31,38,41,53,36,40,65,43,47,77,51,56,35,42,40,66,47,66,48,76,49,38,61,47,43,29,30,40,63,24,48,37,38,38,29,47,49,40,40,64,32,59,62,78,48,39,22,32,60,58,67,59,43,48,73,38,53,56,47,40,70,63,54,65,35,41,42,54,60,54,48,45,44,61,40,59,50,41,53,60,43,30,31,51,25,59,23,35,44,39,52,27,71,44,81,57,44,38,50,65,40,49,66,55,47,47,52,48,63,45,44,62,31,49,65,46,70,72,33,32,42,70,69,30,46,34,53,36,38,47,54,41,37,72,77,75,54,46,69,48,48,38,37,37,82,52,79,53,61,36,58,79,42,43,56,37,51,43,73,38,40,36,45,31,60,39,49,51,43,65,44,65,59,56,42,74,74,53,41,44,41,68,32,52,35,51,33,35,77,17,28,37,35,52,48,69,54,39,22,40,35,42,81,57,43,38,37,39,62,45,74,41,63,29,3,21,25,37,42,50,70,62,33,35,35,78,36,22,52,57,40],\"y0\":\" \",\"yaxis\":\"y\",\"type\":\"box\"},{\"alignmentgroup\":\"True\",\"hovertemplate\":\"color=1<br>x=%{x}<br>y=%{y}<extra></extra>\",\"legendgroup\":\"1\",\"marker\":{\"color\":\"#00cc96\"},\"name\":\"1\",\"notched\":false,\"offsetgroup\":\"1\",\"orientation\":\"v\",\"showlegend\":true,\"x\":[1,1,1,1,1,1,1,1,1,1,1,1,1,1,1,1,1,1,1,1,1,1,1,1,1,1,1,1,1,1,1,1,1,1,1,1,1,1,1,1,1,1,1,1,1,1,1,1,1,1,1,1,1,1,1,1,1,1,1,1,1,1,1,1,1,1,1,1,1,1,1,1,1,1,1,1,1,1,1,1,1,1,1,1,1,1,1,1,1,1,1,1,1,1,1,1,1,1,1,1,1,1,1,1,1,1,1,1,1,1,1,1,1,1,1,1,1,1,1,1,1,1,1,1,1,1,1,1,1,1,1,1,1,1,1,1,1,1,1,1,1,1,1,1,1,1,1,1,1,1,1,1,1],\"x0\":\" \",\"xaxis\":\"x\",\"y\":[146,119,143,138,91,122,138,69,104,94,80,125,96,77,107,137,129,91,147,93,149,80,78,91,99,101,52,114,105,151,91,169,70,70,102,40,79,77,167,114,86,142,109,85,111,100,145,121,92,140,145,99,81,170,97,68,80,114,88,145,160,138,155,163,95,84,90,96,161,143,75,136,88,98,74,102,145,97,80,118,111,122,89,122,101,84,79,62,141,87,146,87,85,101,104,85,112,103,70,97,123,83,90,90,84,117,116,115,131,117,61,124,86,76,131,92,137,136,116,94,83,114,78,89,114,135,110,103,116,90,59,75,80,105,154,113,119,111,75,96,91,91,114,92,145,92,91,88,116,81,122,87,101],\"y0\":\" \",\"yaxis\":\"y\",\"type\":\"box\"}],                        {\"template\":{\"data\":{\"bar\":[{\"error_x\":{\"color\":\"#2a3f5f\"},\"error_y\":{\"color\":\"#2a3f5f\"},\"marker\":{\"line\":{\"color\":\"#E5ECF6\",\"width\":0.5},\"pattern\":{\"fillmode\":\"overlay\",\"size\":10,\"solidity\":0.2}},\"type\":\"bar\"}],\"barpolar\":[{\"marker\":{\"line\":{\"color\":\"#E5ECF6\",\"width\":0.5},\"pattern\":{\"fillmode\":\"overlay\",\"size\":10,\"solidity\":0.2}},\"type\":\"barpolar\"}],\"carpet\":[{\"aaxis\":{\"endlinecolor\":\"#2a3f5f\",\"gridcolor\":\"white\",\"linecolor\":\"white\",\"minorgridcolor\":\"white\",\"startlinecolor\":\"#2a3f5f\"},\"baxis\":{\"endlinecolor\":\"#2a3f5f\",\"gridcolor\":\"white\",\"linecolor\":\"white\",\"minorgridcolor\":\"white\",\"startlinecolor\":\"#2a3f5f\"},\"type\":\"carpet\"}],\"choropleth\":[{\"colorbar\":{\"outlinewidth\":0,\"ticks\":\"\"},\"type\":\"choropleth\"}],\"contour\":[{\"colorbar\":{\"outlinewidth\":0,\"ticks\":\"\"},\"colorscale\":[[0.0,\"#0d0887\"],[0.1111111111111111,\"#46039f\"],[0.2222222222222222,\"#7201a8\"],[0.3333333333333333,\"#9c179e\"],[0.4444444444444444,\"#bd3786\"],[0.5555555555555556,\"#d8576b\"],[0.6666666666666666,\"#ed7953\"],[0.7777777777777778,\"#fb9f3a\"],[0.8888888888888888,\"#fdca26\"],[1.0,\"#f0f921\"]],\"type\":\"contour\"}],\"contourcarpet\":[{\"colorbar\":{\"outlinewidth\":0,\"ticks\":\"\"},\"type\":\"contourcarpet\"}],\"heatmap\":[{\"colorbar\":{\"outlinewidth\":0,\"ticks\":\"\"},\"colorscale\":[[0.0,\"#0d0887\"],[0.1111111111111111,\"#46039f\"],[0.2222222222222222,\"#7201a8\"],[0.3333333333333333,\"#9c179e\"],[0.4444444444444444,\"#bd3786\"],[0.5555555555555556,\"#d8576b\"],[0.6666666666666666,\"#ed7953\"],[0.7777777777777778,\"#fb9f3a\"],[0.8888888888888888,\"#fdca26\"],[1.0,\"#f0f921\"]],\"type\":\"heatmap\"}],\"heatmapgl\":[{\"colorbar\":{\"outlinewidth\":0,\"ticks\":\"\"},\"colorscale\":[[0.0,\"#0d0887\"],[0.1111111111111111,\"#46039f\"],[0.2222222222222222,\"#7201a8\"],[0.3333333333333333,\"#9c179e\"],[0.4444444444444444,\"#bd3786\"],[0.5555555555555556,\"#d8576b\"],[0.6666666666666666,\"#ed7953\"],[0.7777777777777778,\"#fb9f3a\"],[0.8888888888888888,\"#fdca26\"],[1.0,\"#f0f921\"]],\"type\":\"heatmapgl\"}],\"histogram\":[{\"marker\":{\"pattern\":{\"fillmode\":\"overlay\",\"size\":10,\"solidity\":0.2}},\"type\":\"histogram\"}],\"histogram2d\":[{\"colorbar\":{\"outlinewidth\":0,\"ticks\":\"\"},\"colorscale\":[[0.0,\"#0d0887\"],[0.1111111111111111,\"#46039f\"],[0.2222222222222222,\"#7201a8\"],[0.3333333333333333,\"#9c179e\"],[0.4444444444444444,\"#bd3786\"],[0.5555555555555556,\"#d8576b\"],[0.6666666666666666,\"#ed7953\"],[0.7777777777777778,\"#fb9f3a\"],[0.8888888888888888,\"#fdca26\"],[1.0,\"#f0f921\"]],\"type\":\"histogram2d\"}],\"histogram2dcontour\":[{\"colorbar\":{\"outlinewidth\":0,\"ticks\":\"\"},\"colorscale\":[[0.0,\"#0d0887\"],[0.1111111111111111,\"#46039f\"],[0.2222222222222222,\"#7201a8\"],[0.3333333333333333,\"#9c179e\"],[0.4444444444444444,\"#bd3786\"],[0.5555555555555556,\"#d8576b\"],[0.6666666666666666,\"#ed7953\"],[0.7777777777777778,\"#fb9f3a\"],[0.8888888888888888,\"#fdca26\"],[1.0,\"#f0f921\"]],\"type\":\"histogram2dcontour\"}],\"mesh3d\":[{\"colorbar\":{\"outlinewidth\":0,\"ticks\":\"\"},\"type\":\"mesh3d\"}],\"parcoords\":[{\"line\":{\"colorbar\":{\"outlinewidth\":0,\"ticks\":\"\"}},\"type\":\"parcoords\"}],\"pie\":[{\"automargin\":true,\"type\":\"pie\"}],\"scatter\":[{\"marker\":{\"colorbar\":{\"outlinewidth\":0,\"ticks\":\"\"}},\"type\":\"scatter\"}],\"scatter3d\":[{\"line\":{\"colorbar\":{\"outlinewidth\":0,\"ticks\":\"\"}},\"marker\":{\"colorbar\":{\"outlinewidth\":0,\"ticks\":\"\"}},\"type\":\"scatter3d\"}],\"scattercarpet\":[{\"marker\":{\"colorbar\":{\"outlinewidth\":0,\"ticks\":\"\"}},\"type\":\"scattercarpet\"}],\"scattergeo\":[{\"marker\":{\"colorbar\":{\"outlinewidth\":0,\"ticks\":\"\"}},\"type\":\"scattergeo\"}],\"scattergl\":[{\"marker\":{\"colorbar\":{\"outlinewidth\":0,\"ticks\":\"\"}},\"type\":\"scattergl\"}],\"scattermapbox\":[{\"marker\":{\"colorbar\":{\"outlinewidth\":0,\"ticks\":\"\"}},\"type\":\"scattermapbox\"}],\"scatterpolar\":[{\"marker\":{\"colorbar\":{\"outlinewidth\":0,\"ticks\":\"\"}},\"type\":\"scatterpolar\"}],\"scatterpolargl\":[{\"marker\":{\"colorbar\":{\"outlinewidth\":0,\"ticks\":\"\"}},\"type\":\"scatterpolargl\"}],\"scatterternary\":[{\"marker\":{\"colorbar\":{\"outlinewidth\":0,\"ticks\":\"\"}},\"type\":\"scatterternary\"}],\"surface\":[{\"colorbar\":{\"outlinewidth\":0,\"ticks\":\"\"},\"colorscale\":[[0.0,\"#0d0887\"],[0.1111111111111111,\"#46039f\"],[0.2222222222222222,\"#7201a8\"],[0.3333333333333333,\"#9c179e\"],[0.4444444444444444,\"#bd3786\"],[0.5555555555555556,\"#d8576b\"],[0.6666666666666666,\"#ed7953\"],[0.7777777777777778,\"#fb9f3a\"],[0.8888888888888888,\"#fdca26\"],[1.0,\"#f0f921\"]],\"type\":\"surface\"}],\"table\":[{\"cells\":{\"fill\":{\"color\":\"#EBF0F8\"},\"line\":{\"color\":\"white\"}},\"header\":{\"fill\":{\"color\":\"#C8D4E3\"},\"line\":{\"color\":\"white\"}},\"type\":\"table\"}]},\"layout\":{\"annotationdefaults\":{\"arrowcolor\":\"#2a3f5f\",\"arrowhead\":0,\"arrowwidth\":1},\"autotypenumbers\":\"strict\",\"coloraxis\":{\"colorbar\":{\"outlinewidth\":0,\"ticks\":\"\"}},\"colorscale\":{\"diverging\":[[0,\"#8e0152\"],[0.1,\"#c51b7d\"],[0.2,\"#de77ae\"],[0.3,\"#f1b6da\"],[0.4,\"#fde0ef\"],[0.5,\"#f7f7f7\"],[0.6,\"#e6f5d0\"],[0.7,\"#b8e186\"],[0.8,\"#7fbc41\"],[0.9,\"#4d9221\"],[1,\"#276419\"]],\"sequential\":[[0.0,\"#0d0887\"],[0.1111111111111111,\"#46039f\"],[0.2222222222222222,\"#7201a8\"],[0.3333333333333333,\"#9c179e\"],[0.4444444444444444,\"#bd3786\"],[0.5555555555555556,\"#d8576b\"],[0.6666666666666666,\"#ed7953\"],[0.7777777777777778,\"#fb9f3a\"],[0.8888888888888888,\"#fdca26\"],[1.0,\"#f0f921\"]],\"sequentialminus\":[[0.0,\"#0d0887\"],[0.1111111111111111,\"#46039f\"],[0.2222222222222222,\"#7201a8\"],[0.3333333333333333,\"#9c179e\"],[0.4444444444444444,\"#bd3786\"],[0.5555555555555556,\"#d8576b\"],[0.6666666666666666,\"#ed7953\"],[0.7777777777777778,\"#fb9f3a\"],[0.8888888888888888,\"#fdca26\"],[1.0,\"#f0f921\"]]},\"colorway\":[\"#636efa\",\"#EF553B\",\"#00cc96\",\"#ab63fa\",\"#FFA15A\",\"#19d3f3\",\"#FF6692\",\"#B6E880\",\"#FF97FF\",\"#FECB52\"],\"font\":{\"color\":\"#2a3f5f\"},\"geo\":{\"bgcolor\":\"white\",\"lakecolor\":\"white\",\"landcolor\":\"#E5ECF6\",\"showlakes\":true,\"showland\":true,\"subunitcolor\":\"white\"},\"hoverlabel\":{\"align\":\"left\"},\"hovermode\":\"closest\",\"mapbox\":{\"style\":\"light\"},\"paper_bgcolor\":\"white\",\"plot_bgcolor\":\"#E5ECF6\",\"polar\":{\"angularaxis\":{\"gridcolor\":\"white\",\"linecolor\":\"white\",\"ticks\":\"\"},\"bgcolor\":\"#E5ECF6\",\"radialaxis\":{\"gridcolor\":\"white\",\"linecolor\":\"white\",\"ticks\":\"\"}},\"scene\":{\"xaxis\":{\"backgroundcolor\":\"#E5ECF6\",\"gridcolor\":\"white\",\"gridwidth\":2,\"linecolor\":\"white\",\"showbackground\":true,\"ticks\":\"\",\"zerolinecolor\":\"white\"},\"yaxis\":{\"backgroundcolor\":\"#E5ECF6\",\"gridcolor\":\"white\",\"gridwidth\":2,\"linecolor\":\"white\",\"showbackground\":true,\"ticks\":\"\",\"zerolinecolor\":\"white\"},\"zaxis\":{\"backgroundcolor\":\"#E5ECF6\",\"gridcolor\":\"white\",\"gridwidth\":2,\"linecolor\":\"white\",\"showbackground\":true,\"ticks\":\"\",\"zerolinecolor\":\"white\"}},\"shapedefaults\":{\"line\":{\"color\":\"#2a3f5f\"}},\"ternary\":{\"aaxis\":{\"gridcolor\":\"white\",\"linecolor\":\"white\",\"ticks\":\"\"},\"baxis\":{\"gridcolor\":\"white\",\"linecolor\":\"white\",\"ticks\":\"\"},\"bgcolor\":\"#E5ECF6\",\"caxis\":{\"gridcolor\":\"white\",\"linecolor\":\"white\",\"ticks\":\"\"}},\"title\":{\"x\":0.05},\"xaxis\":{\"automargin\":true,\"gridcolor\":\"white\",\"linecolor\":\"white\",\"ticks\":\"\",\"title\":{\"standoff\":15},\"zerolinecolor\":\"white\",\"zerolinewidth\":2},\"yaxis\":{\"automargin\":true,\"gridcolor\":\"white\",\"linecolor\":\"white\",\"ticks\":\"\",\"title\":{\"standoff\":15},\"zerolinecolor\":\"white\",\"zerolinewidth\":2}}},\"xaxis\":{\"anchor\":\"y\",\"domain\":[0.0,1.0],\"title\":{\"text\":\"x\"}},\"yaxis\":{\"anchor\":\"x\",\"domain\":[0.0,1.0],\"title\":{\"text\":\"y\"}},\"legend\":{\"title\":{\"text\":\"color\"},\"tracegroupgap\":0},\"margin\":{\"t\":60},\"boxmode\":\"group\"},                        {\"responsive\": true}                    ).then(function(){\n",
              "                            \n",
              "var gd = document.getElementById('1c16b1c0-c779-445a-8955-c9d64e55691f');\n",
              "var x = new MutationObserver(function (mutations, observer) {{\n",
              "        var display = window.getComputedStyle(gd).display;\n",
              "        if (!display || display === 'none') {{\n",
              "            console.log([gd, 'removed!']);\n",
              "            Plotly.purge(gd);\n",
              "            observer.disconnect();\n",
              "        }}\n",
              "}});\n",
              "\n",
              "// Listen for the removal of the full notebook cells\n",
              "var notebookContainer = gd.closest('#notebook-container');\n",
              "if (notebookContainer) {{\n",
              "    x.observe(notebookContainer, {childList: true});\n",
              "}}\n",
              "\n",
              "// Listen for the clearing of the current output cell\n",
              "var outputEl = gd.closest('.output');\n",
              "if (outputEl) {{\n",
              "    x.observe(outputEl, {childList: true});\n",
              "}}\n",
              "\n",
              "                        })                };                            </script>        </div>\n",
              "</body>\n",
              "</html>"
            ]
          },
          "metadata": {}
        }
      ]
    },
    {
      "cell_type": "code",
      "source": [
        ""
      ],
      "metadata": {
        "id": "xbQwgItlccqR"
      },
      "execution_count": null,
      "outputs": []
    },
    {
      "cell_type": "code",
      "source": [
        ""
      ],
      "metadata": {
        "id": "k11aYPedWdmd"
      },
      "execution_count": null,
      "outputs": []
    },
    {
      "cell_type": "code",
      "source": [
        ""
      ],
      "metadata": {
        "id": "tsuZg2RsduI8"
      },
      "execution_count": null,
      "outputs": []
    },
    {
      "cell_type": "code",
      "source": [
        ""
      ],
      "metadata": {
        "id": "dzujSfvBduDR"
      },
      "execution_count": null,
      "outputs": []
    },
    {
      "cell_type": "code",
      "source": [
        ""
      ],
      "metadata": {
        "id": "YySx64pXdt-g"
      },
      "execution_count": null,
      "outputs": []
    },
    {
      "cell_type": "code",
      "source": [
        ""
      ],
      "metadata": {
        "id": "6Bm7wnVJdt5A"
      },
      "execution_count": null,
      "outputs": []
    },
    {
      "cell_type": "code",
      "source": [
        ""
      ],
      "metadata": {
        "id": "qAM-RbnldtyX"
      },
      "execution_count": null,
      "outputs": []
    },
    {
      "cell_type": "markdown",
      "source": [
        "A standard definition is that an outlier is any data point that is more than three standard deviations above the median"
      ],
      "metadata": {
        "id": "ov7pkwMhbpmv"
      }
    },
    {
      "cell_type": "code",
      "source": [
        "#wrangled_df = wrangled_df[wrangled_df['2011 revenue'] \n",
        "#                          < ((wrangled_df['2011 revenue'].median()) \n",
        "#                             + wrangled_df['2011 revenue'].std()*3)]"
      ],
      "metadata": {
        "id": "82J-d_4Qbows"
      },
      "execution_count": null,
      "outputs": []
    },
    {
      "cell_type": "markdown",
      "source": [
        "wrangled_df = wrangled_df[~wrangled_df['2010 revenue'].isnull()]"
      ],
      "metadata": {
        "id": "5P4kGzW_b_la"
      }
    },
    {
      "cell_type": "markdown",
      "source": [
        ""
      ],
      "metadata": {
        "id": "E8w4zfVocBDu"
      }
    },
    {
      "cell_type": "code",
      "source": [
        "###operations = {'revenue':'sum','InvoiceDate':'first','CustomerID':'first' }\n",
        "\n",
        "##df = df.groupby('InvoiceNo').agg(operations)"
      ],
      "metadata": {
        "id": "JAzzQHMScKpf"
      },
      "execution_count": null,
      "outputs": []
    }
  ]
}